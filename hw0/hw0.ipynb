{
 "cells": [
  {
   "cell_type": "markdown",
   "metadata": {},
   "source": [
    "# Homework 0 - Decipher Babylonian Numbers"
   ]
  },
  {
   "cell_type": "markdown",
   "metadata": {},
   "source": [
    "## Meaning of the Babylonian clay tablet\n",
    "\n",
    "![](http://anoopsarkar.github.io/nlp-class/assets/img/bab-stone.jpg)\n",
    "\n",
    "The image shows two columns with [Babylonian numerals](https://en.wikipedia.org/wiki/Babylonian_numerals).\n",
    "\n",
    "According to wikipedia, the numbers on left column is **?, ?, 8, ?, 10, 11, ..., 16**\n",
    "We can guess that it represents decimals **from 6 to 16**.\n",
    "And the right column is **36, 49, 64, ...** Note that $$6^2=36$$ $$7^2=49$$ $$8^2=64$$\n",
    "\n",
    "It is easy to figure out that the mapping function from left to right is $$f(x)=x^2$$"
   ]
  },
  {
   "cell_type": "code",
   "execution_count": 1,
   "metadata": {},
   "outputs": [],
   "source": [
    "# So here is the function\n",
    "def foo(n):\n",
    "    return n * n"
   ]
  },
  {
   "cell_type": "code",
   "execution_count": 2,
   "metadata": {},
   "outputs": [
    {
     "name": "stdout",
     "output_type": "stream",
     "text": [
      "6\t36\n",
      "7\t49\n",
      "8\t64\n",
      "9\t81\n",
      "10\t100\n",
      "11\t121\n",
      "12\t144\n",
      "13\t169\n",
      "14\t196\n",
      "15\t225\n",
      "16\t256\n"
     ]
    }
   ],
   "source": [
    "# Illustration of all numbers on the image\n",
    "for i in range(6,17):\n",
    "    print(\"{}\\t{}\".format(i, foo(i)))"
   ]
  }
 ],
 "metadata": {
  "kernelspec": {
   "display_name": "Python 3",
   "language": "python",
   "name": "python3"
  },
  "language_info": {
   "codemirror_mode": {
    "name": "ipython",
    "version": 3
   },
   "file_extension": ".py",
   "mimetype": "text/x-python",
   "name": "python",
   "nbconvert_exporter": "python",
   "pygments_lexer": "ipython3",
   "version": "3.6.3"
  }
 },
 "nbformat": 4,
 "nbformat_minor": 2
}
