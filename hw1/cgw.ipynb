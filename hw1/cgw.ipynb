{
 "cells": [
  {
   "cell_type": "markdown",
   "metadata": {},
   "source": [
    "### Generate grammar files from grammar trees\n",
    "\n",
    "#### Idea\n",
    "\n",
    "1. Given grammar trees(e.g. `devset.trees`) parse it to seperate each parenthesis surrounded strings.\n",
    "\n",
    "    * For given `devset.trees`, the parenthesis are not sanitized.(e.g. `(( ()` which implies `( -> (`) This would result in failure of later processing. So we identified such cases in the grammar trees and sanitize '(' and ')' to '-LRB-' and '-RRB-' as in the result of stanford parser. \n",
    "    \n",
    "2. Construct the tree by using `nltk.Tree.fromstring()`\n",
    "\n",
    "3. Convert the tree to CNF by using `nltk.Tree.chomsky_normal_form()`\n",
    "\n",
    "4. Traverse the tree by depth first search. Use a dictionary to keep counting the frequency of one symbol followed by another.\n",
    "\n",
    "    * In the grammer trees, there are rules like `. -> .`, `, -> ,` where '.' and ',' are both nonterminal and ternimal. To address this problem, we sanitize nonterminal punctuations to things like 'PERIOD' 'COMMA'. And because of we previously sanitized '(' and ')' to '-LRB-' and '-RRB-', which results in rule like `-LRB- -> -LRB-`. So we sanitize the termial '-LRB-' and '-RRB-' to '(' and ')'.\n",
    "    \n",
    "    * In short, We make sure every non terminals are uppercase letters and there is no symbols that are both non terminal and terminal.\n",
    "    \n",
    "5. Output the grammar weighted by frequence to output grammar files `S1.gr` and `Vocab.gr`."
   ]
  },
  {
   "cell_type": "code",
   "execution_count": null,
   "metadata": {},
   "outputs": [],
   "source": []
  }
 ],
 "metadata": {
  "kernelspec": {
   "display_name": "Python 3",
   "language": "python",
   "name": "python3"
  },
  "language_info": {
   "codemirror_mode": {
    "name": "ipython",
    "version": 3
   },
   "file_extension": ".py",
   "mimetype": "text/x-python",
   "name": "python",
   "nbconvert_exporter": "python",
   "pygments_lexer": "ipython3",
   "version": "3.6.5"
  }
 },
 "nbformat": 4,
 "nbformat_minor": 2
}
