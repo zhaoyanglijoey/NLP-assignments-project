{
 "cells": [
  {
   "cell_type": "code",
   "execution_count": 16,
   "metadata": {},
   "outputs": [],
   "source": [
    "import re\n",
    "import os\n",
    "import nltk\n",
    "from nltk.book import text6 as book\n",
    "from nltk.parse import stanford\n"
   ]
  },
  {
   "cell_type": "code",
   "execution_count": 21,
   "metadata": {},
   "outputs": [
    {
     "name": "stderr",
     "output_type": "stream",
     "text": [
      "/home/leoli/anaconda3/lib/python3.6/site-packages/ipykernel_launcher.py:5: DeprecationWarning: The StanfordParser will be deprecated\n",
      "Please use \u001b[91mnltk.parse.corenlp.StanforCoreNLPParser\u001b[0m instead.\n",
      "  \"\"\"\n"
     ]
    }
   ],
   "source": [
    "# setup stanford parser, please specify the jar dir here on your laptop.\n",
    "BASE_FOLDER = '/home/leoli/Downloads/stanford-parser-full-2018-02-27/'\n",
    "os.environ['STANFORD_PARSER'] = BASE_FOLDER + 'stanford-parser.jar'\n",
    "os.environ['STANFORD_MODELS'] = BASE_FOLDER + 'stanford-parser-3.9.1-models.jar'\n",
    "parser = stanford.StanfordParser(model_path=BASE_FOLDER + \"stanford-parser-3.9.1-models/edu/stanford/nlp/models/lexparser/englishPCFG.ser.gz\")\n"
   ]
  },
  {
   "cell_type": "code",
   "execution_count": 27,
   "metadata": {},
   "outputs": [],
   "source": [
    "#preprocess the texts\n",
    "\n",
    "text = (' ').join(book.tokens)\n",
    "text = re.sub(r\"\\[.+?\\]\", \"\", text)\n",
    "previousText = \"\"\n",
    "\n",
    "cleaned_sentences = []\n",
    "\n",
    "for sentence in re.split(r\"\\. |\\! |\\? |; \", text):\n",
    "\n",
    "    sentence = re.sub(r\"SCENE.+\\:\", \"\", sentence)\n",
    "    sentence = re.sub(r\"^.+?\\:\\s*\", \"\", sentence)\n",
    "    sentence = re.sub(r\"^\\s*\", \"\", sentence)\n",
    "    sentence = re.sub(r\"'\\s*\", \"'\", sentence)\n",
    "    sentence = re.sub(r\"\\s+-\\s+\", \"-\", sentence)\n",
    "    sentence = re.sub(r\"\\.\\.\", \"\", sentence)\n",
    "    sentence = re.sub(r\"--[\\s\\S]+\\:\", \"\", sentence)\n",
    "    sentence = re.sub(r\"[A-Z]+\\s*\\:\", \"\", sentence)\n",
    "    sentence = re.sub(r\"\\([\\s\\S]+\\)\", \"\", sentence)\n",
    "    sentence = re.sub(r\",\\s+$\", \"\", sentence)\n",
    "    \n",
    "    \n",
    "    if previousText == sentence:\n",
    "        continue\n",
    "    previousText = sentence\n",
    "    \n",
    "    if(len(sentence.split(' ')) > 2):\n",
    "#         print(sentence + '.')\n",
    "        cleaned_sentences.append(sentence)\n",
    "        \n",
    "        \n",
    "#     print(sentence + '. ' + str(len(sentence.split(' '))))"
   ]
  },
  {
   "cell_type": "code",
   "execution_count": null,
   "metadata": {},
   "outputs": [],
   "source": []
  },
  {
   "cell_type": "code",
   "execution_count": 26,
   "metadata": {},
   "outputs": [
    {
     "name": "stdout",
     "output_type": "stream",
     "text": [
      "processed 81 lines \n"
     ]
    }
   ],
   "source": [
    "# load from more_sentences\n",
    "with open(\"example_sentences.txt\",\"r\") as sentence_file:\n",
    "    previous_line = ''\n",
    "\n",
    "    sentences = []\n",
    "    counter = 0\n",
    "\n",
    "    for line in sentence_file:\n",
    "        counter += 1\n",
    "        if not line == previous_line:\n",
    "            previous_line = line\n",
    "    #         line = re.sub(r\"\\.\\.\\.?\", \"\", line)\n",
    "            sentences.append(line)\n",
    "    #         print(line, end = \"\")\n",
    "\n",
    "    print(f\"processed {counter} lines \")"
   ]
  },
  {
   "cell_type": "code",
   "execution_count": 27,
   "metadata": {},
   "outputs": [
    {
     "name": "stdout",
     "output_type": "stream",
     "text": [
      "parsing total 81 sentences.\n",
      "1: Arthur is the king .\n",
      "2: Arthur rides the horse near the castle .\n",
      "3: riding to Camelot is hard .\n",
      "4: do coconuts speak ?\n",
      "5: what does Arthur ride ?\n",
      "6: who does Arthur suggest she carry ?\n",
      "7: why does England have a king ?\n",
      "8: are they suggesting Arthur ride to Camelot ?\n",
      "9: five strangers are at the Round Table .\n",
      "10: Guinevere might have known .\n",
      "11: Guinevere should be riding with Patsy .\n",
      "12: it is Sir Lancelot who knows Zoot !\n",
      "13: either Arthur knows or Patsy does .\n",
      "14: neither Sir Lancelot nor Guinevere will speak of it .\n",
      "15: the Holy Grail was covered by a yellow fruit .\n",
      "16: Zoot might have been carried by a swallow .\n",
      "17: Arthur rode to Camelot and drank from his chalice .\n",
      "18: they migrate precisely because they know they will grow .\n",
      "19: do not speak !\n",
      "20: Arthur will have been riding for eight nights .\n",
      "21: Arthur , sixty inches , is a tiny king .\n",
      "22: Arthur knows Patsy , the trusty servant .\n",
      "23: Arthur and Guinevere migrate frequently .\n",
      "24: he knows what they are covering with that story .\n",
      "25: Arthur suggested that the castle be carried .\n",
      "26: the king drank to the castle that was his home .\n",
      "27: when the king drinks , Patsy drinks .\n",
      "28: Arthur is the king .\n",
      "29: Arthur rides the horse near the castle .\n",
      "30: riding to Camelot is hard .\n",
      "31: do coconuts speak ?\n",
      "32: what does Arthur ride ?\n",
      "33: who does Arthur suggest she carry ?\n",
      "34: why does England have a king ?\n",
      "35: are they suggesting Arthur ride to Camelot ?\n",
      "36: five strangers are at the Round Table .\n",
      "37: Guinevere might have known .\n",
      "38: Guinevere should be riding with Patsy .\n",
      "39: it is Sir Lancelot who knows Zoot !\n",
      "40: either Arthur knows or Patsy does .\n",
      "41: neither Sir Lancelot nor Guinevere will speak of it .\n",
      "42: the Holy Grail was covered by a yellow fruit .\n",
      "43: Zoot might have been carried by a swallow .\n",
      "44: Arthur rode to Camelot and drank from his chalice .\n",
      "45: they migrate precisely because they know they will grow .\n",
      "46: do not speak !\n",
      "47: Arthur will have been riding for eight nights .\n",
      "48: Arthur , sixty inches , is a tiny king .\n",
      "49: Arthur knows Patsy , the trusty servant .\n",
      "50: Arthur and Guinevere migrate frequently .\n",
      "51: he knows what they are covering with that story .\n",
      "52: Arthur suggested that the castle be carried .\n",
      "53: the king drank to the castle that was his home .\n",
      "54: when the king drinks , Patsy drinks .\n",
      "55: Arthur is the king .\n",
      "56: Arthur rides the horse near the castle .\n",
      "57: riding to Camelot is hard .\n",
      "58: do coconuts speak ?\n",
      "59: what does Arthur ride ?\n",
      "60: who does Arthur suggest she carry ?\n",
      "61: why does England have a king ?\n",
      "62: are they suggesting Arthur ride to Camelot ?\n",
      "63: five strangers are at the Round Table .\n",
      "64: Guinevere might have known .\n",
      "65: Guinevere should be riding with Patsy .\n",
      "66: it is Sir Lancelot who knows Zoot !\n",
      "67: either Arthur knows or Patsy does .\n",
      "68: neither Sir Lancelot nor Guinevere will speak of it .\n",
      "69: the Holy Grail was covered by a yellow fruit .\n",
      "70: Zoot might have been carried by a swallow .\n",
      "71: Arthur rode to Camelot and drank from his chalice .\n",
      "72: they migrate precisely because they know they will grow .\n",
      "73: do not speak !\n",
      "74: Arthur will have been riding for eight nights .\n",
      "75: Arthur , sixty inches , is a tiny king .\n",
      "76: Arthur knows Patsy , the trusty servant .\n",
      "77: Arthur and Guinevere migrate frequently .\n",
      "78: he knows what they are covering with that story .\n",
      "79: Arthur suggested that the castle be carried .\n",
      "80: the king drank to the castle that was his home .\n",
      "81: when the king drinks , Patsy drinks .\n"
     ]
    }
   ],
   "source": [
    "# parse texts\n",
    "with open(\"example_sentences.trees\", \"w\") as tree_file:\n",
    "    \n",
    "    print(f\"parsing total {len(sentences)} sentences.\")\n",
    "    count = 0\n",
    "\n",
    "    for sentence in sentences:\n",
    "        count += 1\n",
    "        print(f\"{count}: {sentence}\", end = \"\")\n",
    "        tree_file.write(str(list(parser.raw_parse(sentence))[0]))\n",
    "        tree_file.write(\"\\n\")\n"
   ]
  },
  {
   "cell_type": "code",
   "execution_count": null,
   "metadata": {},
   "outputs": [],
   "source": []
  }
 ],
 "metadata": {
  "kernelspec": {
   "display_name": "Python 3",
   "language": "python",
   "name": "python3"
  },
  "language_info": {
   "codemirror_mode": {
    "name": "ipython",
    "version": 3
   },
   "file_extension": ".py",
   "mimetype": "text/x-python",
   "name": "python",
   "nbconvert_exporter": "python",
   "pygments_lexer": "ipython3",
   "version": "3.6.5"
  }
 },
 "nbformat": 4,
 "nbformat_minor": 2
}
