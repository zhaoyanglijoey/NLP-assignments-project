{
 "cells": [
  {
   "cell_type": "markdown",
   "metadata": {},
   "source": [
    "# Homework: Competitive Grammar Writing"
   ]
  },
  {
   "cell_type": "code",
   "execution_count": 1,
   "metadata": {},
   "outputs": [],
   "source": [
    "from pcfg_parse_gen import Pcfg, PcfgGenerator, CkyParse\n",
    "import nltk\n",
    "\n",
    "def print_tree(tree_string):\n",
    "    tree_string = tree_string.strip()\n",
    "    tree = nltk.Tree.fromstring(tree_string)\n",
    "    tree.pretty_print()\n",
    "\n",
    "def draw_tree(tree_string):\n",
    "    tree_string = tree_string.strip()\n",
    "    tree = nltk.Tree.fromstring(tree_string)\n",
    "    tree.draw()"
   ]
  },
  {
   "cell_type": "markdown",
   "metadata": {},
   "source": [
    "## Parsing sentences with your grammar\n",
    "\n",
    "While you are developing your grammar you should parse with your grammar both example sentences and samples from your and other grammars."
   ]
  },
  {
   "cell_type": "code",
   "execution_count": 7,
   "metadata": {},
   "outputs": [
    {
     "name": "stderr",
     "output_type": "stream",
     "text": [
      "#reading grammar file: grammars/devset_s1.gr\n",
      "#Ignored cycle NP -> NP\n",
      "#reading grammar file: grammars/devset_s2.gr\n",
      "#reading grammar file: grammars/devset_vocab.gr\n",
      "#Ignored cycle ( -> (\n",
      "#Ignored cycle ) -> )\n"
     ]
    }
   ],
   "source": [
    "# parse_gram = Pcfg([\"S1.gr\",\"S2.gr\",\"Vocab.gr\"])\n",
    "parse_gram = Pcfg([\"grammars/devset_s1.gr\",\"grammars/devset_s2.gr\",\"grammars/devset_vocab.gr\"])\n",
    "\n",
    "parser = CkyParse(parse_gram, beamsize=0.0001, verbose=0)"
   ]
  },
  {
   "cell_type": "code",
   "execution_count": 8,
   "metadata": {},
   "outputs": [
    {
     "name": "stdout",
     "output_type": "stream",
     "text": [
      "(TOP (S1 (ROOT (S (NP (NP (NNP Arthur) ) (VP (VBN suggested) (PP (IN that) (NP (DT the) (NN castle))))) (S|<VP-PERIOD> (VP (VB be) (VP (VBN carried) )) (PERIOD .))) ) ) )\n",
      "-cross entropy: -8.721229186960175\n",
      "                          TOP                                         \n",
      "                           |                                           \n",
      "                           S1                                         \n",
      "                           |                                           \n",
      "                          ROOT                                        \n",
      "                           |                                           \n",
      "                           S                                          \n",
      "                   ________|____________________________               \n",
      "                  NP                                    |             \n",
      "   _______________|____                                 |              \n",
      "  |                    VP                         S|<VP-PERIOD>       \n",
      "  |         ___________|___                     ________|_________     \n",
      "  |        |               PP                  VP                 |   \n",
      "  |        |       ________|____            ___|________          |    \n",
      "  NP       |      |             NP         |            VP        |   \n",
      "  |        |      |         ____|____      |            |         |    \n",
      " NNP      VBN     IN       DT        NN    VB          VBN      PERIOD\n",
      "  |        |      |        |         |     |            |         |    \n",
      "Arthur suggested that     the      castle  be        carried      .   \n",
      "\n"
     ]
    },
    {
     "name": "stderr",
     "output_type": "stream",
     "text": [
      "#parsing: ['Arthur', 'suggested', 'that', 'the', 'castle', 'be', 'carried', '.']\n",
      "#-cross entropy (bits/word): -8.72123\n"
     ]
    }
   ],
   "source": [
    "\n",
    "ce, trees = parser.parse_sentences([\"Arthur suggested that the castle be carried .\"])\n",
    "print(\"-cross entropy: {}\".format(ce))\n",
    "for tree_string in trees:\n",
    "    print_tree(tree_string)"
   ]
  },
  {
   "cell_type": "code",
   "execution_count": 4,
   "metadata": {},
   "outputs": [
    {
     "name": "stderr",
     "output_type": "stream",
     "text": [
      "#parsing: ['the', 'nervous', 'sod', 'could', 'looks', 'Mind', '-', \"'s\", 'a', 'zone', '?', '.']\n"
     ]
    },
    {
     "name": "stdout",
     "output_type": "stream",
     "text": [
      "(TOP (S1 (ROOT (S (S (NP (DT the) (NP|<JJ-NN> (JJ nervous) (NN sod))) (VP (MD could) (VP (VBZ looks) (VP (VB Mind) )))) (S|<:-S-.> (COLON -) (S|<S-.> (S (VP (VBZ 's) (NP (DT a) (NN zone))) (PERIOD ?)) (PERIOD .)))) ) ) )\n",
      "-cross entropy: -8.343443026413503\n",
      "                                           TOP                                               \n",
      "                                            |                                                 \n",
      "                                            S1                                               \n",
      "                                            |                                                 \n",
      "                                           ROOT                                              \n",
      "                                            |                                                 \n",
      "                                            S                                                \n",
      "                         ___________________|_________________                                \n",
      "                        |                                 S|<:-S-.>                          \n",
      "                        |                          ___________|____________                   \n",
      "                        S                         |                     S|<S-.>              \n",
      "        ________________|__________               |                   _____|_____________     \n",
      "       |                           VP             |                  S                   |   \n",
      "       |                      _____|____          |            ______|____________       |    \n",
      "       NP                    |          VP        |           VP                  |      |   \n",
      "  _____|________             |      ____|___      |     ______|______             |      |    \n",
      " |          NP|<JJ-NN>       |     |        VP    |    |             NP           |      |   \n",
      " |      ________|_______     |     |        |     |    |       ______|_____       |      |    \n",
      " DT    JJ               NN   MD   VBZ       VB  COLON VBZ     DT           NN   PERIOD PERIOD\n",
      " |     |                |    |     |        |     |    |      |            |      |      |    \n",
      "the nervous            sod could looks     Mind   -    's     a           zone    ?      .   \n",
      "\n"
     ]
    },
    {
     "name": "stderr",
     "output_type": "stream",
     "text": [
      "#-cross entropy (bits/word): -8.34344\n"
     ]
    }
   ],
   "source": [
    "ce, trees = parser.parse_sentences([\"the nervous sod could looks Mind - 's a zone ? .\"])\n",
    "print(\"-cross entropy: {}\".format(ce))\n",
    "for tree_string in trees:\n",
    "    print_tree(tree_string)"
   ]
  },
  {
   "cell_type": "markdown",
   "metadata": {},
   "source": [
    "Use `parse_file` to parse a file of sentences."
   ]
  },
  {
   "cell_type": "markdown",
   "metadata": {},
   "source": [
    "### Use devset.trees to test on example"
   ]
  },
  {
   "cell_type": "code",
   "execution_count": 16,
   "metadata": {},
   "outputs": [
    {
     "name": "stderr",
     "output_type": "stream",
     "text": [
      "#reading grammar file: grammars/devset_s1.gr\n",
      "#Ignored cycle NP -> NP\n",
      "#reading grammar file: grammars/devset_s2.gr\n",
      "#reading grammar file: grammars/devset_vocab.gr\n",
      "#Ignored cycle ( -> (\n",
      "#Ignored cycle ) -> )\n",
      "#parsing: ['no', 'swallow', 'carries', 'each', 'defeater']\n",
      "#parsing: ['another', 'sovereign', 'carries', 'each', 'horse']\n",
      "#parsing: ['the', 'sun', 'has', 'the', 'chalice']\n",
      "#parsing: ['any', 'land', 'with', 'the', 'chalice', 'carries', 'any', 'horse']\n",
      "#parsing: ['every', 'coconut', 'drinks', 'any', 'king', '.']\n",
      "#parsing: ['the', 'defeater', 'has', 'no', 'coconut']\n",
      "#parsing: ['that', 'coconut', 'carries', 'the', 'sun']\n",
      "#parsing: ['that', 'chalice', 'has', 'a', 'winter']\n",
      "#parsing: ['another', 'home', 'covers', 'each', 'servant']\n"
     ]
    },
    {
     "name": "stdout",
     "output_type": "stream",
     "text": [
      "(TOP (S1 (ROOT (S (NP (DT no) (NN swallow)) (VP (VBZ carries) (NP (DT each) (NN defeater)))) ) ) )\n",
      "(TOP (S1 (ROOT (S (NP (DT another) (NN sovereign)) (VP (VBZ carries) (NP (DT each) (NN horse)))) ) ) )\n",
      "(TOP (S1 (ROOT (S (NP (DT the) (NN sun)) (VP (VBZ has) (NP (DT the) (NN chalice)))) ) ) )\n",
      "(TOP (S1 (ROOT (S (NP (NP (DT any) (NN land)) (PP (IN with) (NP (DT the) (NN chalice)))) (VP (VBZ carries) (NP (DT any) (NN horse)))) ) ) )\n",
      "(TOP (S1 (ROOT (NP (NP (DT every) (NP|<NN-NNS> (NN coconut) (NNS drinks))) (NP|<NP-PERIOD> (NP (DT any) (NN king)) (PERIOD .))) ) ) )\n",
      "(TOP (S1 (ROOT (S (NP (DT the) (NN defeater)) (VP (VBZ has) (NP (DT no) (NN coconut)))) ) ) )\n",
      "(TOP (S1 (ROOT (S (NP (DT that) (NN coconut)) (VP (VBZ carries) (NP (DT the) (NN sun)))) ) ) )\n",
      "(TOP (S1 (ROOT (S (NP (DT that) (NN chalice)) (VP (VBZ has) (NP (DT a) (NN winter)))) ) ) )\n",
      "(TOP (S1 (ROOT (S (NP (DT another) (NP|<NN-NNS> (NN home) (NNS covers))) (NP (DT each) (NN servant))) ) ) )\n",
      "(TOP (S1 (ROOT (S (NP (DT each) (NN castle)) (VP (VBZ is) (NP (DT no) (NP|<ADJP-NN> (ADJP (NN defeater) (PP (IN above) (NP (NNP Sir) ))) (NN Lancelot))))) ) ) )\n"
     ]
    },
    {
     "name": "stderr",
     "output_type": "stream",
     "text": [
      "#parsing: ['each', 'castle', 'is', 'no', 'defeater', 'above', 'Sir', 'Lancelot']\n",
      "#parsing: ['each', 'story', 'on', 'Arthur', 'covers', 'every', 'sun']\n",
      "#parsing: ['each', 'master', 'has', 'every', 'land']\n",
      "#parsing: ['any', 'story', 'at', 'that', 'corner', 'carries', 'any', 'home']\n",
      "#parsing: ['this', 'swallow', 'is', 'a', 'winter']\n"
     ]
    },
    {
     "name": "stdout",
     "output_type": "stream",
     "text": [
      "(TOP (S1 (ROOT (S (NP (NP (DT each) (NN story)) (PP (IN on) (NP (NNP Arthur) (NNS covers)))) (NP (DT every) (NN sun))) ) ) )\n",
      "(TOP (S1 (ROOT (S (NP (DT each) (NN master)) (VP (VBZ has) (NP (DT every) (NN land)))) ) ) )\n",
      "(TOP (S1 (ROOT (S (NP (NP (DT any) (NN story)) (PP (IN at) (NP (DT that) (NN corner)))) (VP (VBZ carries) (NP (DT any) (NN home)))) ) ) )\n",
      "(TOP (S1 (ROOT (S (NP (DT this) (NN swallow)) (VP (VBZ is) (NP (DT a) (NN winter)))) ) ) )\n",
      "(TOP (S1 (ROOT (S (NP (DT the) (NP|<NN-NNS> (NN winter) (NNS drinks))) (NP (DT every) (NN swallow))) ) ) )\n",
      "(TOP (S1 (ROOT (S (NP (DT each) (JJ weight)) (S|<VP-PERIOD> (VP (VBZ has) (NP (DT a) (NN winter))) (PERIOD .))) ) ) )\n",
      "(TOP (S1 (ROOT (S (NP (DT each) (NN castle)) (VP (VBZ is) (NP (DT no) (NN defeater)))) ) ) )\n",
      "(TOP (S1 (ROOT (SQ (NNP Sir) (SQ|<NP-VP-PERIOD> (NP (NN Lancelot) ) (SQ|<VP-PERIOD> (VP (VBZ has) (NP (DT no) (NN coconut))) (PERIOD .)))) ) ) )\n",
      "(TOP (S1 (ROOT (NP (NP (DT no) (NP|<NN-NNS> (NN land) (NNS drinks))) (NP|<NP-PERIOD> (NP (DT this) (NN king)) (PERIOD .))) ) ) )\n"
     ]
    },
    {
     "name": "stderr",
     "output_type": "stream",
     "text": [
      "#parsing: ['the', 'winter', 'drinks', 'every', 'swallow']\n",
      "#parsing: ['each', 'weight', 'has', 'a', 'winter', '.']\n",
      "#parsing: ['each', 'castle', 'is', 'no', 'defeater']\n",
      "#parsing: ['Sir', 'Lancelot', 'has', 'no', 'coconut', '.']\n",
      "#parsing: ['no', 'land', 'drinks', 'this', 'king', '.']\n",
      "#parsing: ['the', 'fruit', 'has', 'this', 'corner', 'above', 'any', 'pound']\n",
      "#parsing: ['why', 'does', 'England', 'have', 'a', 'king', '?']\n",
      "#parsing: ['the', 'Holy', 'Grail', 'was', 'covered', 'by', 'a', 'yellow', 'fruit', '.']\n"
     ]
    },
    {
     "name": "stdout",
     "output_type": "stream",
     "text": [
      "(TOP (S1 (ROOT (S (NP (DT the) (NN fruit)) (VP (VBZ has) (VP|<NP-PP> (NP (DT this) (NN corner)) (PP (IN above) (NP (DT any) (NN pound)))))) ) ) )\n",
      "(TOP (S1 (ROOT (SBARQ (WHADVP (WRB why) ) (SBARQ|<SQ-PERIOD> (SQ (VBZ does) (SQ|<NP-SQ> (NP (NNP England) ) (SQ (VBP have) (NP (DT a) (NN king))))) (PERIOD ?))) ) ) )\n",
      "(TOP (S1 (ROOT (S (NP (DT the) (NP|<NNP-NNP> (NNP Holy) (NNP Grail))) (S|<VP-PERIOD> (VP (VBD was) (VP (VBN covered) (PP (IN by) (NP (DT a) (NP|<ADJP-NN> (ADJP (VBP yellow) ) (NN fruit)))))) (PERIOD .))) ) ) )\n"
     ]
    },
    {
     "name": "stderr",
     "output_type": "stream",
     "text": [
      "#parsing: ['Zoot', 'might', 'have', 'been', 'carried', 'by', 'a', 'swallow', '.']\n",
      "#parsing: ['do', 'coconuts', 'speak', '?']\n",
      "#parsing: ['who', 'does', 'Arthur', 'suggest', 'she', 'carry', '?']\n",
      "#parsing: ['neither', 'Sir', 'Lancelot', 'nor', 'Guinevere', 'will', 'speak', 'of', 'it', '.']\n"
     ]
    },
    {
     "name": "stdout",
     "output_type": "stream",
     "text": [
      "(TOP (S1 (ROOT (S (NP (NN Zoot) ) (S|<VP-PERIOD> (VP (MD might) (VP (VBP have) (VP (VBN been) (VP (VBN carried) (PP (IN by) (NP (DT a) (NN swallow))))))) (PERIOD .))) ) ) )\n",
      "(TOP (S1 (ROOT (SQ (VBP do) (SQ|<NP-ADJP-PERIOD> (NP (NNS coconuts) ) (SQ|<ADJP-PERIOD> (ADJP (VB speak) ) (PERIOD ?)))) ) ) )\n",
      "(TOP (S1 (ROOT (SBARQ (WHNP (WP who) ) (SBARQ|<SQ-PERIOD> (SQ (VBZ does) (SQ|<NP-SQ> (NP (NNP Arthur) ) (SQ (NN suggest) (SQ|<NP-VP> (NP (PRP she) ) (VP (VB carry) ))))) (PERIOD ?))) ) ) )\n",
      "(TOP (S1 (ROOT (S (NP (DT neither) (NNP Sir)) (S|<VP-PERIOD> (VP (VP (NN Lancelot) ) (VP|<CC-RB-VP> (CC nor) (VP|<RB-VP> (RB Guinevere) (VP (MD will) (VP (VB speak) (PP (IN of) (NP (PRP it) ))))))) (PERIOD .))) ) ) )\n",
      "(TOP (S1 (ROOT (S (RB Guinevere) (S|<VP-PERIOD> (VP (MD should) (VP (VB be) (VP (VBG riding) (PP (IN with) (NP (NNP Patsy) ))))) (PERIOD .))) ) ) )\n",
      "(TOP (S1 (ROOT (S (NP (DT either) (NNP Arthur)) (VP (NNS knows) (S (CC or) (S|<NP-VP-PERIOD> (NP (NNP Patsy) ) (S|<VP-PERIOD> (VP (VBZ does) ) (PERIOD .)))))) ) ) )\n",
      "(TOP (S1 (ROOT (SBARQ (WHNP (WP what) ) (SBARQ|<SQ-PERIOD> (SQ (VBZ does) (SQ|<NP-VP> (NP (NNP Arthur) ) (VP (VB ride) ))) (PERIOD ?))) ) ) )\n"
     ]
    },
    {
     "name": "stderr",
     "output_type": "stream",
     "text": [
      "#parsing: ['Guinevere', 'should', 'be', 'riding', 'with', 'Patsy', '.']\n",
      "#parsing: ['either', 'Arthur', 'knows', 'or', 'Patsy', 'does', '.']\n",
      "#parsing: ['what', 'does', 'Arthur', 'ride', '?']\n",
      "#parsing: ['are', 'they', 'suggesting', 'Arthur', 'ride', 'to', 'Camelot', '?']\n",
      "#parsing: ['they', 'migrate', 'precisely', 'because', 'they', 'know', 'they', 'will', 'grow', '.']\n"
     ]
    },
    {
     "name": "stdout",
     "output_type": "stream",
     "text": [
      "(TOP (S1 (ROOT (SQ (VBP are) (SQ|<NP-VP> (NP (PRP they) ) (VP (VBG suggesting) (S (NP (NNP Arthur) ) (S|<VP-PERIOD> (VP (VB ride) (PP (TO to) (NP (NNP Camelot) ))) (PERIOD ?)))))) ) ) )\n",
      "(TOP (S1 (ROOT (S (S (NP (PRP they) ) (VP (NN migrate) (ADVP (RB precisely) ))) (S|<IN-S-PERIOD> (IN because) (S|<S-PERIOD> (S (NP (PRP they) ) (VP (VB know) (S (NP (PRP they) ) (VP (MD will) (VP (NN grow) ))))) (PERIOD .)))) ) ) )\n",
      "(TOP (S1 (ROOT (S (NP (CD five) (NNS strangers)) (S|<VP-PERIOD> (VP (VBP are) (PP (IN at) (NP (DT the) (NP|<NNP-NNP> (NNP Round) (NNP Table))))) (PERIOD .))) ) ) )\n",
      "(TOP (S1 (ROOT (SBARQ (SBAR (WHADVP (WRB when) ) (S (NP (DT the) (NN king)) (NP (NNS drinks) ))) (SBARQ|<COMA-NP-PERIOD> (COMA ,) (SBARQ|<NP-PERIOD> (NP (NNP Patsy) (NNS drinks)) (PERIOD .)))) ) ) )\n",
      "(TOP (S1 (ROOT (S (VP (VBP do) (VP|<RB-VP> (RB not) (VP (VB speak) ))) (PERIOD !)) ) ) )\n",
      "(TOP (S1 (ROOT (S (NP (NNP Arthur) ) (S|<VP-PERIOD> (VP (VBZ is) (NP (DT the) (NN king))) (PERIOD .))) ) ) )\n"
     ]
    },
    {
     "name": "stderr",
     "output_type": "stream",
     "text": [
      "#parsing: ['five', 'strangers', 'are', 'at', 'the', 'Round', 'Table', '.']\n",
      "#parsing: ['when', 'the', 'king', 'drinks', ',', 'Patsy', 'drinks', '.']\n",
      "#parsing: ['do', 'not', 'speak', '!']\n",
      "#parsing: ['Arthur', 'is', 'the', 'king', '.']\n",
      "#parsing: ['Arthur', 'suggested', 'that', 'the', 'castle', 'be', 'carried', '.']\n"
     ]
    },
    {
     "name": "stdout",
     "output_type": "stream",
     "text": [
      "(TOP (S1 (ROOT (S (NP (NP (NNP Arthur) ) (VP (VBN suggested) (PP (IN that) (NP (DT the) (NN castle))))) (S|<VP-PERIOD> (VP (VB be) (VP (VBN carried) )) (PERIOD .))) ) ) )\n",
      "(TOP (S1 (ROOT (S (NP (PRP he) ) (S|<VP-PERIOD> (VP (NNS knows) (SBAR (WHNP (WP what) ) (S (NP (PRP they) ) (VP (VBP are) (VP (VBG covering) (PP (IN with) (NP (DT that) (NN story)))))))) (PERIOD .))) ) ) )\n",
      "(TOP (S1 (ROOT (S (INTJ (NNP Arthur) ) (S|<COMA-NP-COMA-VP-PERIOD> (COMA ,) (S|<NP-COMA-VP-PERIOD> (NP (NN sixty) (NNS inches)) (S|<COMA-VP-PERIOD> (COMA ,) (S|<VP-PERIOD> (VP (VBZ is) (NP (DT a) (NP|<JJ-NN> (JJ tiny) (NN king)))) (PERIOD .)))))) ) ) )\n",
      "(TOP (S1 (ROOT (S (VP (VP (NNP Arthur) ) (VP|<CC-RB-VP> (CC and) (VP|<RB-VP> (RB Guinevere) (VP (NN migrate) (ADVP (RB frequently) ))))) (PERIOD .)) ) ) )\n",
      "(TOP (S1 (ROOT (S (RB Guinevere) (S|<VP-PERIOD> (VP (MD might) (VP (VBP have) (VP (VBN known) ))) (PERIOD .))) ) ) )\n"
     ]
    },
    {
     "name": "stderr",
     "output_type": "stream",
     "text": [
      "#parsing: ['he', 'knows', 'what', 'they', 'are', 'covering', 'with', 'that', 'story', '.']\n",
      "#parsing: ['Arthur', ',', 'sixty', 'inches', ',', 'is', 'a', 'tiny', 'king', '.']\n",
      "#parsing: ['Arthur', 'and', 'Guinevere', 'migrate', 'frequently', '.']\n",
      "#parsing: ['Guinevere', 'might', 'have', 'known', '.']\n",
      "#parsing: ['Arthur', 'knows', 'Patsy', ',', 'the', 'trusty', 'servant', '.']\n",
      "#parsing: ['riding', 'to', 'Camelot', 'is', 'hard', '.']\n",
      "#parsing: ['the', 'king', 'drank', 'to', 'the', 'castle', 'that', 'was', 'his', 'home', '.']\n"
     ]
    },
    {
     "name": "stdout",
     "output_type": "stream",
     "text": [
      "(TOP (S1 (ROOT (S (NP (NNP Arthur) (NNS knows)) (S|<VP-PERIOD> (VP (NNP Patsy) (VP|<COMA-NP> (COMA ,) (NP (DT the) (NP|<NN-NN> (NN trusty) (NN servant))))) (PERIOD .))) ) ) )\n",
      "(TOP (S1 (ROOT (S (VP (VBG riding) (VP|<PP-S> (PP (TO to) (NP (NNP Camelot) )) (S (VP (VBZ is) (ADJP (JJ hard) )) (PERIOD .)))) ) ) ) )\n",
      "(TOP (S1 (ROOT (S (S (NP (DT the) (NN king)) (VP (NN drank) (PP (TO to) (NP (DT the) (NN castle))))) (S|<IN-S-PERIOD> (IN that) (S|<S-PERIOD> (S (VP (VBD was) (NP (PRP$ his) (NN home))) ) (PERIOD .)))) ) ) )\n"
     ]
    },
    {
     "name": "stderr",
     "output_type": "stream",
     "text": [
      "#parsing: ['Arthur', 'rides', 'the', 'horse', 'near', 'the', 'castle', '.']\n",
      "#parsing: ['Arthur', 'will', 'have', 'been', 'riding', 'for', 'eight', 'nights', '.']\n",
      "#parsing: ['Arthur', 'rode', 'to', 'Camelot', 'and', 'drank', 'from', 'his', 'chalice', '.']\n"
     ]
    },
    {
     "name": "stdout",
     "output_type": "stream",
     "text": [
      "(TOP (S1 (ROOT (NP (NP (NNP Arthur) (NNS rides)) (NP|<NP-PERIOD> (NP (NP (DT the) (NN horse)) (PP (IN near) (NP (DT the) (NN castle)))) (PERIOD .))) ) ) )\n",
      "(TOP (S1 (ROOT (S (NP (NNP Arthur) ) (S|<VP-PERIOD> (VP (MD will) (VP (VBP have) (VP (VBN been) (VP|<NP-PP> (NP (VBG riding) ) (PP (IN for) (NP (CD eight) (NNS nights))))))) (PERIOD .))) ) ) )\n",
      "(TOP (S1 (ROOT (S (NP (NNP Arthur) ) (S|<VP-PERIOD> (VP (VBD rode) (VP|<PP-PP> (PP (TO to) (NP (NN Camelot) (NP|<CC-NN> (CC and) (NN drank)))) (PP (IN from) (NP (PRP$ his) (NN chalice))))) (PERIOD .))) ) ) )\n",
      "(TOP (S1 (ROOT (NP (NP (PRP it) ) (NP|<PRN-NN-SBAR> (PRN (S (VP (VBZ is) (NP (NNP Sir) )) ) ) (NP|<NN-SBAR> (NN Lancelot) (SBAR (WHNP (WP who) ) (S (NP (NNS knows) ) (S|<VP-PERIOD> (VP (NN Zoot) ) (PERIOD !))))))) ) ) )\n"
     ]
    },
    {
     "name": "stderr",
     "output_type": "stream",
     "text": [
      "#parsing: ['it', 'is', 'Sir', 'Lancelot', 'who', 'knows', 'Zoot', '!']\n",
      "#parsing: ['this', 'horse', 'covers', 'the', 'winter']\n",
      "#parsing: ['any', 'corner', 'has', 'another', 'servant', '.']\n",
      "#parsing: ['that', 'king', 'is', 'another', 'land', 'above', 'no', 'winter']\n",
      "#parsing: ['another', 'pound', 'drinks', 'the', 'servant']\n",
      "#parsing: ['another', 'fruit', 'has', 'another', 'quest']\n"
     ]
    },
    {
     "name": "stdout",
     "output_type": "stream",
     "text": [
      "(TOP (S1 (ROOT (S (NP (DT this) (NP|<NN-NNS> (NN horse) (NNS covers))) (NP (DT the) (NN winter))) ) ) )\n",
      "(TOP (S1 (ROOT (S (NP (DT any) (NN corner)) (S|<VP-PERIOD> (VP (VBZ has) (NP (DT another) (NN servant))) (PERIOD .))) ) ) )\n",
      "(TOP (S1 (ROOT (S (NP (DT that) (NN king)) (VP (VBZ is) (VP|<NP-PP> (NP (DT another) (NN land)) (PP (IN above) (NP (DT no) (NN winter)))))) ) ) )\n",
      "(TOP (S1 (ROOT (S (NP (DT another) (NP|<NN-NNS> (NN pound) (NNS drinks))) (NP (DT the) (NN servant))) ) ) )\n",
      "(TOP (S1 (ROOT (S (NP (DT another) (NN fruit)) (VP (VBZ has) (NP (DT another) (NN quest)))) ) ) )\n",
      "(TOP (S1 (ROOT (SQ (NNP Sir) (SQ|<NP-ADJP-PERIOD> (NP (NN Lancelot) (NNS covers)) (SQ|<ADJP-PERIOD> (ADJP (DT each) (NN corner)) (PERIOD .)))) ) ) )"
     ]
    },
    {
     "name": "stderr",
     "output_type": "stream",
     "text": [
      "#parsing: ['Sir', 'Lancelot', 'covers', 'each', 'corner', '.']\n",
      "#parsing: ['a', 'winter', 'carries', 'this', 'servant', '.']\n",
      "#parsing: ['each', 'land', 'is', 'any', 'defeater', '.']\n",
      "#parsing: ['every', 'quest', 'is', 'this', 'winter', '.']\n",
      "#parsing: ['another', 'pound', 'carries', 'every', 'castle', '.']\n",
      "#parsing: ['this', 'master', 'has', 'this', 'fruit']\n",
      "#parsing: ['a', 'king', 'is', 'Sir', 'Knight']\n",
      "#parsing: ['the', 'master', 'carries', 'no', 'story']\n",
      "#parsing: ['any', 'defeater', 'carries', 'each', 'horse', '.']\n",
      "#parsing: ['a', 'castle', 'is', 'each', 'corner']\n",
      "#parsing: ['Arthur', 'is', 'the', 'chalice']\n",
      "#parsing: ['no', 'servant', 'carries', 'this', 'sovereign']\n"
     ]
    },
    {
     "name": "stdout",
     "output_type": "stream",
     "text": [
      "\n",
      "(TOP (S1 (ROOT (S (NP (DT a) (NN winter)) (S|<VP-PERIOD> (VP (VBZ carries) (NP (DT this) (NN servant))) (PERIOD .))) ) ) )\n",
      "(TOP (S1 (ROOT (S (NP (DT each) (NN land)) (S|<VP-PERIOD> (VP (VBZ is) (NP (DT any) (NN defeater))) (PERIOD .))) ) ) )\n",
      "(TOP (S1 (ROOT (S (NP (DT every) (NN quest)) (S|<VP-PERIOD> (VP (VBZ is) (NP (DT this) (NN winter))) (PERIOD .))) ) ) )\n",
      "(TOP (S1 (ROOT (S (NP (DT another) (NN pound)) (S|<VP-PERIOD> (VP (VBZ carries) (NP (DT every) (NN castle))) (PERIOD .))) ) ) )\n",
      "(TOP (S1 (ROOT (S (NP (DT this) (NN master)) (VP (VBZ has) (NP (DT this) (NN fruit)))) ) ) )\n",
      "(TOP (S1 (ROOT (S (NP (DT a) (NN king)) (VP (VBZ is) (NP (NNP Sir) (NNP Knight)))) ) ) )\n",
      "(TOP (S1 (ROOT (S (NP (DT the) (NN master)) (VP (VBZ carries) (NP (DT no) (NN story)))) ) ) )\n",
      "(TOP (S1 (ROOT (S (NP (DT any) (NN defeater)) (S|<VP-PERIOD> (VP (VBZ carries) (NP (DT each) (NN horse))) (PERIOD .))) ) ) )\n",
      "(TOP (S1 (ROOT (S (NP (DT a) (NN castle)) (VP (VBZ is) (NP (DT each) (NN corner)))) ) ) )\n",
      "(TOP (S1 (ROOT (S (NP (NNP Arthur) ) (VP (VBZ is) (NP (DT the) (NN chalice)))) ) ) )\n",
      "(TOP (S1 (ROOT (S (NP (DT no) (NN servant)) (VP (VBZ carries) (NP (DT this) (NN sovereign)))) ) ) )\n",
      "(TOP (S1 (ROOT (S (NP (NP (DT that) (NN defeater)) (PP (IN of) (NP (DT another) (NP|<JJ-NNS> (JJ swallow) (NNS drinks))))) (NP (DT another) (NN husk))) ) ) )\n",
      "(TOP (S1 (ROOT (S (NP (DT this) (NN swallow)) (S|<VP-PERIOD> (VP (VBZ has) (NP (DT no) (NN chalice))) (PERIOD .))) ) ) )\n",
      "(TOP (S1 (ROOT (S (NP (DT that) (NN swallow)) (S|<VP-PERIOD> (VP (VBZ has) (NP (DT the) (NN swallow))) (PERIOD .))) ) ) )\n",
      "(TOP (S1 (ROOT (S (NP (DT this) (NN king)) (S|<VP-PERIOD> (VP (VBZ is) (NP (DT the) (JJ weight))) (PERIOD .))) ) ) )\n",
      "(TOP (S1 (ROOT (S (NP (DT a) (NN home)) (S|<VP-PERIOD> (VP (VBZ carries) (NP (DT every) (NN quest))) (PERIOD .))) ) ) )\n",
      "(TOP (S1 (ROOT (S (VP (VBZ is) (NP (DT every) (NN corner))) (PERIOD .)) ) ) )\n",
      "(TOP (S1 (ROOT (S (NP (DT a) (NP|<NN-NNS> (NN home) (NNS covers))) (NP (DT no) (NN fruit))) ) ) )\n",
      "(TOP (S1 (ROOT (NP (NP (DT no) (NP|<NN-NNS> (NN home) (NNS rides))) (NP|<NP-PERIOD> (NP (DT no) (NN story)) (PERIOD .))) ) ) )\n",
      "(TOP (S1 (ROOT (NP (NP (NNS rides) ) (NP|<NP-PERIOD> (NP (DT each) (NN corner)) (PERIOD .))) ) ) )\n",
      "(TOP (S1 (ROOT (NP (NP (DT no) (NP|<NN-NNS> (NN sun) (NNS drinks))) (NP|<NP-PERIOD> (NP (DT a) (NN husk)) (PERIOD .))) ) ) )\n",
      "(TOP (S1 (ROOT (NP (NP (NNS drinks) ) (NP|<NP-PERIOD> (NP (DT this) (NN defeater)) (PERIOD .))) ) ) )\n",
      "(TOP (S1 (ROOT (NP (NP (DT that) (NP|<NN-NNS> (NN coconut) (NNS rides))) (NP|<NP-PERIOD> (NP (DT each) (NN sovereign)) (PERIOD .))) ) ) )"
     ]
    },
    {
     "name": "stderr",
     "output_type": "stream",
     "text": [
      "#parsing: ['that', 'defeater', 'of', 'another', 'swallow', 'drinks', 'another', 'husk']\n",
      "#parsing: ['this', 'swallow', 'has', 'no', 'chalice', '.']\n",
      "#parsing: ['that', 'swallow', 'has', 'the', 'swallow', '.']\n",
      "#parsing: ['this', 'king', 'is', 'the', 'weight', '.']\n",
      "#parsing: ['a', 'home', 'carries', 'every', 'quest', '.']\n",
      "#parsing: ['is', 'every', 'corner', '.']\n",
      "#parsing: ['a', 'home', 'covers', 'no', 'fruit']\n",
      "#parsing: ['no', 'home', 'rides', 'no', 'story', '.']\n",
      "#parsing: ['rides', 'each', 'corner', '.']\n",
      "#parsing: ['no', 'sun', 'drinks', 'a', 'husk', '.']\n",
      "#parsing: ['drinks', 'this', 'defeater', '.']\n",
      "#parsing: ['that', 'coconut', 'rides', 'each', 'sovereign', '.']\n"
     ]
    },
    {
     "name": "stdout",
     "output_type": "stream",
     "text": [
      "\n",
      "(TOP (S1 (ROOT (NP (NP (DT each) (NP|<NN-NNS> (NN home) (NNS rides))) (NP|<NP-PERIOD> (NP (DT any) (NN servant)) (PERIOD .))) ) ) )\n",
      "(TOP (S1 (ROOT (NP (NP (DT any) (NP|<NN-NNS> (NN home) (NNS covers))) (NP|<NP-PERIOD> (NP (DT no) (NN land)) (PERIOD .))) ) ) )\n",
      "(TOP (S1 (ROOT (S (NP (DT another) (NN story)) (S|<VP-PERIOD> (VP (VBZ carries) (NP (DT a) (NN fruit))) (PERIOD .))) ) ) )\n",
      "(TOP (S1 (ROOT (S (NP (DT each) (NN sovereign)) (S|<VP-PERIOD> (VP (VBZ is) (NP (DT this) (NN home))) (PERIOD .))) ) ) )\n",
      "(TOP (S1 (ROOT (NP (NP (DT another) (NP|<JJ-NNS> (JJ swallow) (NNS rides))) (NP|<NP-PERIOD> (NP (DT any) (NN master)) (PERIOD .))) ) ) )\n",
      "(TOP (S1 (ROOT (SQ (NNP Sir) (SQ|<NP-ADJP-PERIOD> (NP (NN Lancelot) (NNS covers)) (SQ|<ADJP-PERIOD> (ADJP (DT this) (NN servant)) (PERIOD .)))) ) ) )\n",
      "(TOP (S1 (ROOT (SQ (NNP Sir) (SQ|<NP-VP-PERIOD> (NP (NN Lancelot) ) (SQ|<VP-PERIOD> (VP (VBZ carries) (NP (DT the) (NN chalice))) (PERIOD .)))) ) ) )\n",
      "(TOP (S1 (ROOT (NP (NP (DT another) (NP|<NN-NNS> (NN chalice) (NNS covers))) (NP|<NP-PERIOD> (NP (DT this) (NN castle)) (PERIOD .))) ) ) )\n"
     ]
    },
    {
     "name": "stderr",
     "output_type": "stream",
     "text": [
      "#parsing: ['each', 'home', 'rides', 'any', 'servant', '.']\n",
      "#parsing: ['any', 'home', 'covers', 'no', 'land', '.']\n",
      "#parsing: ['another', 'story', 'carries', 'a', 'fruit', '.']\n",
      "#parsing: ['each', 'sovereign', 'is', 'this', 'home', '.']\n",
      "#parsing: ['another', 'swallow', 'rides', 'any', 'master', '.']\n",
      "#parsing: ['Sir', 'Lancelot', 'covers', 'this', 'servant', '.']\n",
      "#parsing: ['Sir', 'Lancelot', 'carries', 'the', 'chalice', '.']\n",
      "#parsing: ['another', 'chalice', 'covers', 'this', 'castle', '.']\n",
      "#parsing: ['another', 'land', 'is', 'that', 'land', '.']\n",
      "#parsing: ['another', 'story', 'drinks', 'every', 'pound', '.']\n",
      "#parsing: ['every', 'land', 'over', 'that', 'master', 'carries', 'this', 'land', '.']\n"
     ]
    },
    {
     "name": "stdout",
     "output_type": "stream",
     "text": [
      "(TOP (S1 (ROOT (S (NP (DT another) (NN land)) (S|<VP-PERIOD> (VP (VBZ is) (NP (DT that) (NN land))) (PERIOD .))) ) ) )\n",
      "(TOP (S1 (ROOT (NP (NP (DT another) (NP|<NN-NNS> (NN story) (NNS drinks))) (NP|<NP-PERIOD> (NP (DT every) (NN pound)) (PERIOD .))) ) ) )\n",
      "(TOP (S1 (ROOT (S (NP (NP (DT every) (NN land)) (PP (IN over) (NP (DT that) (NN master)))) (S|<VP-PERIOD> (VP (VBZ carries) (NP (DT this) (NN land))) (PERIOD .))) ) ) )\n",
      "(TOP (S1 (ROOT (SQ (VBZ has) (SQ|<NP-ADVP> (NP (NP (DT another) (NP|<NN-PERIOD> (NN horse) (PERIOD .))) (NNS drinks)) (ADVP (DT the) (NN winter)))) ) ) )\n",
      "(TOP (S1 (ROOT (S (NP (DT the) (NP|<NN-NNS> (NN coconut) (NNS rides))) (NP (DT the) (NN sun))) ) ) )\n"
     ]
    },
    {
     "name": "stderr",
     "output_type": "stream",
     "text": [
      "#parsing: ['has', 'another', 'horse', '.', 'drinks', 'the', 'winter']\n",
      "#parsing: ['the', 'coconut', 'rides', 'the', 'sun']\n",
      "#parsing: ['any', 'story', 'covers', 'no', 'castle']\n",
      "#parsing: ['every', 'chalice', 'rides', 'Zoot']\n",
      "#parsing: ['no', 'master', 'has', 'has', 'Sir', 'Knight', '.']\n",
      "#parsing: ['know']\n",
      "#parsing: ['any', 'swallow', 'of', 'the', 'fruit', 'rides', 'any', 'coconut']\n",
      "#parsing: ['the', 'sovereign', 'has', 'any', 'land', 'of', 'any', 'king']\n"
     ]
    },
    {
     "name": "stdout",
     "output_type": "stream",
     "text": [
      "(TOP (S1 (ROOT (S (NP (DT any) (NP|<NN-NNS> (NN story) (NNS covers))) (NP (DT no) (NN castle))) ) ) )\n",
      "(TOP (S1 (ROOT (S (NP (DT every) (NP|<NN-NNS> (NN chalice) (NNS rides))) (VP (NN Zoot) )) ) ) )\n",
      "(TOP (S1 (ROOT (S (NP (DT no) (NN master)) (S|<VP-PERIOD> (VP (VBZ has) (VP (VBZ has) (NP (NNP Sir) (NNP Knight)))) (PERIOD .))) ) ) )\n",
      "(TOP (S1 (ROOT (S (VP (VB know) ) ) ) ) )\n",
      "(TOP (S1 (ROOT (S (NP (DT any) (NP|<ADJP-NNS> (ADJP (NN swallow) (PP (IN of) (NP (DT the) (NN fruit)))) (NNS rides))) (NP (DT any) (NN coconut))) ) ) )\n",
      "(TOP (S1 (ROOT (S (NP (DT the) (NN sovereign)) (VP (VBZ has) (VP|<NP-PP> (NP (DT any) (NN land)) (PP (IN of) (NP (DT any) (NN king)))))) ) ) )\n"
     ]
    },
    {
     "name": "stderr",
     "output_type": "stream",
     "text": [
      "#parsing: ['this', 'king', 'near', 'has', 'each', 'fruit', 'of', 'no', 'sun', '.', 'covers', 'every', 'story', 'by', 'no', 'husk']\n"
     ]
    },
    {
     "name": "stdout",
     "output_type": "stream",
     "text": [
      "(TOP (S1 (ROOT (S (NP (NP (DT this) (NN king)) (SBAR (IN near) (S (VP (VBZ has) (VP|<NP-PP> (NP (DT each) (NN fruit)) (PP (IN of) (NP (DT no) (NN sun))))) (PERIOD .)))) (VP (NNS covers) (S (NP (DT every) (NN story)) (PP (IN by) (NP (DT no) (NN husk)))))) ) ) )\n",
      "(TOP (S1 (ROOT (NP (DT all) ) ) ) )\n",
      "(TOP (S1 (ROOT (S (NP (DT no) (NP|<NN-NNS> (NN corner) (NNS drinks))) (VP (VBZ has) (VP|<NP-S> (NP (NNS drinks) ) (S (NP (DT this) (NN servant)) (S|<ADVP-VP> (ADVP (IN into) ) (VP (VBZ has) (NP (DT this) (JJ weight)))))))) ) ) )\n",
      "(TOP (S1 (ROOT (S (NP (DT this) (NP|<NN-NNS> (NN story) (NNS rides))) (VP (NN Zoot) )) ) ) )\n",
      "(TOP (S1 (ROOT (S (NP (DT a) (NP|<NN-NNS> (NN defeater) (NNS drinks))) (NP (DT any) (NN pound))) ) ) )\n",
      "(TOP (S1 (ROOT (NP (VBG fooling) ) ) ) )\n",
      "(TOP (S1 (ROOT (S (NP (DT no) (NN quest)) (VP (VBZ is) (NP (NN Zoot) ))) ) ) )\n"
     ]
    },
    {
     "name": "stderr",
     "output_type": "stream",
     "text": [
      "#parsing: ['all']\n",
      "#parsing: ['no', 'corner', 'drinks', 'has', 'drinks', 'this', 'servant', 'into', 'has', 'this', 'weight']\n",
      "#parsing: ['this', 'story', 'rides', 'Zoot']\n",
      "#parsing: ['a', 'defeater', 'drinks', 'any', 'pound']\n",
      "#parsing: ['fooling']\n",
      "#parsing: ['no', 'quest', 'is', 'Zoot']\n",
      "#parsing: ['covers', 'this', 'king', '.', 'rides', 'drinks', 'no', 'swallow', '.']\n"
     ]
    },
    {
     "name": "stdout",
     "output_type": "stream",
     "text": [
      "(TOP (S1 (ROOT (S (NP (NP (NNS covers) ) (NP|<NP-PERIOD> (NP (DT this) (NN king)) (PERIOD .))) (S|<VP-PERIOD> (VP (NNS rides) (S (NP (NNS drinks) ) (NP (DT no) (NN swallow)))) (PERIOD .))) ) ) )\n",
      "(TOP (S1 (ROOT (S (NP (DT a) (NN king)) (VP (VBZ has) (VP|<NP-PP> (NP (DT a) (NN coconut)) (PP (IN of) (NP (DT another) (NN winter)))))) ) ) )\n",
      "(TOP (S1 (ROOT (S (NP (DT any) (NN home)) (VP (VBZ carries) (NP (DT every) (NN horse)))) ) ) )\n",
      "(TOP (S1 (ROOT (S (VP (VBZ does) ) ) ) ) )\n",
      "(TOP (S1 (ROOT (S (NP (NNP Arthur) ) (S|<VP-PERIOD> (VP (VBZ is) (NP (DT the) (NN king))) (PERIOD .))) ) ) )\n",
      "(TOP (S1 (ROOT (NP (NP (NNP Arthur) (NNS rides)) (NP|<NP-PERIOD> (NP (NP (DT the) (NN horse)) (PP (IN near) (NP (DT the) (NN castle)))) (PERIOD .))) ) ) )\n",
      "(TOP (S1 (ROOT (S (VP (VBG riding) (VP|<PP-S> (PP (TO to) (NP (NNP Camelot) )) (S (VP (VBZ is) (ADJP (JJ hard) )) (PERIOD .)))) ) ) ) )\n",
      "(TOP (S1 (ROOT (SQ (VBP do) (SQ|<NP-ADJP-PERIOD> (NP (NNS coconuts) ) (SQ|<ADJP-PERIOD> (ADJP (VB speak) ) (PERIOD ?)))) ) ) )\n",
      "(TOP (S1 (ROOT (SBARQ (WHNP (WP what) ) (SBARQ|<SQ-PERIOD> (SQ (VBZ does) (SQ|<NP-VP> (NP (NNP Arthur) ) (VP (VB ride) ))) (PERIOD ?))) ) ) )\n",
      "(TOP (S1 (ROOT (SBARQ (WHNP (WP who) ) (SBARQ|<SQ-PERIOD> (SQ (VBZ does) (SQ|<NP-SQ> (NP (NNP Arthur) ) (SQ (NN suggest) (SQ|<NP-VP> (NP (PRP she) ) (VP (VB carry) ))))) (PERIOD ?))) ) ) )\n"
     ]
    },
    {
     "name": "stderr",
     "output_type": "stream",
     "text": [
      "#parsing: ['a', 'king', 'has', 'a', 'coconut', 'of', 'another', 'winter']\n",
      "#parsing: ['any', 'home', 'carries', 'every', 'horse']\n",
      "#parsing: ['does']\n",
      "#parsing: ['Arthur', 'is', 'the', 'king', '.']\n",
      "#parsing: ['Arthur', 'rides', 'the', 'horse', 'near', 'the', 'castle', '.']\n",
      "#parsing: ['riding', 'to', 'Camelot', 'is', 'hard', '.']\n",
      "#parsing: ['do', 'coconuts', 'speak', '?']\n",
      "#parsing: ['what', 'does', 'Arthur', 'ride', '?']\n",
      "#parsing: ['who', 'does', 'Arthur', 'suggest', 'she', 'carry', '?']\n",
      "#parsing: ['why', 'does', 'England', 'have', 'a', 'king', '?']\n"
     ]
    },
    {
     "name": "stdout",
     "output_type": "stream",
     "text": [
      "(TOP (S1 (ROOT (SBARQ (WHADVP (WRB why) ) (SBARQ|<SQ-PERIOD> (SQ (VBZ does) (SQ|<NP-SQ> (NP (NNP England) ) (SQ (VBP have) (NP (DT a) (NN king))))) (PERIOD ?))) ) ) )\n",
      "(TOP (S1 (ROOT (SQ (VBP are) (SQ|<NP-VP> (NP (PRP they) ) (VP (VBG suggesting) (S (NP (NNP Arthur) ) (S|<VP-PERIOD> (VP (VB ride) (PP (TO to) (NP (NNP Camelot) ))) (PERIOD ?)))))) ) ) )\n",
      "(TOP (S1 (ROOT (S (NP (CD five) (NNS strangers)) (S|<VP-PERIOD> (VP (VBP are) (PP (IN at) (NP (DT the) (NP|<NNP-NNP> (NNP Round) (NNP Table))))) (PERIOD .))) ) ) )\n",
      "(TOP (S1 (ROOT (S (RB Guinevere) (S|<VP-PERIOD> (VP (MD might) (VP (VBP have) (VP (VBN known) ))) (PERIOD .))) ) ) )\n",
      "(TOP (S1 (ROOT (S (RB Guinevere) (S|<VP-PERIOD> (VP (MD should) (VP (VB be) (VP (VBG riding) (PP (IN with) (NP (NNP Patsy) ))))) (PERIOD .))) ) ) )\n",
      "(TOP (S1 (ROOT (NP (NP (PRP it) ) (NP|<PRN-NN-SBAR> (PRN (S (VP (VBZ is) (NP (NNP Sir) )) ) ) (NP|<NN-SBAR> (NN Lancelot) (SBAR (WHNP (WP who) ) (S (NP (NNS knows) ) (S|<VP-PERIOD> (VP (NN Zoot) ) (PERIOD !))))))) ) ) )\n"
     ]
    },
    {
     "name": "stderr",
     "output_type": "stream",
     "text": [
      "#parsing: ['are', 'they', 'suggesting', 'Arthur', 'ride', 'to', 'Camelot', '?']\n",
      "#parsing: ['five', 'strangers', 'are', 'at', 'the', 'Round', 'Table', '.']\n",
      "#parsing: ['Guinevere', 'might', 'have', 'known', '.']\n",
      "#parsing: ['Guinevere', 'should', 'be', 'riding', 'with', 'Patsy', '.']\n",
      "#parsing: ['it', 'is', 'Sir', 'Lancelot', 'who', 'knows', 'Zoot', '!']\n",
      "#parsing: ['either', 'Arthur', 'knows', 'or', 'Patsy', 'does', '.']\n",
      "#parsing: ['neither', 'Sir', 'Lancelot', 'nor', 'Guinevere', 'will', 'speak', 'of', 'it', '.']\n",
      "#parsing: ['the', 'Holy', 'Grail', 'was', 'covered', 'by', 'a', 'yellow', 'fruit', '.']\n"
     ]
    },
    {
     "name": "stdout",
     "output_type": "stream",
     "text": [
      "(TOP (S1 (ROOT (S (NP (DT either) (NNP Arthur)) (VP (NNS knows) (S (CC or) (S|<NP-VP-PERIOD> (NP (NNP Patsy) ) (S|<VP-PERIOD> (VP (VBZ does) ) (PERIOD .)))))) ) ) )\n",
      "(TOP (S1 (ROOT (S (NP (DT neither) (NNP Sir)) (S|<VP-PERIOD> (VP (VP (NN Lancelot) ) (VP|<CC-RB-VP> (CC nor) (VP|<RB-VP> (RB Guinevere) (VP (MD will) (VP (VB speak) (PP (IN of) (NP (PRP it) ))))))) (PERIOD .))) ) ) )\n",
      "(TOP (S1 (ROOT (S (NP (DT the) (NP|<NNP-NNP> (NNP Holy) (NNP Grail))) (S|<VP-PERIOD> (VP (VBD was) (VP (VBN covered) (PP (IN by) (NP (DT a) (NP|<ADJP-NN> (ADJP (VBP yellow) ) (NN fruit)))))) (PERIOD .))) ) ) )\n"
     ]
    },
    {
     "name": "stderr",
     "output_type": "stream",
     "text": [
      "#parsing: ['Zoot', 'might', 'have', 'been', 'carried', 'by', 'a', 'swallow', '.']\n",
      "#parsing: ['Arthur', 'rode', 'to', 'Camelot', 'and', 'drank', 'from', 'his', 'chalice', '.']\n",
      "#parsing: ['they', 'migrate', 'precisely', 'because', 'they', 'know', 'they', 'will', 'grow', '.']\n"
     ]
    },
    {
     "name": "stdout",
     "output_type": "stream",
     "text": [
      "(TOP (S1 (ROOT (S (NP (NN Zoot) ) (S|<VP-PERIOD> (VP (MD might) (VP (VBP have) (VP (VBN been) (VP (VBN carried) (PP (IN by) (NP (DT a) (NN swallow))))))) (PERIOD .))) ) ) )\n",
      "(TOP (S1 (ROOT (S (NP (NNP Arthur) ) (S|<VP-PERIOD> (VP (VBD rode) (VP|<PP-PP> (PP (TO to) (NP (NN Camelot) (NP|<CC-NN> (CC and) (NN drank)))) (PP (IN from) (NP (PRP$ his) (NN chalice))))) (PERIOD .))) ) ) )\n",
      "(TOP (S1 (ROOT (S (S (NP (PRP they) ) (VP (NN migrate) (ADVP (RB precisely) ))) (S|<IN-S-PERIOD> (IN because) (S|<S-PERIOD> (S (NP (PRP they) ) (VP (VB know) (S (NP (PRP they) ) (VP (MD will) (VP (NN grow) ))))) (PERIOD .)))) ) ) )\n",
      "(TOP (S1 (ROOT (S (VP (VBP do) (VP|<RB-VP> (RB not) (VP (VB speak) ))) (PERIOD !)) ) ) )\n",
      "(TOP (S1 (ROOT (S (NP (NNP Arthur) ) (S|<VP-PERIOD> (VP (MD will) (VP (VBP have) (VP (VBN been) (VP|<NP-PP> (NP (VBG riding) ) (PP (IN for) (NP (CD eight) (NNS nights))))))) (PERIOD .))) ) ) )\n",
      "(TOP (S1 (ROOT (S (INTJ (NNP Arthur) ) (S|<COMA-NP-COMA-VP-PERIOD> (COMA ,) (S|<NP-COMA-VP-PERIOD> (NP (NN sixty) (NNS inches)) (S|<COMA-VP-PERIOD> (COMA ,) (S|<VP-PERIOD> (VP (VBZ is) (NP (DT a) (NP|<JJ-NN> (JJ tiny) (NN king)))) (PERIOD .)))))) ) ) )\n",
      "(TOP (S1 (ROOT (S (NP (NNP Arthur) (NNS knows)) (S|<VP-PERIOD> (VP (NNP Patsy) (VP|<COMA-NP> (COMA ,) (NP (DT the) (NP|<NN-NN> (NN trusty) (NN servant))))) (PERIOD .))) ) ) )\n"
     ]
    },
    {
     "name": "stderr",
     "output_type": "stream",
     "text": [
      "#parsing: ['do', 'not', 'speak', '!']\n",
      "#parsing: ['Arthur', 'will', 'have', 'been', 'riding', 'for', 'eight', 'nights', '.']\n",
      "#parsing: ['Arthur', ',', 'sixty', 'inches', ',', 'is', 'a', 'tiny', 'king', '.']\n",
      "#parsing: ['Arthur', 'knows', 'Patsy', ',', 'the', 'trusty', 'servant', '.']\n",
      "#parsing: ['Arthur', 'and', 'Guinevere', 'migrate', 'frequently', '.']\n"
     ]
    },
    {
     "name": "stdout",
     "output_type": "stream",
     "text": [
      "(TOP (S1 (ROOT (S (VP (VP (NNP Arthur) ) (VP|<CC-RB-VP> (CC and) (VP|<RB-VP> (RB Guinevere) (VP (NN migrate) (ADVP (RB frequently) ))))) (PERIOD .)) ) ) )\n",
      "(TOP (S1 (ROOT (S (NP (PRP he) ) (S|<VP-PERIOD> (VP (NNS knows) (SBAR (WHNP (WP what) ) (S (NP (PRP they) ) (VP (VBP are) (VP (VBG covering) (PP (IN with) (NP (DT that) (NN story)))))))) (PERIOD .))) ) ) )\n",
      "(TOP (S1 (ROOT (S (NP (NP (NNP Arthur) ) (VP (VBN suggested) (PP (IN that) (NP (DT the) (NN castle))))) (S|<VP-PERIOD> (VP (VB be) (VP (VBN carried) )) (PERIOD .))) ) ) )\n"
     ]
    },
    {
     "name": "stderr",
     "output_type": "stream",
     "text": [
      "#parsing: ['he', 'knows', 'what', 'they', 'are', 'covering', 'with', 'that', 'story', '.']\n",
      "#parsing: ['Arthur', 'suggested', 'that', 'the', 'castle', 'be', 'carried', '.']\n",
      "#parsing: ['the', 'king', 'drank', 'to', 'the', 'castle', 'that', 'was', 'his', 'home', '.']\n"
     ]
    },
    {
     "name": "stdout",
     "output_type": "stream",
     "text": [
      "(TOP (S1 (ROOT (S (S (NP (DT the) (NN king)) (VP (NN drank) (PP (TO to) (NP (DT the) (NN castle))))) (S|<IN-S-PERIOD> (IN that) (S|<S-PERIOD> (S (VP (VBD was) (NP (PRP$ his) (NN home))) ) (PERIOD .)))) ) ) )\n",
      "(TOP (S1 (ROOT (SBARQ (SBAR (WHADVP (WRB when) ) (S (NP (DT the) (NN king)) (NP (NNS drinks) ))) (SBARQ|<COMA-NP-PERIOD> (COMA ,) (SBARQ|<NP-PERIOD> (NP (NNP Patsy) (NNS drinks)) (PERIOD .)))) ) ) )\n",
      "-cross entropy: -9.412844371594911\n"
     ]
    },
    {
     "name": "stderr",
     "output_type": "stream",
     "text": [
      "#parsing: ['when', 'the', 'king', 'drinks', ',', 'Patsy', 'drinks', '.']\n",
      "#-cross entropy (bits/word): -9.41284\n"
     ]
    }
   ],
   "source": [
    "# parse_gram = Pcfg([\"S1.gr\",\"S2.gr\",\"Vocab.gr\"])\n",
    "parse_gram = Pcfg([\"grammars/devset_s1.gr\",\"grammars/devset_s2.gr\",\"grammars/devset_vocab.gr\"])\n",
    "parser = CkyParse(parse_gram, beamsize=0.0001, verbose=0)\n",
    "ce, trees = parser.parse_file('text/more_examples.txt')\n",
    "print(\"-cross entropy: {}\".format(ce))"
   ]
  },
  {
   "cell_type": "markdown",
   "metadata": {},
   "source": [
    "### Use train.trees to test on example"
   ]
  },
  {
   "cell_type": "code",
   "execution_count": 17,
   "metadata": {},
   "outputs": [
    {
     "name": "stderr",
     "output_type": "stream",
     "text": [
      "#reading grammar file: grammars/train_s1.gr\n",
      "#Ignored cycle NP -> NP\n",
      "#reading grammar file: grammars/train_s2.gr\n",
      "#reading grammar file: grammars/train_vocab.gr\n",
      "#parsing: ['no', 'swallow', 'carries', 'each', 'defeater']\n",
      "#parsing: ['another', 'sovereign', 'carries', 'each', 'horse']\n",
      "#parsing: ['the', 'sun', 'has', 'the', 'chalice']\n",
      "#parsing: ['any', 'land', 'with', 'the', 'chalice', 'carries', 'any', 'horse']\n"
     ]
    },
    {
     "name": "stdout",
     "output_type": "stream",
     "text": [
      "(TOP (S1 (ROOT (S (NP (DT no) (NN swallow)) (VP (VBZ carries) (NP (DT each) (NN defeater)))) ) ) )\n",
      "(TOP (S1 (ROOT (S (NP (DT another) (NN sovereign)) (VP (VBZ carries) (NP (DT each) (NN horse)))) ) ) )\n",
      "(TOP (S1 (ROOT (S (NP (DT the) (NN sun)) (VP (VBZ has) (NP (DT the) (NN chalice)))) ) ) )\n",
      "(TOP (S1 (ROOT (S (NP (NP (DT any) (NN land)) (PP (IN with) (NP (DT the) (NN chalice)))) (VP (VBZ carries) (NP (DT any) (NN horse)))) ) ) )\n",
      "(TOP (S1 (ROOT (FRAG (NP (DT every) (NP|<NN-NNS> (NN coconut) (NNS drinks))) (FRAG|<NP-.> (NP (DT any) (NN king)) (PERIOD .))) ) ) )\n",
      "(TOP (S1 (ROOT (S (NP (DT the) (NN defeater)) (VP (VBZ has) (NP (DT no) (NN coconut)))) ) ) )\n"
     ]
    },
    {
     "name": "stderr",
     "output_type": "stream",
     "text": [
      "#parsing: ['every', 'coconut', 'drinks', 'any', 'king', '.']\n",
      "#parsing: ['the', 'defeater', 'has', 'no', 'coconut']\n",
      "#parsing: ['that', 'coconut', 'carries', 'the', 'sun']\n",
      "#parsing: ['that', 'chalice', 'has', 'a', 'winter']\n",
      "#parsing: ['another', 'home', 'covers', 'each', 'servant']\n",
      "#parsing: ['each', 'castle', 'is', 'no', 'defeater', 'above', 'Sir', 'Lancelot']\n"
     ]
    },
    {
     "name": "stdout",
     "output_type": "stream",
     "text": [
      "(TOP (S1 (ROOT (S (NP (DT that) (NN coconut)) (VP (VBZ carries) (NP (DT the) (NN sun)))) ) ) )\n",
      "(TOP (S1 (ROOT (S (NP (DT that) (NN chalice)) (VP (VBZ has) (NP (DT a) (NN winter)))) ) ) )\n",
      "(TOP (S1 (ROOT (S (NP (DT another) (NP|<NN-NNS> (NN home) (NNS covers))) (NP (DT each) (NN servant))) ) ) )\n",
      "(TOP (S1 (ROOT (S (NP (DT each) (NN castle)) (VP (VBZ is) (NP (DT no) (NP|<ADJP-NN> (ADJP (NN defeater) (PP (IN above) (NP (NNP Sir) ))) (NN Lancelot))))) ) ) )\n",
      "(TOP (S1 (ROOT (S (NP (NP (DT each) (NN story)) (PP (IN on) (NP (NNP Arthur) (NNS covers)))) (NP (DT every) (NN sun))) ) ) )\n",
      "(TOP (S1 (ROOT (S (NP (DT each) (NN master)) (VP (VBZ has) (NP (DT every) (NN land)))) ) ) )\n"
     ]
    },
    {
     "name": "stderr",
     "output_type": "stream",
     "text": [
      "#parsing: ['each', 'story', 'on', 'Arthur', 'covers', 'every', 'sun']\n",
      "#parsing: ['each', 'master', 'has', 'every', 'land']\n",
      "#parsing: ['any', 'story', 'at', 'that', 'corner', 'carries', 'any', 'home']\n",
      "#parsing: ['this', 'swallow', 'is', 'a', 'winter']\n",
      "#parsing: ['the', 'winter', 'drinks', 'every', 'swallow']\n",
      "#parsing: ['each', 'weight', 'has', 'a', 'winter', '.']\n"
     ]
    },
    {
     "name": "stdout",
     "output_type": "stream",
     "text": [
      "(TOP (S1 (ROOT (S (NP (NP (DT any) (NN story)) (PP (IN at) (NP (DT that) (NN corner)))) (VP (VBZ carries) (NP (DT any) (NN home)))) ) ) )\n",
      "(TOP (S1 (ROOT (S (NP (DT this) (NN swallow)) (VP (VBZ is) (NP (DT a) (NN winter)))) ) ) )\n",
      "(TOP (S1 (ROOT (S (NP (DT the) (NP|<NN-NNS> (NN winter) (NNS drinks))) (NP (DT every) (NN swallow))) ) ) )\n",
      "(TOP (S1 (ROOT (S (NP (DT each) (NN weight)) (S|<VP-.> (VP (VBZ has) (NP (DT a) (NN winter))) (PERIOD .))) ) ) )\n",
      "(TOP (S1 (ROOT (S (NP (DT each) (NN castle)) (VP (VBZ is) (NP (DT no) (NN defeater)))) ) ) )\n",
      "(TOP (S1 (ROOT (SQ (NNP Sir) (SQ|<NP-VP-PERIOD> (NP (NN Lancelot) ) (SQ|<VP-PERIOD> (VP (VBZ has) (NP (DT no) (NN coconut))) (PERIOD .)))) ) ) )\n",
      "(TOP (S1 (ROOT (FRAG (NP (DT no) (NP|<NN-NNS> (NN land) (NNS drinks))) (FRAG|<NP-.> (NP (DT this) (NN king)) (PERIOD .))) ) ) )\n"
     ]
    },
    {
     "name": "stderr",
     "output_type": "stream",
     "text": [
      "#parsing: ['each', 'castle', 'is', 'no', 'defeater']\n",
      "#parsing: ['Sir', 'Lancelot', 'has', 'no', 'coconut', '.']\n",
      "#parsing: ['no', 'land', 'drinks', 'this', 'king', '.']\n",
      "#parsing: ['the', 'fruit', 'has', 'this', 'corner', 'above', 'any', 'pound']\n",
      "#parsing: ['why', 'does', 'England', 'have', 'a', 'king', '?']\n"
     ]
    },
    {
     "name": "stdout",
     "output_type": "stream",
     "text": [
      "(TOP (S1 (ROOT (S (NP (DT the) (NN fruit)) (VP (VBZ has) (NP (NP (DT this) (NN corner)) (PP (IN above) (NP (DT any) (NN pound)))))) ) ) )\n",
      "(TOP (S1 (ROOT (SBARQ (WHADVP (WRB why) ) (SBARQ|<SQ-.> (SQ (VBZ does) (SQ|<NP-VP> (NP (NNP England) ) (VP (VBP have) (NP (DT a) (NN king))))) (PERIOD ?))) ) ) )\n"
     ]
    },
    {
     "name": "stderr",
     "output_type": "stream",
     "text": [
      "#parsing: ['the', 'Holy', 'Grail', 'was', 'covered', 'by', 'a', 'yellow', 'fruit', '.']\n"
     ]
    },
    {
     "name": "stdout",
     "output_type": "stream",
     "text": [
      "(TOP (S1 (ROOT (S (NP (DT the) (NP|<NNP-NNP> (NNP Holy) (NNP Grail))) (S|<VP-.> (VP (VBD was) (VP (VBN covered) (PP (IN by) (NP (DT a) (NP|<JJ-NN> (JJ yellow) (NN fruit)))))) (PERIOD .))) ) ) )\n",
      "(TOP (S1 (ROOT (S (NP (NNP Zoot) ) (S|<VP-.> (VP (MD might) (VP (VBP have) (VP (VBN been) (PP (VBN carried) (PP (IN by) (NP (DT a) (NN swallow))))))) (PERIOD .))) ) ) )\n",
      "(TOP (S1 (ROOT (SQ (VBP do) (SQ|<NP-VP-.> (NP (NNS coconuts) ) (SQ|<VP-.> (VP (VB speak) ) (PERIOD ?)))) ) ) )\n"
     ]
    },
    {
     "name": "stderr",
     "output_type": "stream",
     "text": [
      "#parsing: ['Zoot', 'might', 'have', 'been', 'carried', 'by', 'a', 'swallow', '.']\n",
      "#parsing: ['do', 'coconuts', 'speak', '?']\n",
      "#parsing: ['who', 'does', 'Arthur', 'suggest', 'she', 'carry', '?']\n"
     ]
    },
    {
     "name": "stdout",
     "output_type": "stream",
     "text": [
      "(TOP (S1 (ROOT (SBARQ (WHNP (WP who) ) (SBARQ|<SQ-.> (SQ (VBZ does) (SQ|<NP-SQ> (NP (NNP Arthur) ) (SQ (NN suggest) (SQ|<NP-VP> (NP (PRP she) ) (VP (VB carry) ))))) (PERIOD ?))) ) ) )\n",
      "(TOP (S1 (ROOT (S (NP (DT neither) (NNP Sir)) (S|<VP-.> (VP (VP (NN Lancelot) ) (VP|<CC-RB-VP> (CC nor) (VP|<RB-VP> (RB Guinevere) (VP (MD will) (VP (VB speak) (PP (IN of) (NP (PRP it) ))))))) (PERIOD .))) ) ) )\n"
     ]
    },
    {
     "name": "stderr",
     "output_type": "stream",
     "text": [
      "#parsing: ['neither', 'Sir', 'Lancelot', 'nor', 'Guinevere', 'will', 'speak', 'of', 'it', '.']\n",
      "#parsing: ['Guinevere', 'should', 'be', 'riding', 'with', 'Patsy', '.']\n"
     ]
    },
    {
     "name": "stdout",
     "output_type": "stream",
     "text": [
      "(TOP (S1 (ROOT (S (RB Guinevere) (S|<VP-PERIOD> (VP (MD should) (VP (VB be) (VP (VBG riding) (PP (IN with) (NP (NNP Patsy) ))))) (PERIOD .))) ) ) )\n",
      "(TOP (S1 (ROOT (S (NP (DT either) (NNP Arthur)) (VP (VBZ knows) (S (CC or) (S|<NP-VP-.> (NP (NNP Patsy) ) (S|<VP-.> (VP (VBZ does) ) (PERIOD .)))))) ) ) )\n",
      "(TOP (S1 (ROOT (SBARQ (WHNP (WP what) ) (SBARQ|<SQ-.> (SQ (VBZ does) (SQ|<NP-VP> (NP (NNP Arthur) ) (VP (VB ride) ))) (PERIOD ?))) ) ) )\n",
      "(TOP (S1 (ROOT (SQ (VBP are) (SQ|<NP-VP> (NP (PRP they) ) (VP (VBG suggesting) (S (NP (NNP Arthur) ) (S|<VP-.> (VP (VB ride) (PP (TO to) (NP (NNP Camelot) ))) (PERIOD ?)))))) ) ) )\n"
     ]
    },
    {
     "name": "stderr",
     "output_type": "stream",
     "text": [
      "#parsing: ['either', 'Arthur', 'knows', 'or', 'Patsy', 'does', '.']\n",
      "#parsing: ['what', 'does', 'Arthur', 'ride', '?']\n",
      "#parsing: ['are', 'they', 'suggesting', 'Arthur', 'ride', 'to', 'Camelot', '?']\n",
      "#parsing: ['they', 'migrate', 'precisely', 'because', 'they', 'know', 'they', 'will', 'grow', '.']\n"
     ]
    },
    {
     "name": "stdout",
     "output_type": "stream",
     "text": [
      "(TOP (S1 (ROOT (S (NP (PRP they) ) (VP (VB migrate) (SBAR (RB precisely) (SBAR|<IN-S> (IN because) (S (NP (PRP they) ) (S|<VP-.> (VP (VB know) (S (NP (PRP they) ) (VP (MD will) (VP (NN grow) )))) (PERIOD .))))))) ) ) )\n",
      "(TOP (S1 (ROOT (S (NP (CD five) (NNS strangers)) (S|<VP-.> (VP (VBP are) (PP (IN at) (NP (DT the) (NP|<NNP-NNP> (NNP Round) (NNP Table))))) (PERIOD .))) ) ) )\n",
      "(TOP (S1 (ROOT (SBARQ (SBAR (WHADVP (WRB when) ) (S (NP (DT the) (NN king)) (NP (NNS drinks) ))) (SBARQ|<COMA-NP-PERIOD> (COMA ,) (SBARQ|<NP-PERIOD> (NP (NNP Patsy) (NNS drinks)) (PERIOD .)))) ) ) )\n",
      "(TOP (S1 (ROOT (S (VP (VBP do) (VP|<RB-VP> (RB not) (VP (VB speak) ))) (PERIOD !)) ) ) )\n",
      "(TOP (S1 (ROOT (S (NP (NNP Arthur) ) (S|<VP-.> (VP (VBZ is) (NP (DT the) (NN king))) (PERIOD .))) ) ) )\n"
     ]
    },
    {
     "name": "stderr",
     "output_type": "stream",
     "text": [
      "#parsing: ['five', 'strangers', 'are', 'at', 'the', 'Round', 'Table', '.']\n",
      "#parsing: ['when', 'the', 'king', 'drinks', ',', 'Patsy', 'drinks', '.']\n",
      "#parsing: ['do', 'not', 'speak', '!']\n",
      "#parsing: ['Arthur', 'is', 'the', 'king', '.']\n",
      "#parsing: ['Arthur', 'suggested', 'that', 'the', 'castle', 'be', 'carried', '.']\n"
     ]
    },
    {
     "name": "stdout",
     "output_type": "stream",
     "text": [
      "(TOP (S1 (ROOT (S (NP (NP (NNP Arthur) ) (PP (VBN suggested) (PP (IN that) (NP (DT the) (NN castle))))) (S|<VP-.> (VP (VB be) (VP (VBN carried) )) (PERIOD .))) ) ) )\n"
     ]
    },
    {
     "name": "stderr",
     "output_type": "stream",
     "text": [
      "#parsing: ['he', 'knows', 'what', 'they', 'are', 'covering', 'with', 'that', 'story', '.']\n"
     ]
    },
    {
     "name": "stdout",
     "output_type": "stream",
     "text": [
      "(TOP (S1 (ROOT (S (NP (PRP he) ) (VP (VBZ knows) (SBAR (WHNP (WP what) ) (S (NP (PRP they) ) (S|<VP-.> (VP (VBP are) (VP (VBG covering) (PP (IN with) (NP (DT that) (NN story))))) (PERIOD .)))))) ) ) )\n",
      "(TOP (S1 (ROOT (S (NP (NP (NNP Arthur) ) (NP|<,-NP-,> (COMMA ,) (NP|<NP-,> (NP (NN sixty) (NNS inches)) (COMMA ,)))) (S|<VP-.> (VP (VBZ is) (NP (DT a) (NP|<JJ-NN> (JJ tiny) (NN king)))) (PERIOD .))) ) ) )\n",
      "(TOP (S1 (ROOT (S (NP (NP (NNP Arthur) ) (NP|<CC-NP> (CC and) (NP (RB Guinevere) ))) (S|<VP-.> (VP (VB migrate) (ADVP (RB frequently) )) (PERIOD .))) ) ) )\n"
     ]
    },
    {
     "name": "stderr",
     "output_type": "stream",
     "text": [
      "#parsing: ['Arthur', ',', 'sixty', 'inches', ',', 'is', 'a', 'tiny', 'king', '.']\n",
      "#parsing: ['Arthur', 'and', 'Guinevere', 'migrate', 'frequently', '.']\n",
      "#parsing: ['Guinevere', 'might', 'have', 'known', '.']\n"
     ]
    },
    {
     "name": "stdout",
     "output_type": "stream",
     "text": [
      "(TOP (S1 (ROOT (S (RB Guinevere) (S|<VP-PERIOD> (VP (MD might) (VP (VBP have) (VP (VBN known) ))) (PERIOD .))) ) ) )\n",
      "(TOP (S1 (ROOT (S (NP (NNP Arthur) ) (S|<VP-.> (VP (VBZ knows) (NP (NP (NNP Patsy) ) (NP|<,-NP> (COMMA ,) (NP (DT the) (NP|<JJ-NN> (JJ trusty) (NN servant)))))) (PERIOD .))) ) ) )\n",
      "(TOP (S1 (ROOT (S (VP (VBG riding) (VP|<PP-S> (PP (TO to) (NP (NNP Camelot) )) (S (VP (VBZ is) (ADJP (JJ hard) )) (PERIOD .)))) ) ) ) )\n"
     ]
    },
    {
     "name": "stderr",
     "output_type": "stream",
     "text": [
      "#parsing: ['Arthur', 'knows', 'Patsy', ',', 'the', 'trusty', 'servant', '.']\n",
      "#parsing: ['riding', 'to', 'Camelot', 'is', 'hard', '.']\n",
      "#parsing: ['the', 'king', 'drank', 'to', 'the', 'castle', 'that', 'was', 'his', 'home', '.']\n"
     ]
    },
    {
     "name": "stdout",
     "output_type": "stream",
     "text": [
      "(TOP (S1 (ROOT (S (NP (NP (NP (DT the) (NP|<NN-NN> (NN king) (NN drank))) (PP (TO to) (NP (DT the) (NN castle)))) (PP (IN that) )) (S|<VP-.> (VP (VBD was) (NP (PRP$ his) (NN home))) (PERIOD .))) ) ) )\n",
      "(TOP (S1 (ROOT (SQ (NNP Arthur) (SQ|<NP-ADVP-NP-PERIOD> (NP (NNS rides) ) (SQ|<ADVP-NP-PERIOD> (ADVP (NP (DT the) (NN horse)) (RB near)) (SQ|<NP-PERIOD> (NP (DT the) (NN castle)) (PERIOD .))))) ) ) )\n"
     ]
    },
    {
     "name": "stderr",
     "output_type": "stream",
     "text": [
      "#parsing: ['Arthur', 'rides', 'the', 'horse', 'near', 'the', 'castle', '.']\n",
      "#parsing: ['Arthur', 'will', 'have', 'been', 'riding', 'for', 'eight', 'nights', '.']\n"
     ]
    },
    {
     "name": "stdout",
     "output_type": "stream",
     "text": [
      "(TOP (S1 (ROOT (S (NP (NNP Arthur) ) (S|<VP-.> (VP (MD will) (VP (VBP have) (VP (VBN been) (VP (VBG riding) (PP (IN for) (NP (CD eight) (NNS nights))))))) (PERIOD .))) ) ) )\n"
     ]
    },
    {
     "name": "stderr",
     "output_type": "stream",
     "text": [
      "#parsing: ['Arthur', 'rode', 'to', 'Camelot', 'and', 'drank', 'from', 'his', 'chalice', '.']\n"
     ]
    },
    {
     "name": "stdout",
     "output_type": "stream",
     "text": [
      "(TOP (S1 (ROOT (S (NP (NNP Arthur) ) (S|<VP-.> (VP (VBD rode) (VP|<PP-PP> (PP (TO to) (NP (NN Camelot) (NP|<CC-NN> (CC and) (NN drank)))) (PP (IN from) (NP (PRP$ his) (NN chalice))))) (PERIOD .))) ) ) )\n",
      "(TOP (S1 (ROOT (S (NP (PRP it) ) (VP (VBZ is) (NP (NP (NP (NNP Sir) ) (NN Lancelot)) (SBAR (WHNP (WP who) ) (S (VP (VBZ knows) (NP (NNP Zoot) )) (PERIOD !)))))) ) ) )\n",
      "(TOP (S1 (ROOT (S (NP (DT this) (NP|<NN-NNS> (NN horse) (NNS covers))) (NP (DT the) (NN winter))) ) ) )\n",
      "(TOP (S1 (ROOT (S (NP (DT any) (NN corner)) (S|<VP-.> (VP (VBZ has) (NP (DT another) (NN servant))) (PERIOD .))) ) ) )\n"
     ]
    },
    {
     "name": "stderr",
     "output_type": "stream",
     "text": [
      "#parsing: ['it', 'is', 'Sir', 'Lancelot', 'who', 'knows', 'Zoot', '!']\n",
      "#parsing: ['this', 'horse', 'covers', 'the', 'winter']\n",
      "#parsing: ['any', 'corner', 'has', 'another', 'servant', '.']\n",
      "#parsing: ['that', 'king', 'is', 'another', 'land', 'above', 'no', 'winter']\n"
     ]
    },
    {
     "name": "stdout",
     "output_type": "stream",
     "text": [
      "(TOP (S1 (ROOT (S (NP (DT that) (NN king)) (VP (VBZ is) (NP (NP (DT another) (NN land)) (PP (IN above) (NP (DT no) (NN winter)))))) ) ) )\n",
      "(TOP (S1 (ROOT (S (NP (DT another) (NP|<NN-NNS> (NN pound) (NNS drinks))) (NP (DT the) (NN servant))) ) ) )\n",
      "(TOP (S1 (ROOT (S (NP (DT another) (NN fruit)) (VP (VBZ has) (NP (DT another) (NN quest)))) ) ) )\n",
      "(TOP (S1 (ROOT (S (VP (NNP Sir) (VP|<NP-ADVP> (NP (NN Lancelot) (NNS covers)) (ADVP (DT each) (NN corner)))) (PERIOD .)) ) ) )\n",
      "(TOP (S1 (ROOT (S (NP (DT a) (NN winter)) (S|<VP-.> (VP (VBZ carries) (NP (DT this) (NN servant))) (PERIOD .))) ) ) )\n",
      "(TOP (S1 (ROOT (S (NP (DT each) (NN land)) (S|<VP-.> (VP (VBZ is) (NP (DT any) (NN defeater))) (PERIOD .))) ) ) )\n"
     ]
    },
    {
     "name": "stderr",
     "output_type": "stream",
     "text": [
      "#parsing: ['another', 'pound', 'drinks', 'the', 'servant']\n",
      "#parsing: ['another', 'fruit', 'has', 'another', 'quest']\n",
      "#parsing: ['Sir', 'Lancelot', 'covers', 'each', 'corner', '.']\n",
      "#parsing: ['a', 'winter', 'carries', 'this', 'servant', '.']\n",
      "#parsing: ['each', 'land', 'is', 'any', 'defeater', '.']\n",
      "#parsing: ['every', 'quest', 'is', 'this', 'winter', '.']\n"
     ]
    },
    {
     "name": "stdout",
     "output_type": "stream",
     "text": [
      "(TOP (S1 (ROOT (S (NP (DT every) (NN quest)) (S|<VP-.> (VP (VBZ is) (NP (DT this) (NN winter))) (PERIOD .))) ) ) )\n",
      "(TOP (S1 (ROOT (S (NP (DT another) (NN pound)) (S|<VP-.> (VP (VBZ carries) (NP (DT every) (NN castle))) (PERIOD .))) ) ) )\n",
      "(TOP (S1 (ROOT (S (NP (DT this) (NN master)) (VP (VBZ has) (NP (DT this) (NN fruit)))) ) ) )\n",
      "(TOP (S1 (ROOT (S (NP (DT a) (NN king)) (VP (VBZ is) (NP (NNP Sir) (NNP Knight)))) ) ) )\n",
      "(TOP (S1 (ROOT (S (NP (DT the) (NN master)) (VP (VBZ carries) (NP (DT no) (NN story)))) ) ) )\n"
     ]
    },
    {
     "name": "stderr",
     "output_type": "stream",
     "text": [
      "#parsing: ['another', 'pound', 'carries', 'every', 'castle', '.']\n",
      "#parsing: ['this', 'master', 'has', 'this', 'fruit']\n",
      "#parsing: ['a', 'king', 'is', 'Sir', 'Knight']\n",
      "#parsing: ['the', 'master', 'carries', 'no', 'story']\n",
      "#parsing: ['any', 'defeater', 'carries', 'each', 'horse', '.']\n"
     ]
    },
    {
     "name": "stdout",
     "output_type": "stream",
     "text": [
      "(TOP (S1 (ROOT (S (NP (DT any) (NN defeater)) (S|<VP-.> (VP (VBZ carries) (NP (DT each) (NN horse))) (PERIOD .))) ) ) )\n",
      "(TOP (S1 (ROOT (S (NP (DT a) (NN castle)) (VP (VBZ is) (NP (DT each) (NN corner)))) ) ) )\n",
      "(TOP (S1 (ROOT (S (NP (NNP Arthur) ) (VP (VBZ is) (NP (DT the) (NN chalice)))) ) ) )\n",
      "(TOP (S1 (ROOT (S (NP (DT no) (NN servant)) (VP (VBZ carries) (NP (DT this) (NN sovereign)))) ) ) )\n",
      "(TOP (S1 (ROOT (S (NP (NP (DT that) (NN defeater)) (PP (IN of) (NP (DT another) (NP|<NN-NNS> (NN swallow) (NNS drinks))))) (NP (DT another) (NN husk))) ) ) )\n",
      "(TOP (S1 (ROOT (S (NP (DT this) (NN swallow)) (S|<VP-.> (VP (VBZ has) (NP (DT no) (NN chalice))) (PERIOD .))) ) ) )\n"
     ]
    },
    {
     "name": "stderr",
     "output_type": "stream",
     "text": [
      "#parsing: ['a', 'castle', 'is', 'each', 'corner']\n",
      "#parsing: ['Arthur', 'is', 'the', 'chalice']\n",
      "#parsing: ['no', 'servant', 'carries', 'this', 'sovereign']\n",
      "#parsing: ['that', 'defeater', 'of', 'another', 'swallow', 'drinks', 'another', 'husk']\n",
      "#parsing: ['this', 'swallow', 'has', 'no', 'chalice', '.']\n",
      "#parsing: ['that', 'swallow', 'has', 'the', 'swallow', '.']\n",
      "#parsing: ['this', 'king', 'is', 'the', 'weight', '.']\n"
     ]
    },
    {
     "name": "stdout",
     "output_type": "stream",
     "text": [
      "(TOP (S1 (ROOT (S (NP (DT that) (NN swallow)) (S|<VP-.> (VP (VBZ has) (NP (DT the) (NN swallow))) (PERIOD .))) ) ) )\n",
      "(TOP (S1 (ROOT (S (NP (DT this) (NN king)) (S|<VP-.> (VP (VBZ is) (NP (DT the) (NN weight))) (PERIOD .))) ) ) )\n",
      "(TOP (S1 (ROOT (S (NP (DT a) (NN home)) (S|<VP-.> (VP (VBZ carries) (NP (DT every) (NN quest))) (PERIOD .))) ) ) )\n",
      "(TOP (S1 (ROOT (S (VP (VBZ is) (NP (DT every) (NN corner))) (PERIOD .)) ) ) )\n",
      "(TOP (S1 (ROOT (S (NP (DT a) (NP|<NN-NNS> (NN home) (NNS covers))) (NP (DT no) (NN fruit))) ) ) )\n",
      "(TOP (S1 (ROOT (FRAG (NP (DT no) (NP|<NN-NNS> (NN home) (NNS rides))) (FRAG|<NP-.> (NP (DT no) (NN story)) (PERIOD .))) ) ) )\n",
      "(TOP (S1 (ROOT (FRAG (NP (NNS rides) ) (FRAG|<NP-.> (NP (DT each) (NN corner)) (PERIOD .))) ) ) )\n"
     ]
    },
    {
     "name": "stderr",
     "output_type": "stream",
     "text": [
      "#parsing: ['a', 'home', 'carries', 'every', 'quest', '.']\n",
      "#parsing: ['is', 'every', 'corner', '.']\n",
      "#parsing: ['a', 'home', 'covers', 'no', 'fruit']\n",
      "#parsing: ['no', 'home', 'rides', 'no', 'story', '.']\n",
      "#parsing: ['rides', 'each', 'corner', '.']\n",
      "#parsing: ['no', 'sun', 'drinks', 'a', 'husk', '.']\n",
      "#parsing: ['drinks', 'this', 'defeater', '.']\n",
      "#parsing: ['that', 'coconut', 'rides', 'each', 'sovereign', '.']\n"
     ]
    },
    {
     "name": "stdout",
     "output_type": "stream",
     "text": [
      "(TOP (S1 (ROOT (FRAG (NP (DT no) (NP|<NN-NNS> (NN sun) (NNS drinks))) (FRAG|<NP-.> (NP (DT a) (NN husk)) (PERIOD .))) ) ) )\n",
      "(TOP (S1 (ROOT (FRAG (NP (NNS drinks) ) (FRAG|<NP-.> (NP (DT this) (NN defeater)) (PERIOD .))) ) ) )\n",
      "(TOP (S1 (ROOT (FRAG (NP (DT that) (NP|<NN-NNS> (NN coconut) (NNS rides))) (FRAG|<NP-.> (NP (DT each) (NN sovereign)) (PERIOD .))) ) ) )\n",
      "(TOP (S1 (ROOT (FRAG (NP (DT each) (NP|<NN-NNS> (NN home) (NNS rides))) (FRAG|<NP-.> (NP (DT any) (NN servant)) (PERIOD .))) ) ) )\n",
      "(TOP (S1 (ROOT (FRAG (NP (DT any) (NP|<NN-NNS> (NN home) (NNS covers))) (FRAG|<NP-.> (NP (DT no) (NN land)) (PERIOD .))) ) ) )\n"
     ]
    },
    {
     "name": "stderr",
     "output_type": "stream",
     "text": [
      "#parsing: ['each', 'home', 'rides', 'any', 'servant', '.']\n",
      "#parsing: ['any', 'home', 'covers', 'no', 'land', '.']\n",
      "#parsing: ['another', 'story', 'carries', 'a', 'fruit', '.']\n",
      "#parsing: ['each', 'sovereign', 'is', 'this', 'home', '.']\n",
      "#parsing: ['another', 'swallow', 'rides', 'any', 'master', '.']\n"
     ]
    },
    {
     "name": "stdout",
     "output_type": "stream",
     "text": [
      "(TOP (S1 (ROOT (S (NP (DT another) (NN story)) (S|<VP-.> (VP (VBZ carries) (NP (DT a) (NN fruit))) (PERIOD .))) ) ) )\n",
      "(TOP (S1 (ROOT (S (NP (DT each) (NN sovereign)) (S|<VP-.> (VP (VBZ is) (NP (DT this) (NN home))) (PERIOD .))) ) ) )\n",
      "(TOP (S1 (ROOT (FRAG (NP (DT another) (NP|<NN-NNS> (NN swallow) (NNS rides))) (FRAG|<NP-.> (NP (DT any) (NN master)) (PERIOD .))) ) ) )\n",
      "(TOP (S1 (ROOT (S (VP (NNP Sir) (VP|<NP-ADVP> (NP (NN Lancelot) (NNS covers)) (ADVP (DT this) (NN servant)))) (PERIOD .)) ) ) )\n",
      "(TOP (S1 (ROOT (SQ (NNP Sir) (SQ|<NP-VP-PERIOD> (NP (NN Lancelot) ) (SQ|<VP-PERIOD> (VP (VBZ carries) (NP (DT the) (NN chalice))) (PERIOD .)))) ) ) )\n"
     ]
    },
    {
     "name": "stderr",
     "output_type": "stream",
     "text": [
      "#parsing: ['Sir', 'Lancelot', 'covers', 'this', 'servant', '.']\n",
      "#parsing: ['Sir', 'Lancelot', 'carries', 'the', 'chalice', '.']\n",
      "#parsing: ['another', 'chalice', 'covers', 'this', 'castle', '.']\n",
      "#parsing: ['another', 'land', 'is', 'that', 'land', '.']\n",
      "#parsing: ['another', 'story', 'drinks', 'every', 'pound', '.']\n",
      "#parsing: ['every', 'land', 'over', 'that', 'master', 'carries', 'this', 'land', '.']\n"
     ]
    },
    {
     "name": "stdout",
     "output_type": "stream",
     "text": [
      "(TOP (S1 (ROOT (FRAG (NP (DT another) (NP|<NN-NNS> (NN chalice) (NNS covers))) (FRAG|<NP-.> (NP (DT this) (NN castle)) (PERIOD .))) ) ) )\n",
      "(TOP (S1 (ROOT (S (NP (DT another) (NN land)) (S|<VP-.> (VP (VBZ is) (NP (DT that) (NN land))) (PERIOD .))) ) ) )\n",
      "(TOP (S1 (ROOT (FRAG (NP (DT another) (NP|<NN-NNS> (NN story) (NNS drinks))) (FRAG|<NP-.> (NP (DT every) (NN pound)) (PERIOD .))) ) ) )\n",
      "(TOP (S1 (ROOT (S (NP (NP (DT every) (NN land)) (PP (IN over) (NP (DT that) (NN master)))) (S|<VP-.> (VP (VBZ carries) (NP (DT this) (NN land))) (PERIOD .))) ) ) )\n",
      "(TOP (S1 (ROOT (SQ (VBZ has) (SQ|<NP-ADVP> (NP (NP (DT another) (NP|<NN-.> (NN horse) (PERIOD .))) (NNS drinks)) (ADVP (DT the) (NN winter)))) ) ) )\n",
      "(TOP (S1 (ROOT (S (NP (DT the) (NP|<NN-NNS> (NN coconut) (NNS rides))) (NP (DT the) (NN sun))) ) ) )\n",
      "(TOP (S1 (ROOT (S (NP (DT any) (NP|<NN-NNS> (NN story) (NNS covers))) (NP (DT no) (NN castle))) ) ) )\n",
      "(TOP (S1 (ROOT (S (NP (DT every) (NP|<NN-NNS> (NN chalice) (NNS rides))) (VP (VB Zoot) )) ) ) )\n",
      "(TOP (S1 (ROOT (S (NP (DT no) (NN master)) (S|<VP-.> (VP (VBZ has) (VP (VBZ has) (NP (NNP Sir) (NNP Knight)))) (PERIOD .))) ) ) )\n",
      "(TOP (S1 (ROOT (S (VP (VB know) ) ) ) ) )\n"
     ]
    },
    {
     "name": "stderr",
     "output_type": "stream",
     "text": [
      "#parsing: ['has', 'another', 'horse', '.', 'drinks', 'the', 'winter']\n",
      "#parsing: ['the', 'coconut', 'rides', 'the', 'sun']\n",
      "#parsing: ['any', 'story', 'covers', 'no', 'castle']\n",
      "#parsing: ['every', 'chalice', 'rides', 'Zoot']\n",
      "#parsing: ['no', 'master', 'has', 'has', 'Sir', 'Knight', '.']\n",
      "#parsing: ['know']\n",
      "#parsing: ['any', 'swallow', 'of', 'the', 'fruit', 'rides', 'any', 'coconut']\n"
     ]
    },
    {
     "name": "stdout",
     "output_type": "stream",
     "text": [
      "(TOP (S1 (ROOT (S (NP (NP (DT any) (NN swallow)) (PP (IN of) (NP (DT the) (NP|<NN-NNS> (NN fruit) (NNS rides))))) (NP (DT any) (NN coconut))) ) ) )\n",
      "(TOP (S1 (ROOT (S (NP (DT the) (NN sovereign)) (VP (VBZ has) (NP (NP (DT any) (NN land)) (PP (IN of) (NP (DT any) (NN king)))))) ) ) )\n"
     ]
    },
    {
     "name": "stderr",
     "output_type": "stream",
     "text": [
      "#parsing: ['the', 'sovereign', 'has', 'any', 'land', 'of', 'any', 'king']\n",
      "#parsing: ['this', 'king', 'near', 'has', 'each', 'fruit', 'of', 'no', 'sun', '.', 'covers', 'every', 'story', 'by', 'no', 'husk']\n"
     ]
    },
    {
     "name": "stdout",
     "output_type": "stream",
     "text": [
      "(TOP (S1 (ROOT (S (NP (DT this) (NN king)) (S|<ADVP-VP> (ADVP (RB near) ) (VP (VBZ has) (NP (NP (NP (NP (NP (DT each) (NN fruit)) (NP|<PP-.> (PP (IN of) (NP (DT no) (NN sun))) (PERIOD .))) (NNS covers)) (NP (DT every) (NN story))) (PP (IN by) (NP (DT no) (NN husk))))))) ) ) )\n",
      "(TOP (S1 (ROOT (NP (DT all) ) ) ) )\n"
     ]
    },
    {
     "name": "stderr",
     "output_type": "stream",
     "text": [
      "#parsing: ['all']\n",
      "#parsing: ['no', 'corner', 'drinks', 'has', 'drinks', 'this', 'servant', 'into', 'has', 'this', 'weight']\n"
     ]
    },
    {
     "name": "stdout",
     "output_type": "stream",
     "text": [
      "(TOP (S1 (ROOT (S (NP (DT no) (NP|<NN-NNS> (NN corner) (NNS drinks))) (VP (VBZ has) (VP|<NP-S> (NP (NNS drinks) ) (S (NP (NP (DT this) (NN servant)) (PP (IN into) )) (VP (VBZ has) (NP (DT this) (NN weight))))))) ) ) )\n",
      "(TOP (S1 (ROOT (S (NP (DT this) (NP|<NN-NNS> (NN story) (NNS rides))) (VP (VB Zoot) )) ) ) )\n",
      "(TOP (S1 (ROOT (S (NP (DT a) (NP|<NN-NNS> (NN defeater) (NNS drinks))) (NP (DT any) (NN pound))) ) ) )\n",
      "(TOP (S1 (ROOT (S (VP (VBG fooling) ) ) ) ) )\n",
      "(TOP (S1 (ROOT (S (NP (DT no) (NN quest)) (VP (VBZ is) (NP (NNP Zoot) ))) ) ) )\n",
      "(TOP (S1 (ROOT (S (NP (NP (NNS covers) ) (NP|<NP-PERIOD> (NP (DT this) (NN king)) (PERIOD .))) (S|<VP-.> (VP (NNS rides) (S (NP (NNS drinks) ) (NP (DT no) (NN swallow)))) (PERIOD .))) ) ) )\n"
     ]
    },
    {
     "name": "stderr",
     "output_type": "stream",
     "text": [
      "#parsing: ['this', 'story', 'rides', 'Zoot']\n",
      "#parsing: ['a', 'defeater', 'drinks', 'any', 'pound']\n",
      "#parsing: ['fooling']\n",
      "#parsing: ['no', 'quest', 'is', 'Zoot']\n",
      "#parsing: ['covers', 'this', 'king', '.', 'rides', 'drinks', 'no', 'swallow', '.']\n",
      "#parsing: ['a', 'king', 'has', 'a', 'coconut', 'of', 'another', 'winter']\n"
     ]
    },
    {
     "name": "stdout",
     "output_type": "stream",
     "text": [
      "(TOP (S1 (ROOT (S (NP (DT a) (NN king)) (VP (VBZ has) (NP (NP (DT a) (NN coconut)) (PP (IN of) (NP (DT another) (NN winter)))))) ) ) )\n",
      "(TOP (S1 (ROOT (S (NP (DT any) (NN home)) (VP (VBZ carries) (NP (DT every) (NN horse)))) ) ) )\n",
      "(TOP (S1 (ROOT (S (VP (VBZ does) ) ) ) ) )\n",
      "(TOP (S1 (ROOT (S (NP (NNP Arthur) ) (S|<VP-.> (VP (VBZ is) (NP (DT the) (NN king))) (PERIOD .))) ) ) )\n",
      "(TOP (S1 (ROOT (SQ (NNP Arthur) (SQ|<NP-ADVP-NP-PERIOD> (NP (NNS rides) ) (SQ|<ADVP-NP-PERIOD> (ADVP (NP (DT the) (NN horse)) (RB near)) (SQ|<NP-PERIOD> (NP (DT the) (NN castle)) (PERIOD .))))) ) ) )\n"
     ]
    },
    {
     "name": "stderr",
     "output_type": "stream",
     "text": [
      "#parsing: ['any', 'home', 'carries', 'every', 'horse']\n",
      "#parsing: ['does']\n",
      "#parsing: ['Arthur', 'is', 'the', 'king', '.']\n",
      "#parsing: ['Arthur', 'rides', 'the', 'horse', 'near', 'the', 'castle', '.']\n",
      "#parsing: ['riding', 'to', 'Camelot', 'is', 'hard', '.']\n"
     ]
    },
    {
     "name": "stdout",
     "output_type": "stream",
     "text": [
      "(TOP (S1 (ROOT (S (VP (VBG riding) (VP|<PP-S> (PP (TO to) (NP (NNP Camelot) )) (S (VP (VBZ is) (ADJP (JJ hard) )) (PERIOD .)))) ) ) ) )\n",
      "(TOP (S1 (ROOT (SQ (VBP do) (SQ|<NP-VP-.> (NP (NNS coconuts) ) (SQ|<VP-.> (VP (VB speak) ) (PERIOD ?)))) ) ) )\n",
      "(TOP (S1 (ROOT (SBARQ (WHNP (WP what) ) (SBARQ|<SQ-.> (SQ (VBZ does) (SQ|<NP-VP> (NP (NNP Arthur) ) (VP (VB ride) ))) (PERIOD ?))) ) ) )\n",
      "(TOP (S1 (ROOT (SBARQ (WHNP (WP who) ) (SBARQ|<SQ-.> (SQ (VBZ does) (SQ|<NP-SQ> (NP (NNP Arthur) ) (SQ (NN suggest) (SQ|<NP-VP> (NP (PRP she) ) (VP (VB carry) ))))) (PERIOD ?))) ) ) )\n",
      "(TOP (S1 (ROOT (SBARQ (WHADVP (WRB why) ) (SBARQ|<SQ-.> (SQ (VBZ does) (SQ|<NP-VP> (NP (NNP England) ) (VP (VBP have) (NP (DT a) (NN king))))) (PERIOD ?))) ) ) )\n"
     ]
    },
    {
     "name": "stderr",
     "output_type": "stream",
     "text": [
      "#parsing: ['do', 'coconuts', 'speak', '?']\n",
      "#parsing: ['what', 'does', 'Arthur', 'ride', '?']\n",
      "#parsing: ['who', 'does', 'Arthur', 'suggest', 'she', 'carry', '?']\n",
      "#parsing: ['why', 'does', 'England', 'have', 'a', 'king', '?']\n",
      "#parsing: ['are', 'they', 'suggesting', 'Arthur', 'ride', 'to', 'Camelot', '?']\n"
     ]
    },
    {
     "name": "stdout",
     "output_type": "stream",
     "text": [
      "(TOP (S1 (ROOT (SQ (VBP are) (SQ|<NP-VP> (NP (PRP they) ) (VP (VBG suggesting) (S (NP (NNP Arthur) ) (S|<VP-.> (VP (VB ride) (PP (TO to) (NP (NNP Camelot) ))) (PERIOD ?)))))) ) ) )\n",
      "(TOP (S1 (ROOT (S (NP (CD five) (NNS strangers)) (S|<VP-.> (VP (VBP are) (PP (IN at) (NP (DT the) (NP|<NNP-NNP> (NNP Round) (NNP Table))))) (PERIOD .))) ) ) )\n",
      "(TOP (S1 (ROOT (S (RB Guinevere) (S|<VP-PERIOD> (VP (MD might) (VP (VBP have) (VP (VBN known) ))) (PERIOD .))) ) ) )\n",
      "(TOP (S1 (ROOT (S (RB Guinevere) (S|<VP-PERIOD> (VP (MD should) (VP (VB be) (VP (VBG riding) (PP (IN with) (NP (NNP Patsy) ))))) (PERIOD .))) ) ) )\n"
     ]
    },
    {
     "name": "stderr",
     "output_type": "stream",
     "text": [
      "#parsing: ['five', 'strangers', 'are', 'at', 'the', 'Round', 'Table', '.']\n",
      "#parsing: ['Guinevere', 'might', 'have', 'known', '.']\n",
      "#parsing: ['Guinevere', 'should', 'be', 'riding', 'with', 'Patsy', '.']\n",
      "#parsing: ['it', 'is', 'Sir', 'Lancelot', 'who', 'knows', 'Zoot', '!']\n"
     ]
    },
    {
     "name": "stdout",
     "output_type": "stream",
     "text": [
      "(TOP (S1 (ROOT (S (NP (PRP it) ) (VP (VBZ is) (NP (NP (NP (NNP Sir) ) (NN Lancelot)) (SBAR (WHNP (WP who) ) (S (VP (VBZ knows) (NP (NNP Zoot) )) (PERIOD !)))))) ) ) )\n",
      "(TOP (S1 (ROOT (S (NP (DT either) (NNP Arthur)) (VP (VBZ knows) (S (CC or) (S|<NP-VP-.> (NP (NNP Patsy) ) (S|<VP-.> (VP (VBZ does) ) (PERIOD .)))))) ) ) )\n"
     ]
    },
    {
     "name": "stderr",
     "output_type": "stream",
     "text": [
      "#parsing: ['either', 'Arthur', 'knows', 'or', 'Patsy', 'does', '.']\n",
      "#parsing: ['neither', 'Sir', 'Lancelot', 'nor', 'Guinevere', 'will', 'speak', 'of', 'it', '.']\n"
     ]
    },
    {
     "name": "stdout",
     "output_type": "stream",
     "text": [
      "(TOP (S1 (ROOT (S (NP (DT neither) (NNP Sir)) (S|<VP-.> (VP (VP (NN Lancelot) ) (VP|<CC-RB-VP> (CC nor) (VP|<RB-VP> (RB Guinevere) (VP (MD will) (VP (VB speak) (PP (IN of) (NP (PRP it) ))))))) (PERIOD .))) ) ) )\n"
     ]
    },
    {
     "name": "stderr",
     "output_type": "stream",
     "text": [
      "#parsing: ['the', 'Holy', 'Grail', 'was', 'covered', 'by', 'a', 'yellow', 'fruit', '.']\n"
     ]
    },
    {
     "name": "stdout",
     "output_type": "stream",
     "text": [
      "(TOP (S1 (ROOT (S (NP (DT the) (NP|<NNP-NNP> (NNP Holy) (NNP Grail))) (S|<VP-.> (VP (VBD was) (VP (VBN covered) (PP (IN by) (NP (DT a) (NP|<JJ-NN> (JJ yellow) (NN fruit)))))) (PERIOD .))) ) ) )\n",
      "(TOP (S1 (ROOT (S (NP (NNP Zoot) ) (S|<VP-.> (VP (MD might) (VP (VBP have) (VP (VBN been) (PP (VBN carried) (PP (IN by) (NP (DT a) (NN swallow))))))) (PERIOD .))) ) ) )\n"
     ]
    },
    {
     "name": "stderr",
     "output_type": "stream",
     "text": [
      "#parsing: ['Zoot', 'might', 'have', 'been', 'carried', 'by', 'a', 'swallow', '.']\n",
      "#parsing: ['Arthur', 'rode', 'to', 'Camelot', 'and', 'drank', 'from', 'his', 'chalice', '.']\n"
     ]
    },
    {
     "name": "stdout",
     "output_type": "stream",
     "text": [
      "(TOP (S1 (ROOT (S (NP (NNP Arthur) ) (S|<VP-.> (VP (VBD rode) (VP|<PP-PP> (PP (TO to) (NP (NN Camelot) (NP|<CC-NN> (CC and) (NN drank)))) (PP (IN from) (NP (PRP$ his) (NN chalice))))) (PERIOD .))) ) ) )\n"
     ]
    },
    {
     "name": "stderr",
     "output_type": "stream",
     "text": [
      "#parsing: ['they', 'migrate', 'precisely', 'because', 'they', 'know', 'they', 'will', 'grow', '.']\n"
     ]
    },
    {
     "name": "stdout",
     "output_type": "stream",
     "text": [
      "(TOP (S1 (ROOT (S (NP (PRP they) ) (VP (VB migrate) (SBAR (RB precisely) (SBAR|<IN-S> (IN because) (S (NP (PRP they) ) (S|<VP-.> (VP (VB know) (S (NP (PRP they) ) (VP (MD will) (VP (NN grow) )))) (PERIOD .))))))) ) ) )\n",
      "(TOP (S1 (ROOT (S (VP (VBP do) (VP|<RB-VP> (RB not) (VP (VB speak) ))) (PERIOD !)) ) ) )\n",
      "(TOP (S1 (ROOT (S (NP (NNP Arthur) ) (S|<VP-.> (VP (MD will) (VP (VBP have) (VP (VBN been) (VP (VBG riding) (PP (IN for) (NP (CD eight) (NNS nights))))))) (PERIOD .))) ) ) )\n"
     ]
    },
    {
     "name": "stderr",
     "output_type": "stream",
     "text": [
      "#parsing: ['do', 'not', 'speak', '!']\n",
      "#parsing: ['Arthur', 'will', 'have', 'been', 'riding', 'for', 'eight', 'nights', '.']\n",
      "#parsing: ['Arthur', ',', 'sixty', 'inches', ',', 'is', 'a', 'tiny', 'king', '.']\n"
     ]
    },
    {
     "name": "stdout",
     "output_type": "stream",
     "text": [
      "(TOP (S1 (ROOT (S (NP (NP (NNP Arthur) ) (NP|<,-NP-,> (COMMA ,) (NP|<NP-,> (NP (NN sixty) (NNS inches)) (COMMA ,)))) (S|<VP-.> (VP (VBZ is) (NP (DT a) (NP|<JJ-NN> (JJ tiny) (NN king)))) (PERIOD .))) ) ) )\n",
      "(TOP (S1 (ROOT (S (NP (NNP Arthur) ) (S|<VP-.> (VP (VBZ knows) (NP (NP (NNP Patsy) ) (NP|<,-NP> (COMMA ,) (NP (DT the) (NP|<JJ-NN> (JJ trusty) (NN servant)))))) (PERIOD .))) ) ) )\n",
      "(TOP (S1 (ROOT (S (NP (NP (NNP Arthur) ) (NP|<CC-NP> (CC and) (NP (RB Guinevere) ))) (S|<VP-.> (VP (VB migrate) (ADVP (RB frequently) )) (PERIOD .))) ) ) )\n"
     ]
    },
    {
     "name": "stderr",
     "output_type": "stream",
     "text": [
      "#parsing: ['Arthur', 'knows', 'Patsy', ',', 'the', 'trusty', 'servant', '.']\n",
      "#parsing: ['Arthur', 'and', 'Guinevere', 'migrate', 'frequently', '.']\n",
      "#parsing: ['he', 'knows', 'what', 'they', 'are', 'covering', 'with', 'that', 'story', '.']\n"
     ]
    },
    {
     "name": "stdout",
     "output_type": "stream",
     "text": [
      "(TOP (S1 (ROOT (S (NP (PRP he) ) (VP (VBZ knows) (SBAR (WHNP (WP what) ) (S (NP (PRP they) ) (S|<VP-.> (VP (VBP are) (VP (VBG covering) (PP (IN with) (NP (DT that) (NN story))))) (PERIOD .)))))) ) ) )\n",
      "(TOP (S1 (ROOT (S (NP (NP (NNP Arthur) ) (PP (VBN suggested) (PP (IN that) (NP (DT the) (NN castle))))) (S|<VP-.> (VP (VB be) (VP (VBN carried) )) (PERIOD .))) ) ) )\n"
     ]
    },
    {
     "name": "stderr",
     "output_type": "stream",
     "text": [
      "#parsing: ['Arthur', 'suggested', 'that', 'the', 'castle', 'be', 'carried', '.']\n",
      "#parsing: ['the', 'king', 'drank', 'to', 'the', 'castle', 'that', 'was', 'his', 'home', '.']\n"
     ]
    },
    {
     "name": "stdout",
     "output_type": "stream",
     "text": [
      "(TOP (S1 (ROOT (S (NP (NP (NP (DT the) (NP|<NN-NN> (NN king) (NN drank))) (PP (TO to) (NP (DT the) (NN castle)))) (PP (IN that) )) (S|<VP-.> (VP (VBD was) (NP (PRP$ his) (NN home))) (PERIOD .))) ) ) )\n",
      "(TOP (S1 (ROOT (SBARQ (SBAR (WHADVP (WRB when) ) (S (NP (DT the) (NN king)) (NP (NNS drinks) ))) (SBARQ|<COMA-NP-PERIOD> (COMA ,) (SBARQ|<NP-PERIOD> (NP (NNP Patsy) (NNS drinks)) (PERIOD .)))) ) ) )\n",
      "-cross entropy: -9.544154592858492\n"
     ]
    },
    {
     "name": "stderr",
     "output_type": "stream",
     "text": [
      "#parsing: ['when', 'the', 'king', 'drinks', ',', 'Patsy', 'drinks', '.']\n",
      "#-cross entropy (bits/word): -9.54415\n"
     ]
    }
   ],
   "source": [
    "# parse_gram = Pcfg([\"S1.gr\",\"S2.gr\",\"Vocab.gr\"])\n",
    "parse_gram = Pcfg([\"grammars/train_s1.gr\",\"grammars/train_s2.gr\",\"grammars/train_vocab.gr\"])\n",
    "parser = CkyParse(parse_gram, beamsize=0.0001, verbose=0)\n",
    "ce, trees = parser.parse_file('text/more_examples.txt')\n",
    "print(\"-cross entropy: {}\".format(ce))"
   ]
  },
  {
   "cell_type": "markdown",
   "metadata": {},
   "source": [
    "### use dev_and_exp to test on more examples"
   ]
  },
  {
   "cell_type": "code",
   "execution_count": 20,
   "metadata": {},
   "outputs": [
    {
     "name": "stderr",
     "output_type": "stream",
     "text": [
      "#reading grammar file: grammars/dev_and_exp_s1.gr\n",
      "#Ignored cycle NP -> NP\n",
      "#reading grammar file: grammars/dev_and_exp_s2.gr\n",
      "#reading grammar file: grammars/dev_and_exp_vocab.gr\n",
      "#Ignored cycle ( -> (\n",
      "#Ignored cycle ) -> )\n",
      "#parsing: ['no', 'swallow', 'carries', 'each', 'defeater']\n",
      "#parsing: ['another', 'sovereign', 'carries', 'each', 'horse']\n",
      "#parsing: ['the', 'sun', 'has', 'the', 'chalice']\n",
      "#parsing: ['any', 'land', 'with', 'the', 'chalice', 'carries', 'any', 'horse']\n",
      "#parsing: ['every', 'coconut', 'drinks', 'any', 'king', '.']\n",
      "#parsing: ['the', 'defeater', 'has', 'no', 'coconut']\n",
      "#parsing: ['that', 'coconut', 'carries', 'the', 'sun']\n",
      "#parsing: ['that', 'chalice', 'has', 'a', 'winter']\n",
      "#parsing: ['another', 'home', 'covers', 'each', 'servant']\n"
     ]
    },
    {
     "name": "stdout",
     "output_type": "stream",
     "text": [
      "(TOP (S1 (ROOT (S (NP (DT no) (NN swallow)) (VP (VBZ carries) (NP (DT each) (NN defeater)))) ) ) )\n",
      "(TOP (S1 (ROOT (S (NP (DT another) (NN sovereign)) (VP (VBZ carries) (NP (DT each) (NN horse)))) ) ) )\n",
      "(TOP (S1 (ROOT (S (NP (DT the) (NN sun)) (VP (VBZ has) (NP (DT the) (NN chalice)))) ) ) )\n",
      "(TOP (S1 (ROOT (S (NP (NP (DT any) (NN land)) (PP (IN with) (NP (DT the) (NN chalice)))) (VP (VBZ carries) (NP (DT any) (NN horse)))) ) ) )\n",
      "(TOP (S1 (ROOT (S (NP (DT every) (NN coconut)) (S|<VP-PERIOD> (VP (VBZ drinks) (NP (DT any) (NN king))) (PERIOD .))) ) ) )\n",
      "(TOP (S1 (ROOT (S (NP (DT the) (NN defeater)) (VP (VBZ has) (NP (DT no) (NN coconut)))) ) ) )\n",
      "(TOP (S1 (ROOT (S (NP (DT that) (NN coconut)) (VP (VBZ carries) (NP (DT the) (NN sun)))) ) ) )\n",
      "(TOP (S1 (ROOT (S (NP (DT that) (NN chalice)) (VP (VBZ has) (NP (DT a) (NN winter)))) ) ) )\n",
      "(TOP (S1 (ROOT (S (NP (DT another) (NP|<NN-NNS> (NN home) (NNS covers))) (NP (DT each) (NN servant))) ) ) )\n",
      "(TOP (S1 (ROOT (S (NP (DT each) (NN castle)) (VP (VBZ is) (NP (NP (DT no) (NN defeater)) (PP (IN above) (NP (NNP Sir) (NNP Lancelot)))))) ) ) )\n",
      "(TOP (S1 (ROOT (S (NP (NP (DT each) (NN story)) (PP (IN on) (NP (NNP Arthur) (NNS covers)))) (NP (DT every) (NN sun))) ) ) )\n",
      "(TOP (S1 (ROOT (S (NP (DT each) (NN master)) (VP (VBZ has) (NP (DT every) (NN land)))) ) ) )\n",
      "(TOP (S1 (ROOT (S (NP (NP (DT any) (NN story)) (PP (IN at) (NP (DT that) (NN corner)))) (VP (VBZ carries) (NP (DT any) (NN home)))) ) ) )\n",
      "(TOP (S1 (ROOT (S (NP (DT this) (NN swallow)) (VP (VBZ is) (NP (DT a) (NN winter)))) ) ) )\n",
      "(TOP (S1 (ROOT (S (NP (DT the) (NN winter)) (VP (VBZ drinks) (NP (DT every) (NN swallow)))) ) ) )\n",
      "(TOP (S1 (ROOT (S (NP (DT each) (JJ weight)) (S|<VP-PERIOD> (VP (VBZ has) (NP (DT a) (NN winter))) (PERIOD .))) ) ) )\n",
      "(TOP (S1 (ROOT (S (NP (DT each) (NN castle)) (VP (VBZ is) (NP (DT no) (NN defeater)))) ) ) )\n",
      "(TOP (S1 (ROOT (S (NP (NNP Sir) (NNP Lancelot)) (S|<VP-PERIOD> (VP (VBZ has) (NP (DT no) (NN coconut))) (PERIOD .))) ) ) )\n"
     ]
    },
    {
     "name": "stderr",
     "output_type": "stream",
     "text": [
      "#parsing: ['each', 'castle', 'is', 'no', 'defeater', 'above', 'Sir', 'Lancelot']\n",
      "#parsing: ['each', 'story', 'on', 'Arthur', 'covers', 'every', 'sun']\n",
      "#parsing: ['each', 'master', 'has', 'every', 'land']\n",
      "#parsing: ['any', 'story', 'at', 'that', 'corner', 'carries', 'any', 'home']\n",
      "#parsing: ['this', 'swallow', 'is', 'a', 'winter']\n",
      "#parsing: ['the', 'winter', 'drinks', 'every', 'swallow']\n",
      "#parsing: ['each', 'weight', 'has', 'a', 'winter', '.']\n",
      "#parsing: ['each', 'castle', 'is', 'no', 'defeater']\n",
      "#parsing: ['Sir', 'Lancelot', 'has', 'no', 'coconut', '.']\n",
      "#parsing: ['no', 'land', 'drinks', 'this', 'king', '.']\n"
     ]
    },
    {
     "name": "stdout",
     "output_type": "stream",
     "text": [
      "(TOP (S1 (ROOT (S (NP (DT no) (NN land)) (S|<VP-PERIOD> (VP (VBZ drinks) (NP (DT this) (NN king))) (PERIOD .))) ) ) )\n",
      "(TOP (S1 (ROOT (S (NP (DT the) (NN fruit)) (VP (VBZ has) (NP (NP (DT this) (NN corner)) (PP (IN above) (NP (DT any) (NN pound)))))) ) ) )\n",
      "(TOP (S1 (ROOT (SBARQ (WHADVP (WRB why) ) (SBARQ|<SQ-PERIOD> (SQ (VBZ does) (SQ|<NP-VP> (NP (NNP England) ) (VP (VB have) (NP (DT a) (NN king))))) (PERIOD ?))) ) ) )\n",
      "(TOP (S1 (ROOT (S (NP (DT the) (NP|<NNP-NNP> (NNP Holy) (NNP Grail))) (S|<VP-PERIOD> (VP (VBD was) (VP (VBN covered) (PP (IN by) (NP (DT a) (NP|<JJ-NN> (JJ yellow) (NN fruit)))))) (PERIOD .))) ) ) )\n",
      "(TOP (S1 (ROOT (S (NP (NNP Zoot) ) (S|<VP-PERIOD> (VP (MD might) (VP (VB have) (VP (VBN been) (VP (VBN carried) (PP (IN by) (NP (DT a) (NN swallow))))))) (PERIOD .))) ) ) )\n",
      "(TOP (S1 (ROOT (SQ (VBP do) (SQ|<NP-VP-.> (NP (NNS coconuts) ) (SQ|<VP-.> (VP (VB speak) ) (PERIOD ?)))) ) ) )\n"
     ]
    },
    {
     "name": "stderr",
     "output_type": "stream",
     "text": [
      "#parsing: ['the', 'fruit', 'has', 'this', 'corner', 'above', 'any', 'pound']\n",
      "#parsing: ['why', 'does', 'England', 'have', 'a', 'king', '?']\n",
      "#parsing: ['the', 'Holy', 'Grail', 'was', 'covered', 'by', 'a', 'yellow', 'fruit', '.']\n",
      "#parsing: ['Zoot', 'might', 'have', 'been', 'carried', 'by', 'a', 'swallow', '.']\n",
      "#parsing: ['do', 'coconuts', 'speak', '?']\n",
      "#parsing: ['who', 'does', 'Arthur', 'suggest', 'she', 'carry', '?']\n"
     ]
    },
    {
     "name": "stdout",
     "output_type": "stream",
     "text": [
      "(TOP (S1 (ROOT (SBARQ (WHNP (WP who) ) (SBARQ|<SQ-PERIOD> (SQ (VBZ does) (SQ|<NP-VP> (NP (NNP Arthur) ) (VP (VB suggest) (S (NP (PRP she) ) (VP (VB carry) ))))) (PERIOD ?))) ) ) )\n",
      "(TOP (S1 (ROOT (S (NP (CC neither) (NP|<NNP-NNP-CC-NNP> (NNP Sir) (NP|<NNP-CC-NNP> (NNP Lancelot) (NP|<CC-NNP> (CC nor) (NNP Guinevere))))) (S|<VP-PERIOD> (VP (MD will) (VP (VB speak) (PP (IN of) (NP (PRP it) )))) (PERIOD .))) ) ) )\n",
      "(TOP (S1 (ROOT (S (NP (NNP Guinevere) ) (S|<VP-PERIOD> (VP (MD should) (VP (VB be) (VP (VBG riding) (PP (IN with) (NP (NNP Patsy) ))))) (PERIOD .))) ) ) )\n",
      "(TOP (S1 (ROOT (S (NP (DT either) (NNP Arthur)) (S|<VP-PERIOD> (VP (VP (VBZ knows) ) (VP|<CC-ADVP-VP> (CC or) (VP|<ADVP-VP> (ADVP (RB Patsy) ) (VP (VBZ does) )))) (PERIOD .))) ) ) )\n",
      "(TOP (S1 (ROOT (SBARQ (WHNP (WP what) ) (SBARQ|<SQ-PERIOD> (SQ (VBZ does) (SQ|<NP-VP> (NP (NNP Arthur) ) (VP (VB ride) ))) (PERIOD ?))) ) ) )\n",
      "(TOP (S1 (ROOT (SQ (VBP are) (SQ|<NP-VP-.> (NP (PRP they) ) (SQ|<VP-.> (VP (VBG suggesting) (VP|<NP-PP> (NP (NNP Arthur) (NN ride)) (PP (TO to) (NP (NNP Camelot) )))) (PERIOD ?)))) ) ) )\n"
     ]
    },
    {
     "name": "stderr",
     "output_type": "stream",
     "text": [
      "#parsing: ['neither', 'Sir', 'Lancelot', 'nor', 'Guinevere', 'will', 'speak', 'of', 'it', '.']\n",
      "#parsing: ['Guinevere', 'should', 'be', 'riding', 'with', 'Patsy', '.']\n",
      "#parsing: ['either', 'Arthur', 'knows', 'or', 'Patsy', 'does', '.']\n",
      "#parsing: ['what', 'does', 'Arthur', 'ride', '?']\n",
      "#parsing: ['are', 'they', 'suggesting', 'Arthur', 'ride', 'to', 'Camelot', '?']\n",
      "#parsing: ['they', 'migrate', 'precisely', 'because', 'they', 'know', 'they', 'will', 'grow', '.']\n"
     ]
    },
    {
     "name": "stdout",
     "output_type": "stream",
     "text": [
      "(TOP (S1 (ROOT (S (NP (PRP they) ) (S|<VP-PERIOD> (VP (VB migrate) (VP|<ADVP-SBAR> (ADVP (RB precisely) ) (SBAR (IN because) (S (NP (PRP they) ) (VP (VBP know) (S (NP (PRP they) ) (VP (MD will) (VP (VB grow) )))))))) (PERIOD .))) ) ) )\n",
      "(TOP (S1 (ROOT (S (NP (CD five) (NNS strangers)) (S|<VP-PERIOD> (VP (VBP are) (PP (IN at) (NP (DT the) (NP|<NNP-NNP> (NNP Round) (NNP Table))))) (PERIOD .))) ) ) )\n",
      "(TOP (S1 (ROOT (S (SBAR (WHADVP (WRB when) ) (S (NP (DT the) (NN king)) (VP (VBZ drinks) ))) (S|<,-NP-VP-.> (COMMA ,) (S|<NP-VP-.> (NP (NNP Patsy) ) (S|<VP-.> (VP (VBZ drinks) ) (PERIOD .))))) ) ) )\n",
      "(TOP (S1 (ROOT (S (VP (VBP do) (VP|<RB-VP> (RB not) (VP (VB speak) ))) (PERIOD !)) ) ) )\n",
      "(TOP (S1 (ROOT (S (NP (NNP Arthur) ) (S|<VP-PERIOD> (VP (VBZ is) (NP (DT the) (NN king))) (PERIOD .))) ) ) )\n",
      "(TOP (S1 (ROOT (S (NP (NNP Arthur) ) (S|<VP-PERIOD> (VP (VBD suggested) (SBAR (WHNP (WDT that) ) (S (NP (DT the) (NN castle)) (VP (VB be) (VP (VBN carried) ))))) (PERIOD .))) ) ) )\n"
     ]
    },
    {
     "name": "stderr",
     "output_type": "stream",
     "text": [
      "#parsing: ['five', 'strangers', 'are', 'at', 'the', 'Round', 'Table', '.']\n",
      "#parsing: ['when', 'the', 'king', 'drinks', ',', 'Patsy', 'drinks', '.']\n",
      "#parsing: ['do', 'not', 'speak', '!']\n",
      "#parsing: ['Arthur', 'is', 'the', 'king', '.']\n",
      "#parsing: ['Arthur', 'suggested', 'that', 'the', 'castle', 'be', 'carried', '.']\n",
      "#parsing: ['he', 'knows', 'what', 'they', 'are', 'covering', 'with', 'that', 'story', '.']\n"
     ]
    },
    {
     "name": "stdout",
     "output_type": "stream",
     "text": [
      "(TOP (S1 (ROOT (S (NP (PRP he) ) (S|<VP-PERIOD> (VP (VBZ knows) (SBAR (WHNP (WP what) ) (S (NP (PRP they) ) (VP (VBP are) (VP (VBG covering) (PP (IN with) (NP (DT that) (NN story)))))))) (PERIOD .))) ) ) )\n",
      "(TOP (S1 (ROOT (S (INTJ (NNP Arthur) ) (S|<COMA-NP-COMA-VP-PERIOD> (COMA ,) (S|<NP-COMA-VP-PERIOD> (NP (JJ sixty) (NNS inches)) (S|<COMA-VP-PERIOD> (COMA ,) (S|<VP-PERIOD> (VP (VBZ is) (NP (DT a) (NP|<JJ-NN> (JJ tiny) (NN king)))) (PERIOD .)))))) ) ) )\n",
      "(TOP (S1 (ROOT (S (NP (NNP Arthur) (NP|<CC-NNP> (CC and) (NNP Guinevere))) (S|<VP-PERIOD> (VP (VB migrate) (ADVP (RB frequently) )) (PERIOD .))) ) ) )\n",
      "(TOP (S1 (ROOT (S (NP (NNP Guinevere) ) (S|<VP-PERIOD> (VP (MD might) (VP (VB have) (VP (VBN known) ))) (PERIOD .))) ) ) )\n",
      "(TOP (S1 (ROOT (S (NP (NNP Arthur) ) (S|<VP-PERIOD> (VP (VBZ knows) (NP (NP (NNP Patsy) ) (NP|<COMA-NP> (COMA ,) (NP (DT the) (NP|<JJ-NN> (JJ trusty) (NN servant)))))) (PERIOD .))) ) ) )\n",
      "(TOP (S1 (ROOT (S (VP (VBG riding) (VP|<PP-S> (PP (TO to) (NP (NNP Camelot) )) (S (VP (VBZ is) (ADJP (JJ hard) )) (PERIOD .)))) ) ) ) )\n"
     ]
    },
    {
     "name": "stderr",
     "output_type": "stream",
     "text": [
      "#parsing: ['Arthur', ',', 'sixty', 'inches', ',', 'is', 'a', 'tiny', 'king', '.']\n",
      "#parsing: ['Arthur', 'and', 'Guinevere', 'migrate', 'frequently', '.']\n",
      "#parsing: ['Guinevere', 'might', 'have', 'known', '.']\n",
      "#parsing: ['Arthur', 'knows', 'Patsy', ',', 'the', 'trusty', 'servant', '.']\n",
      "#parsing: ['riding', 'to', 'Camelot', 'is', 'hard', '.']\n",
      "#parsing: ['the', 'king', 'drank', 'to', 'the', 'castle', 'that', 'was', 'his', 'home', '.']\n"
     ]
    },
    {
     "name": "stdout",
     "output_type": "stream",
     "text": [
      "(TOP (S1 (ROOT (S (NP (DT the) (NN king)) (VP (VBD drank) (PP (TO to) (NP (NP (DT the) (NN castle)) (SBAR (WHNP (WDT that) ) (S (VP (VBD was) (NP (PRP$ his) (NN home))) (PERIOD .))))))) ) ) )\n",
      "(TOP (S1 (ROOT (S (NP (NNP Arthur) ) (S|<VP-PERIOD> (VP (VBZ rides) (NP (NP (DT the) (NN horse)) (PP (IN near) (NP (DT the) (NN castle))))) (PERIOD .))) ) ) )\n",
      "(TOP (S1 (ROOT (S (NP (NNP Arthur) ) (S|<VP-PERIOD> (VP (MD will) (VP (VB have) (VP (VBN been) (VP (VBG riding) (PP (IN for) (NP (CD eight) (NNS nights))))))) (PERIOD .))) ) ) )\n",
      "(TOP (S1 (ROOT (S (NP (NNP Arthur) ) (S|<VP-PERIOD> (VP (VP (VBD rode) (PP (TO to) (NP (NNP Camelot) ))) (VP|<CC-VP> (CC and) (VP (VBD drank) (PP (IN from) (NP (PRP$ his) (NN chalice)))))) (PERIOD .))) ) ) )\n"
     ]
    },
    {
     "name": "stderr",
     "output_type": "stream",
     "text": [
      "#parsing: ['Arthur', 'rides', 'the', 'horse', 'near', 'the', 'castle', '.']\n",
      "#parsing: ['Arthur', 'will', 'have', 'been', 'riding', 'for', 'eight', 'nights', '.']\n",
      "#parsing: ['Arthur', 'rode', 'to', 'Camelot', 'and', 'drank', 'from', 'his', 'chalice', '.']\n",
      "#parsing: ['it', 'is', 'Sir', 'Lancelot', 'who', 'knows', 'Zoot', '!']\n"
     ]
    },
    {
     "name": "stdout",
     "output_type": "stream",
     "text": [
      "(TOP (S1 (ROOT (S (NP (PRP it) ) (VP (VBZ is) (NP (NP (NNP Sir) (NNP Lancelot)) (SBAR (WHNP (WP who) ) (S (VP (VBZ knows) (NP (NNP Zoot) )) (PERIOD !)))))) ) ) )\n",
      "(TOP (S1 (ROOT (S (NP (DT this) (NP|<NN-NNS> (NN horse) (NNS covers))) (NP (DT the) (NN winter))) ) ) )\n",
      "(TOP (S1 (ROOT (S (NP (DT any) (NN corner)) (S|<VP-PERIOD> (VP (VBZ has) (NP (DT another) (NN servant))) (PERIOD .))) ) ) )\n",
      "(TOP (S1 (ROOT (S (NP (DT that) (NN king)) (VP (VBZ is) (NP (NP (DT another) (NN land)) (PP (IN above) (NP (DT no) (NN winter)))))) ) ) )\n",
      "(TOP (S1 (ROOT (S (NP (DT another) (NN pound)) (VP (VBZ drinks) (NP (DT the) (NN servant)))) ) ) )\n",
      "(TOP (S1 (ROOT (S (NP (DT another) (NN fruit)) (VP (VBZ has) (NP (DT another) (NN quest)))) ) ) )\n",
      "(TOP (S1 (ROOT (SQ (NNP Sir) (SQ|<NP-ADJP-PERIOD> (NP (NNP Lancelot) (NNS covers)) (SQ|<ADJP-PERIOD> (ADJP (DT each) (NN corner)) (PERIOD .)))) ) ) )\n",
      "(TOP (S1 (ROOT (S (NP (DT a) (NN winter)) (S|<VP-PERIOD> (VP (VBZ carries) (NP (DT this) (NN servant))) (PERIOD .))) ) ) )\n",
      "(TOP (S1 (ROOT (S (NP (DT each) (NN land)) (S|<VP-PERIOD> (VP (VBZ is) (NP (DT any) (NN defeater))) (PERIOD .))) ) ) )\n",
      "(TOP (S1 (ROOT (S (NP (DT every) (NN quest)) (S|<VP-PERIOD> (VP (VBZ is) (NP (DT this) (NN winter))) (PERIOD .))) ) ) )\n",
      "(TOP (S1 (ROOT (S (NP (DT another) (NN pound)) (S|<VP-PERIOD> (VP (VBZ carries) (NP (DT every) (NN castle))) (PERIOD .))) ) ) )\n"
     ]
    },
    {
     "name": "stderr",
     "output_type": "stream",
     "text": [
      "#parsing: ['this', 'horse', 'covers', 'the', 'winter']\n",
      "#parsing: ['any', 'corner', 'has', 'another', 'servant', '.']\n",
      "#parsing: ['that', 'king', 'is', 'another', 'land', 'above', 'no', 'winter']\n",
      "#parsing: ['another', 'pound', 'drinks', 'the', 'servant']\n",
      "#parsing: ['another', 'fruit', 'has', 'another', 'quest']\n",
      "#parsing: ['Sir', 'Lancelot', 'covers', 'each', 'corner', '.']\n",
      "#parsing: ['a', 'winter', 'carries', 'this', 'servant', '.']\n",
      "#parsing: ['each', 'land', 'is', 'any', 'defeater', '.']\n",
      "#parsing: ['every', 'quest', 'is', 'this', 'winter', '.']\n",
      "#parsing: ['another', 'pound', 'carries', 'every', 'castle', '.']\n",
      "#parsing: ['this', 'master', 'has', 'this', 'fruit']\n",
      "#parsing: ['a', 'king', 'is', 'Sir', 'Knight']\n",
      "#parsing: ['the', 'master', 'carries', 'no', 'story']\n",
      "#parsing: ['any', 'defeater', 'carries', 'each', 'horse', '.']\n",
      "#parsing: ['a', 'castle', 'is', 'each', 'corner']\n"
     ]
    },
    {
     "name": "stdout",
     "output_type": "stream",
     "text": [
      "(TOP (S1 (ROOT (S (NP (DT this) (NN master)) (VP (VBZ has) (NP (DT this) (NN fruit)))) ) ) )\n",
      "(TOP (S1 (ROOT (S (NP (DT a) (NN king)) (VP (VBZ is) (NP (NNP Sir) (NNP Knight)))) ) ) )\n",
      "(TOP (S1 (ROOT (S (NP (DT the) (NN master)) (VP (VBZ carries) (NP (DT no) (NN story)))) ) ) )\n",
      "(TOP (S1 (ROOT (S (NP (DT any) (NN defeater)) (S|<VP-PERIOD> (VP (VBZ carries) (NP (DT each) (NN horse))) (PERIOD .))) ) ) )\n",
      "(TOP (S1 (ROOT (S (NP (DT a) (NN castle)) (VP (VBZ is) (NP (DT each) (NN corner)))) ) ) )\n",
      "(TOP (S1 (ROOT (S (NP (NNP Arthur) ) (VP (VBZ is) (NP (DT the) (NN chalice)))) ) ) )\n",
      "(TOP (S1 (ROOT (S (NP (DT no) (NN servant)) (VP (VBZ carries) (NP (DT this) (NN sovereign)))) ) ) )\n",
      "(TOP (S1 (ROOT (S (NP (NP (DT that) (NN defeater)) (PP (IN of) (NP (DT another) (NN swallow)))) (VP (VBZ drinks) (NP (DT another) (NN husk)))) ) ) )\n",
      "(TOP (S1 (ROOT (S (NP (DT this) (NN swallow)) (S|<VP-PERIOD> (VP (VBZ has) (NP (DT no) (NN chalice))) (PERIOD .))) ) ) )\n",
      "(TOP (S1 (ROOT (S (NP (DT that) (NN swallow)) (S|<VP-PERIOD> (VP (VBZ has) (NP (DT the) (NN swallow))) (PERIOD .))) ) ) )\n",
      "(TOP (S1 (ROOT (S (NP (DT this) (NN king)) (S|<VP-PERIOD> (VP (VBZ is) (NP (DT the) (JJ weight))) (PERIOD .))) ) ) )\n"
     ]
    },
    {
     "name": "stderr",
     "output_type": "stream",
     "text": [
      "#parsing: ['Arthur', 'is', 'the', 'chalice']\n",
      "#parsing: ['no', 'servant', 'carries', 'this', 'sovereign']\n",
      "#parsing: ['that', 'defeater', 'of', 'another', 'swallow', 'drinks', 'another', 'husk']\n",
      "#parsing: ['this', 'swallow', 'has', 'no', 'chalice', '.']\n",
      "#parsing: ['that', 'swallow', 'has', 'the', 'swallow', '.']\n",
      "#parsing: ['this', 'king', 'is', 'the', 'weight', '.']\n",
      "#parsing: ['a', 'home', 'carries', 'every', 'quest', '.']\n",
      "#parsing: ['is', 'every', 'corner', '.']\n",
      "#parsing: ['a', 'home', 'covers', 'no', 'fruit']\n",
      "#parsing: ['no', 'home', 'rides', 'no', 'story', '.']\n",
      "#parsing: ['rides', 'each', 'corner', '.']\n",
      "#parsing: ['no', 'sun', 'drinks', 'a', 'husk', '.']\n",
      "#parsing: ['drinks', 'this', 'defeater', '.']\n",
      "#parsing: ['that', 'coconut', 'rides', 'each', 'sovereign', '.']\n"
     ]
    },
    {
     "name": "stdout",
     "output_type": "stream",
     "text": [
      "(TOP (S1 (ROOT (S (NP (DT a) (NN home)) (S|<VP-PERIOD> (VP (VBZ carries) (NP (DT every) (NN quest))) (PERIOD .))) ) ) )\n",
      "(TOP (S1 (ROOT (S (VP (VBZ is) (NP (DT every) (NN corner))) (PERIOD .)) ) ) )\n",
      "(TOP (S1 (ROOT (S (NP (DT a) (NP|<NN-NNS> (NN home) (NNS covers))) (NP (DT no) (NN fruit))) ) ) )\n",
      "(TOP (S1 (ROOT (S (NP (DT no) (NN home)) (S|<VP-PERIOD> (VP (VBZ rides) (NP (DT no) (NN story))) (PERIOD .))) ) ) )\n",
      "(TOP (S1 (ROOT (S (VP (VBZ rides) (NP (DT each) (NN corner))) (PERIOD .)) ) ) )\n",
      "(TOP (S1 (ROOT (S (NP (DT no) (NN sun)) (S|<VP-PERIOD> (VP (VBZ drinks) (NP (DT a) (NN husk))) (PERIOD .))) ) ) )\n",
      "(TOP (S1 (ROOT (S (VP (VBZ drinks) (NP (DT this) (NN defeater))) (PERIOD .)) ) ) )\n",
      "(TOP (S1 (ROOT (S (NP (DT that) (NN coconut)) (S|<VP-PERIOD> (VP (VBZ rides) (NP (DT each) (NN sovereign))) (PERIOD .))) ) ) )\n",
      "(TOP (S1 (ROOT (S (NP (DT each) (NN home)) (S|<VP-PERIOD> (VP (VBZ rides) (NP (DT any) (NN servant))) (PERIOD .))) ) ) )\n",
      "(TOP (S1 (ROOT (NP (NP (DT any) (NP|<NN-NNS> (NN home) (NNS covers))) (NP|<NP-PERIOD> (NP (DT no) (NN land)) (PERIOD .))) ) ) )\n",
      "(TOP (S1 (ROOT (S (NP (DT another) (NN story)) (S|<VP-PERIOD> (VP (VBZ carries) (NP (DT a) (NN fruit))) (PERIOD .))) ) ) )\n",
      "(TOP (S1 (ROOT (S (NP (DT each) (NN sovereign)) (S|<VP-PERIOD> (VP (VBZ is) (NP (DT this) (NN home))) (PERIOD .))) ) ) )\n",
      "(TOP (S1 (ROOT (S (NP (DT another) (NN swallow)) (S|<VP-PERIOD> (VP (VBZ rides) (NP (DT any) (NN master))) (PERIOD .))) ) ) )\n"
     ]
    },
    {
     "name": "stderr",
     "output_type": "stream",
     "text": [
      "#parsing: ['each', 'home', 'rides', 'any', 'servant', '.']\n",
      "#parsing: ['any', 'home', 'covers', 'no', 'land', '.']\n",
      "#parsing: ['another', 'story', 'carries', 'a', 'fruit', '.']\n",
      "#parsing: ['each', 'sovereign', 'is', 'this', 'home', '.']\n",
      "#parsing: ['another', 'swallow', 'rides', 'any', 'master', '.']\n",
      "#parsing: ['Sir', 'Lancelot', 'covers', 'this', 'servant', '.']\n",
      "#parsing: ['Sir', 'Lancelot', 'carries', 'the', 'chalice', '.']\n",
      "#parsing: ['another', 'chalice', 'covers', 'this', 'castle', '.']\n",
      "#parsing: ['another', 'land', 'is', 'that', 'land', '.']\n",
      "#parsing: ['another', 'story', 'drinks', 'every', 'pound', '.']\n",
      "#parsing: ['every', 'land', 'over', 'that', 'master', 'carries', 'this', 'land', '.']"
     ]
    },
    {
     "name": "stdout",
     "output_type": "stream",
     "text": [
      "(TOP (S1 (ROOT (SQ (NNP Sir) (SQ|<NP-ADJP-PERIOD> (NP (NNP Lancelot) (NNS covers)) (SQ|<ADJP-PERIOD> (ADJP (DT this) (NN servant)) (PERIOD .)))) ) ) )\n",
      "(TOP (S1 (ROOT (S (NP (NNP Sir) (NNP Lancelot)) (S|<VP-PERIOD> (VP (VBZ carries) (NP (DT the) (NN chalice))) (PERIOD .))) ) ) )\n",
      "(TOP (S1 (ROOT (NP (NP (DT another) (NP|<NN-NNS> (NN chalice) (NNS covers))) (NP|<NP-PERIOD> (NP (DT this) (NN castle)) (PERIOD .))) ) ) )\n",
      "(TOP (S1 (ROOT (S (NP (DT another) (NN land)) (S|<VP-PERIOD> (VP (VBZ is) (NP (DT that) (NN land))) (PERIOD .))) ) ) )\n",
      "(TOP (S1 (ROOT (S (NP (DT another) (NN story)) (S|<VP-PERIOD> (VP (VBZ drinks) (NP (DT every) (NN pound))) (PERIOD .))) ) ) )\n",
      "(TOP (S1 (ROOT (S (NP (NP (DT every) (NN land)) (PP (IN over) (NP (DT that) (NN master)))) (S|<VP-PERIOD> (VP (VBZ carries) (NP (DT this) (NN land))) (PERIOD .))) ) ) )\n",
      "(TOP (S1 (ROOT (SQ (VBZ has) (SQ|<NP-VP> (NP (DT another) (NP|<NN-PERIOD> (NN horse) (PERIOD .))) (VP (VBZ drinks) (NP (DT the) (NN winter))))) ) ) )\n",
      "(TOP (S1 (ROOT (S (NP (DT the) (NN coconut)) (VP (VBZ rides) (NP (DT the) (NN sun)))) ) ) )\n",
      "(TOP (S1 (ROOT (S (NP (DT any) (NP|<NN-NNS> (NN story) (NNS covers))) (NP (DT no) (NN castle))) ) ) )\n",
      "(TOP (S1 (ROOT (S (NP (DT every) (NN chalice)) (VP (VBZ rides) (NP (NNP Zoot) ))) ) ) )\n",
      "(TOP (S1 (ROOT (S (NP (DT no) (NN master)) (S|<VP-PERIOD> (VP (VBZ has) (VP (VBZ has) (NP (NNP Sir) (NNP Knight)))) (PERIOD .))) ) ) )\n",
      "(TOP (S1 (ROOT (S (VP (VB know) ) ) ) ) )\n",
      "(TOP (S1 (ROOT (S (NP (NP (DT any) (NN swallow)) (PP (IN of) (NP (DT the) (NN fruit)))) (VP (VBZ rides) (NP (DT any) (NN coconut)))) ) ) )\n",
      "(TOP (S1 (ROOT (S (NP (DT the) (NN sovereign)) (VP (VBZ has) (NP (NP (DT any) (NN land)) (PP (IN of) (NP (DT any) (NN king)))))) ) ) )\n"
     ]
    },
    {
     "name": "stderr",
     "output_type": "stream",
     "text": [
      "\n",
      "#parsing: ['has', 'another', 'horse', '.', 'drinks', 'the', 'winter']\n",
      "#parsing: ['the', 'coconut', 'rides', 'the', 'sun']\n",
      "#parsing: ['any', 'story', 'covers', 'no', 'castle']\n",
      "#parsing: ['every', 'chalice', 'rides', 'Zoot']\n",
      "#parsing: ['no', 'master', 'has', 'has', 'Sir', 'Knight', '.']\n",
      "#parsing: ['know']\n",
      "#parsing: ['any', 'swallow', 'of', 'the', 'fruit', 'rides', 'any', 'coconut']\n",
      "#parsing: ['the', 'sovereign', 'has', 'any', 'land', 'of', 'any', 'king']\n",
      "#parsing: ['this', 'king', 'near', 'has', 'each', 'fruit', 'of', 'no', 'sun', '.', 'covers', 'every', 'story', 'by', 'no', 'husk']\n"
     ]
    },
    {
     "name": "stdout",
     "output_type": "stream",
     "text": [
      "(TOP (S1 (ROOT (S (NP (NP (DT this) (NN king)) (SBAR (IN near) (S (VP (VBZ has) (NP (NP (DT each) (NN fruit)) (PP (IN of) (NP (DT no) (NN sun))))) (PERIOD .)))) (VP (NNS covers) (S (NP (DT every) (NN story)) (PP (IN by) (NP (DT no) (NN husk)))))) ) ) )\n",
      "(TOP (S1 (ROOT (INTJ (DT all) ) ) ) )\n"
     ]
    },
    {
     "name": "stderr",
     "output_type": "stream",
     "text": [
      "#parsing: ['all']\n",
      "#parsing: ['no', 'corner', 'drinks', 'has', 'drinks', 'this', 'servant', 'into', 'has', 'this', 'weight']\n"
     ]
    },
    {
     "name": "stdout",
     "output_type": "stream",
     "text": [
      "(TOP (S1 (ROOT (S (NP (DT no) (NN corner)) (VP (VBZ drinks) (VP (VBZ has) (VP (VBZ drinks) (NP (NP (DT this) (NN servant)) (SBAR (IN into) (S (VP (VBZ has) (NP (DT this) (JJ weight))) ))))))) ) ) )\n",
      "(TOP (S1 (ROOT (S (NP (DT this) (NN story)) (VP (VBZ rides) (NP (NNP Zoot) ))) ) ) )\n",
      "(TOP (S1 (ROOT (S (NP (DT a) (NN defeater)) (VP (VBZ drinks) (NP (DT any) (NN pound)))) ) ) )\n",
      "(TOP (S1 (ROOT (NP (VBG fooling) ) ) ) )\n",
      "(TOP (S1 (ROOT (S (NP (DT no) (NN quest)) (VP (VBZ is) (NP (NNP Zoot) ))) ) ) )\n",
      "(TOP (S1 (ROOT (S (NP (NP (NNS covers) ) (NP|<NP-PERIOD> (NP (DT this) (NN king)) (PERIOD .))) (S|<VP-PERIOD> (VP (VBZ rides) (VP (VBZ drinks) (NP (DT no) (NN swallow)))) (PERIOD .))) ) ) )\n",
      "(TOP (S1 (ROOT (S (NP (DT a) (NN king)) (VP (VBZ has) (NP (NP (DT a) (NN coconut)) (PP (IN of) (NP (DT another) (NN winter)))))) ) ) )\n",
      "(TOP (S1 (ROOT (S (NP (DT any) (NN home)) (VP (VBZ carries) (NP (DT every) (NN horse)))) ) ) )\n",
      "(TOP (S1 (ROOT (S (VP (VBZ does) ) ) ) ) )\n",
      "-cross entropy: -8.44954843430263\n"
     ]
    },
    {
     "name": "stderr",
     "output_type": "stream",
     "text": [
      "#parsing: ['this', 'story', 'rides', 'Zoot']\n",
      "#parsing: ['a', 'defeater', 'drinks', 'any', 'pound']\n",
      "#parsing: ['fooling']\n",
      "#parsing: ['no', 'quest', 'is', 'Zoot']\n",
      "#parsing: ['covers', 'this', 'king', '.', 'rides', 'drinks', 'no', 'swallow', '.']\n",
      "#parsing: ['a', 'king', 'has', 'a', 'coconut', 'of', 'another', 'winter']\n",
      "#parsing: ['any', 'home', 'carries', 'every', 'horse']\n",
      "#parsing: ['does']\n",
      "#-cross entropy (bits/word): -8.44955\n"
     ]
    }
   ],
   "source": [
    "# parse_gram = Pcfg([\"S1.gr\",\"S2.gr\",\"Vocab.gr\"])\n",
    "parse_gram = Pcfg([\"grammars/dev_and_exp_s1.gr\",\"grammars/dev_and_exp_s2.gr\",\"grammars/dev_and_exp_vocab.gr\"])\n",
    "parser = CkyParse(parse_gram, beamsize=0.0001, verbose=0)\n",
    "ce, trees = parser.parse_file('text/more_examples.txt')\n",
    "print(\"-cross entropy: {}\".format(ce))"
   ]
  },
  {
   "cell_type": "code",
   "execution_count": 18,
   "metadata": {},
   "outputs": [
    {
     "name": "stdout",
     "output_type": "stream",
     "text": [
      "(TOP (S1 (NP (Det no) (Nbar (Noun swallow) )) (VP (VerbT carries) (NP (Det each) (Nbar (Noun defeater) )))) )\n",
      "(TOP (S1 (NP (Det another) (Nbar (Noun sovereign) )) (VP (VerbT carries) (NP (Det each) (Nbar (Noun horse) )))) )\n",
      "(TOP (S1 (NP (Det the) (Nbar (Noun sun) )) (VP (VerbT has) (NP (Det the) (Nbar (Noun chalice) )))) )\n",
      "(TOP (S1 (NP (Det any) (Nbar (Nbar (Noun land) ) (PP (Prep with) (NP (Det the) (Nbar (Noun chalice) ))))) (VP (VerbT carries) (NP (Det any) (Nbar (Noun horse) )))) )\n",
      "(TOP (S1 (NP (Det every) (Nbar (Noun coconut) )) (_VP (VP (VerbT drinks) (NP (Det any) (Nbar (Noun king) ))) (Punc .))) )\n",
      "(TOP (S1 (NP (Det the) (Nbar (Noun defeater) )) (VP (VerbT has) (NP (Det no) (Nbar (Noun coconut) )))) )\n",
      "(TOP (S1 (NP (Det that) (Nbar (Noun coconut) )) (VP (VerbT carries) (NP (Det the) (Nbar (Noun sun) )))) )\n",
      "(TOP (S1 (NP (Det that) (Nbar (Noun chalice) )) (VP (VerbT has) (NP (Det a) (Nbar (Noun winter) )))) )\n",
      "(TOP (S1 (NP (Det another) (Nbar (Noun home) )) (VP (VerbT covers) (NP (Det each) (Nbar (Noun servant) )))) )\n",
      "(TOP (S1 (NP (Det each) (Nbar (Noun castle) )) (VP (VerbT is) (NP (Det no) (Nbar (Nbar (Noun defeater) ) (PP (Prep above) (NP (Proper (_Sir Sir) (_Lancelot Lancelot)) )))))) )\n",
      "(TOP (S1 (NP (Det each) (Nbar (Nbar (Noun story) ) (PP (Prep on) (NP (Proper Arthur) )))) (VP (VerbT covers) (NP (Det every) (Nbar (Noun sun) )))) )\n",
      "(TOP (S1 (NP (Det each) (Nbar (Noun master) )) (VP (VerbT has) (NP (Det every) (Nbar (Noun land) )))) )\n",
      "(TOP (S1 (NP (Det any) (Nbar (Nbar (Noun story) ) (PP (Prep at) (NP (Det that) (Nbar (Noun corner) ))))) (VP (VerbT carries) (NP (Det any) (Nbar (Noun home) )))) )\n",
      "(TOP (S1 (NP (Det this) (Nbar (Noun swallow) )) (VP (VerbT is) (NP (Det a) (Nbar (Noun winter) )))) )\n",
      "(TOP (S1 (NP (Det the) (Nbar (Noun winter) )) (VP (VerbT drinks) (NP (Det every) (Nbar (Noun swallow) )))) )\n",
      "(TOP (S1 (NP (Det each) (Nbar (Noun weight) )) (_VP (VP (VerbT has) (NP (Det a) (Nbar (Noun winter) ))) (Punc .))) )\n",
      "(TOP (S1 (NP (Det each) (Nbar (Noun castle) )) (VP (VerbT is) (NP (Det no) (Nbar (Noun defeater) )))) )\n",
      "(TOP (S1 (NP (Proper (_Sir Sir) (_Lancelot Lancelot)) ) (_VP (VP (VerbT has) (NP (Det no) (Nbar (Noun coconut) ))) (Punc .))) )\n",
      "(TOP (S1 (NP (Det no) (Nbar (Noun land) )) (_VP (VP (VerbT drinks) (NP (Det this) (Nbar (Noun king) ))) (Punc .))) )\n",
      "(TOP (S1 (NP (Det the) (Nbar (Noun fruit) )) (VP (VerbT has) (NP (Det this) (Nbar (Nbar (Noun corner) ) (PP (Prep above) (NP (Det any) (Nbar (Noun pound) ))))))) )\n",
      "(TOP (S2 (_Misc (Misc why) (_Misc (Misc does) (_Misc (Misc England) (_Misc (Misc have) (_Det (Det a) (_Noun (Noun king) (_Misc (Misc ?) ))))))) ) )\n",
      "(TOP (S2 (_Det (Det the) (_Misc (Misc (_Holy Holy) (_Grail Grail)) (_Misc (Misc was) (_Misc (Misc covered) (_Prep (Prep by) (_Det (Det a) (_Misc (Misc yellow) (_Noun (Noun fruit) (_Misc (Misc .) ))))))))) ) )\n",
      "(TOP (S2 (_Proper (Proper Zoot) (_Misc (Misc might) (_Misc (Misc have) (_Misc (Misc been) (_Misc (Misc carried) (_Prep (Prep by) (_Det (Det a) (_Noun (Noun swallow) (_Misc (Misc .) ))))))))) ) )\n",
      "(TOP (S2 (_Misc (Misc do) (_Misc (Misc coconuts) (_Misc (Misc speak) (_Misc (Misc ?) )))) ) )\n",
      "(TOP (S2 (_Misc (Misc who) (_Misc (Misc does) (_Proper (Proper Arthur) (_Misc (Misc suggest) (_Misc (Misc she) (_Misc (Misc carry) (_Misc (Misc ?) ))))))) ) )\n",
      "(TOP (S2 (_Misc (Misc neither) (_Proper (Proper (_Sir Sir) (_Lancelot Lancelot)) (_Misc (Misc nor) (_Proper (Proper Guinevere) (_Misc (Misc will) (_Misc (Misc speak) (_Prep (Prep of) (_Misc (Misc it) (_Misc (Misc .) ))))))))) ) )\n",
      "(TOP (S2 (_Proper (Proper Guinevere) (_Misc (Misc should) (_Misc (Misc be) (_Misc (Misc riding) (_Prep (Prep with) (_Proper (Proper Patsy) (_Misc (Misc .) ))))))) ) )\n",
      "(TOP (S2 (_Misc (Misc either) (_Proper (Proper Arthur) (_Misc (Misc knows) (_Misc (Misc or) (_Proper (Proper Patsy) (_Misc (Misc does) (_Misc (Misc .) ))))))) ) )\n",
      "(TOP (S2 (_Misc (Misc what) (_Misc (Misc does) (_Proper (Proper Arthur) (_Misc (Misc ride) (_Misc (Misc ?) ))))) ) )\n",
      "(TOP (S2 (_Misc (Misc are) (_Misc (Misc they) (_Misc (Misc suggesting) (_Proper (Proper Arthur) (_Misc (Misc ride) (_Misc (Misc to) (_Misc (Misc Camelot) (_Misc (Misc ?) )))))))) ) )\n",
      "(TOP (S2 (_Misc (Misc they) (_Misc (Misc migrate) (_Misc (Misc precisely) (_Misc (Misc because) (_Misc (Misc they) (_Misc (Misc know) (_Misc (Misc they) (_Misc (Misc will) (_Misc (Misc grow) (_Misc (Misc .) )))))))))) ) )\n",
      "(TOP (S2 (_Misc (Misc five) (_Misc (Misc strangers) (_Misc (Misc are) (_Prep (Prep at) (_Det (Det the) (_Misc (Misc (_Round Round) (_Table Table)) (_Misc (Misc .) ))))))) ) )\n",
      "(TOP (S2 (_Misc (Misc when) (_Det (Det the) (_Noun (Noun king) (_VerbT (VerbT drinks) (_Misc (Misc ,) (_Proper (Proper Patsy) (_VerbT (VerbT drinks) (_Misc (Misc .) )))))))) ) )\n",
      "(TOP (S2 (_Misc (Misc do) (_Misc (Misc not) (_Misc (Misc speak) (_Misc (Misc !) )))) ) )\n",
      "(TOP (S1 (NP (Proper Arthur) ) (_VP (VP (VerbT is) (NP (Det the) (Nbar (Noun king) ))) (Punc .))) )\n",
      "(TOP (S2 (_Proper (Proper Arthur) (_Misc (Misc suggested) (_Det (Det that) (_Det (Det the) (_Noun (Noun castle) (_Misc (Misc be) (_Misc (Misc carried) (_Misc (Misc .) )))))))) ) )\n",
      "(TOP (S2 (_Misc (Misc he) (_Misc (Misc knows) (_Misc (Misc what) (_Misc (Misc they) (_Misc (Misc are) (_Misc (Misc covering) (_Prep (Prep with) (_Det (Det that) (_Noun (Noun story) (_Misc (Misc .) )))))))))) ) )\n",
      "(TOP (S2 (_Proper (Proper Arthur) (_Misc (Misc ,) (_Misc (Misc sixty) (_Misc (Misc inches) (_Misc (Misc ,) (_VerbT (VerbT is) (_Det (Det a) (_Misc (Misc tiny) (_Noun (Noun king) (_Misc (Misc .) )))))))))) ) )\n",
      "(TOP (S2 (_Proper (Proper Arthur) (_Misc (Misc and) (_Proper (Proper Guinevere) (_Misc (Misc migrate) (_Misc (Misc frequently) (_Misc (Misc .) )))))) ) )\n",
      "(TOP (S2 (_Proper (Proper Guinevere) (_Misc (Misc might) (_Misc (Misc have) (_Misc (Misc known) (_Misc (Misc .) ))))) ) )\n",
      "(TOP (S2 (_Proper (Proper Arthur) (_Misc (Misc knows) (_Proper (Proper Patsy) (_Misc (Misc ,) (_Det (Det the) (_Misc (Misc trusty) (_Noun (Noun servant) (_Misc (Misc .) )))))))) ) )\n",
      "(TOP (S2 (_Misc (Misc riding) (_Misc (Misc to) (_Misc (Misc Camelot) (_VerbT (VerbT is) (_Misc (Misc hard) (_Misc (Misc .) )))))) ) )\n",
      "(TOP (S2 (_Det (Det the) (_Noun (Noun king) (_Misc (Misc drank) (_Misc (Misc to) (_Det (Det the) (_Noun (Noun castle) (_Det (Det that) (_Misc (Misc was) (_Misc (Misc his) (_Noun (Noun home) (_Misc (Misc .) ))))))))))) ) )\n",
      "(TOP (S1 (NP (Proper Arthur) ) (_VP (VP (VerbT rides) (NP (Det the) (Nbar (Nbar (Noun horse) ) (PP (Prep near) (NP (Det the) (Nbar (Noun castle) )))))) (Punc .))) )\n",
      "(TOP (S2 (_Proper (Proper Arthur) (_Misc (Misc will) (_Misc (Misc have) (_Misc (Misc been) (_Misc (Misc riding) (_Prep (Prep for) (_Misc (Misc eight) (_Misc (Misc nights) (_Misc (Misc .) ))))))))) ) )\n",
      "(TOP (S2 (_Proper (Proper Arthur) (_Misc (Misc rode) (_Misc (Misc to) (_Misc (Misc Camelot) (_Misc (Misc and) (_Misc (Misc drank) (_Prep (Prep from) (_Misc (Misc his) (_Noun (Noun chalice) (_Misc (Misc .) )))))))))) ) )\n",
      "(TOP (S2 (_Misc (Misc it) (_VerbT (VerbT is) (_Proper (Proper (_Sir Sir) (_Lancelot Lancelot)) (_Misc (Misc who) (_Misc (Misc knows) (_Proper (Proper Zoot) (_Misc (Misc !) ))))))) ) )\n",
      "(TOP (S1 (NP (Det this) (Nbar (Noun horse) )) (VP (VerbT covers) (NP (Det the) (Nbar (Noun winter) )))) )\n",
      "(TOP (S1 (NP (Det any) (Nbar (Noun corner) )) (_VP (VP (VerbT has) (NP (Det another) (Nbar (Noun servant) ))) (Punc .))) )\n",
      "(TOP (S1 (NP (Det that) (Nbar (Noun king) )) (VP (VerbT is) (NP (Det another) (Nbar (Nbar (Noun land) ) (PP (Prep above) (NP (Det no) (Nbar (Noun winter) ))))))) )\n",
      "(TOP (S1 (NP (Det another) (Nbar (Noun pound) )) (VP (VerbT drinks) (NP (Det the) (Nbar (Noun servant) )))) )\n",
      "(TOP (S1 (NP (Det another) (Nbar (Noun fruit) )) (VP (VerbT has) (NP (Det another) (Nbar (Noun quest) )))) )\n",
      "(TOP (S1 (NP (Proper (_Sir Sir) (_Lancelot Lancelot)) ) (_VP (VP (VerbT covers) (NP (Det each) (Nbar (Noun corner) ))) (Punc .))) )\n",
      "(TOP (S1 (NP (Det a) (Nbar (Noun winter) )) (_VP (VP (VerbT carries) (NP (Det this) (Nbar (Noun servant) ))) (Punc .))) )\n",
      "(TOP (S1 (NP (Det each) (Nbar (Noun land) )) (_VP (VP (VerbT is) (NP (Det any) (Nbar (Noun defeater) ))) (Punc .))) )\n",
      "(TOP (S1 (NP (Det every) (Nbar (Noun quest) )) (_VP (VP (VerbT is) (NP (Det this) (Nbar (Noun winter) ))) (Punc .))) )\n",
      "(TOP (S1 (NP (Det another) (Nbar (Noun pound) )) (_VP (VP (VerbT carries) (NP (Det every) (Nbar (Noun castle) ))) (Punc .))) )\n",
      "(TOP (S1 (NP (Det this) (Nbar (Noun master) )) (VP (VerbT has) (NP (Det this) (Nbar (Noun fruit) )))) )\n",
      "(TOP (S1 (NP (Det a) (Nbar (Noun king) )) (VP (VerbT is) (NP (Proper (_Sir Sir) (_Knight Knight)) ))) )\n",
      "(TOP (S1 (NP (Det the) (Nbar (Noun master) )) (VP (VerbT carries) (NP (Det no) (Nbar (Noun story) )))) )\n",
      "(TOP (S1 (NP (Det any) (Nbar (Noun defeater) )) (_VP (VP (VerbT carries) (NP (Det each) (Nbar (Noun horse) ))) (Punc .))) )\n",
      "(TOP (S1 (NP (Det a) (Nbar (Noun castle) )) (VP (VerbT is) (NP (Det each) (Nbar (Noun corner) )))) )\n",
      "(TOP (S1 (NP (Proper Arthur) ) (VP (VerbT is) (NP (Det the) (Nbar (Noun chalice) )))) )\n",
      "(TOP (S1 (NP (Det no) (Nbar (Noun servant) )) (VP (VerbT carries) (NP (Det this) (Nbar (Noun sovereign) )))) )\n",
      "(TOP (S1 (NP (Det that) (Nbar (Nbar (Noun defeater) ) (PP (Prep of) (NP (Det another) (Nbar (Noun swallow) ))))) (VP (VerbT drinks) (NP (Det another) (Nbar (Noun husk) )))) )\n",
      "(TOP (S1 (NP (Det this) (Nbar (Noun swallow) )) (_VP (VP (VerbT has) (NP (Det no) (Nbar (Noun chalice) ))) (Punc .))) )\n",
      "(TOP (S1 (NP (Det that) (Nbar (Noun swallow) )) (_VP (VP (VerbT has) (NP (Det the) (Nbar (Noun swallow) ))) (Punc .))) )\n",
      "(TOP (S1 (NP (Det this) (Nbar (Noun king) )) (_VP (VP (VerbT is) (NP (Det the) (Nbar (Noun weight) ))) (Punc .))) )\n",
      "(TOP (S1 (NP (Det a) (Nbar (Noun home) )) (_VP (VP (VerbT carries) (NP (Det every) (Nbar (Noun quest) ))) (Punc .))) )\n",
      "(TOP (Misc is) (Misc every) (Misc corner) (Misc .))\n",
      "(TOP (S1 (NP (Det a) (Nbar (Noun home) )) (VP (VerbT covers) (NP (Det no) (Nbar (Noun fruit) )))) )\n",
      "(TOP (S1 (NP (Det no) (Nbar (Noun home) )) (_VP (VP (VerbT rides) (NP (Det no) (Nbar (Noun story) ))) (Punc .))) )\n",
      "(TOP (Misc rides) (Misc each) (Misc corner) (Misc .))\n",
      "(TOP (S1 (NP (Det no) (Nbar (Noun sun) )) (_VP (VP (VerbT drinks) (NP (Det a) (Nbar (Noun husk) ))) (Punc .))) )\n",
      "(TOP (Misc drinks) (Misc this) (Misc defeater) (Misc .))\n",
      "(TOP (S1 (NP (Det that) (Nbar (Noun coconut) )) (_VP (VP (VerbT rides) (NP (Det each) (Nbar (Noun sovereign) ))) (Punc .))) )\n",
      "(TOP (S1 (NP (Det each) (Nbar (Noun home) )) (_VP (VP (VerbT rides) (NP (Det any) (Nbar (Noun servant) ))) (Punc .))) )\n",
      "(TOP (S1 (NP (Det any) (Nbar (Noun home) )) (_VP (VP (VerbT covers) (NP (Det no) (Nbar (Noun land) ))) (Punc .))) )\n",
      "(TOP (S1 (NP (Det another) (Nbar (Noun story) )) (_VP (VP (VerbT carries) (NP (Det a) (Nbar (Noun fruit) ))) (Punc .))) )\n",
      "(TOP (S1 (NP (Det each) (Nbar (Noun sovereign) )) (_VP (VP (VerbT is) (NP (Det this) (Nbar (Noun home) ))) (Punc .))) )\n",
      "(TOP (S1 (NP (Det another) (Nbar (Noun swallow) )) (_VP (VP (VerbT rides) (NP (Det any) (Nbar (Noun master) ))) (Punc .))) )\n",
      "(TOP (S1 (NP (Proper (_Sir Sir) (_Lancelot Lancelot)) ) (_VP (VP (VerbT covers) (NP (Det this) (Nbar (Noun servant) ))) (Punc .))) )\n",
      "(TOP (S1 (NP (Proper (_Sir Sir) (_Lancelot Lancelot)) ) (_VP (VP (VerbT carries) (NP (Det the) (Nbar (Noun chalice) ))) (Punc .))) )\n",
      "(TOP (S1 (NP (Det another) (Nbar (Noun chalice) )) (_VP (VP (VerbT covers) (NP (Det this) (Nbar (Noun castle) ))) (Punc .))) )\n",
      "(TOP (S1 (NP (Det another) (Nbar (Noun land) )) (_VP (VP (VerbT is) (NP (Det that) (Nbar (Noun land) ))) (Punc .))) )\n",
      "(TOP (S1 (NP (Det another) (Nbar (Noun story) )) (_VP (VP (VerbT drinks) (NP (Det every) (Nbar (Noun pound) ))) (Punc .))) )\n",
      "(TOP (S1 (NP (Det every) (Nbar (Nbar (Noun land) ) (PP (Prep over) (NP (Det that) (Nbar (Noun master) ))))) (_VP (VP (VerbT carries) (NP (Det this) (Nbar (Noun land) ))) (Punc .))) )\n",
      "(TOP (S2 (_VerbT (VerbT has) (_Det (Det another) (_Noun (Noun horse) (_Misc (Misc .) (_VerbT (VerbT drinks) (_Det (Det the) (_Noun (Noun winter) ))))))) ) )\n",
      "(TOP (S1 (NP (Det the) (Nbar (Noun coconut) )) (VP (VerbT rides) (NP (Det the) (Nbar (Noun sun) )))) )\n",
      "(TOP (S1 (NP (Det any) (Nbar (Noun story) )) (VP (VerbT covers) (NP (Det no) (Nbar (Noun castle) )))) )\n",
      "(TOP (S1 (NP (Det every) (Nbar (Noun chalice) )) (VP (VerbT rides) (NP (Proper Zoot) ))) )\n",
      "(TOP (S2 (_Det (Det no) (_Noun (Noun master) (_VerbT (VerbT has) (_VerbT (VerbT has) (_Proper (Proper (_Sir Sir) (_Knight Knight)) (_Misc (Misc .) )))))) ) )\n",
      "(TOP (S2 (Misc know) ) )\n",
      "(TOP (S1 (NP (Det any) (Nbar (Nbar (Noun swallow) ) (PP (Prep of) (NP (Det the) (Nbar (Noun fruit) ))))) (VP (VerbT rides) (NP (Det any) (Nbar (Noun coconut) )))) )\n",
      "(TOP (S1 (NP (Det the) (Nbar (Noun sovereign) )) (VP (VerbT has) (NP (Det any) (Nbar (Nbar (Noun land) ) (PP (Prep of) (NP (Det any) (Nbar (Noun king) ))))))) )\n"
     ]
    },
    {
     "name": "stderr",
     "output_type": "stream",
     "text": [
      "#reading grammar file: grammars/S1.gr\n",
      "#reading grammar file: grammars/S2.gr\n",
      "#reading grammar file: grammars/Vocab.gr\n",
      "#parsing: ['no', 'swallow', 'carries', 'each', 'defeater']\n",
      "#parsing: ['another', 'sovereign', 'carries', 'each', 'horse']\n",
      "#parsing: ['the', 'sun', 'has', 'the', 'chalice']\n",
      "#parsing: ['any', 'land', 'with', 'the', 'chalice', 'carries', 'any', 'horse']\n",
      "#parsing: ['every', 'coconut', 'drinks', 'any', 'king', '.']\n",
      "#parsing: ['the', 'defeater', 'has', 'no', 'coconut']\n",
      "#parsing: ['that', 'coconut', 'carries', 'the', 'sun']\n",
      "#parsing: ['that', 'chalice', 'has', 'a', 'winter']\n",
      "#parsing: ['another', 'home', 'covers', 'each', 'servant']\n",
      "#parsing: ['each', 'castle', 'is', 'no', 'defeater', 'above', 'Sir', 'Lancelot']\n",
      "#parsing: ['each', 'story', 'on', 'Arthur', 'covers', 'every', 'sun']\n",
      "#parsing: ['each', 'master', 'has', 'every', 'land']\n",
      "#parsing: ['any', 'story', 'at', 'that', 'corner', 'carries', 'any', 'home']\n",
      "#parsing: ['this', 'swallow', 'is', 'a', 'winter']\n",
      "#parsing: ['the', 'winter', 'drinks', 'every', 'swallow']\n",
      "#parsing: ['each', 'weight', 'has', 'a', 'winter', '.']\n",
      "#parsing: ['each', 'castle', 'is', 'no', 'defeater']\n",
      "#parsing: ['Sir', 'Lancelot', 'has', 'no', 'coconut', '.']\n",
      "#parsing: ['no', 'land', 'drinks', 'this', 'king', '.']\n",
      "#parsing: ['the', 'fruit', 'has', 'this', 'corner', 'above', 'any', 'pound']\n",
      "#parsing: ['why', 'does', 'England', 'have', 'a', 'king', '?']\n",
      "#parsing: ['the', 'Holy', 'Grail', 'was', 'covered', 'by', 'a', 'yellow', 'fruit', '.']\n",
      "#parsing: ['Zoot', 'might', 'have', 'been', 'carried', 'by', 'a', 'swallow', '.']\n",
      "#parsing: ['do', 'coconuts', 'speak', '?']\n",
      "#parsing: ['who', 'does', 'Arthur', 'suggest', 'she', 'carry', '?']\n",
      "#parsing: ['neither', 'Sir', 'Lancelot', 'nor', 'Guinevere', 'will', 'speak', 'of', 'it', '.']\n",
      "#parsing: ['Guinevere', 'should', 'be', 'riding', 'with', 'Patsy', '.']\n",
      "#parsing: ['either', 'Arthur', 'knows', 'or', 'Patsy', 'does', '.']\n",
      "#parsing: ['what', 'does', 'Arthur', 'ride', '?']\n",
      "#parsing: ['are', 'they', 'suggesting', 'Arthur', 'ride', 'to', 'Camelot', '?']\n",
      "#parsing: ['they', 'migrate', 'precisely', 'because', 'they', 'know', 'they', 'will', 'grow', '.']\n",
      "#parsing: ['five', 'strangers', 'are', 'at', 'the', 'Round', 'Table', '.']\n",
      "#parsing: ['when', 'the', 'king', 'drinks', ',', 'Patsy', 'drinks', '.']\n",
      "#parsing: ['do', 'not', 'speak', '!']\n",
      "#parsing: ['Arthur', 'is', 'the', 'king', '.']\n",
      "#parsing: ['Arthur', 'suggested', 'that', 'the', 'castle', 'be', 'carried', '.']\n",
      "#parsing: ['he', 'knows', 'what', 'they', 'are', 'covering', 'with', 'that', 'story', '.']\n",
      "#parsing: ['Arthur', ',', 'sixty', 'inches', ',', 'is', 'a', 'tiny', 'king', '.']\n",
      "#parsing: ['Arthur', 'and', 'Guinevere', 'migrate', 'frequently', '.']\n",
      "#parsing: ['Guinevere', 'might', 'have', 'known', '.']\n",
      "#parsing: ['Arthur', 'knows', 'Patsy', ',', 'the', 'trusty', 'servant', '.']\n",
      "#parsing: ['riding', 'to', 'Camelot', 'is', 'hard', '.']\n",
      "#parsing: ['the', 'king', 'drank', 'to', 'the', 'castle', 'that', 'was', 'his', 'home', '.']\n",
      "#parsing: ['Arthur', 'rides', 'the', 'horse', 'near', 'the', 'castle', '.']\n",
      "#parsing: ['Arthur', 'will', 'have', 'been', 'riding', 'for', 'eight', 'nights', '.']\n",
      "#parsing: ['Arthur', 'rode', 'to', 'Camelot', 'and', 'drank', 'from', 'his', 'chalice', '.']\n",
      "#parsing: ['it', 'is', 'Sir', 'Lancelot', 'who', 'knows', 'Zoot', '!']\n",
      "#parsing: ['this', 'horse', 'covers', 'the', 'winter']\n",
      "#parsing: ['any', 'corner', 'has', 'another', 'servant', '.']\n",
      "#parsing: ['that', 'king', 'is', 'another', 'land', 'above', 'no', 'winter']\n",
      "#parsing: ['another', 'pound', 'drinks', 'the', 'servant']\n",
      "#parsing: ['another', 'fruit', 'has', 'another', 'quest']\n",
      "#parsing: ['Sir', 'Lancelot', 'covers', 'each', 'corner', '.']\n",
      "#parsing: ['a', 'winter', 'carries', 'this', 'servant', '.']\n",
      "#parsing: ['each', 'land', 'is', 'any', 'defeater', '.']\n",
      "#parsing: ['every', 'quest', 'is', 'this', 'winter', '.']\n",
      "#parsing: ['another', 'pound', 'carries', 'every', 'castle', '.']\n",
      "#parsing: ['this', 'master', 'has', 'this', 'fruit']\n",
      "#parsing: ['a', 'king', 'is', 'Sir', 'Knight']\n",
      "#parsing: ['the', 'master', 'carries', 'no', 'story']\n",
      "#parsing: ['any', 'defeater', 'carries', 'each', 'horse', '.']\n",
      "#parsing: ['a', 'castle', 'is', 'each', 'corner']\n",
      "#parsing: ['Arthur', 'is', 'the', 'chalice']\n",
      "#parsing: ['no', 'servant', 'carries', 'this', 'sovereign']\n",
      "#parsing: ['that', 'defeater', 'of', 'another', 'swallow', 'drinks', 'another', 'husk']\n",
      "#parsing: ['this', 'swallow', 'has', 'no', 'chalice', '.']\n",
      "#parsing: ['that', 'swallow', 'has', 'the', 'swallow', '.']\n",
      "#parsing: ['this', 'king', 'is', 'the', 'weight', '.']\n",
      "#parsing: ['a', 'home', 'carries', 'every', 'quest', '.']\n",
      "#parsing: ['is', 'every', 'corner', '.']\n",
      "#No parses found for: is every corner .\n",
      "#parsing: ['a', 'home', 'covers', 'no', 'fruit']\n",
      "#parsing: ['no', 'home', 'rides', 'no', 'story', '.']\n",
      "#parsing: ['rides', 'each', 'corner', '.']\n",
      "#No parses found for: rides each corner .\n",
      "#parsing: ['no', 'sun', 'drinks', 'a', 'husk', '.']\n",
      "#parsing: ['drinks', 'this', 'defeater', '.']\n",
      "#No parses found for: drinks this defeater .\n",
      "#parsing: ['that', 'coconut', 'rides', 'each', 'sovereign', '.']\n",
      "#parsing: ['each', 'home', 'rides', 'any', 'servant', '.']\n",
      "#parsing: ['any', 'home', 'covers', 'no', 'land', '.']\n",
      "#parsing: ['another', 'story', 'carries', 'a', 'fruit', '.']\n",
      "#parsing: ['each', 'sovereign', 'is', 'this', 'home', '.']\n",
      "#parsing: ['another', 'swallow', 'rides', 'any', 'master', '.']\n",
      "#parsing: ['Sir', 'Lancelot', 'covers', 'this', 'servant', '.']\n",
      "#parsing: ['Sir', 'Lancelot', 'carries', 'the', 'chalice', '.']\n",
      "#parsing: ['another', 'chalice', 'covers', 'this', 'castle', '.']\n",
      "#parsing: ['another', 'land', 'is', 'that', 'land', '.']\n",
      "#parsing: ['another', 'story', 'drinks', 'every', 'pound', '.']\n",
      "#parsing: ['every', 'land', 'over', 'that', 'master', 'carries', 'this', 'land', '.']\n",
      "#parsing: ['has', 'another', 'horse', '.', 'drinks', 'the', 'winter']\n",
      "#parsing: ['the', 'coconut', 'rides', 'the', 'sun']\n",
      "#parsing: ['any', 'story', 'covers', 'no', 'castle']\n",
      "#parsing: ['every', 'chalice', 'rides', 'Zoot']\n",
      "#parsing: ['no', 'master', 'has', 'has', 'Sir', 'Knight', '.']\n",
      "#parsing: ['know']\n",
      "#parsing: ['any', 'swallow', 'of', 'the', 'fruit', 'rides', 'any', 'coconut']\n",
      "#parsing: ['the', 'sovereign', 'has', 'any', 'land', 'of', 'any', 'king']\n",
      "#parsing: ['this', 'king', 'near', 'has', 'each', 'fruit', 'of', 'no', 'sun', '.', 'covers', 'every', 'story', 'by', 'no', 'husk']\n"
     ]
    },
    {
     "name": "stdout",
     "output_type": "stream",
     "text": [
      "(TOP (S2 (_Det (Det this) (_Noun (Noun king) (_Prep (Prep near) (_VerbT (VerbT has) (_Det (Det each) (_Noun (Noun fruit) (_Prep (Prep of) (_Det (Det no) (_Noun (Noun sun) (_Misc (Misc .) (_VerbT (VerbT covers) (_Det (Det every) (_Noun (Noun story) (_Prep (Prep by) (_Det (Det no) (_Noun (Noun husk) )))))))))))))))) ) )\n",
      "(TOP (S2 (Misc all) ) )\n",
      "(TOP (S2 (_Det (Det no) (_Noun (Noun corner) (_VerbT (VerbT drinks) (_VerbT (VerbT has) (_VerbT (VerbT drinks) (_Det (Det this) (_Noun (Noun servant) (_Prep (Prep into) (_VerbT (VerbT has) (_Det (Det this) (_Noun (Noun weight) ))))))))))) ) )\n",
      "(TOP (S1 (NP (Det this) (Nbar (Noun story) )) (VP (VerbT rides) (NP (Proper Zoot) ))) )\n",
      "(TOP (S1 (NP (Det a) (Nbar (Noun defeater) )) (VP (VerbT drinks) (NP (Det any) (Nbar (Noun pound) )))) )\n",
      "(TOP (S2 (Misc fooling) ) )\n",
      "(TOP (S1 (NP (Det no) (Nbar (Noun quest) )) (VP (VerbT is) (NP (Proper Zoot) ))) )\n",
      "(TOP (Misc covers) (Misc this) (Misc king) (Misc .) (Misc rides) (Misc drinks) (Misc no) (Misc swallow) (Misc .))\n",
      "(TOP (S1 (NP (Det a) (Nbar (Noun king) )) (VP (VerbT has) (NP (Det a) (Nbar (Nbar (Noun coconut) ) (PP (Prep of) (NP (Det another) (Nbar (Noun winter) ))))))) )\n",
      "(TOP (S1 (NP (Det any) (Nbar (Noun home) )) (VP (VerbT carries) (NP (Det every) (Nbar (Noun horse) )))) )\n",
      "(TOP (S2 (Misc does) ) )\n",
      "(TOP (S1 (NP (Proper Arthur) ) (_VP (VP (VerbT is) (NP (Det the) (Nbar (Noun king) ))) (Punc .))) )\n",
      "(TOP (S1 (NP (Proper Arthur) ) (_VP (VP (VerbT rides) (NP (Det the) (Nbar (Nbar (Noun horse) ) (PP (Prep near) (NP (Det the) (Nbar (Noun castle) )))))) (Punc .))) )\n",
      "(TOP (S2 (_Misc (Misc riding) (_Misc (Misc to) (_Misc (Misc Camelot) (_VerbT (VerbT is) (_Misc (Misc hard) (_Misc (Misc .) )))))) ) )\n",
      "(TOP (S2 (_Misc (Misc do) (_Misc (Misc coconuts) (_Misc (Misc speak) (_Misc (Misc ?) )))) ) )\n",
      "(TOP (S2 (_Misc (Misc what) (_Misc (Misc does) (_Proper (Proper Arthur) (_Misc (Misc ride) (_Misc (Misc ?) ))))) ) )\n",
      "(TOP (S2 (_Misc (Misc who) (_Misc (Misc does) (_Proper (Proper Arthur) (_Misc (Misc suggest) (_Misc (Misc she) (_Misc (Misc carry) (_Misc (Misc ?) ))))))) ) )\n",
      "(TOP (S2 (_Misc (Misc why) (_Misc (Misc does) (_Misc (Misc England) (_Misc (Misc have) (_Det (Det a) (_Noun (Noun king) (_Misc (Misc ?) ))))))) ) )\n",
      "(TOP (S2 (_Misc (Misc are) (_Misc (Misc they) (_Misc (Misc suggesting) (_Proper (Proper Arthur) (_Misc (Misc ride) (_Misc (Misc to) (_Misc (Misc Camelot) (_Misc (Misc ?) )))))))) ) )\n",
      "(TOP (S2 (_Misc (Misc five) (_Misc (Misc strangers) (_Misc (Misc are) (_Prep (Prep at) (_Det (Det the) (_Misc (Misc (_Round Round) (_Table Table)) (_Misc (Misc .) ))))))) ) )\n",
      "(TOP (S2 (_Proper (Proper Guinevere) (_Misc (Misc might) (_Misc (Misc have) (_Misc (Misc known) (_Misc (Misc .) ))))) ) )\n",
      "(TOP (S2 (_Proper (Proper Guinevere) (_Misc (Misc should) (_Misc (Misc be) (_Misc (Misc riding) (_Prep (Prep with) (_Proper (Proper Patsy) (_Misc (Misc .) ))))))) ) )\n",
      "(TOP (S2 (_Misc (Misc it) (_VerbT (VerbT is) (_Proper (Proper (_Sir Sir) (_Lancelot Lancelot)) (_Misc (Misc who) (_Misc (Misc knows) (_Proper (Proper Zoot) (_Misc (Misc !) ))))))) ) )\n",
      "(TOP (S2 (_Misc (Misc either) (_Proper (Proper Arthur) (_Misc (Misc knows) (_Misc (Misc or) (_Proper (Proper Patsy) (_Misc (Misc does) (_Misc (Misc .) ))))))) ) )\n",
      "(TOP (S2 (_Misc (Misc neither) (_Proper (Proper (_Sir Sir) (_Lancelot Lancelot)) (_Misc (Misc nor) (_Proper (Proper Guinevere) (_Misc (Misc will) (_Misc (Misc speak) (_Prep (Prep of) (_Misc (Misc it) (_Misc (Misc .) ))))))))) ) )\n",
      "(TOP (S2 (_Det (Det the) (_Misc (Misc (_Holy Holy) (_Grail Grail)) (_Misc (Misc was) (_Misc (Misc covered) (_Prep (Prep by) (_Det (Det a) (_Misc (Misc yellow) (_Noun (Noun fruit) (_Misc (Misc .) ))))))))) ) )\n",
      "(TOP (S2 (_Proper (Proper Zoot) (_Misc (Misc might) (_Misc (Misc have) (_Misc (Misc been) (_Misc (Misc carried) (_Prep (Prep by) (_Det (Det a) (_Noun (Noun swallow) (_Misc (Misc .) ))))))))) ) )\n",
      "(TOP (S2 (_Proper (Proper Arthur) (_Misc (Misc rode) (_Misc (Misc to) (_Misc (Misc Camelot) (_Misc (Misc and) (_Misc (Misc drank) (_Prep (Prep from) (_Misc (Misc his) (_Noun (Noun chalice) (_Misc (Misc .) )))))))))) ) )\n",
      "(TOP (S2 (_Misc (Misc they) (_Misc (Misc migrate) (_Misc (Misc precisely) (_Misc (Misc because) (_Misc (Misc they) (_Misc (Misc know) (_Misc (Misc they) (_Misc (Misc will) (_Misc (Misc grow) (_Misc (Misc .) )))))))))) ) )\n",
      "(TOP (S2 (_Misc (Misc do) (_Misc (Misc not) (_Misc (Misc speak) (_Misc (Misc !) )))) ) )\n",
      "(TOP (S2 (_Proper (Proper Arthur) (_Misc (Misc will) (_Misc (Misc have) (_Misc (Misc been) (_Misc (Misc riding) (_Prep (Prep for) (_Misc (Misc eight) (_Misc (Misc nights) (_Misc (Misc .) ))))))))) ) )\n",
      "(TOP (S2 (_Proper (Proper Arthur) (_Misc (Misc ,) (_Misc (Misc sixty) (_Misc (Misc inches) (_Misc (Misc ,) (_VerbT (VerbT is) (_Det (Det a) (_Misc (Misc tiny) (_Noun (Noun king) (_Misc (Misc .) )))))))))) ) )\n",
      "(TOP (S2 (_Proper (Proper Arthur) (_Misc (Misc knows) (_Proper (Proper Patsy) (_Misc (Misc ,) (_Det (Det the) (_Misc (Misc trusty) (_Noun (Noun servant) (_Misc (Misc .) )))))))) ) )\n",
      "(TOP (S2 (_Proper (Proper Arthur) (_Misc (Misc and) (_Proper (Proper Guinevere) (_Misc (Misc migrate) (_Misc (Misc frequently) (_Misc (Misc .) )))))) ) )\n",
      "(TOP (S2 (_Misc (Misc he) (_Misc (Misc knows) (_Misc (Misc what) (_Misc (Misc they) (_Misc (Misc are) (_Misc (Misc covering) (_Prep (Prep with) (_Det (Det that) (_Noun (Noun story) (_Misc (Misc .) )))))))))) ) )\n",
      "(TOP (S2 (_Proper (Proper Arthur) (_Misc (Misc suggested) (_Det (Det that) (_Det (Det the) (_Noun (Noun castle) (_Misc (Misc be) (_Misc (Misc carried) (_Misc (Misc .) )))))))) ) )\n",
      "(TOP (S2 (_Det (Det the) (_Noun (Noun king) (_Misc (Misc drank) (_Misc (Misc to) (_Det (Det the) (_Noun (Noun castle) (_Det (Det that) (_Misc (Misc was) (_Misc (Misc his) (_Noun (Noun home) (_Misc (Misc .) ))))))))))) ) )\n",
      "(TOP (S2 (_Misc (Misc when) (_Det (Det the) (_Noun (Noun king) (_VerbT (VerbT drinks) (_Misc (Misc ,) (_Proper (Proper Patsy) (_VerbT (VerbT drinks) (_Misc (Misc .) )))))))) ) )\n",
      "-cross entropy: -11.884472097310345\n"
     ]
    },
    {
     "name": "stderr",
     "output_type": "stream",
     "text": [
      "#parsing: ['all']\n",
      "#parsing: ['no', 'corner', 'drinks', 'has', 'drinks', 'this', 'servant', 'into', 'has', 'this', 'weight']\n",
      "#parsing: ['this', 'story', 'rides', 'Zoot']\n",
      "#parsing: ['a', 'defeater', 'drinks', 'any', 'pound']\n",
      "#parsing: ['fooling']\n",
      "#parsing: ['no', 'quest', 'is', 'Zoot']\n",
      "#parsing: ['covers', 'this', 'king', '.', 'rides', 'drinks', 'no', 'swallow', '.']\n",
      "#No parses found for: covers this king . rides drinks no swallow .\n",
      "#parsing: ['a', 'king', 'has', 'a', 'coconut', 'of', 'another', 'winter']\n",
      "#parsing: ['any', 'home', 'carries', 'every', 'horse']\n",
      "#parsing: ['does']\n",
      "#parsing: ['Arthur', 'is', 'the', 'king', '.']\n",
      "#parsing: ['Arthur', 'rides', 'the', 'horse', 'near', 'the', 'castle', '.']\n",
      "#parsing: ['riding', 'to', 'Camelot', 'is', 'hard', '.']\n",
      "#parsing: ['do', 'coconuts', 'speak', '?']\n",
      "#parsing: ['what', 'does', 'Arthur', 'ride', '?']\n",
      "#parsing: ['who', 'does', 'Arthur', 'suggest', 'she', 'carry', '?']\n",
      "#parsing: ['why', 'does', 'England', 'have', 'a', 'king', '?']\n",
      "#parsing: ['are', 'they', 'suggesting', 'Arthur', 'ride', 'to', 'Camelot', '?']\n",
      "#parsing: ['five', 'strangers', 'are', 'at', 'the', 'Round', 'Table', '.']\n",
      "#parsing: ['Guinevere', 'might', 'have', 'known', '.']\n",
      "#parsing: ['Guinevere', 'should', 'be', 'riding', 'with', 'Patsy', '.']\n",
      "#parsing: ['it', 'is', 'Sir', 'Lancelot', 'who', 'knows', 'Zoot', '!']\n",
      "#parsing: ['either', 'Arthur', 'knows', 'or', 'Patsy', 'does', '.']\n",
      "#parsing: ['neither', 'Sir', 'Lancelot', 'nor', 'Guinevere', 'will', 'speak', 'of', 'it', '.']\n",
      "#parsing: ['the', 'Holy', 'Grail', 'was', 'covered', 'by', 'a', 'yellow', 'fruit', '.']\n",
      "#parsing: ['Zoot', 'might', 'have', 'been', 'carried', 'by', 'a', 'swallow', '.']\n",
      "#parsing: ['Arthur', 'rode', 'to', 'Camelot', 'and', 'drank', 'from', 'his', 'chalice', '.']\n",
      "#parsing: ['they', 'migrate', 'precisely', 'because', 'they', 'know', 'they', 'will', 'grow', '.']\n",
      "#parsing: ['do', 'not', 'speak', '!']\n",
      "#parsing: ['Arthur', 'will', 'have', 'been', 'riding', 'for', 'eight', 'nights', '.']\n",
      "#parsing: ['Arthur', ',', 'sixty', 'inches', ',', 'is', 'a', 'tiny', 'king', '.']\n",
      "#parsing: ['Arthur', 'knows', 'Patsy', ',', 'the', 'trusty', 'servant', '.']\n",
      "#parsing: ['Arthur', 'and', 'Guinevere', 'migrate', 'frequently', '.']\n",
      "#parsing: ['he', 'knows', 'what', 'they', 'are', 'covering', 'with', 'that', 'story', '.']\n",
      "#parsing: ['Arthur', 'suggested', 'that', 'the', 'castle', 'be', 'carried', '.']\n",
      "#parsing: ['the', 'king', 'drank', 'to', 'the', 'castle', 'that', 'was', 'his', 'home', '.']\n",
      "#parsing: ['when', 'the', 'king', 'drinks', ',', 'Patsy', 'drinks', '.']\n",
      "#-cross entropy (bits/word): -11.8845\n"
     ]
    }
   ],
   "source": [
    "# parse_gram = Pcfg([\"S1.gr\",\"S2.gr\",\"Vocab.gr\"])\n",
    "parse_gram = Pcfg([\"grammars/S1.gr\",\"grammars/S2.gr\",\"grammars/Vocab.gr\"])\n",
    "parser = CkyParse(parse_gram, beamsize=0.0001, verbose=0)\n",
    "ce, trees = parser.parse_file('text/more_examples.txt')\n",
    "print(\"-cross entropy: {}\".format(ce))"
   ]
  },
  {
   "cell_type": "markdown",
   "metadata": {},
   "source": [
    "## Generating sentences with your grammar\n",
    "\n",
    "While you are developing your grammar you should generate sentences with your grammar\n",
    "to check what your grammar is doing. Try to write your grammars to that it will \n",
    "generate hard to parse sentences."
   ]
  },
  {
   "cell_type": "markdown",
   "metadata": {},
   "source": [
    "## Compare generating sentences"
   ]
  },
  {
   "cell_type": "code",
   "execution_count": 22,
   "metadata": {},
   "outputs": [
    {
     "name": "stdout",
     "output_type": "stream",
     "text": [
      "they was favorite Knight\n",
      "me Would been to two people\n",
      "what rabbit it ? !\n",
      "my bride\n",
      "Jesus , ' have 's ' !\n",
      "you could go trough no Camelot Knights knight be up\n",
      "do you , questions , already\n",
      "Thursday ! 's me\n",
      "Concorde !\n",
      "Who um with she .\n",
      "I using Launcelot ... and You're right ride Get , do you , did ! .\n",
      "bleeder . are the person Will 's got ? ?\n",
      "We 'm had And got bird brave always .\n",
      "Oh .\n",
      "the\n",
      "yes\n",
      "What try Here . ... a broken course ?\n",
      "is\n",
      "the power could Saint up .\n",
      "weighs made to to scratch !\n"
     ]
    },
    {
     "name": "stderr",
     "output_type": "stream",
     "text": [
      "#reading grammar file: grammars/train_s1.gr\n",
      "#Ignored cycle NP -> NP\n",
      "#reading grammar file: grammars/train_vocab.gr\n"
     ]
    }
   ],
   "source": [
    "gen_gram = Pcfg([\"grammars/train_s1.gr\",\"grammars/train_vocab.gr\"])\n",
    "gen = PcfgGenerator(gen_gram)\n",
    "for _ in range(20):\n",
    "    print(\" \".join(gen.generate()))"
   ]
  },
  {
   "cell_type": "code",
   "execution_count": 25,
   "metadata": {},
   "outputs": [
    {
     "name": "stdout",
     "output_type": "stream",
     "text": [
      "all biscuits\n",
      "a collective ! ` knnnniggets ' long this Master remember Sir - , I be A lie !\n",
      "his knights be me What scared never is to ' Beast . pansy like that penis danger - You're afraid trick Galahad Mercea distributing she . ? - they honestly , I'm pig on us angolian the luck go death Found my table !\n",
      "what .\n",
      "a dead names Will Run I'm Psalms\n",
      "the feint to hang This ' how removed 's see a Be We're 'd wo liar the trade !\n",
      "You're my bunny Well afraid ! in shaped\n",
      "Who dine old .\n",
      "a speed , good rock labon you turns your test !\n",
      "who got I'm what At them well the water ! . .\n",
      "your need beds I Uther Patsy - - properly !\n",
      "We've Robin fight\n",
      "wood of we , much we're\n",
      "a important\n",
      "Who move a autocracy . a horrendous spake see 's your next spoken Well 's , this chastity do Look .\n",
      "What Arthur I by , died this Oooh seen Um my case . .\n",
      "Look remain . object footwork like Herbert exciting 43 Run dressed in it And turns the . --\n",
      "got\n",
      "Right good upon the Shut\n",
      "stand your castanets have Sir rode tear !\n"
     ]
    },
    {
     "name": "stderr",
     "output_type": "stream",
     "text": [
      "#reading grammar file: grammars/devset_s1.gr\n",
      "#Ignored cycle NP -> NP\n",
      "#reading grammar file: grammars/devset_vocab.gr\n",
      "#Ignored cycle ( -> (\n",
      "#Ignored cycle ) -> )\n"
     ]
    }
   ],
   "source": [
    "gen_gram = Pcfg([\"grammars/devset_s1.gr\",\"grammars/devset_vocab.gr\"])\n",
    "gen = PcfgGenerator(gen_gram)\n",
    "for _ in range(20):\n",
    "    print(\" \".join(gen.generate()))"
   ]
  },
  {
   "cell_type": "code",
   "execution_count": 24,
   "metadata": {},
   "outputs": [
    {
     "name": "stdout",
     "output_type": "stream",
     "text": [
      "know also .\n",
      "But Lancelot Does but Sir\n",
      "it will Well be kill by The reasonable land !\n",
      "to do then faced I'm through la Lady ?\n",
      "Those hard science mean ?\n",
      "I is south sheeps' He migrate actually by the What got anymore , Quest are 's five .\n",
      "us - Holy , gallantly we cut .\n",
      "got Who I will ripped this zone is fat band I sacrifice and Jesus 're of of me bitching but Galahad aauuuuugh guarded floats an nice Shh . to The private stuffed - !\n",
      "shall we be It\n",
      "Oh\n",
      "what could this creature Round Come is .\n",
      "seen As they ?\n",
      "right\n",
      "no tropical master do to you ?\n",
      "almost on the .\n",
      "know Stretched on If some buggerfuls .\n",
      "bad hello perpetuating his simple Aauuugh you reared I\n",
      "fooling as un Zoot\n",
      "Would do called sons\n",
      "labon\n"
     ]
    },
    {
     "name": "stderr",
     "output_type": "stream",
     "text": [
      "#reading grammar file: grammars/dev_and_exp_s1.gr\n",
      "#Ignored cycle NP -> NP\n",
      "#reading grammar file: grammars/dev_and_exp_vocab.gr\n",
      "#Ignored cycle ( -> (\n",
      "#Ignored cycle ) -> )\n"
     ]
    }
   ],
   "source": [
    "gen_gram = Pcfg([\"grammars/dev_and_exp_s1.gr\",\"grammars/dev_and_exp_vocab.gr\"])\n",
    "gen = PcfgGenerator(gen_gram)\n",
    "for _ in range(20):\n",
    "    print(\" \".join(gen.generate()))"
   ]
  },
  {
   "cell_type": "code",
   "execution_count": null,
   "metadata": {},
   "outputs": [],
   "source": []
  }
 ],
 "metadata": {
  "kernelspec": {
   "display_name": "Python 3",
   "language": "python",
   "name": "python3"
  },
  "language_info": {
   "codemirror_mode": {
    "name": "ipython",
    "version": 3
   },
   "file_extension": ".py",
   "mimetype": "text/x-python",
   "name": "python",
   "nbconvert_exporter": "python",
   "pygments_lexer": "ipython3",
   "version": "3.6.5"
  }
 },
 "nbformat": 4,
 "nbformat_minor": 2
}
