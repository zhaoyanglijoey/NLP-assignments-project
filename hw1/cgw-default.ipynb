{
 "cells": [
  {
   "cell_type": "markdown",
   "metadata": {},
   "source": [
    "# Homework: Competitive Grammar Writing"
   ]
  },
  {
   "cell_type": "code",
   "execution_count": 1,
   "metadata": {},
   "outputs": [],
   "source": [
    "%load_ext autoreload\n",
    "%autoreload 2\n",
    "from pcfg_parse_gen import Pcfg, PcfgGenerator, CkyParse\n",
    "import nltk\n",
    "\n",
    "def print_tree(tree_string):\n",
    "    tree_string = tree_string.strip()\n",
    "    tree = nltk.Tree.fromstring(tree_string)\n",
    "    tree.pretty_print()\n",
    "\n",
    "def draw_tree(tree_string):\n",
    "    tree_string = tree_string.strip()\n",
    "    tree = nltk.Tree.fromstring(tree_string)\n",
    "    tree.draw()"
   ]
  },
  {
   "cell_type": "markdown",
   "metadata": {},
   "source": [
    "## Parsing sentences with your grammar\n",
    "\n",
    "While you are developing your grammar you should parse with your grammar both example sentences and samples from your and other grammars."
   ]
  },
  {
   "cell_type": "code",
   "execution_count": 28,
   "metadata": {},
   "outputs": [],
   "source": [
    "# parse_gram = Pcfg([\"S1.gr\",\"S2.gr\",\"Vocab.gr\"])\n",
    "parse_gram = Pcfg([\"grammars/devset_s1.gr\",\"grammars/devset_s2.gr\",\"grammars/devset_vocab.gr\"])\n",
    "\n",
    "parser = CkyParse(parse_gram, beamsize=0.0001, verbose=0)"
   ]
  },
  {
   "cell_type": "code",
   "execution_count": 29,
   "metadata": {
    "scrolled": true
   },
   "outputs": [
    {
     "name": "stdout",
     "output_type": "stream",
     "text": [
      "-cross entropy: -8.724367379546793\n",
      "                          TOP                                    \n",
      "                           |                                      \n",
      "                           S1                                    \n",
      "                           |                                      \n",
      "                          ROOT                                   \n",
      "                           |                                      \n",
      "                           S                                     \n",
      "                   ________|_________________________             \n",
      "                  NP                                 |           \n",
      "   _______________|____                              |            \n",
      "  |                    VP                         S|<VP-.>       \n",
      "  |         ___________|___                     _____|_______     \n",
      "  |        |               PP                  VP            |   \n",
      "  |        |       ________|____            ___|_____        |    \n",
      "  NP       |      |             NP         |         VP      |   \n",
      "  |        |      |         ____|____      |         |       |    \n",
      " NNP      VBN     IN       DT        NN    VB       VBN    PERIOD\n",
      "  |        |      |        |         |     |         |       |    \n",
      "Arthur suggested that     the      castle  be     carried    .   \n",
      "\n"
     ]
    },
    {
     "name": "stderr",
     "output_type": "stream",
     "text": [
      "#-cross entropy (bits/word): -8.72437\n"
     ]
    }
   ],
   "source": [
    "ce, trees = parser.parse_sentences([\"Arthur suggested that the castle be carried .\"])\n",
    "print(\"-cross entropy: {}\".format(ce))\n",
    "for tree_string in trees:\n",
    "    print_tree(tree_string)"
   ]
  },
  {
   "cell_type": "markdown",
   "metadata": {},
   "source": [
    "Use `parse_file` to parse a file of sentences."
   ]
  },
  {
   "cell_type": "markdown",
   "metadata": {},
   "source": [
    "## Generating sentences with your grammar\n",
    "\n",
    "While you are developing your grammar you should generate sentences with your grammar\n",
    "to check what your grammar is doing. Try to write your grammars to that it will \n",
    "generate hard to parse sentences."
   ]
  },
  {
   "cell_type": "markdown",
   "metadata": {},
   "source": [
    "## Compare generating sentences"
   ]
  },
  {
   "cell_type": "code",
   "execution_count": 33,
   "metadata": {},
   "outputs": [
    {
     "name": "stdout",
     "output_type": "stream",
     "text": [
      "the new power take Grail .\n",
      "can't -\n",
      "Father ! have n't uh of Camelot .\n",
      "the breakfast fooling up\n",
      "me have is in breadth I feel burned ? .\n",
      "of Gable had , for n't fatal Greetings .\n"
     ]
    },
    {
     "name": "stderr",
     "output_type": "stream",
     "text": [
      "#reading grammar file: grammars/moresentences_devset_s1.gr\n",
      "#Ignored cycle NP -> NP\n",
      "#reading grammar file: grammars/moresentences_devset_vocab.gr\n",
      "ERROR: word Tower was sampled but is not allowed\n",
      "ERROR: word KNIGHT was sampled but is not allowed\n"
     ]
    },
    {
     "name": "stdout",
     "output_type": "stream",
     "text": [
      "no far are is Well Defeat two\n",
      "not !\n",
      "'s I\n",
      "does Grail You will is delirious -- and exciting\n",
      "Man , Oh ? - her -- attend my nervous training of .\n",
      "I 's the !\n",
      "nice to are only tell .\n",
      "away\n",
      "frighten lovely silly travellers his ways\n",
      "do bitching .\n",
      "a inherent rescue a coconut , Grenade Go what Oh , wield actually ! like It ...\n",
      "You speaking it !\n",
      "you\n",
      "Heh I of 's heads . -- interested Lancelot . away but fight as him\n"
     ]
    }
   ],
   "source": [
    "gen_gram = Pcfg([\"grammars/moresentences_devset_s1.gr\",\"grammars/moresentences_devset_vocab.gr\"])\n",
    "gen = PcfgGenerator(gen_gram)\n",
    "for _ in range(20):\n",
    "    print(\" \".join(gen.generate()))"
   ]
  },
  {
   "cell_type": "code",
   "execution_count": 34,
   "metadata": {},
   "outputs": [
    {
     "name": "stdout",
     "output_type": "stream",
     "text": [
      "are the country No sweet\n",
      "an syndicalist\n",
      "charged . , and a nobody ! Right voluntarily . told shit from of on No of I And seven tropical bridges forget quiet and seemed You're haste ! !\n",
      "have Look l , but him from Sir -- . have\n",
      "basic , swallow Please Prince Thursday 's Well ? ;\n",
      "a examine ? shall to 'd currently did your great Please .\n",
      "Where do No Camauuuugh 's Come !\n",
      "he know his Dingo up .\n",
      "Well\n",
      "who can I'm were I ? , the luck stand in my I .\n",
      "Divine\n",
      "leave you say in The Burn Ramper I and who\n",
      "the Haw can't of God !\n",
      "And I the ?\n",
      "Tis repressed if from !\n",
      "Who take Not !\n",
      "a bad answer remember you off Of the Scene Is Who is Well\n",
      "All daft\n",
      "the hello brave you You\n",
      "did keep . , and the vache 're . !\n"
     ]
    },
    {
     "name": "stderr",
     "output_type": "stream",
     "text": [
      "#reading grammar file: grammars/devset_s1.gr\n",
      "#Ignored cycle NP -> NP\n",
      "#reading grammar file: grammars/devset_vocab.gr\n",
      "#Ignored cycle ( -> (\n",
      "#Ignored cycle ) -> )\n"
     ]
    }
   ],
   "source": [
    "gen_gram = Pcfg([\"grammars/devset_s1.gr\",\"grammars/devset_vocab.gr\"])\n",
    "gen = PcfgGenerator(gen_gram)\n",
    "for _ in range(20):\n",
    "    print(\" \".join(gen.generate()))"
   ]
  },
  {
   "cell_type": "code",
   "execution_count": 35,
   "metadata": {
    "scrolled": true
   },
   "outputs": [
    {
     "name": "stdout",
     "output_type": "stream",
     "text": [
      "the basic coconut blow So did Iiiiives ?\n",
      "are buggering of The east\n",
      "my quest Well Shut here - , Sir ,\n",
      "I'm but Sir 's have burned a wood for pointy .\n",
      "why were the separate felt does , why He was first up not second .\n",
      "Camelot Now no syndicalist\n",
      "it Will much just Arthur raised .\n",
      "very , not ...\n",
      "kneecaps - I ! been\n",
      "what join only of you !\n",
      "is if your open\n",
      "buy\n",
      "a Dennis Uh 's King !\n",
      "currently . , I buggered ?\n",
      "a\n",
      "Oh Now the Lancelot We're suggesting it .\n",
      "far by this !\n",
      "the Man ridden will , more laurels ? in my Quiet tackle by the open One , AM resting of No harder !\n",
      "he Aaaaugh his sayin of A wearier !\n",
      "using near you , and knows the interested Heh\n"
     ]
    },
    {
     "name": "stderr",
     "output_type": "stream",
     "text": [
      "#reading grammar file: grammars/dev_and_exp_s1.gr\n",
      "#Ignored cycle NP -> NP\n",
      "#reading grammar file: grammars/dev_and_exp_vocab.gr\n",
      "#Ignored cycle ( -> (\n",
      "#Ignored cycle ) -> )\n"
     ]
    }
   ],
   "source": [
    "gen_gram = Pcfg([\"grammars/dev_and_exp_s1.gr\",\"grammars/dev_and_exp_vocab.gr\"])\n",
    "gen = PcfgGenerator(gen_gram)\n",
    "for _ in range(20):\n",
    "    print(\" \".join(gen.generate()))"
   ]
  },
  {
   "cell_type": "markdown",
   "metadata": {},
   "source": [
    "## Test on different parser"
   ]
  },
  {
   "cell_type": "code",
   "execution_count": 54,
   "metadata": {},
   "outputs": [],
   "source": [
    "def test_grammar(s1, s2, vocab, test):\n",
    "    parse_gram = Pcfg([s1, s2, vocab])\n",
    "    parser = CkyParse(parse_gram, beamsize=0.0001, verbose=0)\n",
    "    ce, trees = parser.parse_file(test)"
   ]
  },
  {
   "cell_type": "markdown",
   "metadata": {},
   "source": [
    "### On `text/example_sentences.txt`"
   ]
  },
  {
   "cell_type": "code",
   "execution_count": 62,
   "metadata": {},
   "outputs": [
    {
     "name": "stderr",
     "output_type": "stream",
     "text": [
      "#-cross entropy (bits/word): -8.92096\n"
     ]
    }
   ],
   "source": [
    "test_grammar(\"grammars/devset_s1.gr\", \"grammars/devset_s2.gr\", \"grammars/devset_vocab.gr\", \"text/example_sentences.txt\")"
   ]
  },
  {
   "cell_type": "code",
   "execution_count": 63,
   "metadata": {},
   "outputs": [
    {
     "name": "stderr",
     "output_type": "stream",
     "text": [
      "#No parses found for: they migrate precisely because they know they will grow .\n",
      "#-cross entropy (bits/word): -13.819\n"
     ]
    }
   ],
   "source": [
    "test_grammar(\"grammars/devset_rnn_s1.gr\", \"grammars/devset_rnn_s2.gr\", \"grammars/devset_rnn_vocab.gr\", \"text/example_sentences.txt\")"
   ]
  },
  {
   "cell_type": "code",
   "execution_count": 64,
   "metadata": {},
   "outputs": [
    {
     "name": "stderr",
     "output_type": "stream",
     "text": [
      "#-cross entropy (bits/word): -9.15619\n"
     ]
    }
   ],
   "source": [
    "test_grammar(\"grammars/devset_stanford_s1.gr\", \"grammars/devset_stanford_s2.gr\", \"grammars/devset_stanford_vocab.gr\", \"text/example_sentences.txt\")"
   ]
  },
  {
   "cell_type": "markdown",
   "metadata": {},
   "source": [
    "### On `text/more_examples.txt`"
   ]
  },
  {
   "cell_type": "code",
   "execution_count": 65,
   "metadata": {},
   "outputs": [
    {
     "name": "stderr",
     "output_type": "stream",
     "text": [
      "#-cross entropy (bits/word): -9.57106\n"
     ]
    }
   ],
   "source": [
    "test_grammar(\"grammars/devset_s1.gr\", \"grammars/devset_s2.gr\", \"grammars/devset_vocab.gr\", \"text/more_examples.txt\")"
   ]
  },
  {
   "cell_type": "code",
   "execution_count": 66,
   "metadata": {},
   "outputs": [
    {
     "name": "stderr",
     "output_type": "stream",
     "text": [
      "#No parses found for: they migrate precisely because they know they will grow .\n",
      "#-cross entropy (bits/word): -11.2527\n"
     ]
    }
   ],
   "source": [
    "test_grammar(\"grammars/devset_rnn_s1.gr\", \"grammars/devset_rnn_s2.gr\", \"grammars/devset_rnn_vocab.gr\", \"text/more_examples.txt\")"
   ]
  },
  {
   "cell_type": "code",
   "execution_count": 67,
   "metadata": {},
   "outputs": [
    {
     "name": "stderr",
     "output_type": "stream",
     "text": [
      "#-cross entropy (bits/word): -9.70726\n"
     ]
    }
   ],
   "source": [
    "test_grammar(\"grammars/devset_stanford_s1.gr\", \"grammars/devset_stanford_s2.gr\", \"grammars/devset_stanford_vocab.gr\", \"text/more_examples.txt\")"
   ]
  },
  {
   "cell_type": "markdown",
   "metadata": {},
   "source": [
    "## Test with different training set"
   ]
  },
  {
   "cell_type": "markdown",
   "metadata": {},
   "source": [
    "### On `text/example_sentences.txt`"
   ]
  },
  {
   "cell_type": "code",
   "execution_count": 75,
   "metadata": {},
   "outputs": [
    {
     "name": "stderr",
     "output_type": "stream",
     "text": [
      "#-cross entropy (bits/word): -8.92096\n"
     ]
    }
   ],
   "source": [
    "test_grammar(\"grammars/devset_s1.gr\", \"grammars/devset_s2.gr\", \"grammars/devset_vocab.gr\", \"text/example_sentences.txt\")"
   ]
  },
  {
   "cell_type": "code",
   "execution_count": 85,
   "metadata": {},
   "outputs": [
    {
     "name": "stderr",
     "output_type": "stream",
     "text": [
      "#-cross entropy (bits/word): -7.87721\n"
     ]
    }
   ],
   "source": [
    "test_grammar(\"grammars/devset_and_examplesentences_s1.gr\", \"grammars/devset_and_examplesentences_s2.gr\", \"grammars/devset_and_examplesentences_vocab.gr\", \"text/example_sentences.txt\")"
   ]
  },
  {
   "cell_type": "code",
   "execution_count": 77,
   "metadata": {},
   "outputs": [
    {
     "name": "stderr",
     "output_type": "stream",
     "text": [
      "#-cross entropy (bits/word): -9.03043\n"
     ]
    }
   ],
   "source": [
    "test_grammar(\"grammars/moresentences_devset_s1.gr\", \"grammars/moresentences_devset_s2.gr\", \"grammars/moresentences_devset_vocab.gr\", \"text/example_sentences.txt\")"
   ]
  },
  {
   "cell_type": "code",
   "execution_count": 78,
   "metadata": {},
   "outputs": [
    {
     "name": "stderr",
     "output_type": "stream",
     "text": [
      "#-cross entropy (bits/word): -8.31589\n"
     ]
    }
   ],
   "source": [
    "test_grammar(\"grammars/moresentences_devset_examplesentences_s1.gr\", \"grammars/moresentences_devset_examplesentences_s2.gr\", \"grammars/moresentences_devset_examplesentences_vocab.gr\", \"text/example_sentences.txt\")"
   ]
  },
  {
   "cell_type": "markdown",
   "metadata": {},
   "source": [
    "### On `text/more_examples.txt`"
   ]
  },
  {
   "cell_type": "code",
   "execution_count": 79,
   "metadata": {
    "scrolled": true
   },
   "outputs": [
    {
     "name": "stderr",
     "output_type": "stream",
     "text": [
      "#-cross entropy (bits/word): -9.57106\n"
     ]
    }
   ],
   "source": [
    "test_grammar(\"grammars/devset_s1.gr\", \"grammars/devset_s2.gr\", \"grammars/devset_vocab.gr\", \"text/more_examples.txt\")"
   ]
  },
  {
   "cell_type": "code",
   "execution_count": 80,
   "metadata": {},
   "outputs": [
    {
     "name": "stderr",
     "output_type": "stream",
     "text": [
      "#-cross entropy (bits/word): -8.83074\n"
     ]
    }
   ],
   "source": [
    "test_grammar(\"grammars/devset_and_examplesentences_s1.gr\", \"grammars/devset_and_examplesentences_s2.gr\", \"grammars/devset_and_examplesentences_vocab.gr\", \"text/more_examples.txt\")"
   ]
  },
  {
   "cell_type": "code",
   "execution_count": 81,
   "metadata": {},
   "outputs": [
    {
     "name": "stderr",
     "output_type": "stream",
     "text": [
      "#-cross entropy (bits/word): -9.67019\n"
     ]
    }
   ],
   "source": [
    "test_grammar(\"grammars/moresentences_devset_s1.gr\", \"grammars/moresentences_devset_s2.gr\", \"grammars/moresentences_devset_vocab.gr\", \"text/more_examples.txt\")"
   ]
  },
  {
   "cell_type": "code",
   "execution_count": 82,
   "metadata": {},
   "outputs": [
    {
     "name": "stderr",
     "output_type": "stream",
     "text": [
      "#-cross entropy (bits/word): -9.04387\n"
     ]
    }
   ],
   "source": [
    "test_grammar(\"grammars/moresentences_devset_examplesentences_s1.gr\", \"grammars/moresentences_devset_examplesentences_s2.gr\", \"grammars/moresentences_devset_examplesentences_vocab.gr\", \"text/more_examples.txt\")"
   ]
  },
  {
   "cell_type": "markdown",
   "metadata": {},
   "source": [
    "## Test using different s2"
   ]
  },
  {
   "cell_type": "markdown",
   "metadata": {},
   "source": [
    "### On ` text/example_sentences.txt`"
   ]
  },
  {
   "cell_type": "code",
   "execution_count": 83,
   "metadata": {},
   "outputs": [
    {
     "ename": "FileNotFoundError",
     "evalue": "[Errno 2] No such file or directory: 'grammars/devset_and_examplesentences_bi_s2.gr'",
     "output_type": "error",
     "traceback": [
      "\u001b[0;31m---------------------------------------------------------------------------\u001b[0m",
      "\u001b[0;31mFileNotFoundError\u001b[0m                         Traceback (most recent call last)",
      "\u001b[0;32m<ipython-input-83-4877b7a10392>\u001b[0m in \u001b[0;36m<module>\u001b[0;34m()\u001b[0m\n\u001b[0;32m----> 1\u001b[0;31m \u001b[0mtest_grammar\u001b[0m\u001b[0;34m(\u001b[0m\u001b[0;34m\"grammars/devset_and_examplesentences_s1.gr\"\u001b[0m\u001b[0;34m,\u001b[0m \u001b[0;34m\"grammars/devset_and_examplesentences_bi_s2.gr\"\u001b[0m\u001b[0;34m,\u001b[0m \u001b[0;34m\"grammars/devset_and_examplesentences_vocab.gr\"\u001b[0m\u001b[0;34m,\u001b[0m \u001b[0;34m\"text/example_sentences.txt\"\u001b[0m\u001b[0;34m)\u001b[0m\u001b[0;34m\u001b[0m\u001b[0m\n\u001b[0m",
      "\u001b[0;32m<ipython-input-54-7e316b009264>\u001b[0m in \u001b[0;36mtest_grammar\u001b[0;34m(s1, s2, vocab, test)\u001b[0m\n\u001b[1;32m      1\u001b[0m \u001b[0;32mdef\u001b[0m \u001b[0mtest_grammar\u001b[0m\u001b[0;34m(\u001b[0m\u001b[0ms1\u001b[0m\u001b[0;34m,\u001b[0m \u001b[0ms2\u001b[0m\u001b[0;34m,\u001b[0m \u001b[0mvocab\u001b[0m\u001b[0;34m,\u001b[0m \u001b[0mtest\u001b[0m\u001b[0;34m)\u001b[0m\u001b[0;34m:\u001b[0m\u001b[0;34m\u001b[0m\u001b[0m\n\u001b[0;32m----> 2\u001b[0;31m     \u001b[0mparse_gram\u001b[0m \u001b[0;34m=\u001b[0m \u001b[0mPcfg\u001b[0m\u001b[0;34m(\u001b[0m\u001b[0;34m[\u001b[0m\u001b[0ms1\u001b[0m\u001b[0;34m,\u001b[0m \u001b[0ms2\u001b[0m\u001b[0;34m,\u001b[0m \u001b[0mvocab\u001b[0m\u001b[0;34m]\u001b[0m\u001b[0;34m)\u001b[0m\u001b[0;34m\u001b[0m\u001b[0m\n\u001b[0m\u001b[1;32m      3\u001b[0m     \u001b[0mparser\u001b[0m \u001b[0;34m=\u001b[0m \u001b[0mCkyParse\u001b[0m\u001b[0;34m(\u001b[0m\u001b[0mparse_gram\u001b[0m\u001b[0;34m,\u001b[0m \u001b[0mbeamsize\u001b[0m\u001b[0;34m=\u001b[0m\u001b[0;36m0.0001\u001b[0m\u001b[0;34m,\u001b[0m \u001b[0mverbose\u001b[0m\u001b[0;34m=\u001b[0m\u001b[0;36m0\u001b[0m\u001b[0;34m)\u001b[0m\u001b[0;34m\u001b[0m\u001b[0m\n\u001b[1;32m      4\u001b[0m     \u001b[0mce\u001b[0m\u001b[0;34m,\u001b[0m \u001b[0mtrees\u001b[0m \u001b[0;34m=\u001b[0m \u001b[0mparser\u001b[0m\u001b[0;34m.\u001b[0m\u001b[0mparse_file\u001b[0m\u001b[0;34m(\u001b[0m\u001b[0mtest\u001b[0m\u001b[0;34m)\u001b[0m\u001b[0;34m\u001b[0m\u001b[0m\n",
      "\u001b[0;32m~/cmpt_413_code/hw/hw1/pcfg_parse_gen.py\u001b[0m in \u001b[0;36m__init__\u001b[0;34m(self, filelist, startsym, allowed_words_file, verbose)\u001b[0m\n\u001b[1;32m     87\u001b[0m             \u001b[0;31m# print(\"#reading grammar file: {}\".format(filename), file=sys.stderr)\u001b[0m\u001b[0;34m\u001b[0m\u001b[0;34m\u001b[0m\u001b[0m\n\u001b[1;32m     88\u001b[0m             \u001b[0mlinenum\u001b[0m \u001b[0;34m=\u001b[0m \u001b[0;36m0\u001b[0m\u001b[0;34m\u001b[0m\u001b[0m\n\u001b[0;32m---> 89\u001b[0;31m             \u001b[0;32mfor\u001b[0m \u001b[0m_line\u001b[0m \u001b[0;32min\u001b[0m \u001b[0mopen\u001b[0m\u001b[0;34m(\u001b[0m\u001b[0mfilename\u001b[0m\u001b[0;34m,\u001b[0m \u001b[0;34m'r'\u001b[0m\u001b[0;34m)\u001b[0m\u001b[0;34m:\u001b[0m\u001b[0;34m\u001b[0m\u001b[0m\n\u001b[0m\u001b[1;32m     90\u001b[0m                 \u001b[0mlinenum\u001b[0m \u001b[0;34m+=\u001b[0m \u001b[0;36m1\u001b[0m\u001b[0;34m\u001b[0m\u001b[0m\n\u001b[1;32m     91\u001b[0m                 \u001b[0;32mif\u001b[0m \u001b[0m_line\u001b[0m\u001b[0;34m.\u001b[0m\u001b[0mfind\u001b[0m\u001b[0;34m(\u001b[0m\u001b[0;34m'#'\u001b[0m\u001b[0;34m)\u001b[0m \u001b[0;34m!=\u001b[0m \u001b[0;34m-\u001b[0m\u001b[0;36m1\u001b[0m\u001b[0;34m:\u001b[0m\u001b[0;34m\u001b[0m\u001b[0m\n",
      "\u001b[0;31mFileNotFoundError\u001b[0m: [Errno 2] No such file or directory: 'grammars/devset_and_examplesentences_bi_s2.gr'"
     ]
    }
   ],
   "source": [
    "test_grammar(\"grammars/devset_and_examplesentences_s1.gr\", \"grammars/devset_and_examplesentences_bi_s2.gr\", \"grammars/devset_and_examplesentences_vocab.gr\", \"text/example_sentences.txt\")"
   ]
  },
  {
   "cell_type": "code",
   "execution_count": null,
   "metadata": {},
   "outputs": [],
   "source": [
    "test_grammar(\"grammars/devset_and_examplesentences_s1.gr\", \"grammars/devset_and_examplesentences_uni_s2.gr\", \"grammars/devset_and_examplesentences_vocab.gr\", \"text/example_sentences.txt\")"
   ]
  },
  {
   "cell_type": "code",
   "execution_count": null,
   "metadata": {},
   "outputs": [],
   "source": [
    "test_grammar(\"grammars/devset_and_examplesentences_s1.gr\", \"grammars/devset_and_examplesentences_0_s2.gr\", \"grammars/devset_and_examplesentences_vocab.gr\", \"text/example_sentences.txt\")"
   ]
  },
  {
   "cell_type": "markdown",
   "metadata": {},
   "source": [
    "### On ` text/more_examples.txt`"
   ]
  },
  {
   "cell_type": "code",
   "execution_count": null,
   "metadata": {},
   "outputs": [],
   "source": [
    "test_grammar(\"grammars/devset_and_examplesentences_s1.gr\", \"grammars/devset_and_examplesentences_bi_s2.gr\", \"grammars/devset_and_examplesentences_vocab.gr\", \"text/more_examples.txt\")"
   ]
  },
  {
   "cell_type": "code",
   "execution_count": null,
   "metadata": {},
   "outputs": [],
   "source": [
    "test_grammar(\"grammars/devset_and_examplesentences_s1.gr\", \"grammars/devset_and_examplesentences_uni_s2.gr\", \"grammars/devset_and_examplesentences_vocab.gr\", \"text/more_examples.txt\")"
   ]
  },
  {
   "cell_type": "code",
   "execution_count": null,
   "metadata": {},
   "outputs": [],
   "source": [
    "test_grammar(\"grammars/devset_and_examplesentences_s1.gr\", \"grammars/devset_and_examplesentences_0_s2.gr\", \"grammars/devset_and_examplesentences_vocab.gr\", \"text/more_examples.txt\")"
   ]
  },
  {
   "cell_type": "code",
   "execution_count": null,
   "metadata": {},
   "outputs": [],
   "source": []
  },
  {
   "cell_type": "code",
   "execution_count": null,
   "metadata": {},
   "outputs": [],
   "source": []
  },
  {
   "cell_type": "code",
   "execution_count": null,
   "metadata": {},
   "outputs": [],
   "source": []
  }
 ],
 "metadata": {
  "kernelspec": {
   "display_name": "Python 3",
   "language": "python",
   "name": "python3"
  },
  "language_info": {
   "codemirror_mode": {
    "name": "ipython",
    "version": 3
   },
   "file_extension": ".py",
   "mimetype": "text/x-python",
   "name": "python",
   "nbconvert_exporter": "python",
   "pygments_lexer": "ipython3",
   "version": "3.6.6"
  }
 },
 "nbformat": 4,
 "nbformat_minor": 2
}
