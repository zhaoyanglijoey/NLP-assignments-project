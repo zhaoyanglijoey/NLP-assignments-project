{
 "cells": [
  {
   "cell_type": "markdown",
   "metadata": {},
   "source": [
    "# Homework: Competitive Grammar Writing"
   ]
  },
  {
   "cell_type": "code",
   "execution_count": 4,
   "metadata": {},
   "outputs": [],
   "source": [
    "from pcfg_parse_gen import Pcfg, PcfgGenerator, CkyParse\n",
    "import nltk\n",
    "\n",
    "def print_tree(tree_string):\n",
    "    tree_string = tree_string.strip()\n",
    "    tree = nltk.Tree.fromstring(tree_string)\n",
    "    tree.pretty_print()\n",
    "\n",
    "def draw_tree(tree_string):\n",
    "    tree_string = tree_string.strip()\n",
    "    tree = nltk.Tree.fromstring(tree_string)\n",
    "    tree.draw()"
   ]
  },
  {
   "cell_type": "markdown",
   "metadata": {},
   "source": [
    "## Parsing sentences with your grammar\n",
    "\n",
    "While you are developing your grammar you should parse with your grammar both example sentences and samples from your and other grammars."
   ]
  },
  {
   "cell_type": "code",
   "execution_count": 12,
   "metadata": {},
   "outputs": [
    {
     "name": "stderr",
     "output_type": "stream",
     "text": [
      "#reading grammar file: grammars/train_s1.gr\n",
      "#Ignored cycle NP -> NP\n",
      "#reading grammar file: grammars/train_s2.gr\n",
      "#reading grammar file: grammars/train_vocab.gr\n"
     ]
    }
   ],
   "source": [
    "# parse_gram = Pcfg([\"S1.gr\",\"S2.gr\",\"Vocab.gr\"])\n",
    "parse_gram = Pcfg([\"grammars/train_s1.gr\",\"grammars/train_s2.gr\",\"grammars/train_vocab.gr\"])\n",
    "\n",
    "parser = CkyParse(parse_gram, beamsize=0.0001, verbose=0)"
   ]
  },
  {
   "cell_type": "code",
   "execution_count": 7,
   "metadata": {},
   "outputs": [
    {
     "name": "stderr",
     "output_type": "stream",
     "text": [
      "#parsing: ['Arthur', 'suggested', 'that', 'the', 'castle', 'be', 'carried', '.']\n",
      "#-cross entropy (bits/word): -8.82917\n"
     ]
    },
    {
     "name": "stdout",
     "output_type": "stream",
     "text": [
      "(TOP (S1 (ROOT (S (NP (NP (NNP Arthur) ) (PP (VBN suggested) (PP (IN that) (NP (DT the) (NN castle))))) (S|<VP-.> (VP (VB be) (VP (VBN carried) )) (PERIOD .))) ) ) )\n",
      "-cross entropy: -8.829169614430521\n",
      "                          TOP                                    \n",
      "                           |                                      \n",
      "                           S1                                    \n",
      "                           |                                      \n",
      "                          ROOT                                   \n",
      "                           |                                      \n",
      "                           S                                     \n",
      "                   ________|_________________________             \n",
      "                  NP                                 |           \n",
      "   _______________|____                              |            \n",
      "  |                    PP                         S|<VP-.>       \n",
      "  |         ___________|___                     _____|_______     \n",
      "  |        |               PP                  VP            |   \n",
      "  |        |       ________|____            ___|_____        |    \n",
      "  NP       |      |             NP         |         VP      |   \n",
      "  |        |      |         ____|____      |         |       |    \n",
      " NNP      VBN     IN       DT        NN    VB       VBN    PERIOD\n",
      "  |        |      |        |         |     |         |       |    \n",
      "Arthur suggested that     the      castle  be     carried    .   \n",
      "\n"
     ]
    }
   ],
   "source": [
    "\n",
    "ce, trees = parser.parse_sentences([\"Arthur suggested that the castle be carried .\"])\n",
    "print(\"-cross entropy: {}\".format(ce))\n",
    "for tree_string in trees:\n",
    "    print_tree(tree_string)"
   ]
  },
  {
   "cell_type": "code",
   "execution_count": 8,
   "metadata": {},
   "outputs": [
    {
     "name": "stderr",
     "output_type": "stream",
     "text": [
      "#parsing: ['the', 'nervous', 'sod', 'could', 'looks', 'Mind', '-', \"'s\", 'a', 'zone', '?', '.']\n"
     ]
    },
    {
     "name": "stdout",
     "output_type": "stream",
     "text": [
      "(TOP (S1 (ROOT (S (S (NP (DT the) (NP|<JJ-NN> (JJ nervous) (NN sod))) (VP (MD could) (VP (VBZ looks) (VP (VB Mind) )))) (S|<:-S-.> (COLON -) (S|<S-.> (S (VP (VBZ 's) (NP (DT a) (NN zone))) (PERIOD ?)) (PERIOD .)))) ) ) )\n",
      "-cross entropy: -8.343443026413503\n",
      "                                           TOP                                               \n",
      "                                            |                                                 \n",
      "                                            S1                                               \n",
      "                                            |                                                 \n",
      "                                           ROOT                                              \n",
      "                                            |                                                 \n",
      "                                            S                                                \n",
      "                         ___________________|_________________                                \n",
      "                        |                                 S|<:-S-.>                          \n",
      "                        |                          ___________|____________                   \n",
      "                        S                         |                     S|<S-.>              \n",
      "        ________________|__________               |                   _____|_____________     \n",
      "       |                           VP             |                  S                   |   \n",
      "       |                      _____|____          |            ______|____________       |    \n",
      "       NP                    |          VP        |           VP                  |      |   \n",
      "  _____|________             |      ____|___      |     ______|______             |      |    \n",
      " |          NP|<JJ-NN>       |     |        VP    |    |             NP           |      |   \n",
      " |      ________|_______     |     |        |     |    |       ______|_____       |      |    \n",
      " DT    JJ               NN   MD   VBZ       VB  COLON VBZ     DT           NN   PERIOD PERIOD\n",
      " |     |                |    |     |        |     |    |      |            |      |      |    \n",
      "the nervous            sod could looks     Mind   -    's     a           zone    ?      .   \n",
      "\n"
     ]
    },
    {
     "name": "stderr",
     "output_type": "stream",
     "text": [
      "#-cross entropy (bits/word): -8.34344\n"
     ]
    }
   ],
   "source": [
    "ce, trees = parser.parse_sentences([\"the nervous sod could looks Mind - 's a zone ? .\"])\n",
    "print(\"-cross entropy: {}\".format(ce))\n",
    "for tree_string in trees:\n",
    "    print_tree(tree_string)"
   ]
  },
  {
   "cell_type": "markdown",
   "metadata": {},
   "source": [
    "Use `parse_file` to parse a file of sentences."
   ]
  },
  {
   "cell_type": "code",
   "execution_count": 10,
   "metadata": {},
   "outputs": [
    {
     "name": "stderr",
     "output_type": "stream",
     "text": [
      "#parsing: ['Arthur', 'is', 'the', 'king', '.']\n",
      "#parsing: ['Arthur', 'rides', 'the', 'horse', 'near', 'the', 'castle', '.']\n",
      "#parsing: ['riding', 'to', 'Camelot', 'is', 'hard', '.']\n"
     ]
    },
    {
     "name": "stdout",
     "output_type": "stream",
     "text": [
      "(TOP (S1 (ROOT (S (NP (NNP Arthur) ) (S|<VP-.> (VP (VBZ is) (NP (DT the) (NN king))) (PERIOD .))) ) ) )\n",
      "(TOP (S1 (ROOT (SQ (NNP Arthur) (SQ|<NP-ADVP-NP-PERIOD> (NP (NNS rides) ) (SQ|<ADVP-NP-PERIOD> (ADVP (NP (DT the) (NN horse)) (RB near)) (SQ|<NP-PERIOD> (NP (DT the) (NN castle)) (PERIOD .))))) ) ) )\n",
      "(TOP (S1 (ROOT (S (VP (VBG riding) (VP|<PP-S> (PP (TO to) (NP (NNP Camelot) )) (S (VP (VBZ is) (ADJP (JJ hard) )) (PERIOD .)))) ) ) ) )\n",
      "(TOP (S1 (ROOT (SQ (VBP do) (SQ|<NP-VP-.> (NP (NNS coconuts) ) (SQ|<VP-.> (VP (VB speak) ) (PERIOD ?)))) ) ) )\n",
      "(TOP (S1 (ROOT (SBARQ (WHNP (WP what) ) (SBARQ|<SQ-.> (SQ (VBZ does) (SQ|<NP-VP> (NP (NNP Arthur) ) (VP (VB ride) ))) (PERIOD ?))) ) ) )\n",
      "(TOP (S1 (ROOT (SBARQ (WHNP (WP who) ) (SBARQ|<SQ-.> (SQ (VBZ does) (SQ|<NP-SQ> (NP (NNP Arthur) ) (SQ (NN suggest) (SQ|<NP-VP> (NP (PRP she) ) (VP (VB carry) ))))) (PERIOD ?))) ) ) )\n",
      "(TOP (S1 (ROOT (SBARQ (WHADVP (WRB why) ) (SBARQ|<SQ-.> (SQ (VBZ does) (SQ|<NP-VP> (NP (NNP England) ) (VP (VBP have) (NP (DT a) (NN king))))) (PERIOD ?))) ) ) )\n"
     ]
    },
    {
     "name": "stderr",
     "output_type": "stream",
     "text": [
      "#parsing: ['do', 'coconuts', 'speak', '?']\n",
      "#parsing: ['what', 'does', 'Arthur', 'ride', '?']\n",
      "#parsing: ['who', 'does', 'Arthur', 'suggest', 'she', 'carry', '?']\n",
      "#parsing: ['why', 'does', 'England', 'have', 'a', 'king', '?']\n",
      "#parsing: ['are', 'they', 'suggesting', 'Arthur', 'ride', 'to', 'Camelot', '?']\n"
     ]
    },
    {
     "name": "stdout",
     "output_type": "stream",
     "text": [
      "(TOP (S1 (ROOT (SQ (VBP are) (SQ|<NP-VP> (NP (PRP they) ) (VP (VBG suggesting) (S (NP (NNP Arthur) ) (S|<VP-.> (VP (VB ride) (PP (TO to) (NP (NNP Camelot) ))) (PERIOD ?)))))) ) ) )\n",
      "(TOP (S1 (ROOT (S (NP (CD five) (NNS strangers)) (S|<VP-.> (VP (VBP are) (PP (IN at) (NP (DT the) (NP|<NNP-NNP> (NNP Round) (NNP Table))))) (PERIOD .))) ) ) )\n",
      "(TOP (S1 (ROOT (S (RB Guinevere) (S|<VP-PERIOD> (VP (MD might) (VP (VBP have) (VP (VBN known) ))) (PERIOD .))) ) ) )\n"
     ]
    },
    {
     "name": "stderr",
     "output_type": "stream",
     "text": [
      "#parsing: ['five', 'strangers', 'are', 'at', 'the', 'Round', 'Table', '.']\n",
      "#parsing: ['Guinevere', 'might', 'have', 'known', '.']\n",
      "#parsing: ['Guinevere', 'should', 'be', 'riding', 'with', 'Patsy', '.']\n"
     ]
    },
    {
     "name": "stdout",
     "output_type": "stream",
     "text": [
      "(TOP (S1 (ROOT (S (RB Guinevere) (S|<VP-PERIOD> (VP (MD should) (VP (VB be) (VP (VBG riding) (PP (IN with) (NP (NNP Patsy) ))))) (PERIOD .))) ) ) )\n",
      "(TOP (S1 (ROOT (S (NP (PRP it) ) (VP (VBZ is) (NP (NP (NP (NNP Sir) ) (NN Lancelot)) (SBAR (WHNP (WP who) ) (S (VP (VBZ knows) (NP (NNP Zoot) )) (PERIOD !)))))) ) ) )\n",
      "(TOP (S1 (ROOT (S (NP (DT either) (NNP Arthur)) (VP (VBZ knows) (S (CC or) (S|<NP-VP-.> (NP (NNP Patsy) ) (S|<VP-.> (VP (VBZ does) ) (PERIOD .)))))) ) ) )\n"
     ]
    },
    {
     "name": "stderr",
     "output_type": "stream",
     "text": [
      "#parsing: ['it', 'is', 'Sir', 'Lancelot', 'who', 'knows', 'Zoot', '!']\n",
      "#parsing: ['either', 'Arthur', 'knows', 'or', 'Patsy', 'does', '.']\n",
      "#parsing: ['neither', 'Sir', 'Lancelot', 'nor', 'Guinevere', 'will', 'speak', 'of', 'it', '.']\n"
     ]
    },
    {
     "name": "stdout",
     "output_type": "stream",
     "text": [
      "(TOP (S1 (ROOT (S (NP (DT neither) (NNP Sir)) (S|<VP-.> (VP (VP (NN Lancelot) ) (VP|<CC-RB-VP> (CC nor) (VP|<RB-VP> (RB Guinevere) (VP (MD will) (VP (VB speak) (PP (IN of) (NP (PRP it) ))))))) (PERIOD .))) ) ) )\n"
     ]
    },
    {
     "name": "stderr",
     "output_type": "stream",
     "text": [
      "#parsing: ['the', 'Holy', 'Grail', 'was', 'covered', 'by', 'a', 'yellow', 'fruit', '.']\n"
     ]
    },
    {
     "name": "stdout",
     "output_type": "stream",
     "text": [
      "(TOP (S1 (ROOT (S (NP (DT the) (NP|<NNP-NNP> (NNP Holy) (NNP Grail))) (S|<VP-.> (VP (VBD was) (VP (VBN covered) (PP (IN by) (NP (DT a) (NP|<JJ-NN> (JJ yellow) (NN fruit)))))) (PERIOD .))) ) ) )\n"
     ]
    },
    {
     "name": "stderr",
     "output_type": "stream",
     "text": [
      "#parsing: ['Zoot', 'might', 'have', 'been', 'carried', 'by', 'a', 'swallow', '.']\n"
     ]
    },
    {
     "name": "stdout",
     "output_type": "stream",
     "text": [
      "(TOP (S1 (ROOT (S (NP (NNP Zoot) ) (S|<VP-.> (VP (MD might) (VP (VBP have) (VP (VBN been) (PP (VBN carried) (PP (IN by) (NP (DT a) (NN swallow))))))) (PERIOD .))) ) ) )\n"
     ]
    },
    {
     "name": "stderr",
     "output_type": "stream",
     "text": [
      "#parsing: ['Arthur', 'rode', 'to', 'Camelot', 'and', 'drank', 'from', 'his', 'chalice', '.']\n"
     ]
    },
    {
     "name": "stdout",
     "output_type": "stream",
     "text": [
      "(TOP (S1 (ROOT (S (NP (NNP Arthur) ) (S|<VP-.> (VP (VBD rode) (VP|<PP-PP> (PP (TO to) (NP (NN Camelot) (NP|<CC-NN> (CC and) (NN drank)))) (PP (IN from) (NP (PRP$ his) (NN chalice))))) (PERIOD .))) ) ) )\n"
     ]
    },
    {
     "name": "stderr",
     "output_type": "stream",
     "text": [
      "#parsing: ['they', 'migrate', 'precisely', 'because', 'they', 'know', 'they', 'will', 'grow', '.']\n"
     ]
    },
    {
     "name": "stdout",
     "output_type": "stream",
     "text": [
      "(TOP (S1 (ROOT (S (NP (PRP they) ) (VP (VB migrate) (SBAR (RB precisely) (SBAR|<IN-S> (IN because) (S (NP (PRP they) ) (S|<VP-.> (VP (VB know) (S (NP (PRP they) ) (VP (MD will) (VP (NN grow) )))) (PERIOD .))))))) ) ) )\n",
      "(TOP (S1 (ROOT (S (VP (VBP do) (VP|<RB-VP> (RB not) (VP (VB speak) ))) (PERIOD !)) ) ) )\n",
      "(TOP (S1 (ROOT (S (NP (NNP Arthur) ) (S|<VP-.> (VP (MD will) (VP (VBP have) (VP (VBN been) (VP (VBG riding) (PP (IN for) (NP (CD eight) (NNS nights))))))) (PERIOD .))) ) ) )\n"
     ]
    },
    {
     "name": "stderr",
     "output_type": "stream",
     "text": [
      "#parsing: ['do', 'not', 'speak', '!']\n",
      "#parsing: ['Arthur', 'will', 'have', 'been', 'riding', 'for', 'eight', 'nights', '.']\n",
      "#parsing: ['Arthur', ',', 'sixty', 'inches', ',', 'is', 'a', 'tiny', 'king', '.']\n"
     ]
    },
    {
     "name": "stdout",
     "output_type": "stream",
     "text": [
      "(TOP (S1 (ROOT (S (NP (NP (NNP Arthur) ) (NP|<,-NP-,> (COMMA ,) (NP|<NP-,> (NP (NN sixty) (NNS inches)) (COMMA ,)))) (S|<VP-.> (VP (VBZ is) (NP (DT a) (NP|<JJ-NN> (JJ tiny) (NN king)))) (PERIOD .))) ) ) )\n",
      "(TOP (S1 (ROOT (S (NP (NNP Arthur) ) (S|<VP-.> (VP (VBZ knows) (NP (NP (NNP Patsy) ) (NP|<,-NP> (COMMA ,) (NP (DT the) (NP|<JJ-NN> (JJ trusty) (NN servant)))))) (PERIOD .))) ) ) )\n",
      "(TOP (S1 (ROOT (S (NP (NP (NNP Arthur) ) (NP|<CC-NP> (CC and) (NP (RB Guinevere) ))) (S|<VP-.> (VP (VB migrate) (ADVP (RB frequently) )) (PERIOD .))) ) ) )\n"
     ]
    },
    {
     "name": "stderr",
     "output_type": "stream",
     "text": [
      "#parsing: ['Arthur', 'knows', 'Patsy', ',', 'the', 'trusty', 'servant', '.']\n",
      "#parsing: ['Arthur', 'and', 'Guinevere', 'migrate', 'frequently', '.']\n",
      "#parsing: ['he', 'knows', 'what', 'they', 'are', 'covering', 'with', 'that', 'story', '.']\n"
     ]
    },
    {
     "name": "stdout",
     "output_type": "stream",
     "text": [
      "(TOP (S1 (ROOT (S (NP (PRP he) ) (VP (VBZ knows) (SBAR (WHNP (WP what) ) (S (NP (PRP they) ) (S|<VP-.> (VP (VBP are) (VP (VBG covering) (PP (IN with) (NP (DT that) (NN story))))) (PERIOD .)))))) ) ) )\n",
      "(TOP (S1 (ROOT (S (NP (NP (NNP Arthur) ) (PP (VBN suggested) (PP (IN that) (NP (DT the) (NN castle))))) (S|<VP-.> (VP (VB be) (VP (VBN carried) )) (PERIOD .))) ) ) )\n"
     ]
    },
    {
     "name": "stderr",
     "output_type": "stream",
     "text": [
      "#parsing: ['Arthur', 'suggested', 'that', 'the', 'castle', 'be', 'carried', '.']\n",
      "#parsing: ['the', 'king', 'drank', 'to', 'the', 'castle', 'that', 'was', 'his', 'home', '.']\n"
     ]
    },
    {
     "name": "stdout",
     "output_type": "stream",
     "text": [
      "(TOP (S1 (ROOT (S (NP (NP (NP (DT the) (NP|<NN-NN> (NN king) (NN drank))) (PP (TO to) (NP (DT the) (NN castle)))) (PP (IN that) )) (S|<VP-.> (VP (VBD was) (NP (PRP$ his) (NN home))) (PERIOD .))) ) ) )\n",
      "(TOP (S1 (ROOT (SBARQ (SBAR (WHADVP (WRB when) ) (S (NP (DT the) (NN king)) (NP (NNS drinks) ))) (SBARQ|<COMA-NP-PERIOD> (COMA ,) (SBARQ|<NP-PERIOD> (NP (NNP Patsy) (NNS drinks)) (PERIOD .)))) ) ) )\n",
      "-cross entropy: -9.069324717708444\n"
     ]
    },
    {
     "name": "stderr",
     "output_type": "stream",
     "text": [
      "#parsing: ['when', 'the', 'king', 'drinks', ',', 'Patsy', 'drinks', '.']\n",
      "#-cross entropy (bits/word): -9.06932\n"
     ]
    }
   ],
   "source": [
    "ce, trees = parser.parse_file('text/example_sentences.txt')\n",
    "print(\"-cross entropy: {}\".format(ce))"
   ]
  },
  {
   "cell_type": "code",
   "execution_count": 165,
   "metadata": {},
   "outputs": [
    {
     "name": "stderr",
     "output_type": "stream",
     "text": [
      "#parsing: ['Whoa', 'there', '!']\n",
      "#parsing: ['Halt', '!']\n",
      "#parsing: ['Who', 'goes', 'there', '?']\n",
      "#parsing: ['It', 'is', 'I', ',', 'Arthur', ',', 'son', 'of', 'Uther', 'Pendragon', ',', 'from', 'the', 'castle', 'of', 'Camelot', '.']\n"
     ]
    },
    {
     "name": "stdout",
     "output_type": "stream",
     "text": [
      "(TOP (S1 (ROOT (INTJ (NNP Whoa) (INTJ|<RB-PERIOD> (RB there) (PERIOD !))) ) ) )\n",
      "(TOP (S1 (ROOT (S (VP (VB Halt) ) (PERIOD !)) ) ) )\n",
      "(TOP (S1 (ROOT (SBARQ (WHNP (WP Who) ) (SBARQ|<SQ-.> (SQ (VBZ goes) (NP (EX there) )) (PERIOD ?))) ) ) )\n",
      "(TOP (S1 (ROOT (S (NP (PRP It) ) (S|<VP-.> (VP (VBZ is) (NP (NP (NP (NP (PRP I) ) (NP|<COMA-NP-COMA-NP-COMA> (COMA ,) (NP|<NP-COMA-NP-COMA> (NP (NNP Arthur) ) (NP|<COMA-NP-COMA> (COMA ,) (NP|<NP-COMA> (NP (NP (NN son) ) (PP (IN of) (NP (NNP Uther) (NNP Pendragon)))) (COMA ,)))))) (PP (IN from) (NP (DT the) (NN castle)))) (PP (IN of) (NP (NNP Camelot) )))) (PERIOD .))) ) ) )\n"
     ]
    },
    {
     "name": "stderr",
     "output_type": "stream",
     "text": [
      "#parsing: ['King', 'of', 'the', 'Britons', ',', 'defeator', 'of', 'the', 'Saxons', ',', 'sovereign', 'of', 'all', 'England', '!']\n"
     ]
    },
    {
     "name": "stdout",
     "output_type": "stream",
     "text": [
      "(TOP (S1 (ROOT (FRAG (NP (NP (NNP King) ) (PP (IN of) (NP (DT the) (NNPS Britons)))) (FRAG|<COMA-INTJ-COMA-ADJP-PERIOD> (COMA ,) (FRAG|<INTJ-COMA-ADJP-PERIOD> (INTJ (NN defeator) (PP (IN of) (NP (DT the) (NNPS Saxons)))) (FRAG|<COMA-ADJP-PERIOD> (COMA ,) (FRAG|<ADJP-PERIOD> (ADJP (JJ sovereign) (PP (IN of) (NP (DT all) (NNP England)))) (PERIOD !)))))) ) ) )\n",
      "(TOP (S1 (ROOT (S (VP (VB Pull) (NP (DT the) (NP|<JJ-NN> (JJ other) (NN one)))) (PERIOD !)) ) ) )\n",
      "(TOP (S1 (ROOT (S (NP (PRP I) ) (S|<VP-.> (VP (VBP am) ) (PERIOD .))) ) ) )\n",
      "(TOP (S1 (ROOT (FRAG (CC And) (FRAG|<NP-NP-PERIOD> (NP (DT this) ) (FRAG|<NP-PERIOD> (NP (PRP$ my) (NP|<JJ-NX> (JJ trusty) (NX (NNP servant) (NNP Patsy)))) (PERIOD .)))) ) ) )\n"
     ]
    },
    {
     "name": "stderr",
     "output_type": "stream",
     "text": [
      "#parsing: ['Pull', 'the', 'other', 'one', '!']\n",
      "#parsing: ['I', 'am', '.']\n",
      "#parsing: ['And', 'this', 'my', 'trusty', 'servant', 'Patsy', '.']\n",
      "#parsing: ['We', 'have', 'ridden', 'the', 'length', 'and', 'breadth', 'of', 'the', 'land', 'in', 'search', 'of', 'knights', 'who', 'will', 'join', 'me', 'in', 'my', 'court', 'of', 'Camelot', '.']\n"
     ]
    },
    {
     "name": "stdout",
     "output_type": "stream",
     "text": [
      "(TOP (S1 (ROOT (S (NP (PRP We) ) (VP (VBP have) (VP (VBN ridden) (VP|<NP-PP> (NP (NP (NP (DT the) (NP|<NN-CC-NN> (NN length) (NP|<CC-NN> (CC and) (NN breadth)))) (PP (IN of) (NP (DT the) (NN land)))) (PP (IN in) (NP (NN search) ))) (PP (IN of) (NP (NP (NNS knights) ) (SBAR (WHNP (WP who) ) (S (VP (MD will) (VP (VB join) (VP|<NP-PP> (NP (NP (PRP me) ) (PP (IN in) (NP (PRP$ my) (NN court)))) (PP (IN of) (NP (NNP Camelot) ))))) (PERIOD .))))))))) ) ) )\n",
      "(TOP (S1 (ROOT (S (NP (PRP I) ) (S|<VP-.> (VP (MD must) (VP (VB speak) (PP (IN with) (NP (PRP$ your) (NP|<NN-CC-NN> (NN lord) (NP|<CC-NN> (CC and) (NN master))))))) (PERIOD .))) ) ) )\n"
     ]
    },
    {
     "name": "stderr",
     "output_type": "stream",
     "text": [
      "#parsing: ['I', 'must', 'speak', 'with', 'your', 'lord', 'and', 'master', '.']\n",
      "#parsing: ['What', ',', 'ridden', 'on', 'a', 'horse', '?']\n"
     ]
    },
    {
     "name": "stdout",
     "output_type": "stream",
     "text": [
      "(TOP (S1 (ROOT (SBARQ (WHNP (WP What) ) (SBARQ|<COMA-VP-PERIOD> (COMA ,) (SBARQ|<VP-PERIOD> (VP (VBN ridden) (PP (IN on) (NP (DT a) (NN horse)))) (PERIOD ?)))) ) ) )\n",
      "(TOP (S1 (ROOT (INTJ (UH Yes) (PERIOD !)) ) ) )\n",
      "(TOP (S1 (ROOT (S (NP (NNP You're) ) (S|<VP-.> (VP (VBG using) (NP (NNS coconuts) )) (PERIOD !))) ) ) )\n",
      "(TOP (S1 (ROOT (FRAG (WHNP (WP What) ) (PERIOD ?)) ) ) )\n"
     ]
    },
    {
     "name": "stderr",
     "output_type": "stream",
     "text": [
      "#parsing: ['Yes', '!']\n",
      "#parsing: [\"You're\", 'using', 'coconuts', '!']\n",
      "#parsing: ['What', '?']\n",
      "#parsing: [\"You've\", 'got', 'two', 'empty', 'halves', 'of', 'coconut', 'and', 'you', \"'re\", 'bangin', \"'em\", 'together', '.']\n"
     ]
    },
    {
     "name": "stdout",
     "output_type": "stream",
     "text": [
      "(TOP (S1 (ROOT (S (S (NP (NNP You've) ) (VP (VBD got) (VP|<NP-PP> (NP (CD two) (NP|<JJ-NNS> (JJ empty) (NNS halves))) (PP (IN of) (NP (NN coconut) ))))) (S|<CC-S> (CC and) (S (NP (PRP you) ) (S|<VP-.> (VP (VBP 're) (VP|<JJ-NP-ADVP> (JJ bangin) (VP|<NP-ADVP> (NP (TWOSINGLEQUOTES 'em) ) (ADVP (RB together) )))) (PERIOD .))))) ) ) )\n",
      "(TOP (S1 (ROOT (FRAG (ADVP (RB So) ) (PERIOD ?)) ) ) )\n"
     ]
    },
    {
     "name": "stderr",
     "output_type": "stream",
     "text": [
      "#parsing: ['So', '?']\n",
      "#parsing: ['We', 'have', 'ridden', 'since', 'the', 'snows', 'of', 'winter', 'covered', 'this', 'land', ',', 'through', 'the', 'kingdom', 'of', 'Mercea', ',', 'through', '--']\n"
     ]
    },
    {
     "name": "stdout",
     "output_type": "stream",
     "text": [
      "(TOP (S1 (ROOT (S (NP (PRP We) ) (S|<VP-:> (VP (VBP have) (VP (VBN ridden) (VP|<SBAR-COMA-PP-COMA-PP> (SBAR (IN since) (S (NP (NP (DT the) (NNS snows)) (PP (IN of) (NP (NN winter) ))) (VP (VBD covered) (NP (DT this) (NN land))))) (VP|<COMA-PP-COMA-PP> (COMA ,) (VP|<PP-COMA-PP> (PP (IN through) (NP (NP (DT the) (NN kingdom)) (PP (IN of) (NP (NNP Mercea) )))) (VP|<COMA-PP> (COMA ,) (PP (IN through) ))))))) (COLON --))) ) ) )\n",
      "(TOP (S1 (ROOT (SBARQ (WHADVP (WRB Where) ) (SBARQ|<SQ-.> (SQ (MD 'd) (SQ|<NP-VP> (NP (PRP you) ) (VP (VB get) (NP (DT the) (NN coconut))))) (PERIOD ?))) ) ) )\n",
      "(TOP (S1 (ROOT (S (NP (PRP We) ) (S|<VP-.> (VP (VBN found) (NP (PRP them) )) (PERIOD .))) ) ) )\n",
      "(TOP (S1 (ROOT (S (VP (VB Found) (NP (PRP them) )) (PERIOD ?)) ) ) )\n",
      "(TOP (S1 (ROOT (FRAG (PP (IN In) (NP (NNP Mercea) )) (PERIOD ?)) ) ) )\n",
      "(TOP (S1 (ROOT (S (NP (DT The) (NN coconut)) (S|<VP-.> (VP (VBZ 's) (ADJP (JJ tropical) )) (PERIOD !))) ) ) )\n",
      "(TOP (S1 (ROOT (SBARQ (WHNP (WP What) ) (SBARQ|<SQ-.> (SQ (VBP do) (SQ|<NP-VP> (NP (PRP you) ) (VP (VB mean) ))) (PERIOD ?))) ) ) )\n",
      "(TOP (S1 (ROOT (S (INTJ (UH Well) ) (S|<,-NP-VP-.> (COMMA ,) (S|<NP-VP-.> (NP (DT this) ) (S|<VP-.> (VP (VBZ is) (NP (DT a) (NP|<JJ-NN> (JJ temperate) (NN zone)))) (PERIOD .))))) ) ) )\n"
     ]
    },
    {
     "name": "stderr",
     "output_type": "stream",
     "text": [
      "#parsing: ['Where', \"'d\", 'you', 'get', 'the', 'coconut', '?']\n",
      "#parsing: ['We', 'found', 'them', '.']\n",
      "#parsing: ['Found', 'them', '?']\n",
      "#parsing: ['In', 'Mercea', '?']\n",
      "#parsing: ['The', 'coconut', \"'s\", 'tropical', '!']\n",
      "#parsing: ['What', 'do', 'you', 'mean', '?']\n",
      "#parsing: ['Well', ',', 'this', 'is', 'a', 'temperate', 'zone', '.']\n",
      "#parsing: ['The', 'swallow', 'may', 'fly', 'south', 'with', 'the', 'sun', 'or', 'the', 'house', 'martin', 'or', 'the', 'plumber', 'may', 'seek', 'warmer', 'climes', 'in', 'winter', 'yet', 'these', 'are', 'not', 'strangers', 'to', 'our', 'land', '.']\n"
     ]
    },
    {
     "name": "stdout",
     "output_type": "stream",
     "text": [
      "(TOP (S1 (ROOT (S (S (NP (DT The) (NN swallow)) (VP (MD may) (VP (VB fly) (VP|<ADVP-PP> (ADVP (RB south) ) (PP (IN with) (NP (DT the) (NN sun))))))) (S|<CC-S> (CC or) (S (NP (NP (DT the) (NP|<NN-NN> (NN house) (NN martin))) (NP|<CC-NP> (CC or) (NP (DT the) (NN plumber)))) (VP (MD may) (VP (VBP seek) (VP|<NP-PP-S> (NP (NN warmer) (NNS climes)) (VP|<PP-S> (PP (IN in) (NP (NN winter) )) (S (ADVP (RB yet) ) (S|<NP-VP-.> (NP (DT these) ) (S|<VP-.> (VP (VBP are) (VP|<RB-NP> (RB not) (NP (NP (NNS strangers) ) (PP (TO to) (NP (PRP$ our) (NN land)))))) (PERIOD .))))))))))) ) ) )\n",
      "(TOP (S1 (ROOT (SQ (VBP Are) (SQ|<NP-VP> (NP (PRP you) ) (VP (VBG suggesting) (S (NP (NNS coconuts) ) (S|<VP-.> (VP (VB migrate) ) (PERIOD ?)))))) ) ) )\n",
      "(TOP (S1 (ROOT (S (ADVP (RB Not) (ADVP|<IN-DT> (IN at) (DT all))) (S|<,-NP-VP-.> (COMMA ,) (S|<NP-VP-.> (NP (PRP they) ) (S|<VP-.> (VP (MD could) (VP (VB be) (VP (VBN carried) ))) (PERIOD .))))) ) ) )\n"
     ]
    },
    {
     "name": "stderr",
     "output_type": "stream",
     "text": [
      "#parsing: ['Are', 'you', 'suggesting', 'coconuts', 'migrate', '?']\n",
      "#parsing: ['Not', 'at', 'all', ',', 'they', 'could', 'be', 'carried', '.']\n",
      "#parsing: ['What', '--', 'a', 'swallow', 'carrying', 'a', 'coconut', '?']\n"
     ]
    },
    {
     "name": "stdout",
     "output_type": "stream",
     "text": [
      "(TOP (S1 (ROOT (FRAG (WHNP (WP What) ) (FRAG|<COLON-NP-PERIOD> (COLON --) (FRAG|<NP-PERIOD> (NP (NP (DT a) (NN swallow)) (VP (VBG carrying) (NP (DT a) (NN coconut)))) (PERIOD ?)))) ) ) )\n",
      "(TOP (S1 (ROOT (S (NP (PRP It) ) (S|<VP-.> (VP (MD could) (VP (VB grip) (VP|<NP-PP> (NP (PRP it) ) (PP (IN by) (NP (DT the) (NN husk)))))) (PERIOD !))) ) ) )\n"
     ]
    },
    {
     "name": "stderr",
     "output_type": "stream",
     "text": [
      "#parsing: ['It', 'could', 'grip', 'it', 'by', 'the', 'husk', '!']\n",
      "#parsing: ['It', \"'s\", 'not', 'a', 'question', 'of', 'where', 'he', 'grips', 'it', '!']\n"
     ]
    },
    {
     "name": "stdout",
     "output_type": "stream",
     "text": [
      "(TOP (S1 (ROOT (S (NP (PRP It) ) (S|<VP-.> (VP (VBZ 's) (VP|<RB-NP-PP> (RB not) (VP|<NP-PP> (NP (DT a) (NN question)) (PP (IN of) (SBAR (WHADVP (WRB where) ) (S (NP (PRP he) ) (VP (VBZ grips) (NP (PRP it) )))))))) (PERIOD !))) ) ) )\n",
      "(TOP (S1 (ROOT (S (NP (PRP It) ) (S|<VP-.> (VP (VBZ 's) (NP (NP (DT a) (NP|<JJ-NN> (JJ simple) (NN question))) (PP (IN of) (NP (JJ weight) (NNS ratios))))) (PERIOD !))) ) ) )\n"
     ]
    },
    {
     "name": "stderr",
     "output_type": "stream",
     "text": [
      "#parsing: ['It', \"'s\", 'a', 'simple', 'question', 'of', 'weight', 'ratios', '!']\n",
      "#parsing: ['A', 'five', 'ounce', 'bird', 'could', 'not', 'carry', 'a', '1', 'pound', 'coconut', '.']\n"
     ]
    },
    {
     "name": "stdout",
     "output_type": "stream",
     "text": [
      "(TOP (S1 (ROOT (S (NP (DT A) (NP|<CD-NN-NN> (CD five) (NP|<NN-NN> (NN ounce) (NN bird)))) (S|<VP-.> (VP (MD could) (VP|<RB-VP> (RB not) (VP (VB carry) (NP (DT a) (NP|<CD-NN-NN> (CD 1) (NP|<NN-NN> (NN pound) (NN coconut))))))) (PERIOD .))) ) ) )\n",
      "(TOP (S1 (ROOT (S (INTJ (UH Well) ) (S|<,-NP-VP-.> (COMMA ,) (S|<NP-VP-.> (NP (PRP it) ) (S|<VP-.> (VP (VBZ does) (VP|<RB-VP> (RB n't) (VP (VB matter) ))) (PERIOD .))))) ) ) )\n"
     ]
    },
    {
     "name": "stderr",
     "output_type": "stream",
     "text": [
      "#parsing: ['Well', ',', 'it', 'does', \"n't\", 'matter', '.']\n",
      "#parsing: ['Will', 'you', 'go', 'and', 'tell', 'your', 'master', 'that', 'Arthur', 'from', 'the', 'Court', 'of', 'Camelot', 'is', 'here', '.']\n"
     ]
    },
    {
     "name": "stdout",
     "output_type": "stream",
     "text": [
      "(TOP (S1 (ROOT (SQ (MD Will) (SQ|<NP-VP> (NP (PRP you) ) (VP (VB go) (VP|<CC-VB-NP-SBAR> (CC and) (VP|<VB-NP-SBAR> (VB tell) (VP|<NP-SBAR> (NP (NP (NP (PRP$ your) (NN master)) (PP (IN that) (NP (NNP Arthur) ))) (PP (IN from) (NP (DT the) (NNP Court)))) (SBAR (IN of) (S (NP (NNP Camelot) ) (S|<VP-.> (VP (VBZ is) (ADVP (RB here) )) (PERIOD .)))))))))) ) ) )\n"
     ]
    },
    {
     "name": "stderr",
     "output_type": "stream",
     "text": [
      "#parsing: ['Listen', ',', 'in', 'order', 'to', 'maintain', 'air', '-', 'speed', 'velocity', ',', 'a', 'swallow', 'needs', 'to', 'beat', 'its', 'wings', '43', 'times', 'every', 'second', ',', 'right', '?']\n"
     ]
    },
    {
     "name": "stdout",
     "output_type": "stream",
     "text": [
      "(TOP (S1 (ROOT (S (NNP Listen) (S|<COMA-SBAR-COMA-NP-VP-PERIOD> (COMA ,) (S|<SBAR-COMA-NP-VP-PERIOD> (SBAR (IN in) (S (NP (NN order) ) (VP (TO to) (VP (VB maintain) (NP (NP (NN air) ) (NP|<:-NP> (COLON -) (NP (NN speed) (NN velocity)))))))) (S|<COMA-NP-VP-PERIOD> (COMA ,) (S|<NP-VP-PERIOD> (NP (DT a) (NP|<NN-NNS> (NN swallow) (NNS needs))) (S|<VP-PERIOD> (VP (TO to) (VP (VB beat) (VP|<NP-NP-NP> (NP (PRP$ its) (NNS wings)) (VP|<NP-NP> (NP (CD 43) (NNS times)) (NP (NP (DT every) (JJ second)) (NP|<,-NP> (COMMA ,) (NP (NN right) ))))))) (PERIOD ?))))))) ) ) )\n",
      "(TOP (S1 (ROOT (INTJ (UH Please) (PERIOD !)) ) ) )\n",
      "(TOP (S1 (ROOT (S (VP (VBD Am) (VP|<NP-ADVP> (NP (PRP I) ) (ADVP (RB right) ))) (PERIOD ?)) ) ) )\n",
      "(TOP (S1 (ROOT (S (VP (NNP I'm) (ADJP (RB not) (JJ interested))) (PERIOD !)) ) ) )\n",
      "(TOP (S1 (ROOT (S (NP (PRP It) ) (S|<VP-.> (VP (MD could) (VP (VB be) (VP (VBN carried) (PP (IN by) (NP (DT an) (NP|<JJ-NN> (JJ African) (NN swallow))))))) (PERIOD !))) ) ) )\n"
     ]
    },
    {
     "name": "stderr",
     "output_type": "stream",
     "text": [
      "#parsing: ['Please', '!']\n",
      "#parsing: ['Am', 'I', 'right', '?']\n",
      "#parsing: [\"I'm\", 'not', 'interested', '!']\n",
      "#parsing: ['It', 'could', 'be', 'carried', 'by', 'an', 'African', 'swallow', '!']\n",
      "#parsing: ['Oh', ',', 'yeah', ',', 'an', 'African', 'swallow', 'maybe', ',', 'but', 'not', 'a', 'European', 'swallow', ',', 'that', \"'s\", 'my', 'point', '.']\n"
     ]
    },
    {
     "name": "stdout",
     "output_type": "stream",
     "text": [
      "(TOP (S1 (ROOT (S (INTJ (UH Oh) ) (S|<COMA-INTJ-COMA-CC-RB-NP-COMA-NP-VP-PERIOD> (COMA ,) (S|<INTJ-COMA-CC-RB-NP-COMA-NP-VP-PERIOD> (INTJ (INTJ (UH yeah) ) (INTJ|<COMA-NP-ADVP> (COMA ,) (INTJ|<NP-ADVP> (NP (DT an) (NP|<JJ-NN> (JJ African) (NN swallow))) (ADVP (RB maybe) )))) (S|<COMA-CC-RB-NP-COMA-NP-VP-PERIOD> (COMA ,) (S|<CC-RB-NP-COMA-NP-VP-PERIOD> (CC but) (S|<RB-NP-COMA-NP-VP-PERIOD> (RB not) (S|<NP-COMA-NP-VP-PERIOD> (NP (DT a) (NP|<JJ-NN> (JJ European) (NN swallow))) (S|<COMA-NP-VP-PERIOD> (COMA ,) (S|<NP-VP-PERIOD> (NP (DT that) ) (S|<VP-PERIOD> (VP (VBZ 's) (NP (PRP$ my) (NN point))) (PERIOD .))))))))))) ) ) )\n",
      "(TOP (S1 (ROOT (S (INTJ (UH Oh) ) (S|<COMA-INTJ-COMA-NP-VP-COLON> (COMA ,) (S|<INTJ-COMA-NP-VP-COLON> (INTJ (UH yeah) ) (S|<COMA-NP-VP-COLON> (COMA ,) (S|<NP-VP-COLON> (NP (PRP I) ) (S|<VP-COLON> (VP (VB agree) (PP (IN with) (NP (DT that) ))) (COLON ...))))))) ) ) )\n"
     ]
    },
    {
     "name": "stderr",
     "output_type": "stream",
     "text": [
      "#parsing: ['Oh', ',', 'yeah', ',', 'I', 'agree', 'with', 'that', '...']\n",
      "#parsing: ['Will', 'you', 'ask', 'your', 'master', 'if', 'he', 'wants', 'to', 'join', 'my', 'court', 'at', 'Camelot', '?', '!']\n"
     ]
    },
    {
     "name": "stdout",
     "output_type": "stream",
     "text": [
      "(TOP (S1 (ROOT (SQ (MD Will) (SQ|<NP-VP-.> (NP (PRP you) ) (SQ|<VP-.> (VP (VB ask) (VP|<NP-SBAR> (NP (PRP$ your) (NN master)) (SBAR (IN if) (S (NP (PRP he) ) (S|<VP-.> (VP (VBZ wants) (VP (TO to) (VP (VB join) (VP|<NP-PP> (NP (PRP$ my) (NN court)) (PP (IN at) (NP (NNP Camelot) )))))) (PERIOD ?)))))) (PERIOD !)))) ) ) )\n"
     ]
    },
    {
     "name": "stderr",
     "output_type": "stream",
     "text": [
      "#parsing: ['But', 'then', 'of', 'course', 'African', 'swallows', 'are', 'not', 'migratory', '.']\n"
     ]
    },
    {
     "name": "stdout",
     "output_type": "stream",
     "text": [
      "(TOP (S1 (ROOT (S (CC But) (S|<ADVP-PP-NP-VP-PERIOD> (ADVP (RB then) ) (S|<PP-NP-VP-PERIOD> (PP (IN of) (NP (NN course) )) (S|<NP-VP-PERIOD> (NP (JJ African) (NNS swallows)) (S|<VP-PERIOD> (VP (VBP are) (ADJP (RB not) (JJ migratory))) (PERIOD .)))))) ) ) )\n",
      "(TOP (S1 (ROOT (FRAG (INTJ (UH Oh) ) (FRAG|<COMA-INTJ-COLON> (COMA ,) (FRAG|<INTJ-COLON> (INTJ (UH yeah) ) (COLON ...)))) ) ) )\n"
     ]
    },
    {
     "name": "stderr",
     "output_type": "stream",
     "text": [
      "#parsing: ['Oh', ',', 'yeah', '...']\n",
      "#parsing: ['So', 'they', 'could', \"n't\", 'bring', 'a', 'coconut', 'back', 'anyway', '...']\n"
     ]
    },
    {
     "name": "stdout",
     "output_type": "stream",
     "text": [
      "(TOP (S1 (ROOT (S (CC So) (S|<NP-VP-:> (NP (PRP they) ) (S|<VP-:> (VP (MD could) (VP|<RB-VP> (RB n't) (VP (VB bring) (VP|<NP-PRT-ADVP> (NP (DT a) (NN coconut)) (VP|<PRT-ADVP> (PRT (RP back) ) (ADVP (RB anyway) )))))) (COLON ...)))) ) ) )\n",
      "(TOP (S1 (ROOT (S (VP (WRB Wait) (VP|<NP-COLON-S> (NP (DT a) (NN minute)) (VP|<COLON-S> (COLON --) (S (VP (VBG supposing) (S (NP (CD two) (NNS swallows)) (VP (VBD carried) (VP|<NP-ADVP> (NP (PRP it) ) (ADVP (RB together) ))))) (PERIOD ?))))) ) ) ) )\n"
     ]
    },
    {
     "name": "stderr",
     "output_type": "stream",
     "text": [
      "#parsing: ['Wait', 'a', 'minute', '--', 'supposing', 'two', 'swallows', 'carried', 'it', 'together', '?']\n",
      "#parsing: ['No', ',', 'they', \"'d\", 'have', 'to', 'have', 'it', 'on', 'a', 'line', '.']\n"
     ]
    },
    {
     "name": "stdout",
     "output_type": "stream",
     "text": [
      "(TOP (S1 (ROOT (S (INTJ (UH No) ) (S|<,-NP-VP-.> (COMMA ,) (S|<NP-VP-.> (NP (PRP they) ) (S|<VP-.> (VP (MD 'd) (VP (VBP have) (VP (TO to) (VP (VB have) (VP|<NP-PP> (NP (PRP it) ) (PP (IN on) (NP (DT a) (NN line)))))))) (PERIOD .))))) ) ) )\n",
      "(TOP (S1 (ROOT (FRAG (INTJ (UH Well) ) (FRAG|<COMA-ADJP-PERIOD> (COMA ,) (FRAG|<ADJP-PERIOD> (ADJP (JJ simple) ) (PERIOD !)))) ) ) )\n",
      "(TOP (S1 (ROOT (S (NP (PRP They) ) (S|<VP-.> (VP (MD 'd) (VP|<RB-VP> (RB just) (VP (VB use) (NP (DT a) (NP|<JJ-NN> (JJ standard) (NN creeper)))))) (PERIOD !))) ) ) )\n"
     ]
    },
    {
     "name": "stderr",
     "output_type": "stream",
     "text": [
      "#parsing: ['Well', ',', 'simple', '!']\n",
      "#parsing: ['They', \"'d\", 'just', 'use', 'a', 'standard', 'creeper', '!']\n",
      "#parsing: ['What', ',', 'held', 'under', 'the', 'dorsal', 'guiding', 'feathers', '?']\n"
     ]
    },
    {
     "name": "stdout",
     "output_type": "stream",
     "text": [
      "(TOP (S1 (ROOT (SBARQ (WHNP (WP What) ) (SBARQ|<COMA-VP-PERIOD> (COMA ,) (SBARQ|<VP-PERIOD> (VP (VBN held) (PP (IN under) (NP (DT the) (NP|<JJ-VBG-NNS> (JJ dorsal) (NP|<VBG-NNS> (VBG guiding) (NNS feathers)))))) (PERIOD ?)))) ) ) )\n",
      "(TOP (S1 (ROOT (FRAG (INTJ (UH Well) ) (FRAG|<COMA-WHADVP-RB-PERIOD> (COMA ,) (FRAG|<WHADVP-RB-PERIOD> (WHADVP (WRB why) ) (FRAG|<RB-PERIOD> (RB not) (PERIOD ?))))) ) ) )\n",
      "(TOP (S1 (ROOT (S (VP (VBG Bring) (VP|<PRT-NP> (PRT (RP out) ) (NP (PRP$ your) (NN dead)))) (PERIOD !)) ) ) )\n",
      "(TOP (S1 (ROOT (SINV (ADVP (RB Here) ) (SINV|<VP-NP-PERIOD> (VP (VBZ 's) (NP (CD one) (NP|<:-CD> (COLON --) (CD nine)))) (SINV|<NP-PERIOD> (NP (NN pence) ) (PERIOD .)))) ) ) )\n",
      "(TOP (S1 (ROOT (S (VP (NNP I'm) (ADJP (RB not) (JJ dead))) (PERIOD !)) ) ) )\n",
      "(TOP (S1 (ROOT (FRAG (WHNP (WP What) ) (PERIOD ?)) ) ) )\n",
      "(TOP (S1 (ROOT (S (NP (NN Nothing) ) (S|<:-ADVP-VP-.> (COLON --) (S|<ADVP-VP-.> (ADVP (RB here) ) (S|<VP-.> (VP (VBZ 's) (NP (PRP$ your) (NP|<CD-NN> (CD nine) (NN pence)))) (PERIOD .))))) ) ) )\n",
      "(TOP (S1 (ROOT (S (VP (NNP I'm) (ADJP (RB not) (JJ dead))) (PERIOD !)) ) ) )\n"
     ]
    },
    {
     "name": "stderr",
     "output_type": "stream",
     "text": [
      "#parsing: ['Well', ',', 'why', 'not', '?']\n",
      "#parsing: ['Bring', 'out', 'your', 'dead', '!']\n",
      "#parsing: ['Here', \"'s\", 'one', '--', 'nine', 'pence', '.']\n",
      "#parsing: [\"I'm\", 'not', 'dead', '!']\n",
      "#parsing: ['What', '?']\n",
      "#parsing: ['Nothing', '--', 'here', \"'s\", 'your', 'nine', 'pence', '.']\n",
      "#parsing: [\"I'm\", 'not', 'dead', '!']\n",
      "#parsing: ['Here', '--', 'he', 'says', 'he', \"'s\", 'not', 'dead', '!']\n"
     ]
    },
    {
     "name": "stdout",
     "output_type": "stream",
     "text": [
      "(TOP (S1 (ROOT (S (ADVP (RB Here) ) (S|<COLON-NP-VP-PERIOD> (COLON --) (S|<NP-VP-PERIOD> (NP (PRP he) ) (S|<VP-PERIOD> (VP (VBZ says) (S (NP (PRP he) ) (VP (VBZ 's) (ADJP (RB not) (JJ dead))))) (PERIOD !))))) ) ) )\n",
      "(TOP (S1 (ROOT (S (INTJ (UH Yes) ) (S|<,-NP-VP-.> (COMMA ,) (S|<NP-VP-.> (NP (PRP he) ) (S|<VP-.> (VP (VBZ is) ) (PERIOD .))))) ) ) )\n",
      "(TOP (S1 (ROOT (INTJ (NNP I'm) (INTJ|<RB-PERIOD> (RB not) (PERIOD !))) ) ) )\n",
      "(TOP (S1 (ROOT (S (NP (PRP He) ) (S|<VP-.> (VP (VBZ is) (ADVP (RB n't) )) (PERIOD .))) ) ) )\n"
     ]
    },
    {
     "name": "stderr",
     "output_type": "stream",
     "text": [
      "#parsing: ['Yes', ',', 'he', 'is', '.']\n",
      "#parsing: [\"I'm\", 'not', '!']\n",
      "#parsing: ['He', 'is', \"n't\", '.']\n",
      "#parsing: ['Well', ',', 'he', 'will', 'be', 'soon', ',', 'he', \"'s\", 'very', 'ill', '.']\n"
     ]
    },
    {
     "name": "stdout",
     "output_type": "stream",
     "text": [
      "(TOP (S1 (ROOT (S (INTJ (UH Well) ) (S|<,-NP-VP-.> (COMMA ,) (S|<NP-VP-.> (NP (PRP he) ) (S|<VP-.> (VP (MD will) (VP (VB be) (S (ADVP (RB soon) ) (S|<,-NP-VP> (COMMA ,) (S|<NP-VP> (NP (PRP he) ) (VP (VBZ 's) (ADJP (RB very) (JJ ill)))))))) (PERIOD .))))) ) ) )\n",
      "(TOP (S1 (ROOT (S (NP (NNP I'm) ) (S|<VP-.> (VP (VBG getting) (ADVP (RBR better) )) (PERIOD !))) ) ) )\n"
     ]
    },
    {
     "name": "stderr",
     "output_type": "stream",
     "text": [
      "#parsing: [\"I'm\", 'getting', 'better', '!']\n",
      "#parsing: ['No', ',', 'you', \"'re\", 'not', '--', 'you', \"'ll\", 'be', 'stone', 'dead', 'in', 'a', 'moment', '.']\n"
     ]
    },
    {
     "name": "stdout",
     "output_type": "stream",
     "text": [
      "(TOP (S1 (ROOT (S (INTJ (UH No) ) (S|<COMA-S-COLON-S-PERIOD> (COMA ,) (S|<S-COLON-S-PERIOD> (S (PRP you) (S|<VBP-RB> (VBP 're) (RB not))) (S|<COLON-S-PERIOD> (COLON --) (S|<S-PERIOD> (S (NP (PRP you) ) (VP (MD 'll) (VP (VB be) (VP|<ADJP-PP> (ADJP (RB stone) (JJ dead)) (PP (IN in) (NP (DT a) (NN moment))))))) (PERIOD .)))))) ) ) )\n"
     ]
    },
    {
     "name": "stderr",
     "output_type": "stream",
     "text": [
      "#parsing: ['Oh', ',', 'I', \"can't\", 'take', 'him', 'like', 'that', '--', 'it', \"'s\", 'against', 'regulations', '.']\n"
     ]
    },
    {
     "name": "stdout",
     "output_type": "stream",
     "text": [
      "(TOP (S1 (ROOT (S (INTJ (UH Oh) ) (S|<COMA-S-COLON-S-PERIOD> (COMA ,) (S|<S-COLON-S-PERIOD> (S (NP (PRP I) ) (VP (VBP can't) (VP (VB take) (VP|<NP-PP> (NP (PRP him) ) (PP (IN like) (NP (DT that) )))))) (S|<COLON-S-PERIOD> (COLON --) (S|<S-PERIOD> (S (NP (PRP it) ) (VP (VBZ 's) (PP (IN against) (NP (NNS regulations) )))) (PERIOD .)))))) ) ) )\n"
     ]
    },
    {
     "name": "stderr",
     "output_type": "stream",
     "text": [
      "#parsing: ['I', 'do', \"n't\", 'want', 'to', 'go', 'in', 'the', 'cart', '!']\n"
     ]
    },
    {
     "name": "stdout",
     "output_type": "stream",
     "text": [
      "(TOP (S1 (ROOT (S (NP (PRP I) ) (S|<VP-.> (VP (VBP do) (VP|<RB-VP> (RB n't) (VP (VBP want) (VP (TO to) (VP (VB go) (PP (IN in) (NP (DT the) (NN cart)))))))) (PERIOD !))) ) ) )\n",
      "(TOP (S1 (ROOT (S (INTJ (UH Oh) ) (S|<,-VP-.> (COMMA ,) (S|<VP-.> (VP (VBP do) (VP|<RB-VP> (RB n't) (VP (VB be) (NP (PDT such) (NP|<DT-NN> (DT a) (NN baby)))))) (PERIOD .)))) ) ) )\n",
      "(TOP (S1 (ROOT (S (NP (PRP I) ) (S|<VP-:> (VP (VBP can't) (VP (VB take) (NP (PRP him) ))) (COLON ...))) ) ) )\n",
      "(TOP (S1 (ROOT (S (NP (PRP I) ) (S|<VP-.> (VP (VBP feel) (ADJP (JJ fine) )) (PERIOD !))) ) ) )\n",
      "(TOP (S1 (ROOT (S (INTJ (UH Oh) ) (S|<COMA-VP-COLON> (COMA ,) (S|<VP-COLON> (VP (VBP do) (VP|<NP-NP> (NP (PRP us) ) (NP (DT a) (NN favor)))) (COLON ...)))) ) ) )\n",
      "(TOP (S1 (ROOT (S (NP (PRP I) ) (S|<VP-.> (VP (VBP can't) ) (PERIOD .))) ) ) )\n"
     ]
    },
    {
     "name": "stderr",
     "output_type": "stream",
     "text": [
      "#parsing: ['Oh', ',', 'do', \"n't\", 'be', 'such', 'a', 'baby', '.']\n",
      "#parsing: ['I', \"can't\", 'take', 'him', '...']\n",
      "#parsing: ['I', 'feel', 'fine', '!']\n",
      "#parsing: ['Oh', ',', 'do', 'us', 'a', 'favor', '...']\n",
      "#parsing: ['I', \"can't\", '.']\n",
      "#parsing: ['Well', ',', 'can', 'you', 'hang', 'around', 'a', 'couple', 'of', 'minutes', '?']\n"
     ]
    },
    {
     "name": "stdout",
     "output_type": "stream",
     "text": [
      "(TOP (S1 (ROOT (SQ (INTJ (UH Well) ) (SQ|<,-MD-NP-VP-.> (COMMA ,) (SQ|<MD-NP-VP-.> (MD can) (SQ|<NP-VP-.> (NP (PRP you) ) (SQ|<VP-.> (VP (VB hang) (VP|<PRT-NP-PP> (PRT (RP around) ) (VP|<NP-PP> (NP (DT a) (NN couple)) (PP (IN of) (NP (NNS minutes) ))))) (PERIOD ?)))))) ) ) )\n",
      "(TOP (S1 (ROOT (S (NP (PRP He) ) (S|<VP-.> (VP (MD wo) (VP|<RB-VP> (RB n't) (VP (VB be) (ADJP (JJ long) )))) (PERIOD .))) ) ) )\n"
     ]
    },
    {
     "name": "stderr",
     "output_type": "stream",
     "text": [
      "#parsing: ['He', 'wo', \"n't\", 'be', 'long', '.']\n",
      "#parsing: ['Naaah', ',', 'I', 'got', 'to', 'go', 'on', 'to', 'Robinson', \"'s\", '--', 'they', \"'ve\", 'lost', 'nine', 'today', '.']\n"
     ]
    },
    {
     "name": "stdout",
     "output_type": "stream",
     "text": [
      "(TOP (S1 (ROOT (S (NP (NNP Naaah) ) (S|<COMA-S-COLON-S-PERIOD> (COMA ,) (S|<S-COLON-S-PERIOD> (S (NP (PRP I) ) (VP (VBD got) (VP (TO to) (VP (VB go) (VP|<PRT-PP> (PRT (RP on) ) (PP (TO to) (NP (NNP Robinson) (POS 's)))))))) (S|<COLON-S-PERIOD> (COLON --) (S|<S-PERIOD> (S (NP (PRP they) ) (VP (VBP 've) (VP (VBN lost) (NP (CD nine) (NN today))))) (PERIOD .)))))) ) ) )\n",
      "(TOP (S1 (ROOT (SBARQ (ADVP (RB Well) ) (SBARQ|<COMA-WHADVP-SQ-PERIOD> (COMA ,) (SBARQ|<WHADVP-SQ-PERIOD> (WHADVP (WRB when) ) (SBARQ|<SQ-PERIOD> (SQ (VBZ is) (NP (PRP$ your) (NP|<JJ-NN> (JJ next) (NN round)))) (PERIOD ?))))) ) ) )\n",
      "(TOP (S1 (ROOT (FRAG (NP (NNP Thursday) ) (PERIOD .)) ) ) )\n",
      "(TOP (S1 (ROOT (S (NP (PRP I) ) (S|<VP-.> (VP (VB think) (S (NP (PRP I) ) (VP (MD 'll) (VP (VB go) (PP (IN for) (NP (DT a) (NN walk))))))) (PERIOD .))) ) ) )\n"
     ]
    },
    {
     "name": "stderr",
     "output_type": "stream",
     "text": [
      "#parsing: ['Well', ',', 'when', 'is', 'your', 'next', 'round', '?']\n",
      "#parsing: ['Thursday', '.']\n",
      "#parsing: ['I', 'think', 'I', \"'ll\", 'go', 'for', 'a', 'walk', '.']\n",
      "#parsing: [\"You're\", 'not', 'fooling', 'anyone', \"y'\", 'know', '.']\n"
     ]
    },
    {
     "name": "stdout",
     "output_type": "stream",
     "text": [
      "(TOP (S1 (ROOT (S (VP (MD You're) (VP|<RB-VP> (RB not) (VP (VBG fooling) (S (NP (NN anyone) (NN y')) (VP (VB know) ))))) (PERIOD .)) ) ) )\n"
     ]
    },
    {
     "name": "stderr",
     "output_type": "stream",
     "text": [
      "#parsing: ['Look', ',', 'is', \"n't\", 'there', 'something', 'you', 'can', 'do', '?']\n"
     ]
    },
    {
     "name": "stdout",
     "output_type": "stream",
     "text": [
      "(TOP (S1 (ROOT (SQ (NNP Look) (SQ|<COMA-VBZ-RB-NP-NP-PERIOD> (COMA ,) (SQ|<VBZ-RB-NP-NP-PERIOD> (VBZ is) (SQ|<RB-NP-NP-PERIOD> (RB n't) (SQ|<NP-NP-PERIOD> (NP (EX there) ) (SQ|<NP-PERIOD> (NP (NP (NN something) ) (SBAR (S (NP (PRP you) ) (VP (MD can) (VP (VBP do) ))) )) (PERIOD ?))))))) ) ) )\n",
      "(TOP (S1 (ROOT (S (NP (PRP I) ) (S|<VP-:> (VP (VBP feel) (ADJP (JJ happy) )) (COLON ...))) ) ) )\n",
      "(TOP (S1 (ROOT (S (NP (PRP I) ) (S|<VP-.> (VP (VBP feel) (ADJP (JJ happy) )) (PERIOD .))) ) ) )\n",
      "(TOP (S1 (ROOT (FRAG (INTJ (UH Ah) ) (FRAG|<COMA-NP-ADVP-PERIOD> (COMA ,) (FRAG|<NP-ADVP-PERIOD> (NP (NNS thanks) ) (FRAG|<ADVP-PERIOD> (ADVP (RB very) (RB much)) (PERIOD .))))) ) ) )\n",
      "(TOP (S1 (ROOT (FRAG (RB Not) (FRAG|<IN-DT-PERIOD> (IN at) (FRAG|<DT-PERIOD> (DT all) (PERIOD .)))) ) ) )\n",
      "(TOP (S1 (ROOT (S (VP (VB See) (VP|<NP-PP> (NP (PRP you) ) (PP (IN on) (NP (NNP Thursday) )))) (PERIOD .)) ) ) )\n",
      "(TOP (S1 (ROOT (FRAG (ADVP (RB Right) ) (PERIOD .)) ) ) )\n",
      "(TOP (S1 (ROOT (SBARQ (WHNP (WP Who) ) (SBARQ|<SQ-.> (SQ (VBZ 's) (SQ|<NP-ADVP> (NP (DT that) ) (ADVP (RB then) ))) (PERIOD ?))) ) ) )\n",
      "(TOP (S1 (ROOT (S (NP (PRP I) ) (S|<VP-.> (VP (VBP do) (VP|<RB-VP> (RB n't) (VP (VB know) ))) (PERIOD .))) ) ) )\n",
      "(TOP (S1 (ROOT (S (INTJ (UH Must) ) (S|<VP-.> (VP (VB be) (NP (DT a) (NN king))) (PERIOD .))) ) ) )\n",
      "(TOP (S1 (ROOT (FRAG (WRB Why) (PERIOD ?)) ) ) )\n"
     ]
    },
    {
     "name": "stderr",
     "output_type": "stream",
     "text": [
      "#parsing: ['I', 'feel', 'happy', '...']\n",
      "#parsing: ['I', 'feel', 'happy', '.']\n",
      "#parsing: ['Ah', ',', 'thanks', 'very', 'much', '.']\n",
      "#parsing: ['Not', 'at', 'all', '.']\n",
      "#parsing: ['See', 'you', 'on', 'Thursday', '.']\n",
      "#parsing: ['Right', '.']\n",
      "#parsing: ['Who', \"'s\", 'that', 'then', '?']\n",
      "#parsing: ['I', 'do', \"n't\", 'know', '.']\n",
      "#parsing: ['Must', 'be', 'a', 'king', '.']\n",
      "#parsing: ['Why', '?']\n",
      "#parsing: ['He', 'has', \"n't\", 'got', 'shit', 'all', 'over', 'him', '.']\n"
     ]
    },
    {
     "name": "stdout",
     "output_type": "stream",
     "text": [
      "(TOP (S1 (ROOT (S (NP (PRP He) ) (S|<VP-.> (VP (VBZ has) (VP|<RB-VP> (RB n't) (VP (VBD got) (VP (VB shit) (VP|<NP-PP> (NP (DT all) ) (PP (IN over) (NP (PRP him) ))))))) (PERIOD .))) ) ) )\n",
      "(TOP (S1 (ROOT (NP (NNP Old) (NP|<NN-PERIOD> (NN woman) (PERIOD !))) ) ) )\n",
      "(TOP (S1 (ROOT (INTJ (UH Man) (PERIOD !)) ) ) )\n",
      "(TOP (S1 (ROOT (S (VP (NNP Old) (ADJP (NNP Man) (ADJP|<,-JJ> (COMMA ,) (JJ sorry)))) (PERIOD .)) ) ) )\n"
     ]
    },
    {
     "name": "stderr",
     "output_type": "stream",
     "text": [
      "#parsing: ['Old', 'woman', '!']\n",
      "#parsing: ['Man', '!']\n",
      "#parsing: ['Old', 'Man', ',', 'sorry', '.']\n",
      "#parsing: ['What', 'knight', 'live', 'in', 'that', 'castle', 'over', 'there', '?']\n"
     ]
    },
    {
     "name": "stdout",
     "output_type": "stream",
     "text": [
      "(TOP (S1 (ROOT (SBARQ (WHNP (WDT What) (NN knight)) (SBARQ|<SQ-.> (SQ (VP (VB live) (PP (IN in) (NP (NP (DT that) (NN castle)) (PP (IN over) (NP (EX there) ))))) ) (PERIOD ?))) ) ) )\n",
      "(TOP (S1 (ROOT (S (NP (NNP I'm) ) (S|<VP-.> (VP (VBD thirty) (NP (CD seven) )) (PERIOD .))) ) ) )\n",
      "(TOP (S1 (ROOT (FRAG (WHNP (WP What) ) (PERIOD ?)) ) ) )\n",
      "(TOP (S1 (ROOT (SQ (NNP I'm) (SQ|<NP-ADJP-PERIOD> (NP (NP (VBD thirty) (CD seven)) (NP|<:-NP> (COLON --) (NP (NNP I'm) ))) (SQ|<ADJP-PERIOD> (ADJP (RB not) (JJ old)) (PERIOD !)))) ) ) )\n"
     ]
    },
    {
     "name": "stderr",
     "output_type": "stream",
     "text": [
      "#parsing: [\"I'm\", 'thirty', 'seven', '.']\n",
      "#parsing: ['What', '?']\n",
      "#parsing: [\"I'm\", 'thirty', 'seven', '--', \"I'm\", 'not', 'old', '!']\n",
      "#parsing: ['Well', ',', 'I', \"can't\", 'just', 'call', 'you', '`', 'Man', \"'\", '.']\n"
     ]
    },
    {
     "name": "stdout",
     "output_type": "stream",
     "text": [
      "(TOP (S1 (ROOT (S (INTJ (UH Well) ) (S|<,-NP-VP-.> (COMMA ,) (S|<NP-VP-.> (NP (PRP I) ) (S|<VP-.> (VP (VBP can't) (VP|<RB-VP> (RB just) (VP (VB call) (S (NP (PRP you) ) (S|<``-NP-''> (TWOGRAVES `) (S|<NP-''> (NP (NN Man) ) (TWOSINGLEQUOTES '))))))) (PERIOD .))))) ) ) )\n",
      "(TOP (S1 (ROOT (S (INTJ (UH Well) ) (S|<,-NP-VP-.> (COMMA ,) (S|<NP-VP-.> (NP (PRP you) ) (S|<VP-.> (VP (MD could) (VP (VB say) (VP|<``-NP-''> (TWOGRAVES `) (VP|<NP-''> (NP (NNP Dennis) ) (TWOSINGLEQUOTES '))))) (PERIOD .))))) ) ) )\n"
     ]
    },
    {
     "name": "stderr",
     "output_type": "stream",
     "text": [
      "#parsing: ['Well', ',', 'you', 'could', 'say', '`', 'Dennis', \"'\", '.']\n",
      "#parsing: ['Well', ',', 'I', 'did', \"n't\", 'know', 'you', 'were', 'called', '`', 'Dennis', '.', \"'\"]\n"
     ]
    },
    {
     "name": "stdout",
     "output_type": "stream",
     "text": [
      "(TOP (S1 (ROOT (S (INTJ (UH Well) ) (S|<,-NP-VP> (COMMA ,) (S|<NP-VP> (NP (PRP I) ) (VP (VBD did) (VP|<RB-VP> (RB n't) (VP (VB know) (S (NP (PRP you) ) (VP (VBD were) (VP (VBN called) (VP|<``-NP-''> (TWOGRAVES `) (VP|<NP-''> (NP (NNP Dennis) (PERIOD .)) (TWOSINGLEQUOTES ')))))))))))) ) ) )\n"
     ]
    },
    {
     "name": "stderr",
     "output_type": "stream",
     "text": [
      "#parsing: ['Well', ',', 'you', 'did', \"n't\", 'bother', 'to', 'find', 'out', ',', 'did', 'you', '?']\n"
     ]
    },
    {
     "name": "stdout",
     "output_type": "stream",
     "text": [
      "(TOP (S1 (ROOT (S (INTJ (UH Well) ) (S|<,-NP-VP-.> (COMMA ,) (S|<NP-VP-.> (NP (PRP you) ) (S|<VP-.> (VP (VP (VBD did) (VP|<RB-VP> (RB n't) (VP (VB bother) (VP (TO to) (VP (VB find) (PRT (RP out) )))))) (VP|<,-VP> (COMMA ,) (VP (VBD did) (NP (PRP you) )))) (PERIOD ?))))) ) ) )\n"
     ]
    },
    {
     "name": "stderr",
     "output_type": "stream",
     "text": [
      "#parsing: ['I', 'did', 'say', 'sorry', 'about', 'the', '`', 'old', 'woman', ',', \"'\", 'but', 'from', 'the', 'behind', 'you', 'looked', '--']\n"
     ]
    },
    {
     "name": "stdout",
     "output_type": "stream",
     "text": [
      "(TOP (S1 (ROOT (S (S (NP (PRP I) ) (VP (VBD did) (VP (VB say) (VP|<ADJP-PP> (ADJP (JJ sorry) ) (PP (IN about) (NP (DT the) (NP|<``-JJ-NN> (TWOGRAVES `) (NP|<JJ-NN> (JJ old) (NN woman))))))))) (S|<COMA-''-CC-S-COLON> (COMA ,) (S|<''-CC-S-COLON> (TWOSINGLEQUOTES ') (S|<CC-S-COLON> (CC but) (S|<S-COLON> (S (PP (IN from) (NP (DT the) (NN behind))) (S|<NP-VP> (NP (PRP you) ) (VP (VBD looked) ))) (COLON --)))))) ) ) )\n"
     ]
    },
    {
     "name": "stderr",
     "output_type": "stream",
     "text": [
      "#parsing: ['What', 'I', 'object', 'to', 'is', 'you', 'automatically', 'treat', 'me', 'like', 'an', 'inferior', '!']\n"
     ]
    },
    {
     "name": "stdout",
     "output_type": "stream",
     "text": [
      "(TOP (S1 (ROOT (S (SBAR (WHNP (WP What) ) (S (NP (PRP I) ) (VP (VBP object) (VP (TO to) (VP (VBZ is) (VP|<NP-ADVP> (NP (PRP you) ) (ADVP (RB automatically) ))))))) (S|<VP-PERIOD> (VP (VB treat) (VP|<NP-PP> (NP (PRP me) ) (PP (IN like) (NP (DT an) (NN inferior))))) (PERIOD !))) ) ) )\n",
      "(TOP (S1 (ROOT (S (ADVP (RB Well) ) (S|<,-NP-VP-:> (COMMA ,) (S|<NP-VP-:> (NP (PRP I) ) (S|<VP-:> (VP (VBP AM) (NP (NN king) )) (COLON ...))))) ) ) )\n",
      "(TOP (S1 (ROOT (FRAG (INTJ (UH Oh) (NN king)) (FRAG|<COMA-INTJ-COMA-ADJP-PERIOD> (COMA ,) (FRAG|<INTJ-COMA-ADJP-PERIOD> (INTJ (UH eh) ) (FRAG|<COMA-ADJP-PERIOD> (COMA ,) (FRAG|<ADJP-PERIOD> (ADJP (RB very) (JJ nice)) (PERIOD .)))))) ) ) )\n"
     ]
    },
    {
     "name": "stderr",
     "output_type": "stream",
     "text": [
      "#parsing: ['Well', ',', 'I', 'AM', 'king', '...']\n",
      "#parsing: ['Oh', 'king', ',', 'eh', ',', 'very', 'nice', '.']\n",
      "#parsing: ['An', \"'\", 'how', \"'d\", 'you', 'get', 'that', ',', 'eh', '?']\n"
     ]
    },
    {
     "name": "stdout",
     "output_type": "stream",
     "text": [
      "(TOP (S1 (ROOT (SBARQ (WHADVP (DT An) (WHADVP|<POS-WHADVP> (POS ') (WHADVP (WRB how) ))) (SBARQ|<SQ-.> (SQ (MD 'd) (SQ|<NP-VP> (NP (PRP you) ) (VP (VBP get) (VP|<NP-COMA-INTJ> (NP (DT that) ) (VP|<COMA-INTJ> (COMA ,) (INTJ (UH eh) )))))) (PERIOD ?))) ) ) )\n"
     ]
    },
    {
     "name": "stderr",
     "output_type": "stream",
     "text": [
      "#parsing: ['By', 'exploitin', \"'\", 'the', 'workers', '--', 'by', \"'\", 'angin', \"'\", 'on', 'to', 'outdated', 'imperialist', 'dogma', 'which', 'perpetuates', 'the', 'economic', 'an', \"'\", 'social', 'differences', 'in', 'our', 'society', '!']\n"
     ]
    },
    {
     "name": "stdout",
     "output_type": "stream",
     "text": [
      "(TOP (S1 (ROOT (S (SBAR (IN By) (S (VP (NN exploitin) (VP|<''-NP-COLON-IN-''-NN-''-PP> (TWOSINGLEQUOTES ') (VP|<NP-COLON-IN-''-NN-''-PP> (NP (DT the) (NNS workers)) (VP|<COLON-IN-''-NN-''-PP> (COLON --) (VP|<IN-''-NN-''-PP> (IN by) (VP|<''-NN-''-PP> (TWOSINGLEQUOTES ') (VP|<NN-''-PP> (NN angin) (VP|<''-PP> (TWOSINGLEQUOTES ') (PP (IN on) (PP (TO to) (NP (JJ outdated) (NP|<NN-NN> (NN imperialist) (NN dogma))))))))))))) )) (S|<NP-VP-.> (NP (WDT which) ) (S|<VP-.> (VP (VBZ perpetuates) (NP (NP (DT the) (NP|<JJ-DT-POS-JJ-NNS> (JJ economic) (NP|<DT-POS-JJ-NNS> (DT an) (NP|<POS-JJ-NNS> (POS ') (NP|<JJ-NNS> (JJ social) (NNS differences)))))) (PP (IN in) (NP (PRP$ our) (NN society))))) (PERIOD !)))) ) ) )\n",
      "(TOP (S1 (ROOT (S (IN If) (S|<NP-VP-COLON> (NP (EX there) ) (S|<VP-COLON> (VP (VBZ 's) (VP|<RB-VP> (RB ever) (VP (VBG going) (VP (TO to) (VP (VB be) (NP (DT any) (NN progress))))))) (COLON --)))) ) ) )\n"
     ]
    },
    {
     "name": "stderr",
     "output_type": "stream",
     "text": [
      "#parsing: ['If', 'there', \"'s\", 'ever', 'going', 'to', 'be', 'any', 'progress', '--']\n",
      "#parsing: ['Dennis', ',', 'there', \"'s\", 'some', 'lovely', 'filth', 'down', 'here', '.']\n"
     ]
    },
    {
     "name": "stdout",
     "output_type": "stream",
     "text": [
      "(TOP (S1 (ROOT (S (INTJ (NNP Dennis) ) (S|<,-NP-VP-.> (COMMA ,) (S|<NP-VP-.> (NP (EX there) ) (S|<VP-.> (VP (VBZ 's) (VP|<NP-ADVP> (NP (DT some) (NP|<JJ-NN> (JJ lovely) (NN filth))) (ADVP (RP down) (RB here)))) (PERIOD .))))) ) ) )\n",
      "(TOP (S1 (ROOT (FRAG (INTJ (UH Oh) ) (FRAG|<COLON-WHADVP-SQ-PERIOD> (COLON --) (FRAG|<WHADVP-SQ-PERIOD> (WHADVP (WRB how) ) (FRAG|<SQ-PERIOD> (SQ (NN d') (SQ|<NP-VP> (NP (PRP you) ) (VP (VBP do) ))) (PERIOD ?))))) ) ) )\n",
      "(TOP (S1 (ROOT (SBARQ (WHADVP (WRB How) ) (SBARQ|<SQ-.> (SQ (SQ (VBP do) (SQ|<NP-VP> (NP (PRP you) ) (VP (VBP do) ))) (SQ|<COMA-INTJ> (COMA ,) (INTJ (JJ good) (NN lady)))) (PERIOD .))) ) ) )\n"
     ]
    },
    {
     "name": "stderr",
     "output_type": "stream",
     "text": [
      "#parsing: ['Oh', '--', 'how', \"d'\", 'you', 'do', '?']\n",
      "#parsing: ['How', 'do', 'you', 'do', ',', 'good', 'lady', '.']\n",
      "#parsing: ['I', 'am', 'Arthur', ',', 'King', 'of', 'the', 'Britons', '.']\n"
     ]
    },
    {
     "name": "stdout",
     "output_type": "stream",
     "text": [
      "(TOP (S1 (ROOT (S (NP (PRP I) ) (S|<VP-.> (VP (VBP am) (VP|<NP-PP> (NP (NNP Arthur) (NP|<,-NNP> (COMMA ,) (NNP King))) (PP (IN of) (NP (DT the) (NNPS Britons))))) (PERIOD .))) ) ) )\n",
      "(TOP (S1 (ROOT (SBARQ (WHNP (WP Who) ) (SBARQ|<SQ-.> (SQ (VBZ 's) (SQ|<NP-VP> (NP (NN castle) ) (VP (VBZ is) (NP (DT that) )))) (PERIOD ?))) ) ) )\n",
      "(TOP (S1 (ROOT (S (VP (VBG King) (PP (IN of) (NP (DT the) (WP who)))) (PERIOD ?)) ) ) )\n",
      "(TOP (S1 (ROOT (FRAG (NP (DT The) (NNPS Britons)) (PERIOD .)) ) ) )\n",
      "(TOP (S1 (ROOT (SBARQ (WHNP (WP Who) ) (SBARQ|<SQ-.> (SQ (VBP are) (NP (DT the) (NNPS Britons))) (PERIOD ?))) ) ) )\n",
      "(TOP (S1 (ROOT (S (INTJ (UH Well) ) (S|<,-NP-VP-.> (COMMA ,) (S|<NP-VP-.> (NP (NP (PRP we) ) (PDT all)) (S|<VP-.> (VP (VBP are) ) (PERIOD .))))) ) ) )\n"
     ]
    },
    {
     "name": "stderr",
     "output_type": "stream",
     "text": [
      "#parsing: ['Who', \"'s\", 'castle', 'is', 'that', '?']\n",
      "#parsing: ['King', 'of', 'the', 'who', '?']\n",
      "#parsing: ['The', 'Britons', '.']\n",
      "#parsing: ['Who', 'are', 'the', 'Britons', '?']\n",
      "#parsing: ['Well', ',', 'we', 'all', 'are', '.']\n",
      "#parsing: [\"we're\", 'all', 'Britons', 'and', 'I', 'am', 'your', 'king', '.']\n"
     ]
    },
    {
     "name": "stdout",
     "output_type": "stream",
     "text": [
      "(TOP (S1 (ROOT (UCP (PP (IN we're) (NP (DT all) (NNPS Britons))) (UCP|<CC-SBAR> (CC and) (SBAR (S (NP (PRP I) ) (S|<VP-.> (VP (VBP am) (NP (PRP$ your) (NN king))) (PERIOD .))) ))) ) ) )\n",
      "(TOP (S1 (ROOT (S (NP (PRP I) ) (S|<VP-.> (VP (VBD did) (VP|<RB-VP> (RB n't) (VP (VB know) (S (NP (PRP we) ) (VP (VBD had) (NP (DT a) (NN king))))))) (PERIOD .))) ) ) )\n"
     ]
    },
    {
     "name": "stderr",
     "output_type": "stream",
     "text": [
      "#parsing: ['I', 'did', \"n't\", 'know', 'we', 'had', 'a', 'king', '.']\n",
      "#parsing: ['I', 'thought', 'we', 'were', 'an', 'autonomous', 'collective', '.']\n"
     ]
    },
    {
     "name": "stdout",
     "output_type": "stream",
     "text": [
      "(TOP (S1 (ROOT (S (NP (PRP I) ) (S|<VP-.> (VP (VBD thought) (S (NP (PRP we) ) (VP (VBD were) (NP (DT an) (NP|<JJ-NN> (JJ autonomous) (NN collective)))))) (PERIOD .))) ) ) )\n",
      "(TOP (S1 (ROOT (S (NP (NNP You're) ) (S|<VP-.> (VP (VBG fooling) (NP (PRP yourself) )) (PERIOD .))) ) ) )\n",
      "(TOP (S1 (ROOT (S (NP (NNP We're) ) (S|<VP-.> (VP (VBG living) (PP (IN in) (NP (DT a) (NN dictatorship)))) (PERIOD .))) ) ) )\n"
     ]
    },
    {
     "name": "stderr",
     "output_type": "stream",
     "text": [
      "#parsing: [\"You're\", 'fooling', 'yourself', '.']\n",
      "#parsing: [\"We're\", 'living', 'in', 'a', 'dictatorship', '.']\n",
      "#parsing: ['A', 'self', '-', 'perpetuating', 'autocracy', 'in', 'which', 'the', 'working', 'classes', '--']\n"
     ]
    },
    {
     "name": "stdout",
     "output_type": "stream",
     "text": [
      "(TOP (S1 (ROOT (UCP (NP (DT A) (NN self)) (UCP|<:-ADJP> (COLON -) (ADJP (RB perpetuating) (ADJP|<JJ-PP-:> (JJ autocracy) (ADJP|<PP-:> (PP (IN in) (SBAR (WHNP (WDT which) ) (S (NP (DT the) (NN working)) (VP (VBZ classes) )))) (COLON --)))))) ) ) )\n"
     ]
    },
    {
     "name": "stderr",
     "output_type": "stream",
     "text": [
      "#parsing: ['Oh', 'there', 'you', 'go', ',', 'bringing', 'class', 'into', 'it', 'again', '.']\n"
     ]
    },
    {
     "name": "stdout",
     "output_type": "stream",
     "text": [
      "(TOP (S1 (ROOT (S (UH Oh) (S|<ADVP-NP-VP-PERIOD> (ADVP (RB there) ) (S|<NP-VP-PERIOD> (NP (PRP you) ) (S|<VP-PERIOD> (VP (VB go) (VP|<,-S> (COMMA ,) (S (VP (VBG bringing) (VP|<NP-PP-ADVP> (NP (NN class) ) (VP|<PP-ADVP> (PP (IN into) (NP (PRP it) )) (ADVP (RB again) )))) ))) (PERIOD .))))) ) ) )\n"
     ]
    },
    {
     "name": "stderr",
     "output_type": "stream",
     "text": [
      "#parsing: ['That', \"'s\", 'what', 'it', \"'s\", 'all', 'about', 'if', 'only', 'people', 'would', '--']\n"
     ]
    },
    {
     "name": "stdout",
     "output_type": "stream",
     "text": [
      "(TOP (S1 (ROOT (S (NP (DT That) ) (VP (VBZ 's) (SBAR (WHNP (WP what) ) (S (NP (PRP it) ) (VP (VBZ 's) (SBAR (RB all) (SBAR|<IN-S> (IN about) (S (IN if) (S|<NP-VP-COLON> (NP (JJ only) (NNS people)) (S|<VP-COLON> (VP (MD would) ) (COLON --))))))))))) ) ) )\n",
      "(TOP (S1 (ROOT (S (INTJ (UH Please) ) (S|<,-VP-.> (COMMA ,) (S|<VP-.> (VP (VB please) (NP (JJ good) (NNS people))) (PERIOD .)))) ) ) )\n",
      "(TOP (S1 (ROOT (S (NP (PRP I) ) (S|<VP-.> (VP (VBP am) (PP (IN in) (NP (NN haste) ))) (PERIOD .))) ) ) )\n",
      "(TOP (S1 (ROOT (SBARQ (WHNP (WP Who) ) (SBARQ|<SQ-.> (SQ (VP (VBZ lives) (PP (IN in) (NP (DT that) (NN castle)))) ) (PERIOD ?))) ) ) )\n",
      "(TOP (S1 (ROOT (S (NP (DT No) (NN one)) (S|<VP-.> (VP (VB live) (NP (EX there) )) (PERIOD .))) ) ) )\n",
      "(TOP (S1 (ROOT (SBARQ (ADVP (RB Then) ) (SBARQ|<WHNP-SQ-PERIOD> (WHNP (WP who) ) (SBARQ|<SQ-PERIOD> (SQ (VBZ is) (NP (PRP$ your) (NN lord))) (PERIOD ?)))) ) ) )\n"
     ]
    },
    {
     "name": "stderr",
     "output_type": "stream",
     "text": [
      "#parsing: ['Please', ',', 'please', 'good', 'people', '.']\n",
      "#parsing: ['I', 'am', 'in', 'haste', '.']\n",
      "#parsing: ['Who', 'lives', 'in', 'that', 'castle', '?']\n",
      "#parsing: ['No', 'one', 'live', 'there', '.']\n",
      "#parsing: ['Then', 'who', 'is', 'your', 'lord', '?']\n",
      "#parsing: ['We', 'do', \"n't\", 'have', 'a', 'lord', '.']\n"
     ]
    },
    {
     "name": "stdout",
     "output_type": "stream",
     "text": [
      "(TOP (S1 (ROOT (S (NP (PRP We) ) (S|<VP-.> (VP (VBP do) (VP|<RB-VP> (RB n't) (VP (VBP have) (NP (DT a) (NN lord))))) (PERIOD .))) ) ) )\n",
      "(TOP (S1 (ROOT (FRAG (WHNP (WP What) ) (PERIOD ?)) ) ) )\n",
      "(TOP (S1 (ROOT (S (NP (PRP I) ) (S|<VP-.> (VP (VBD told) (NP (PRP you) )) (PERIOD .))) ) ) )\n",
      "(TOP (S1 (ROOT (S (VP (NNP We're) (NP (DT an) (NP|<NN-:-JJ-NN> (NN anarcho) (NP|<:-JJ-NN> (COLON -) (NP|<JJ-NN> (JJ syndicalist) (NN commune)))))) (PERIOD .)) ) ) )\n"
     ]
    },
    {
     "name": "stderr",
     "output_type": "stream",
     "text": [
      "#parsing: ['What', '?']\n",
      "#parsing: ['I', 'told', 'you', '.']\n",
      "#parsing: [\"We're\", 'an', 'anarcho', '-', 'syndicalist', 'commune', '.']\n",
      "#parsing: ['We', 'take', 'it', 'in', 'turns', 'to', 'act', 'as', 'a', 'sort', 'of', 'executive', 'officer', 'for', 'the', 'week', '.']\n"
     ]
    },
    {
     "name": "stdout",
     "output_type": "stream",
     "text": [
      "(TOP (S1 (ROOT (S (NP (PRP We) ) (VP (VB take) (VP|<NP-SBAR> (NP (PRP it) ) (SBAR (IN in) (S (VP (VBZ turns) (VP (TO to) (VP (VB act) (PP (IN as) (NP (NP (NP (DT a) (NN sort)) (PP (IN of) (NP (JJ executive) (NN officer)))) (PP (IN for) (NP (DT the) (NN week)))))))) (PERIOD .)))))) ) ) )\n",
      "(TOP (S1 (ROOT (INTJ (UH Yes) (PERIOD .)) ) ) )\n"
     ]
    },
    {
     "name": "stderr",
     "output_type": "stream",
     "text": [
      "#parsing: ['Yes', '.']\n",
      "#parsing: ['But', 'all', 'the', 'decision', 'of', 'that', 'officer', 'have', 'to', 'be', 'ratified', 'at', 'a', 'special', 'biweekly', 'meeting', '.']\n"
     ]
    },
    {
     "name": "stdout",
     "output_type": "stream",
     "text": [
      "(TOP (S1 (ROOT (S (CC But) (S|<NP-VP-.> (NP (NP (PDT all) (NP|<DT-NN> (DT the) (NN decision))) (PP (IN of) (NP (DT that) (NN officer)))) (S|<VP-.> (VP (VBP have) (VP (TO to) (VP (VB be) (VP (VBN ratified) (PP (IN at) (NP (DT a) (NP|<JJ-JJ-NN> (JJ special) (NP|<JJ-NN> (JJ biweekly) (NN meeting))))))))) (PERIOD .)))) ) ) )\n",
      "(TOP (S1 (ROOT (S (INTJ (UH Yes) ) (S|<,-NP-VP-.> (COMMA ,) (S|<NP-VP-.> (NP (PRP I) ) (S|<VP-.> (VP (VBP see) ) (PERIOD .))))) ) ) )\n"
     ]
    },
    {
     "name": "stderr",
     "output_type": "stream",
     "text": [
      "#parsing: ['Yes', ',', 'I', 'see', '.']\n",
      "#parsing: ['By', 'a', 'simple', 'majority', 'in', 'the', 'case', 'of', 'purely', 'internal', 'affairs', ',', '--']\n"
     ]
    },
    {
     "name": "stdout",
     "output_type": "stream",
     "text": [
      "(TOP (S1 (ROOT (FRAG (IN By) (FRAG|<NP-COMA-COLON> (NP (NP (NP (DT a) (NP|<JJ-NN> (JJ simple) (NN majority))) (PP (IN in) (NP (DT the) (NN case)))) (PP (IN of) (NP (RB purely) (NP|<JJ-NNS> (JJ internal) (NNS affairs))))) (FRAG|<COMA-COLON> (COMA ,) (COLON --)))) ) ) )\n",
      "(TOP (S1 (ROOT (S (VP (VB Be) (ADJP (JJ quiet) )) (PERIOD !)) ) ) )\n"
     ]
    },
    {
     "name": "stderr",
     "output_type": "stream",
     "text": [
      "#parsing: ['Be', 'quiet', '!']\n",
      "#parsing: ['--', 'but', 'by', 'a', 'two', '-', 'thirds', 'majority', 'in', 'the', 'case', 'of', 'more', '--']\n"
     ]
    },
    {
     "name": "stdout",
     "output_type": "stream",
     "text": [
      "(TOP (S1 (ROOT (FRAG (COLON --) (FRAG|<CC-PP-PP-COLON> (CC but) (FRAG|<PP-PP-COLON> (PP (IN by) (NP (NP (DT a) (NP|<ADJP-NN> (ADJP (CD two) (ADJP|<COLON-NNS> (COLON -) (NNS thirds))) (NN majority))) (PP (IN in) (NP (DT the) (NN case))))) (FRAG|<PP-COLON> (PP (IN of) (NP (JJR more) )) (COLON --))))) ) ) )\n",
      "(TOP (S1 (ROOT (S (VP (VB Be) (ADJP (JJ quiet) )) (PERIOD !)) ) ) )\n",
      "(TOP (S1 (ROOT (S (NP (PRP I) ) (S|<VP-.> (VP (VB order) (S (NP (PRP you) ) (VP (TO to) (VP (VB be) (ADJP (JJ quiet) ))))) (PERIOD !))) ) ) )\n"
     ]
    },
    {
     "name": "stderr",
     "output_type": "stream",
     "text": [
      "#parsing: ['Be', 'quiet', '!']\n",
      "#parsing: ['I', 'order', 'you', 'to', 'be', 'quiet', '!']\n",
      "#parsing: ['Order', ',', 'eh', '--', 'who', 'does', 'he', 'think', 'he', 'is', '?']\n"
     ]
    },
    {
     "name": "stdout",
     "output_type": "stream",
     "text": [
      "(TOP (S1 (ROOT (S (INTJ (UH Order) ) (S|<,-NP-VP-.> (COMMA ,) (S|<NP-VP-.> (NP (NP (NNP eh) ) (NP|<:-SBARQ> (COLON --) (SBARQ (WHNP (WP who) ) (SQ (VBZ does) (SQ|<NP-VP> (NP (PRP he) ) (VP (VB think) (NP (PRP he) ))))))) (S|<VP-.> (VP (VBZ is) ) (PERIOD ?))))) ) ) )\n",
      "(TOP (S1 (ROOT (S (NP (PRP I) ) (S|<VP-.> (VP (VBP am) (NP (PRP$ your) (NN king))) (PERIOD !))) ) ) )\n",
      "(TOP (S1 (ROOT (S (INTJ (UH Well) ) (S|<,-NP-VP-.> (COMMA ,) (S|<NP-VP-.> (NP (PRP I) ) (S|<VP-.> (VP (VBD did) (VP|<RB-VP> (RB n't) (VP (VB vote) (PP (IN for) (NP (PRP you) ))))) (PERIOD .))))) ) ) )\n"
     ]
    },
    {
     "name": "stderr",
     "output_type": "stream",
     "text": [
      "#parsing: ['I', 'am', 'your', 'king', '!']\n",
      "#parsing: ['Well', ',', 'I', 'did', \"n't\", 'vote', 'for', 'you', '.']\n",
      "#parsing: ['You', 'do', \"n't\", 'vote', 'for', 'kings', '.']\n"
     ]
    },
    {
     "name": "stdout",
     "output_type": "stream",
     "text": [
      "(TOP (S1 (ROOT (S (NP (PRP You) ) (S|<VP-.> (VP (VBP do) (VP|<RB-VP> (RB n't) (VP (VB vote) (PP (IN for) (NP (NNS kings) ))))) (PERIOD .))) ) ) )\n",
      "(TOP (S1 (ROOT (SQ (INTJ (UH Well) ) (SQ|<COMA-''-WHADVP-SQ-PERIOD> (COMA ,) (SQ|<''-WHADVP-SQ-PERIOD> (TWOSINGLEQUOTES ') (SQ|<WHADVP-SQ-PERIOD> (WHADVP (NN ow) ) (SQ|<SQ-PERIOD> (SQ (VBD did) (SQ|<NP-VP> (NP (PRP you) ) (VP (VB become) (VP|<NP-ADVP> (NP (NN king) ) (ADVP (RB then) ))))) (PERIOD ?)))))) ) ) )\n"
     ]
    },
    {
     "name": "stderr",
     "output_type": "stream",
     "text": [
      "#parsing: ['Well', ',', \"'\", 'ow', 'did', 'you', 'become', 'king', 'then', '?']\n",
      "#parsing: ['The', 'Lady', 'of', 'the', 'Lake', ',']\n"
     ]
    },
    {
     "name": "stdout",
     "output_type": "stream",
     "text": [
      "(TOP (S1 (ROOT (NP (NP (DT The) (NN Lady)) (NP|<PP-COMA> (PP (IN of) (NP (DT the) (NN Lake))) (COMA ,))) ) ) )\n"
     ]
    },
    {
     "name": "stderr",
     "output_type": "stream",
     "text": [
      "#parsing: ['her', 'arm', 'clad', 'in', 'the', 'purest', 'shimmering', 'samite', ',', 'held', 'aloft', 'Excalibur', 'from', 'the', 'bosom', 'of', 'the', 'water', 'signifying', 'by', 'Divine', 'Providence', 'that', 'I', ',', 'Arthur', ',', 'was', 'to', 'carry', 'Excalibur', '.']\n"
     ]
    },
    {
     "name": "stdout",
     "output_type": "stream",
     "text": [
      "(TOP (S1 (ROOT (SQ (S (NP (PRP$ her) (NN arm)) (VP (VBN clad) (PP (IN in) (NP (DT the) (NP|<JJ-JJ-NN> (JJ purest) (NP|<JJ-NN> (JJ shimmering) (NN samite))))))) (SQ|<COMA-SQ-PERIOD> (COMA ,) (SQ|<SQ-PERIOD> (SQ (VBD held) (SQ|<NP-VP> (NP (NP (NP (NNP aloft) (NNP Excalibur)) (PP (IN from) (NP (DT the) (NN bosom)))) (PP (IN of) (NP (DT the) (NN water)))) (VP (VBG signifying) (VP|<PP-SBAR> (PP (IN by) (NP (NNP Divine) (NNP Providence))) (SBAR (IN that) (S (NP (NP (PRP I) ) (NP|<,-NP-,> (COMMA ,) (NP|<NP-,> (NP (NNP Arthur) ) (COMMA ,)))) (VP (VBD was) (VP (TO to) (VP (VB carry) (NP (NNP Excalibur) )))))))))) (PERIOD .)))) ) ) )\n",
      "(TOP (S1 (ROOT (S (NP (DT That) ) (VP (VBZ is) (SBAR (WHADVP (WRB why) ) (S (NP (PRP I) ) (S|<VP-.> (VP (VBP am) (NP (PRP$ your) (NN king))) (PERIOD !)))))) ) ) )\n"
     ]
    },
    {
     "name": "stderr",
     "output_type": "stream",
     "text": [
      "#parsing: ['That', 'is', 'why', 'I', 'am', 'your', 'king', '!']\n",
      "#parsing: ['Listen', '--', 'strange', 'women', 'lying', 'in', 'ponds', 'distributing', 'swords', 'is', 'no', 'basis', 'for', 'a', 'system', 'of', 'government', '.']\n"
     ]
    },
    {
     "name": "stdout",
     "output_type": "stream",
     "text": [
      "(TOP (S1 (ROOT (S (ADVP (RB Listen) ) (S|<COLON-NP-VP-PERIOD> (COLON --) (S|<NP-VP-PERIOD> (NP (JJ strange) (NNS women)) (S|<VP-PERIOD> (VP (VBG lying) (SBAR (IN in) (S (NP (NNS ponds) ) (VP (VBG distributing) (S (NP (NNS swords) ) (VP (VBZ is) (NP (NP (NP (DT no) (NN basis)) (PP (IN for) (NP (DT a) (NN system)))) (PP (IN of) (NP (NN government) ))))))))) (PERIOD .))))) ) ) )\n"
     ]
    },
    {
     "name": "stderr",
     "output_type": "stream",
     "text": [
      "#parsing: ['Supreme', 'executive', 'power', 'derives', 'from', 'a', 'mandate', 'from', 'the', 'masses', ',', 'not', 'from', 'some', 'farcical', 'aquatic', 'ceremony', '.']\n"
     ]
    },
    {
     "name": "stdout",
     "output_type": "stream",
     "text": [
      "(TOP (S1 (ROOT (S (NP (NNP Supreme) (NP|<NN-NN> (NN executive) (NN power))) (S|<VP-.> (VP (VBZ derives) (PP (PP (IN from) (NP (NP (DT a) (NN mandate)) (PP (IN from) (NP (DT the) (NNS masses))))) (PP|<COMA-RB-PP> (COMA ,) (PP|<RB-PP> (RB not) (PP (IN from) (NP (DT some) (NP|<JJ-JJ-NN> (JJ farcical) (NP|<JJ-NN> (JJ aquatic) (NN ceremony))))))))) (PERIOD .))) ) ) )\n",
      "(TOP (S1 (ROOT (S (VP (VB Be) (ADJP (JJ quiet) )) (PERIOD !)) ) ) )\n"
     ]
    },
    {
     "name": "stderr",
     "output_type": "stream",
     "text": [
      "#parsing: ['Be', 'quiet', '!']\n",
      "#parsing: ['Well', 'you', \"can't\", 'expect', 'to', 'wield', 'supreme', 'executive', 'power', 'just', \"'\", 'cause', 'some', 'watery', 'tart', 'threw', 'a', 'sword', 'at', 'you', '!']\n"
     ]
    },
    {
     "name": "stdout",
     "output_type": "stream",
     "text": [
      "(TOP (S1 (ROOT (S (S (UH Well) (S|<NP-VP> (NP (PRP you) ) (VP (VBP can't) (VP (VB expect) (VP (TO to) (VP (VB wield) (VP|<NP-ADVP> (NP (JJ supreme) (NP|<JJ-NN> (JJ executive) (NN power))) (ADVP (RB just) )))))))) (S|<''-VP-.> (TWOSINGLEQUOTES ') (S|<VP-.> (VP (VBP cause) (S (NP (DT some) (NP|<JJ-NN> (JJ watery) (NN tart))) (VP (VBD threw) (VP|<NP-PP> (NP (DT a) (NN sword)) (PP (IN at) (NP (PRP you) )))))) (PERIOD !)))) ) ) )\n",
      "(TOP (S1 (ROOT (S (VP (VB Shut) (PRT (RP up) )) (PERIOD !)) ) ) )\n"
     ]
    },
    {
     "name": "stderr",
     "output_type": "stream",
     "text": [
      "#parsing: ['Shut', 'up', '!']\n",
      "#parsing: ['I', 'mean', ',', 'if', 'I', 'went', 'around', 'sayin', \"'\", 'I', 'was', 'an', 'empereror', 'just', 'because', 'some', 'moistened', 'bint', 'had', 'lobbed', 'a', 'scimitar', 'at', 'me', 'they', \"'d\", 'put', 'me', 'away', '!']\n"
     ]
    },
    {
     "name": "stdout",
     "output_type": "stream",
     "text": [
      "(TOP (S1 (ROOT (S (NP (PRP I) ) (VP (VBP mean) (VP|<,-S> (COMMA ,) (S (SBAR (IN if) (S (NP (PRP I) ) (VP (VBD went) (SBAR (IN around) (S (VP (NN sayin) (VP|<''-NP-VP> (TWOSINGLEQUOTES ') (VP|<NP-VP> (NP (PRP I) ) (VP (VBD was) (VP|<NP-SBAR> (NP (DT an) (NN empereror)) (SBAR (RB just) (SBAR|<IN-S> (IN because) (S (NP (DT some) (NP|<JJ-NN> (JJ moistened) (NN bint))) (VP (VBD had) (VP (VBN lobbed) (VP|<NP-PP> (NP (DT a) (NN scimitar)) (PP (IN at) (NP (PRP me) ))))))))))))) ))))) (S|<NP-VP-.> (NP (PRP they) ) (S|<VP-.> (VP (MD 'd) (VP (VB put) (VP|<NP-PRT> (NP (PRP me) ) (PRT (RP away) )))) (PERIOD !))))))) ) ) )\n",
      "(TOP (S1 (ROOT (S (VP (VB Shut) (PRT (RP up) )) (PERIOD !)) ) ) )\n",
      "(TOP (S1 (ROOT (SQ (MD Will) (SQ|<NP-VP-.> (NP (PRP you) ) (SQ|<VP-.> (VP (VB shut) (PRT (RP up) )) (PERIOD !)))) ) ) )\n"
     ]
    },
    {
     "name": "stderr",
     "output_type": "stream",
     "text": [
      "#parsing: ['Shut', 'up', '!']\n",
      "#parsing: ['Will', 'you', 'shut', 'up', '!']\n",
      "#parsing: ['Ah', ',', 'now', 'we', 'see', 'the', 'violence', 'inherent', 'in', 'the', 'system', '.']\n"
     ]
    },
    {
     "name": "stdout",
     "output_type": "stream",
     "text": [
      "(TOP (S1 (ROOT (S (INTJ (UH Ah) ) (S|<,-ADVP-NP-VP-.> (COMMA ,) (S|<ADVP-NP-VP-.> (ADVP (RB now) ) (S|<NP-VP-.> (NP (PRP we) ) (S|<VP-.> (VP (VBP see) (VP|<NP-ADJP-PP> (NP (DT the) (NN violence)) (VP|<ADJP-PP> (ADJP (JJ inherent) ) (PP (IN in) (NP (DT the) (NN system)))))) (PERIOD .)))))) ) ) )\n",
      "(TOP (S1 (ROOT (S (VP (VB Shut) (PRT (RP up) )) (PERIOD !)) ) ) )\n",
      "(TOP (S1 (ROOT (INTJ (UH Oh) (PERIOD !)) ) ) )\n"
     ]
    },
    {
     "name": "stderr",
     "output_type": "stream",
     "text": [
      "#parsing: ['Shut', 'up', '!']\n",
      "#parsing: ['Oh', '!']\n",
      "#parsing: ['Come', 'and', 'see', 'the', 'violence', 'inherent', 'in', 'the', 'system', '!']\n"
     ]
    },
    {
     "name": "stdout",
     "output_type": "stream",
     "text": [
      "(TOP (S1 (ROOT (S (VP (VB Come) (VP|<CC-VB-NP> (CC and) (VP|<VB-NP> (VB see) (NP (NP (DT the) (NP|<NN-NN> (NN violence) (NN inherent))) (PP (IN in) (NP (DT the) (NN system))))))) (PERIOD !)) ) ) )\n",
      "(TOP (S1 (ROOT (INTJ (NN HELP) (PERIOD !)) ) ) )\n",
      "(TOP (S1 (ROOT (S (NP (NNP I'm) ) (S|<VP-.> (VP (VBG being) (ADJP (JJ repressed) )) (PERIOD !))) ) ) )\n",
      "(TOP (S1 (ROOT (NP (NNP Bloody) (NP|<NN-PERIOD> (NN peasant) (PERIOD !))) ) ) )\n",
      "(TOP (S1 (ROOT (FRAG (INTJ (UH Oh) ) (FRAG|<COMA-WHNP-NP-PRT-PERIOD> (COMA ,) (FRAG|<WHNP-NP-PRT-PERIOD> (WHNP (WP what) ) (FRAG|<NP-PRT-PERIOD> (NP (DT a) (JJ give)) (FRAG|<PRT-PERIOD> (PRT (RP away) ) (PERIOD .)))))) ) ) )\n"
     ]
    },
    {
     "name": "stderr",
     "output_type": "stream",
     "text": [
      "#parsing: ['HELP', '!']\n",
      "#parsing: [\"I'm\", 'being', 'repressed', '!']\n",
      "#parsing: ['Bloody', 'peasant', '!']\n",
      "#parsing: ['Oh', ',', 'what', 'a', 'give', 'away', '.']\n",
      "#parsing: ['Did', 'you', 'here', 'that', ',', 'did', 'you', 'here', 'that', ',', 'eh', '?']\n"
     ]
    },
    {
     "name": "stdout",
     "output_type": "stream",
     "text": [
      "(TOP (S1 (ROOT (S (VP (VBD Did) (VP|<NP-ADVP-PP> (NP (PRP you) ) (VP|<ADVP-PP> (ADVP (RB here) ) (PP (IN that) (NP (PRN (COMMA ,) (PRN|<S-,> (S (VP (VBD did) (VP|<NP-ADVP-PP> (NP (PRP you) ) (VP|<ADVP-PP> (ADVP (RB here) ) (PP (IN that) )))) ) (COMMA ,))) (NN eh)))))) (PERIOD ?)) ) ) )\n"
     ]
    },
    {
     "name": "stderr",
     "output_type": "stream",
     "text": [
      "#parsing: ['That', \"'s\", 'what', \"I'm\", 'on', 'about', '--', 'did', 'you', 'see', 'him', 'repressing', 'me', ',', 'you', 'saw', 'it', 'did', \"n't\", 'you', '?']\n"
     ]
    },
    {
     "name": "stdout",
     "output_type": "stream",
     "text": [
      "(TOP (S1 (ROOT (S (S (NP (DT That) ) (VP (VBZ 's) (SBAR (WHNP (WP what) ) (S (VP (NNP I'm) (VP|<PRT-ADVP> (PRT (RP on) ) (ADVP (RB about) ))) )))) (S|<COLON-SINV-COMA-S-PERIOD> (COLON --) (S|<SINV-COMA-S-PERIOD> (SINV (VBD did) (SINV|<NP-VP> (NP (PRP you) ) (VP (VBP see) (S (NP (PRP him) ) (VP (VBG repressing) (NP (PRP me) )))))) (S|<COMA-S-PERIOD> (COMA ,) (S|<S-PERIOD> (S (NP (PRP you) ) (VP (VBD saw) (S (NP (PRP it) ) (VP (VBD did) (VP|<RB-NP> (RB n't) (NP (PRP you) )))))) (PERIOD ?)))))) ) ) )\n"
     ]
    },
    {
     "name": "stderr",
     "output_type": "stream",
     "text": [
      "#parsing: ['You', 'fight', 'with', 'the', 'strength', 'of', 'many', 'men', ',', 'Sir', 'knight', '.']\n"
     ]
    },
    {
     "name": "stdout",
     "output_type": "stream",
     "text": [
      "(TOP (S1 (ROOT (S (NP (PRP You) ) (S|<VP-.> (VP (VBP fight) (PP (IN with) (NP (NP (NP (DT the) (NN strength)) (PP (IN of) (NP (JJ many) (NNS men)))) (NP|<,-NP> (COMMA ,) (NP (NNP Sir) (NNP knight)))))) (PERIOD .))) ) ) )\n",
      "(TOP (S1 (ROOT (S (NP (PRP I) ) (S|<VP-.> (VP (VBP am) (VP|<NP-PP> (NP (NNP Arthur) (NP|<,-NNP> (COMMA ,) (NNP King))) (PP (IN of) (NP (DT the) (NNPS Britons))))) (PERIOD .))) ) ) )\n"
     ]
    },
    {
     "name": "stderr",
     "output_type": "stream",
     "text": [
      "#parsing: ['I', 'am', 'Arthur', ',', 'King', 'of', 'the', 'Britons', '.']\n",
      "#parsing: ['I', 'seek', 'the', 'finest', 'and', 'the', 'bravest', 'knights', 'in', 'the', 'land', 'to', 'join', 'me', 'in', 'my', 'Court', 'of', 'Camelot', '.']\n"
     ]
    },
    {
     "name": "stdout",
     "output_type": "stream",
     "text": [
      "(TOP (S1 (ROOT (S (S (NP (PRP I) ) (VP (VB seek) (NP (DT the) (NN finest)))) (S|<CC-S> (CC and) (S (NP (NP (DT the) (NP|<JJS-NNS> (JJS bravest) (NNS knights))) (PP (IN in) (NP (DT the) (NN land)))) (S|<VP-.> (VP (TO to) (VP (VB join) (VP|<NP-PP> (NP (NP (PRP me) ) (PP (IN in) (NP (PRP$ my) (NNP Court)))) (PP (IN of) (NP (NNP Camelot) ))))) (PERIOD .))))) ) ) )\n"
     ]
    },
    {
     "name": "stderr",
     "output_type": "stream",
     "text": [
      "#parsing: ['You', 'have', 'proved', 'yourself', 'worthy', ';', 'will', 'you', 'join', 'me', '?']\n"
     ]
    },
    {
     "name": "stdout",
     "output_type": "stream",
     "text": [
      "(TOP (S1 (ROOT (S (S (NP (PRP You) ) (VP (VBP have) (VP (VBN proved) (S (NP (PRP yourself) ) (ADJP (JJ worthy) ))))) (S|<COLON-SQ-PERIOD> (COLON ;) (S|<SQ-PERIOD> (SQ (MD will) (SQ|<NP-VP> (NP (PRP you) ) (VP (VB join) (NP (PRP me) )))) (PERIOD ?)))) ) ) )\n",
      "(TOP (S1 (ROOT (S (NP (PRP You) ) (S|<VP-.> (VP (VB make) (S (NP (PRP me) ) (ADJP (JJ sad) ))) (PERIOD .))) ) ) )\n",
      "(TOP (S1 (ROOT (S (RB So) (S|<VP-PERIOD> (VP (VB be) (NP (PRP it) )) (PERIOD .))) ) ) )\n",
      "(TOP (S1 (ROOT (S (VP (VB Come) ) (S|<,-NP-.> (COMMA ,) (S|<NP-.> (NP (NNP Patsy) ) (PERIOD .)))) ) ) )\n",
      "(TOP (S1 (ROOT (S (NP (NN None) ) (S|<VP-.> (VP (MD shall) (VP (VB pass) )) (PERIOD .))) ) ) )\n",
      "(TOP (S1 (ROOT (FRAG (WHNP (WP What) ) (PERIOD ?)) ) ) )\n",
      "(TOP (S1 (ROOT (S (NP (NN None) ) (S|<VP-.> (VP (MD shall) (VP (VB pass) )) (PERIOD .))) ) ) )\n"
     ]
    },
    {
     "name": "stderr",
     "output_type": "stream",
     "text": [
      "#parsing: ['You', 'make', 'me', 'sad', '.']\n",
      "#parsing: ['So', 'be', 'it', '.']\n",
      "#parsing: ['Come', ',', 'Patsy', '.']\n",
      "#parsing: ['None', 'shall', 'pass', '.']\n",
      "#parsing: ['What', '?']\n",
      "#parsing: ['None', 'shall', 'pass', '.']\n",
      "#parsing: ['I', 'have', 'no', 'quarrel', 'with', 'you', ',', 'good', 'Sir', 'knight', ',', 'but', 'I', 'must', 'cross', 'this', 'bridge', '.']\n"
     ]
    },
    {
     "name": "stdout",
     "output_type": "stream",
     "text": [
      "(TOP (S1 (ROOT (S (S (NP (PRP I) ) (VP (VB have) (VP|<NP-PP> (NP (DT no) (NN quarrel)) (PP (IN with) (NP (NP (PRP you) ) (NP|<,-NP> (COMMA ,) (NP (JJ good) (NP|<NNP-NN> (NNP Sir) (NN knight))))))))) (S|<,-CC-S-.> (COMMA ,) (S|<CC-S-.> (CC but) (S|<S-.> (S (NP (PRP I) ) (VP (MD must) (VP (VB cross) (NP (DT this) (NN bridge))))) (PERIOD .))))) ) ) )\n",
      "(TOP (S1 (ROOT (S (ADVP (RB Then) ) (S|<NP-VP-.> (NP (PRP you) ) (S|<VP-.> (VP (MD shall) (VP (VB die) )) (PERIOD .)))) ) ) )\n"
     ]
    },
    {
     "name": "stderr",
     "output_type": "stream",
     "text": [
      "#parsing: ['Then', 'you', 'shall', 'die', '.']\n",
      "#parsing: ['I', 'command', 'you', 'as', 'King', 'of', 'the', 'Britons', 'to', 'stand', 'aside', '!']\n"
     ]
    },
    {
     "name": "stdout",
     "output_type": "stream",
     "text": [
      "(TOP (S1 (ROOT (S (NP (PRP I) ) (VP (VBD command) (VP|<NP-SBAR> (NP (NP (PRP you) ) (PP (IN as) (NP (NNP King) ))) (SBAR (IN of) (S (NP (DT the) (NNPS Britons)) (S|<VP-.> (VP (TO to) (VP (VB stand) (ADVP (RB aside) ))) (PERIOD !))))))) ) ) )\n",
      "(TOP (S1 (ROOT (S (NP (PRP I) ) (S|<VP-.> (VP (VBP move) (PP (IN for) (NP (DT no) (NN man)))) (PERIOD .))) ) ) )\n",
      "(TOP (S1 (ROOT (S (RB So) (S|<VP-PERIOD> (VP (VB be) (NP (PRP it) )) (PERIOD !))) ) ) )\n",
      "(TOP (S1 (ROOT (S (RB Now) (S|<VP-PERIOD> (VP (VB stand) (VP|<ADVP-,-NP> (ADVP (RB aside) ) (VP|<,-NP> (COMMA ,) (NP (JJ worthy) (NN adversary))))) (PERIOD .))) ) ) )\n",
      "(TOP (S1 (ROOT (FRAG (POS ') (FRAG|<NNP-NP-PERIOD> (NNP Tis) (FRAG|<NP-PERIOD> (NP (CC but) (NP (DT a) (NN scratch))) (PERIOD .)))) ) ) )\n",
      "(TOP (S1 (ROOT (FRAG (NP (DT A) (NN scratch)) (PERIOD ?)) ) ) )\n",
      "(TOP (S1 (ROOT (S (NP (PRP$ Your) (NN arm)) (S|<VP-.> (VP (VBZ 's) (PRT (RP off) )) (PERIOD !))) ) ) )\n"
     ]
    },
    {
     "name": "stderr",
     "output_type": "stream",
     "text": [
      "#parsing: ['I', 'move', 'for', 'no', 'man', '.']\n",
      "#parsing: ['So', 'be', 'it', '!']\n",
      "#parsing: ['Now', 'stand', 'aside', ',', 'worthy', 'adversary', '.']\n",
      "#parsing: [\"'\", 'Tis', 'but', 'a', 'scratch', '.']\n",
      "#parsing: ['A', 'scratch', '?']\n",
      "#parsing: ['Your', 'arm', \"'s\", 'off', '!']\n",
      "#parsing: ['No', ',', 'it', 'is', \"n't\", '.']\n"
     ]
    },
    {
     "name": "stdout",
     "output_type": "stream",
     "text": [
      "(TOP (S1 (ROOT (S (INTJ (UH No) ) (S|<,-NP-VP-.> (COMMA ,) (S|<NP-VP-.> (NP (PRP it) ) (S|<VP-.> (VP (VBZ is) (ADVP (RB n't) )) (PERIOD .))))) ) ) )\n",
      "(TOP (S1 (ROOT (SBARQ (INTJ (UH Well) ) (SBARQ|<COMA-WHNP-SQ-PERIOD> (COMA ,) (SBARQ|<WHNP-SQ-PERIOD> (WHNP (WP what) ) (SBARQ|<SQ-PERIOD> (SQ (VBZ 's) (SQ|<NP-ADVP> (NP (DT that) ) (ADVP (RB then) ))) (PERIOD ?))))) ) ) )\n",
      "(TOP (S1 (ROOT (S (NP (NNP I've) ) (S|<VP-.> (VP (VBD had) (ADJP (JJR worse) )) (PERIOD .))) ) ) )\n",
      "(TOP (S1 (ROOT (S (NP (PRP You) ) (S|<VP-.> (VP (VBP liar) ) (PERIOD !))) ) ) )\n",
      "(TOP (S1 (ROOT (S (NP (NP (NNP Come) ) (PP (IN on) (NP (PRP you) ))) (S|<VP-.> (VP (VBP pansy) ) (PERIOD !))) ) ) )\n",
      "(TOP (S1 (ROOT (S (NP (NNP Victory) ) (S|<VP-.> (VP (VBZ is) (ADJP (JJ mine) )) (PERIOD !))) ) ) )\n"
     ]
    },
    {
     "name": "stderr",
     "output_type": "stream",
     "text": [
      "#parsing: ['Well', ',', 'what', \"'s\", 'that', 'then', '?']\n",
      "#parsing: [\"I've\", 'had', 'worse', '.']\n",
      "#parsing: ['You', 'liar', '!']\n",
      "#parsing: ['Come', 'on', 'you', 'pansy', '!']\n",
      "#parsing: ['Victory', 'is', 'mine', '!']\n",
      "#parsing: ['We', 'thank', 'thee', 'Lord', ',', 'that', 'in', 'thy', 'merc', '-']\n"
     ]
    },
    {
     "name": "stdout",
     "output_type": "stream",
     "text": [
      "(TOP (S1 (ROOT (S (NP (PRP We) ) (VP (VB thank) (FRAG (INTJ (JJ thee) (NNP Lord)) (FRAG|<,-NP-:> (COMMA ,) (FRAG|<NP-:> (NP (NP (DT that) ) (PP (IN in) (NP (PRP$ thy) (NN merc)))) (COLON -)))))) ) ) )\n",
      "(TOP (S1 (ROOT (S (VP (VB Come) (VP|<PRT-ADVP> (PRT (RP on) ) (ADVP (RB then) ))) (PERIOD .)) ) ) )\n",
      "(TOP (S1 (ROOT (FRAG (WHNP (WP What) ) (PERIOD ?)) ) ) )\n",
      "(TOP (S1 (ROOT (S (VP (VBP Have) (PP (IN at) (NP (PRP you) ))) (PERIOD !)) ) ) )\n"
     ]
    },
    {
     "name": "stderr",
     "output_type": "stream",
     "text": [
      "#parsing: ['Come', 'on', 'then', '.']\n",
      "#parsing: ['What', '?']\n",
      "#parsing: ['Have', 'at', 'you', '!']\n",
      "#parsing: ['You', 'are', 'indeed', 'brave', ',', 'Sir', 'knight', ',', 'but', 'the', 'fight', 'is', 'mine', '.']\n"
     ]
    },
    {
     "name": "stdout",
     "output_type": "stream",
     "text": [
      "(TOP (S1 (ROOT (S (S (NP (PRP You) ) (VP (VBP are) (VP|<ADVP-ADJP-COMA-NP> (ADVP (RB indeed) ) (VP|<ADJP-COMA-NP> (ADJP (JJ brave) ) (VP|<COMA-NP> (COMA ,) (NP (NNP Sir) (NNP knight))))))) (S|<,-CC-S-.> (COMMA ,) (S|<CC-S-.> (CC but) (S|<S-.> (S (NP (DT the) (NN fight)) (VP (VBZ is) (ADJP (JJ mine) ))) (PERIOD .))))) ) ) )\n",
      "(TOP (S1 (ROOT (S (INTJ (UH Oh) ) (S|<,-VP-.> (COMMA ,) (S|<VP-.> (VP (VBD had) (VP|<ADJP-,-SBAR> (ADJP (JJ enough) ) (VP|<,-SBAR> (COMMA ,) (SBAR (S (VP (VB eh) ) ) )))) (PERIOD ?)))) ) ) )\n"
     ]
    },
    {
     "name": "stderr",
     "output_type": "stream",
     "text": [
      "#parsing: ['Oh', ',', 'had', 'enough', ',', 'eh', '?']\n",
      "#parsing: ['Look', ',', 'you', 'stupid', 'bastard', ',', 'you', \"'ve\", 'got', 'no', 'arms', 'left', '.']\n"
     ]
    },
    {
     "name": "stdout",
     "output_type": "stream",
     "text": [
      "(TOP (S1 (ROOT (S (NNP Look) (S|<COMA-S-COMA-NP-VP-PERIOD> (COMA ,) (S|<S-COMA-NP-VP-PERIOD> (S (PRP you) (S|<VBP-RB> (VBP stupid) (RB bastard))) (S|<COMA-NP-VP-PERIOD> (COMA ,) (S|<NP-VP-PERIOD> (NP (PRP you) ) (S|<VP-PERIOD> (VP (VBP 've) (VP (VBN got) (S (NP (DT no) (NNS arms)) (VP (VBD left) )))) (PERIOD .))))))) ) ) )\n",
      "(TOP (S1 (ROOT (S (ADVP (RB Yes) ) (S|<NP-VP-.> (NP (PRP I) ) (S|<VP-.> (VP (VB have) ) (PERIOD .)))) ) ) )\n",
      "(TOP (S1 (ROOT (S (VP (VB Look) ) (PERIOD !)) ) ) )\n",
      "(TOP (S1 (ROOT (FRAG (ADVP (RB Just) ) (FRAG|<NP-.> (NP (DT a) (NP|<JJ-NN> (JJ flesh) (NN wound))) (PERIOD .))) ) ) )\n",
      "(TOP (S1 (ROOT (S (VP (VB Look) (VP|<,-VB-NP> (COMMA ,) (VP|<VB-NP> (VB stop) (NP (DT that) )))) (PERIOD .)) ) ) )\n",
      "(TOP (S1 (ROOT (INTJ (UH Chicken) (PERIOD !)) ) ) )\n",
      "(TOP (S1 (ROOT (S (ADVP (RB Look) ) (S|<,-NP-VP-.> (COMMA ,) (S|<NP-VP-.> (NP (PRP I) ) (S|<VP-.> (VP (MD 'll) (VP (VBP have) (NP (PRP$ your) (NN leg)))) (PERIOD .))))) ) ) )\n",
      "(TOP (S1 (ROOT (FRAG (ADVP (RB Right) ) (PERIOD !)) ) ) )\n"
     ]
    },
    {
     "name": "stderr",
     "output_type": "stream",
     "text": [
      "#parsing: ['Yes', 'I', 'have', '.']\n",
      "#parsing: ['Look', '!']\n",
      "#parsing: ['Just', 'a', 'flesh', 'wound', '.']\n",
      "#parsing: ['Look', ',', 'stop', 'that', '.']\n",
      "#parsing: ['Chicken', '!']\n",
      "#parsing: ['Look', ',', 'I', \"'ll\", 'have', 'your', 'leg', '.']\n",
      "#parsing: ['Right', '!']\n",
      "#parsing: ['Right', ',', 'I', \"'ll\", 'do', 'you', 'for', 'that', '!']\n"
     ]
    },
    {
     "name": "stdout",
     "output_type": "stream",
     "text": [
      "(TOP (S1 (ROOT (S (ADVP (RB Right) ) (S|<,-NP-VP-.> (COMMA ,) (S|<NP-VP-.> (NP (PRP I) ) (S|<VP-.> (VP (MD 'll) (VP (VB do) (VP|<NP-PP> (NP (PRP you) ) (PP (IN for) (NP (DT that) ))))) (PERIOD !))))) ) ) )\n",
      "(TOP (S1 (ROOT (S (NP (PRP You) ) (VP (MD 'll) (VP (FRAG (WHNP (WP what) ) (PERIOD ?)) ))) ) ) )\n",
      "(TOP (S1 (ROOT (S (VP (VB Come) (VP|<''-NP> (TWOSINGLEQUOTES ') (NP (NN ere) ))) (PERIOD !)) ) ) )\n",
      "(TOP (S1 (ROOT (SBARQ (WHNP (WP What) ) (SBARQ|<SQ-.> (SQ (VBP are) (SQ|<NP-VP> (NP (PRP you) ) (VP (VBG going) (VP (TO to) (VP (VBP do) (VP|<,-S> (COMMA ,) (S (VP (VB bleed) (PP (IN on) (NP (PRP me) ))) ))))))) (PERIOD ?))) ) ) )\n",
      "(TOP (S1 (ROOT (S (VP (NNP I'm) (ADJP (JJ invincible) )) (PERIOD !)) ) ) )\n"
     ]
    },
    {
     "name": "stderr",
     "output_type": "stream",
     "text": [
      "#parsing: ['You', \"'ll\", 'what', '?']\n",
      "#parsing: ['Come', \"'\", 'ere', '!']\n",
      "#parsing: ['What', 'are', 'you', 'going', 'to', 'do', ',', 'bleed', 'on', 'me', '?']\n",
      "#parsing: [\"I'm\", 'invincible', '!']\n",
      "#parsing: [\"You're\", 'a', 'loony', '.']\n"
     ]
    },
    {
     "name": "stdout",
     "output_type": "stream",
     "text": [
      "(TOP (S1 (ROOT (S (VP (VB You're) (NP (DT a) (NN loony))) (PERIOD .)) ) ) )\n",
      "(TOP (S1 (ROOT (S (NP (DT The) (NP|<NNP-NNP> (NNP Black) (NNP Knight))) (S|<ADVP-VP-.> (ADVP (RB always) ) (S|<VP-.> (VP (VBP triumphs) ) (PERIOD !)))) ) ) )\n",
      "(TOP (S1 (ROOT (S (VP (VBP Have) (PP (IN at) (NP (PRP you) ))) (PERIOD !)) ) ) )\n",
      "(TOP (S1 (ROOT (S (VP (VB Come) (VP|<PRT-ADVP> (PRT (RP on) ) (ADVP (RB then) ))) (PERIOD .)) ) ) )\n",
      "(TOP (S1 (ROOT (S (NP (NP (DT All) (NN right)) (NP|<:-NP> (COLON ;) (NP (PRP we) ))) (S|<VP-.> (VP (MD 'll) (VP (VB call) (VP|<NP-NP> (NP (PRP it) ) (NP (DT a) (NN draw))))) (PERIOD .))) ) ) )\n",
      "(TOP (S1 (ROOT (S (VP (VB Come) ) (S|<,-NP-.> (COMMA ,) (S|<NP-.> (NP (NNP Patsy) ) (PERIOD .)))) ) ) )\n"
     ]
    },
    {
     "name": "stderr",
     "output_type": "stream",
     "text": [
      "#parsing: ['The', 'Black', 'Knight', 'always', 'triumphs', '!']\n",
      "#parsing: ['Have', 'at', 'you', '!']\n",
      "#parsing: ['Come', 'on', 'then', '.']\n",
      "#parsing: ['All', 'right', ';', 'we', \"'ll\", 'call', 'it', 'a', 'draw', '.']\n",
      "#parsing: ['Come', ',', 'Patsy', '.']\n",
      "#parsing: ['Oh', ',', 'oh', ',', 'I', 'see', ',', 'running', 'away', 'then', '.']\n"
     ]
    },
    {
     "name": "stdout",
     "output_type": "stream",
     "text": [
      "(TOP (S1 (ROOT (FRAG (INTJ (UH Oh) ) (FRAG|<COMA-INTJ-PRN-VP-PERIOD> (COMA ,) (FRAG|<INTJ-PRN-VP-PERIOD> (INTJ (UH oh) ) (FRAG|<PRN-VP-PERIOD> (PRN (COMMA ,) (PRN|<S-,> (S (NP (PRP I) ) (VP (VBP see) )) (COMMA ,))) (FRAG|<VP-PERIOD> (VP (VBG running) (VP|<ADVP-ADVP> (ADVP (RB away) ) (ADVP (RB then) ))) (PERIOD .)))))) ) ) )\n",
      "(TOP (S1 (ROOT (S (NP (PRP You) ) (S|<VP-.> (VP (VBP yellow) (NP (NNS bastards) )) (PERIOD !))) ) ) )\n"
     ]
    },
    {
     "name": "stderr",
     "output_type": "stream",
     "text": [
      "#parsing: ['You', 'yellow', 'bastards', '!']\n",
      "#parsing: ['Come', 'back', 'here', 'and', 'take', 'what', \"'s\", 'coming', 'to', 'you', '.']\n"
     ]
    },
    {
     "name": "stdout",
     "output_type": "stream",
     "text": [
      "(TOP (S1 (ROOT (S (VP (VP (VB Come) (VP|<PRT-ADVP> (PRT (RP back) ) (ADVP (RB here) ))) (VP|<CC-VP> (CC and) (VP (VB take) (SBAR (WHNP (WP what) ) (S (VP (VBZ 's) (VP (VBG coming) (PP (TO to) (NP (PRP you) )))) (PERIOD .)))))) ) ) ) )\n",
      "(TOP (S1 (ROOT (S (NP (PRP I) ) (S|<VP-.> (VP (MD 'll) (VP (VB bite) (VP|<NP-PRT> (NP (PRP$ your) (NNS legs)) (PRT (RP off) )))) (PERIOD !))) ) ) )\n",
      "(TOP (S1 (ROOT (FRAG (NP (DT A) (NN witch)) (PERIOD !)) ) ) )\n",
      "(TOP (S1 (ROOT (S (NP (NNP We've) ) (S|<VP-.> (VP (VBN got) (NP (DT a) (NN witch))) (PERIOD !))) ) ) )\n",
      "(TOP (S1 (ROOT (FRAG (NP (DT A) (NN witch)) (PERIOD !)) ) ) )\n"
     ]
    },
    {
     "name": "stderr",
     "output_type": "stream",
     "text": [
      "#parsing: ['I', \"'ll\", 'bite', 'your', 'legs', 'off', '!']\n",
      "#parsing: ['A', 'witch', '!']\n",
      "#parsing: [\"We've\", 'got', 'a', 'witch', '!']\n",
      "#parsing: ['A', 'witch', '!']\n",
      "#parsing: ['We', 'have', 'found', 'a', 'witch', ',', 'might', 'we', 'burn', 'her', '?']\n"
     ]
    },
    {
     "name": "stdout",
     "output_type": "stream",
     "text": [
      "(TOP (S1 (ROOT (SQ (S (NP (PRP We) ) (VP (VBP have) (VP (VBN found) (NP (DT a) (NN witch))))) (SQ|<,-MD-NP-VP-.> (COMMA ,) (SQ|<MD-NP-VP-.> (MD might) (SQ|<NP-VP-.> (NP (PRP we) ) (SQ|<VP-.> (VP (VB burn) (NP (PRP her) )) (PERIOD ?)))))) ) ) )\n",
      "(TOP (S1 (ROOT (S (VP (VB Burn) (NP (PRP her) )) (PERIOD !)) ) ) )\n",
      "(TOP (S1 (ROOT (S (VP (VB Burn) ) (PERIOD !)) ) ) )\n",
      "(TOP (S1 (ROOT (SBARQ (WHADVP (WRB How) ) (SBARQ|<SQ-.> (SQ (VBP do) (SQ|<NP-VP> (NP (PRP you) ) (VP (VB know) (S (NP (PRP she) ) (VP (VBZ is) (NP (DT a) (NN witch))))))) (PERIOD ?))) ) ) )\n",
      "(TOP (S1 (ROOT (S (NP (PRP She) ) (S|<VP-.> (VP (VBZ looks) (PP (IN like) (NP (CD one) ))) (PERIOD .))) ) ) )\n",
      "(TOP (S1 (ROOT (S (VP (VB Bring) (VP|<NP-ADVP> (NP (PRP her) ) (ADVP (RB forward) ))) (PERIOD .)) ) ) )\n",
      "(TOP (S1 (ROOT (FRAG (NNP I'm) (FRAG|<RB-NP-PERIOD> (RB not) (FRAG|<NP-PERIOD> (NP (DT a) (NN witch)) (PERIOD .)))) ) ) )\n",
      "(TOP (S1 (ROOT (S (CC But) (S|<NP-VP-.> (NP (PRP you) ) (S|<VP-.> (VP (VBP are) (VP (VBN dressed) (PP (IN as) (NP (CD one) )))) (PERIOD .)))) ) ) )\n"
     ]
    },
    {
     "name": "stderr",
     "output_type": "stream",
     "text": [
      "#parsing: ['Burn', 'her', '!']\n",
      "#parsing: ['Burn', '!']\n",
      "#parsing: ['How', 'do', 'you', 'know', 'she', 'is', 'a', 'witch', '?']\n",
      "#parsing: ['She', 'looks', 'like', 'one', '.']\n",
      "#parsing: ['Bring', 'her', 'forward', '.']\n",
      "#parsing: [\"I'm\", 'not', 'a', 'witch', '.']\n",
      "#parsing: ['But', 'you', 'are', 'dressed', 'as', 'one', '.']\n",
      "#parsing: ['They', 'dressed', 'me', 'up', 'like', 'this', '.']\n"
     ]
    },
    {
     "name": "stdout",
     "output_type": "stream",
     "text": [
      "(TOP (S1 (ROOT (S (NP (PRP They) ) (S|<VP-.> (VP (VBD dressed) (VP|<NP-PRT-PP> (NP (PRP me) ) (VP|<PRT-PP> (PRT (RP up) ) (PP (IN like) (NP (DT this) ))))) (PERIOD .))) ) ) )\n",
      "(TOP (S1 (ROOT (S (INTJ (UH No) ) (S|<,-NP-VP-.> (COMMA ,) (S|<NP-VP-.> (NP (PRP we) ) (S|<VP-.> (VP (VBD did) (VP|<RB-COLON-INTJ> (RB n't) (VP|<COLON-INTJ> (COLON ...) (INTJ (UH no) )))) (PERIOD .))))) ) ) )\n"
     ]
    },
    {
     "name": "stderr",
     "output_type": "stream",
     "text": [
      "#parsing: ['No', ',', 'we', 'did', \"n't\", '...', 'no', '.']\n",
      "#parsing: ['And', 'this', 'is', \"n't\", 'my', 'nose', ',', 'it', \"'s\", 'a', 'false', 'one', '.']\n"
     ]
    },
    {
     "name": "stdout",
     "output_type": "stream",
     "text": [
      "(TOP (S1 (ROOT (S (CC And) (S|<SBAR-,-NP-VP-.> (SBAR (S (NP (DT this) ) (VP (VBZ is) (VP|<RB-NP> (RB n't) (NP (PRP$ my) (NN nose))))) ) (S|<,-NP-VP-.> (COMMA ,) (S|<NP-VP-.> (NP (PRP it) ) (S|<VP-.> (VP (VBZ 's) (NP (DT a) (NP|<JJ-NN> (JJ false) (NN one)))) (PERIOD .)))))) ) ) )\n",
      "(TOP (S1 (ROOT (INTJ (UH Well) (PERIOD ?)) ) ) )\n",
      "(TOP (S1 (ROOT (S (INTJ (UH Well) ) (S|<,-NP-VP-.> (COMMA ,) (S|<NP-VP-.> (NP (PRP we) ) (S|<VP-.> (VP (VBD did) (VP (VBP do) (NP (DT the) (NN nose)))) (PERIOD .))))) ) ) )\n",
      "(TOP (S1 (ROOT (FRAG (NP (DT The) (NN nose)) (PERIOD ?)) ) ) )\n"
     ]
    },
    {
     "name": "stderr",
     "output_type": "stream",
     "text": [
      "#parsing: ['Well', '?']\n",
      "#parsing: ['Well', ',', 'we', 'did', 'do', 'the', 'nose', '.']\n",
      "#parsing: ['The', 'nose', '?']\n",
      "#parsing: ['And', 'the', 'hat', '--', 'but', 'she', 'is', 'a', 'witch', '!']\n"
     ]
    },
    {
     "name": "stdout",
     "output_type": "stream",
     "text": [
      "(TOP (S1 (ROOT (S (CC And) (S|<NP-COLON-CC-S-PERIOD> (NP (DT the) (NN hat)) (S|<COLON-CC-S-PERIOD> (COLON --) (S|<CC-S-PERIOD> (CC but) (S|<S-PERIOD> (S (NP (PRP she) ) (VP (VBZ is) (NP (DT a) (NN witch)))) (PERIOD !)))))) ) ) )\n",
      "(TOP (S1 (ROOT (S (VP (VB Burn) (NP (PRP her) )) (PERIOD !)) ) ) )\n",
      "(TOP (S1 (ROOT (INTJ (NN Witch) (PERIOD !)) ) ) )\n",
      "(TOP (S1 (ROOT (S (VP (VB Burn) (NP (PRP her) )) (PERIOD !)) ) ) )\n",
      "(TOP (S1 (ROOT (SQ (VBD Did) (SQ|<NP-VP-.> (NP (PRP you) ) (SQ|<VP-.> (VP (VB dress) (VP|<NP-PRT-PP> (NP (PRP her) ) (VP|<PRT-PP> (PRT (RP up) ) (PP (IN like) (NP (DT this) ))))) (PERIOD ?)))) ) ) )\n",
      "(TOP (S1 (ROOT (FRAG (INTJ (UH No) ) (FRAG|<COMA-INTJ-COLON> (COMA ,) (FRAG|<INTJ-COLON> (INTJ (UH no) ) (COLON ...)))) ) ) )\n",
      "(TOP (S1 (ROOT (INTJ (INTJ (UH no) ) (INTJ|<COLON-INTJ> (COLON ...) (INTJ (UH yes) (PERIOD .)))) ) ) )\n"
     ]
    },
    {
     "name": "stderr",
     "output_type": "stream",
     "text": [
      "#parsing: ['Burn', 'her', '!']\n",
      "#parsing: ['Witch', '!']\n",
      "#parsing: ['Burn', 'her', '!']\n",
      "#parsing: ['Did', 'you', 'dress', 'her', 'up', 'like', 'this', '?']\n",
      "#parsing: ['No', ',', 'no', '...']\n",
      "#parsing: ['no', '...', 'yes', '.']\n",
      "#parsing: ['Yes', ',', 'yes', ',', 'a', 'bit', ',', 'a', 'bit', '.']\n"
     ]
    },
    {
     "name": "stdout",
     "output_type": "stream",
     "text": [
      "(TOP (S1 (ROOT (FRAG (INTJ (UH Yes) (INTJ|<,-UH> (COMMA ,) (UH yes))) (FRAG|<,-NP-.> (COMMA ,) (FRAG|<NP-.> (NP (NP (DT a) (NN bit)) (NP|<,-NP> (COMMA ,) (NP (DT a) (NN bit)))) (PERIOD .)))) ) ) )\n",
      "(TOP (S1 (ROOT (S (NP (PRP She) ) (S|<VP-.> (VP (VBZ has) (VP (VBN got) (NP (DT a) (NN wart)))) (PERIOD .))) ) ) )\n",
      "(TOP (S1 (ROOT (SBARQ (WHNP (WP What) ) (SBARQ|<SQ-.> (SQ (VBZ makes) (SQ|<NP-SQ> (NP (PRP you) ) (SQ (VBP think) (SQ|<NP-VP> (NP (PRP she) ) (VP (VBZ is) (NP (DT a) (NN witch))))))) (PERIOD ?))) ) ) )\n"
     ]
    },
    {
     "name": "stderr",
     "output_type": "stream",
     "text": [
      "#parsing: ['She', 'has', 'got', 'a', 'wart', '.']\n",
      "#parsing: ['What', 'makes', 'you', 'think', 'she', 'is', 'a', 'witch', '?']\n",
      "#parsing: ['Well', ',', 'she', 'turned', 'me', 'into', 'a', 'newt', '.']\n"
     ]
    },
    {
     "name": "stdout",
     "output_type": "stream",
     "text": [
      "(TOP (S1 (ROOT (S (INTJ (UH Well) ) (S|<,-NP-VP-.> (COMMA ,) (S|<NP-VP-.> (NP (PRP she) ) (S|<VP-.> (VP (VBD turned) (VP|<NP-PP> (NP (PRP me) ) (PP (IN into) (NP (DT a) (NN newt))))) (PERIOD .))))) ) ) )\n",
      "(TOP (S1 (ROOT (FRAG (NP (DT A) (NN newt)) (PERIOD ?)) ) ) )\n",
      "(TOP (S1 (ROOT (S (NP (PRP I) ) (S|<VP-.> (VP (VBD got) (ADVP (RBR better) )) (PERIOD .))) ) ) )\n",
      "(TOP (S1 (ROOT (S (VP (VB Burn) (VP|<NP-ADVP> (NP (PRP her) ) (ADVP (RB anyway) ))) (PERIOD !)) ) ) )\n",
      "(TOP (S1 (ROOT (S (VP (VB Burn) ) (PERIOD !)) ) ) )\n",
      "(TOP (S1 (ROOT (S (VP (VB Burn) (NP (PRP her) )) (PERIOD !)) ) ) )\n",
      "(TOP (S1 (ROOT (ADJP (JJ Quiet) (ADJP|<COMA-JJ-PERIOD> (COMA ,) (ADJP|<JJ-PERIOD> (JJ quiet) (PERIOD .)))) ) ) )\n",
      "(TOP (S1 (ROOT (S (VP (VB Quiet) ) (PERIOD !)) ) ) )\n"
     ]
    },
    {
     "name": "stderr",
     "output_type": "stream",
     "text": [
      "#parsing: ['A', 'newt', '?']\n",
      "#parsing: ['I', 'got', 'better', '.']\n",
      "#parsing: ['Burn', 'her', 'anyway', '!']\n",
      "#parsing: ['Burn', '!']\n",
      "#parsing: ['Burn', 'her', '!']\n",
      "#parsing: ['Quiet', ',', 'quiet', '.']\n",
      "#parsing: ['Quiet', '!']\n",
      "#parsing: ['There', 'are', 'ways', 'of', 'telling', 'whether', 'she', 'is', 'a', 'witch', '.']\n"
     ]
    },
    {
     "name": "stdout",
     "output_type": "stream",
     "text": [
      "(TOP (S1 (ROOT (S (NP (EX There) ) (VP (VBP are) (VP (NNS ways) (SBAR (IN of) (S (VP (VBG telling) (SBAR (IN whether) (S (NP (PRP she) ) (VP (VBZ is) (NP (DT a) (NN witch)))))) (PERIOD .)))))) ) ) )\n",
      "(TOP (S1 (ROOT (S (VP (VBP Are) (NP (EX there) )) (PERIOD ?)) ) ) )\n",
      "(TOP (S1 (ROOT (SBARQ (WHNP (WP What) ) (SBARQ|<SQ-.> (SQ (VBP are) (NP (PRP they) )) (PERIOD ?))) ) ) )\n",
      "(TOP (S1 (ROOT (S (VP (VB Tell) (VP|<NP-COMA-WHNP-SQ> (NP (PRP me) ) (VP|<COMA-WHNP-SQ> (COMA ,) (VP|<WHNP-SQ> (WHNP (WP what) ) (SQ (VBP do) (SQ|<NP-VP> (NP (PRP you) ) (VP (VBP do) (PP (IN with) (NP (NNS witches) ))))))))) (PERIOD ?)) ) ) )\n",
      "(TOP (S1 (ROOT (S (VP (VB Burn) ) (PERIOD !)) ) ) )\n",
      "(TOP (S1 (ROOT (S (NNP Burn) (S|<COMA-VP-PERIOD> (COMA ,) (S|<VP-PERIOD> (VP (VB burn) (VP|<NP-PRT> (NP (PRP them) ) (PRT (RP up) ))) (PERIOD !)))) ) ) )\n"
     ]
    },
    {
     "name": "stderr",
     "output_type": "stream",
     "text": [
      "#parsing: ['Are', 'there', '?']\n",
      "#parsing: ['What', 'are', 'they', '?']\n",
      "#parsing: ['Tell', 'me', ',', 'what', 'do', 'you', 'do', 'with', 'witches', '?']\n",
      "#parsing: ['Burn', '!']\n",
      "#parsing: ['Burn', ',', 'burn', 'them', 'up', '!']\n",
      "#parsing: ['And', 'what', 'do', 'you', 'burn', 'apart', 'from', 'witches', '?']\n"
     ]
    },
    {
     "name": "stdout",
     "output_type": "stream",
     "text": [
      "(TOP (S1 (ROOT (SBARQ (CC And) (SBARQ|<WHNP-SQ-PERIOD> (WHNP (WP what) ) (SBARQ|<SQ-PERIOD> (SQ (VBP do) (SQ|<NP-VP> (NP (PRP you) ) (VP (VB burn) (VP|<ADVP-PP> (ADVP (RB apart) ) (PP (IN from) (NP (NNS witches) )))))) (PERIOD ?)))) ) ) )\n",
      "(TOP (S1 (ROOT (NP (RBR More) (NP|<NNS-PERIOD> (NNS witches) (PERIOD !))) ) ) )\n",
      "(TOP (S1 (ROOT (INTJ (UH Wood) (PERIOD !)) ) ) )\n",
      "(TOP (S1 (ROOT (SBARQ (ADVP (RB So) ) (SBARQ|<COMA-WHADVP-SQ-PERIOD> (COMA ,) (SBARQ|<WHADVP-SQ-PERIOD> (WHADVP (WRB why) ) (SBARQ|<SQ-PERIOD> (SQ (VBP do) (SQ|<NP-VP> (NP (NNS witches) ) (VP (VB burn) ))) (PERIOD ?))))) ) ) )\n",
      "(TOP (S1 (ROOT (NP (NNP B) (NP|<COLON-COLON> (COLON --) (COLON ...))) ) ) )\n",
      "(TOP (S1 (ROOT (SQ (TWOSINGLEQUOTES ') (SQ|<ADVP-NP-VP-COLON-PERIOD> (ADVP (NN cause) ) (SQ|<NP-VP-COLON-PERIOD> (NP (PRP they) ) (SQ|<VP-COLON-PERIOD> (VP (VBP 're) (VP (VBN made) (PP (IN of) (NP (NN wood) )))) (SQ|<COLON-PERIOD> (COLON ...) (PERIOD ?)))))) ) ) )\n",
      "(TOP (S1 (ROOT (INTJ (JJ Good) (PERIOD !)) ) ) )\n",
      "(TOP (S1 (ROOT (FRAG (INTJ (UH Oh) (UH yeah)) (FRAG|<COMA-INTJ-COLON> (COMA ,) (FRAG|<INTJ-COLON> (INTJ (UH yeah) ) (COLON ...)))) ) ) )\n"
     ]
    },
    {
     "name": "stderr",
     "output_type": "stream",
     "text": [
      "#parsing: ['More', 'witches', '!']\n",
      "#parsing: ['Wood', '!']\n",
      "#parsing: ['So', ',', 'why', 'do', 'witches', 'burn', '?']\n",
      "#parsing: ['B', '--', '...']\n",
      "#parsing: [\"'\", 'cause', 'they', \"'re\", 'made', 'of', 'wood', '...', '?']\n",
      "#parsing: ['Good', '!']\n",
      "#parsing: ['Oh', 'yeah', ',', 'yeah', '...']\n",
      "#parsing: ['So', ',', 'how', 'do', 'we', 'tell', 'whether', 'she', 'is', 'made', 'of', 'wood', '?']\n"
     ]
    },
    {
     "name": "stdout",
     "output_type": "stream",
     "text": [
      "(TOP (S1 (ROOT (SBARQ (ADVP (RB So) ) (SBARQ|<COMA-WHADVP-SQ-PERIOD> (COMA ,) (SBARQ|<WHADVP-SQ-PERIOD> (WHADVP (WRB how) ) (SBARQ|<SQ-PERIOD> (SQ (VBP do) (SQ|<NP-VP> (NP (PRP we) ) (VP (VB tell) (SBAR (IN whether) (S (NP (PRP she) ) (VP (VBZ is) (VP (VBN made) (PP (IN of) (NP (NN wood) ))))))))) (PERIOD ?))))) ) ) )\n",
      "(TOP (S1 (ROOT (S (VP (VB Build) (VP|<NP-PRT-PP> (NP (DT a) (NN bridge)) (VP|<PRT-PP> (PRT (RP out) ) (PP (IN of) (NP (PRP her) ))))) (PERIOD .)) ) ) )\n"
     ]
    },
    {
     "name": "stderr",
     "output_type": "stream",
     "text": [
      "#parsing: ['Build', 'a', 'bridge', 'out', 'of', 'her', '.']\n",
      "#parsing: ['Aah', ',', 'but', 'can', 'you', 'not', 'also', 'build', 'bridges', 'out', 'of', 'stone', '?']\n"
     ]
    },
    {
     "name": "stdout",
     "output_type": "stream",
     "text": [
      "(TOP (S1 (ROOT (SQ (INTJ (NNP Aah) ) (SQ|<COMA-CC-MD-NP-RB-ADVP-VP-PERIOD> (COMA ,) (SQ|<CC-MD-NP-RB-ADVP-VP-PERIOD> (CC but) (SQ|<MD-NP-RB-ADVP-VP-PERIOD> (MD can) (SQ|<NP-RB-ADVP-VP-PERIOD> (NP (PRP you) ) (SQ|<RB-ADVP-VP-PERIOD> (RB not) (SQ|<ADVP-VP-PERIOD> (ADVP (RB also) ) (SQ|<VP-PERIOD> (VP (VB build) (VP|<NP-PRT-PP> (NP (NNS bridges) ) (VP|<PRT-PP> (PRT (RP out) ) (PP (IN of) (NP (NN stone) ))))) (PERIOD ?))))))))) ) ) )\n",
      "(TOP (S1 (ROOT (INTJ (INTJ (UH Oh) ) (INTJ|<,-INTJ> (COMMA ,) (INTJ (UH yeah) (PERIOD .)))) ) ) )\n",
      "(TOP (S1 (ROOT (SQ (NNP Does) (SQ|<NP-VP-PERIOD> (NP (NN wood) ) (SQ|<VP-PERIOD> (VP (VB sink) (PP (IN in) (NP (NN water) ))) (PERIOD ?)))) ) ) )\n",
      "(TOP (S1 (ROOT (INTJ (INTJ (UH No) ) (INTJ|<,-INTJ> (COMMA ,) (INTJ (UH no) (PERIOD .)))) ) ) )\n",
      "(TOP (S1 (ROOT (S (NP (PRP It) ) (S|<VP-.> (VP (VBZ floats) ) (PERIOD !))) ) ) )\n",
      "(TOP (S1 (ROOT (S (VP (VB Throw) (VP|<NP-PP> (NP (PRP her) ) (PP (IN into) (NP (DT the) (NN pond))))) (PERIOD !)) ) ) )\n",
      "(TOP (S1 (ROOT (FRAG (NP (DT The) (NN pond)) (PERIOD !)) ) ) )\n",
      "(TOP (S1 (ROOT (SBARQ (WHNP (WP What) ) (SBARQ|<ADVP-VP-PERIOD> (ADVP (RB also) ) (SBARQ|<VP-PERIOD> (VP (VBZ floats) (PP (IN in) (NP (NN water) ))) (PERIOD ?)))) ) ) )\n",
      "(TOP (S1 (ROOT (S (VP (VBN Bread) ) (PERIOD !)) ) ) )\n",
      "(TOP (S1 (ROOT (NP (NNS Apples) (PERIOD !)) ) ) )\n",
      "(TOP (S1 (ROOT (FRAG (NP (CD Very) (NP|<JJ-NNS> (JJ small) (NNS rocks))) (PERIOD !)) ) ) )\n",
      "(TOP (S1 (ROOT (S (VP (VB Cider) ) (PERIOD !)) ) ) )\n",
      "(TOP (S1 (ROOT (NP (NNP Great) (NP|<NN-PERIOD> (NN gravy) (PERIOD !))) ) ) )\n",
      "(TOP (S1 (ROOT (NP (NNS Cherries) (PERIOD !)) ) ) )\n",
      "(TOP (S1 (ROOT (S (VP (VB Mud) ) (PERIOD !)) ) ) )\n",
      "(TOP (S1 (ROOT (FRAG (NP (NNS Churches) ) (FRAG|<:-NP-.> (COLON --) (FRAG|<NP-.> (NP (NNS churches) ) (PERIOD !)))) ) ) )\n",
      "(TOP (S1 (ROOT (INTJ (INTJ (UH Lead) ) (INTJ|<COLON-INTJ> (COLON --) (INTJ (JJ lead) (PERIOD !)))) ) ) )\n",
      "(TOP (S1 (ROOT (FRAG (NP (DT A) (NN duck)) (PERIOD .)) ) ) )\n",
      "(TOP (S1 (ROOT (S (VP (VB Oooh) ) (PERIOD .)) ) ) )\n",
      "(TOP (S1 (ROOT (NP (FW Exactly) (PERIOD !)) ) ) )\n"
     ]
    },
    {
     "name": "stderr",
     "output_type": "stream",
     "text": [
      "#parsing: ['Oh', ',', 'yeah', '.']\n",
      "#parsing: ['Does', 'wood', 'sink', 'in', 'water', '?']\n",
      "#parsing: ['No', ',', 'no', '.']\n",
      "#parsing: ['It', 'floats', '!']\n",
      "#parsing: ['Throw', 'her', 'into', 'the', 'pond', '!']\n",
      "#parsing: ['The', 'pond', '!']\n",
      "#parsing: ['What', 'also', 'floats', 'in', 'water', '?']\n",
      "#parsing: ['Bread', '!']\n",
      "#parsing: ['Apples', '!']\n",
      "#parsing: ['Very', 'small', 'rocks', '!']\n",
      "#parsing: ['Cider', '!']\n",
      "#parsing: ['Great', 'gravy', '!']\n",
      "#parsing: ['Cherries', '!']\n",
      "#parsing: ['Mud', '!']\n",
      "#parsing: ['Churches', '--', 'churches', '!']\n",
      "#parsing: ['Lead', '--', 'lead', '!']\n",
      "#parsing: ['A', 'duck', '.']\n",
      "#parsing: ['Oooh', '.']\n",
      "#parsing: ['Exactly', '!']\n",
      "#parsing: ['So', ',', 'logically', '...', ',']\n"
     ]
    },
    {
     "name": "stdout",
     "output_type": "stream",
     "text": [
      "(TOP (S1 (ROOT (FRAG (ADVP (RB So) ) (FRAG|<COMA-ADVP-COLON-COMA> (COMA ,) (FRAG|<ADVP-COLON-COMA> (ADVP (RB logically) ) (FRAG|<COLON-COMA> (COLON ...) (COMA ,))))) ) ) )\n",
      "(TOP (S1 (ROOT (X (IN If) (COLON ...)) ) ) )\n",
      "(TOP (S1 (ROOT (INTJ (NN she.) (PERIOD .)) ) ) )\n",
      "(TOP (S1 (ROOT (S (S (VP (VBZ weighs) (NP (NP (DT the) (JJ same)) (PP (IN as) (NP (DT a) (NN duck))))) ) (S|<,-NP-VP-.> (COMMA ,) (S|<NP-VP-.> (NP (PRP she) ) (S|<VP-.> (VP (VBZ 's) (VP (VBN made) (PP (IN of) (NP (NN wood) )))) (PERIOD .))))) ) ) )\n",
      "(TOP (S1 (ROOT (FRAG (CC And) (FRAG|<ADVP-COLON-PERIOD> (ADVP (RB therefore) ) (FRAG|<COLON-PERIOD> (COLON --) (PERIOD ?)))) ) ) )\n",
      "(TOP (S1 (ROOT (FRAG (NP (DT A) (NN witch)) (PERIOD !)) ) ) )\n",
      "(TOP (S1 (ROOT (S (NP (PRP We) ) (S|<VP-.> (VP (MD shall) (VP (VB use) (NP (PRP$ my) (NP|<JJR-NNS> (JJR larger) (NNS scales))))) (PERIOD !))) ) ) )\n",
      "(TOP (S1 (ROOT (S (INTJ (RB Right) ) (S|<,-VP-.> (COMMA ,) (S|<VP-.> (VP (VB remove) (NP (DT the) (NNS supports))) (PERIOD !)))) ) ) )\n",
      "(TOP (S1 (ROOT (FRAG (NP (DT A) (NN witch)) (PERIOD !)) ) ) )\n",
      "(TOP (S1 (ROOT (S (NP (PRP It) ) (S|<VP-.> (VP (VBZ 's) (NP (DT a) (NP|<JJ-NN> (JJ fair) (NN cop)))) (PERIOD .))) ) ) )\n",
      "(TOP (S1 (ROOT (S (VP (VB Burn) (NP (PRP her) )) (PERIOD !)) ) ) )\n",
      "(TOP (S1 (ROOT (S (VP (VB Burn) ) (PERIOD !)) ) ) )\n"
     ]
    },
    {
     "name": "stderr",
     "output_type": "stream",
     "text": [
      "#parsing: ['If', '...']\n",
      "#parsing: ['she.', '.']\n",
      "#parsing: ['weighs', 'the', 'same', 'as', 'a', 'duck', ',', 'she', \"'s\", 'made', 'of', 'wood', '.']\n",
      "#parsing: ['And', 'therefore', '--', '?']\n",
      "#parsing: ['A', 'witch', '!']\n",
      "#parsing: ['We', 'shall', 'use', 'my', 'larger', 'scales', '!']\n",
      "#parsing: ['Right', ',', 'remove', 'the', 'supports', '!']\n",
      "#parsing: ['A', 'witch', '!']\n",
      "#parsing: ['It', \"'s\", 'a', 'fair', 'cop', '.']\n",
      "#parsing: ['Burn', 'her', '!']\n",
      "#parsing: ['Burn', '!']\n",
      "#parsing: ['Who', 'are', 'you', 'who', 'are', 'so', 'wise', 'in', 'the', 'ways', 'of', 'science', '?']\n"
     ]
    },
    {
     "name": "stdout",
     "output_type": "stream",
     "text": [
      "(TOP (S1 (ROOT (SBARQ (WHNP (WP Who) ) (SBARQ|<SQ-.> (SQ (VBP are) (SQ|<NP-SBAR> (NP (PRP you) ) (SBAR (WHNP (WP who) ) (S (VP (VBP are) (VP|<ADVP-ADVP-PP> (ADVP (RB so) ) (VP|<ADVP-PP> (ADVP (RB wise) ) (PP (IN in) (NP (NP (DT the) (NNS ways)) (PP (IN of) (NP (NN science) ))))))) )))) (PERIOD ?))) ) ) )\n",
      "(TOP (S1 (ROOT (S (NP (PRP I) ) (S|<VP-.> (VP (VBP am) (VP|<NP-PP> (NP (NNP Arthur) (NP|<,-NNP> (COMMA ,) (NNP King))) (PP (IN of) (NP (DT the) (NNPS Britons))))) (PERIOD .))) ) ) )\n",
      "(TOP (S1 (ROOT (FRAG (NP (PRP$ My) (NN liege)) (PERIOD !)) ) ) )\n"
     ]
    },
    {
     "name": "stderr",
     "output_type": "stream",
     "text": [
      "#parsing: ['I', 'am', 'Arthur', ',', 'King', 'of', 'the', 'Britons', '.']\n",
      "#parsing: ['My', 'liege', '!']\n",
      "#parsing: ['Good', 'Sir', 'knight', ',', 'will', 'you', 'come', 'with', 'me', 'to', 'Camelot', ',', 'and', 'join', 'us', 'at', 'the', 'Round', 'Table', '?']\n"
     ]
    },
    {
     "name": "stdout",
     "output_type": "stream",
     "text": [
      "(TOP (S1 (ROOT (SQ (NP (JJ Good) (NP|<NNP-NN> (NNP Sir) (NN knight))) (SQ|<COMA-MD-NP-VP-PERIOD> (COMA ,) (SQ|<MD-NP-VP-PERIOD> (MD will) (SQ|<NP-VP-PERIOD> (NP (PRP you) ) (SQ|<VP-PERIOD> (VP (VP (VB come) (PP (IN with) (NP (NP (PRP me) ) (PP (TO to) (NP (NNP Camelot) ))))) (VP|<,-CC-VP> (COMMA ,) (VP|<CC-VP> (CC and) (VP (VB join) (VP|<NP-PP> (NP (PRP us) ) (PP (IN at) (NP (DT the) (NP|<NNP-NNP> (NNP Round) (NNP Table))))))))) (PERIOD ?)))))) ) ) )\n",
      "(TOP (S1 (ROOT (FRAG (NP (PRP$ My) (NN liege)) (PERIOD !)) ) ) )\n",
      "(TOP (S1 (ROOT (S (NP (PRP I) ) (S|<VP-.> (VP (MD would) (VP (VB be) (VP (VBN honored) ))) (PERIOD .))) ) ) )\n",
      "(TOP (S1 (ROOT (SBARQ (WHNP (WP What) ) (SBARQ|<SQ-.> (SQ (VBZ is) (NP (PRP$ your) (NN name))) (PERIOD ?))) ) ) )\n",
      "(TOP (S1 (ROOT (FRAG (INTJ (NNP Bedemir) ) (FRAG|<,-NP-.> (COMMA ,) (FRAG|<NP-.> (NP (PRP$ my) (NN leige)) (PERIOD .)))) ) ) )\n"
     ]
    },
    {
     "name": "stderr",
     "output_type": "stream",
     "text": [
      "#parsing: ['My', 'liege', '!']\n",
      "#parsing: ['I', 'would', 'be', 'honored', '.']\n",
      "#parsing: ['What', 'is', 'your', 'name', '?']\n",
      "#parsing: ['Bedemir', ',', 'my', 'leige', '.']\n",
      "#parsing: ['Then', 'I', 'dub', 'you', 'Sir', 'Bedemir', ',', 'Knight', 'of', 'the', 'Round', 'Table', '.']\n"
     ]
    },
    {
     "name": "stdout",
     "output_type": "stream",
     "text": [
      "(TOP (S1 (ROOT (S (ADVP (RB Then) ) (S|<NP-VP-.> (NP (PRP I) ) (S|<VP-.> (VP (VBP dub) (VP|<NP-NP> (NP (PRP you) ) (NP (NP (NP (NNP Sir) (NNP Bedemir)) (NP|<,-NP> (COMMA ,) (NP (NNP Knight) ))) (PP (IN of) (NP (DT the) (NP|<NNP-NNP> (NNP Round) (NNP Table))))))) (PERIOD .)))) ) ) )\n"
     ]
    },
    {
     "name": "stderr",
     "output_type": "stream",
     "text": [
      "#parsing: ['The', 'wise', 'Sir', 'Bedemir', 'was', 'the', 'first', 'to', 'join', 'King', 'Arthur', \"'s\", 'knights', ',', 'but', 'other', 'illustrious', 'names', 'were', 'soon', 'to', 'follow', ':', 'Sir', 'Launcelot', 'the', 'Brave', ';', 'Sir', 'Galahad', 'the', 'Pure', ';', 'and', 'Sir', 'Robin', 'the', 'Not', '-', 'quite', '-', 'so', '-', 'brave', '-', 'as', '-', 'Sir', '-', 'Launcelot', 'who', 'had', 'nearly', 'fought', 'the', 'Dragon', 'of', 'Agnor', ',', 'who', 'had', 'nearly', 'stood', 'up', 'to', 'the', 'vicious', 'Chicken', 'of', 'Bristol', 'and', 'who', 'had', 'personally', 'wet', 'himself', 'at', 'the', 'Battle', 'of', 'Badon', 'Hill', ';', 'and', 'the', 'aptly', 'named', 'Sir', 'Not', '-', 'appearing', '-', 'in', '-', 'this', '-', 'film', '.']\n"
     ]
    },
    {
     "name": "stdout",
     "output_type": "stream",
     "text": [
      "(TOP (S1 (ROOT (S (S (NP (DT The) (NP|<NN-NNP-NNP> (NN wise) (NP|<NNP-NNP> (NNP Sir) (NNP Bedemir)))) (VP (VBD was) (NP (DT the) (NP|<ADJP-NNS> (ADJP (JJ first) (S (VP (TO to) (VP (VB join) (NP (NNP King) (NP|<NNP-POS> (NNP Arthur) (POS 's))))) )) (NNS knights))))) (S|<,-CC-S-.> (COMMA ,) (S|<CC-S-.> (CC but) (S|<S-.> (S (NP (JJ other) (NP|<JJ-NNS> (JJ illustrious) (NNS names))) (VP (VBD were) (VP|<ADVP-TO-VP> (ADVP (RB soon) ) (VP|<TO-VP> (TO to) (VP (VB follow) (NP (PRN (PRN (COLON :) (PRN|<NP-:> (NP (NP (NP (NNP Sir) (NP|<NNP-DT-NNP> (NNP Launcelot) (NP|<DT-NNP> (DT the) (NNP Brave)))) (NP|<COLON-NP-COLON-CC-NP> (COLON ;) (NP|<NP-COLON-CC-NP> (NP (NNP Sir) (NP|<NNP-DT-NNP> (NNP Galahad) (NP|<DT-NNP> (DT the) (NNP Pure)))) (NP|<COLON-CC-NP> (COLON ;) (NP|<CC-NP> (CC and) (NP (NNP Sir) (NP|<NNP-DT-NNP> (NNP Robin) (NP|<DT-NNP> (DT the) (NNP Not))))))))) (NP|<PRN-NN-SBAR> (PRN (PRN (COLON -) (PRN|<RB-COLON-RB-PRN> (RB quite) (PRN|<COLON-RB-PRN> (COLON -) (PRN|<RB-PRN> (RB so) (PRN (COLON -) (PRN|<ADJP-COLON> (ADJP (JJ brave) ) (COLON -))))))) (PRN|<IN-PRN> (IN as) (PRN (COLON -) (PRN|<NNP-COLON> (NNP Sir) (COLON -))))) (NP|<NN-SBAR> (NN Launcelot) (SBAR (SBAR (SBAR (SBAR (WHNP (WP who) ) (S (VP (VBD had) (VP|<RB-VP> (RB nearly) (VP (VBN fought) (VP|<NP-PP> (NP (DT the) (NNP Dragon)) (PP (IN of) (NP (NNP Agnor) )))))) )) (SBAR|<COMA-SBAR> (COMA ,) (SBAR (WHNP (WP who) ) (S (VP (VBD had) (VP|<RB-VP> (RB nearly) (VP (VBN stood) (VP|<PRT-PP> (PRT (RP up) ) (PP (TO to) (NP (NP (DT the) (NP|<JJ-NN> (JJ vicious) (NN Chicken))) (PP (IN of) (NP (NNP Bristol) )))))))) )))) (SBAR|<CC-SBAR> (CC and) (SBAR (WHNP (WP who) ) (S (VP (VBD had) (VP (ADVP (RB personally) ) (VP|<JJ-NP-PP> (JJ wet) (VP|<NP-PP> (NP (NP (PRP himself) ) (PP (IN at) (NP (DT the) (NNP Battle)))) (PP (IN of) (NP (NNP Badon) (NNP Hill))))))) )))) (SBAR|<COLON-CC-NP> (COLON ;) (SBAR|<CC-NP> (CC and) (NP (DT the) (NP|<ADVP-VBN-S> (ADVP (RB aptly) ) (NP|<VBN-S> (VBN named) (S (NP (NNP Sir) ) (S|<ADVP-VP> (ADVP (RB Not) (COLON -)) (VP (VBG appearing) )))))))))))) (COLON -))) (PRN|<IN-PRN> (IN in) (PRN (COLON -) (PRN|<NP-:> (NP (DT this) ) (COLON -))))) (NN film))))))) (PERIOD .))))) ) ) )\n"
     ]
    },
    {
     "name": "stderr",
     "output_type": "stream",
     "text": [
      "#parsing: ['Together', 'they', 'formed', 'a', 'band', 'whose', 'names', 'and', 'deeds', 'were', 'to', 'be', 'retold', 'throughout', 'the', 'centuries', ',', 'the', 'Knights', 'of', 'the', 'Round', 'Table', '.']\n"
     ]
    },
    {
     "name": "stdout",
     "output_type": "stream",
     "text": [
      "(TOP (S1 (ROOT (S (ADVP (RB Together) ) (S|<NP-VP-.> (NP (PRP they) ) (S|<VP-.> (VP (VBD formed) (VP|<NP-SBAR> (NP (DT a) (NN band)) (SBAR (WHNP (WP$ whose) (WHNP|<NNS-CC-NNS> (NNS names) (WHNP|<CC-NNS> (CC and) (NNS deeds)))) (S (VP (VBD were) (VP (TO to) (VP (VB be) (VP (VBN retold) (VP|<PP-PP> (PP (IN throughout) (NP (NP (DT the) (NNS centuries)) (NP|<,-NP> (COMMA ,) (NP (DT the) (NNPS Knights))))) (PP (IN of) (NP (DT the) (NP|<NNP-NNP> (NNP Round) (NNP Table))))))))) )))) (PERIOD .)))) ) ) )\n"
     ]
    },
    {
     "name": "stderr",
     "output_type": "stream",
     "text": [
      "#parsing: ['And', 'that', ',', 'my', 'liege', ',', 'is', 'how', 'we', 'know', 'the', 'Earth', 'to', 'be', 'banana', '-', 'shaped', '.']\n"
     ]
    },
    {
     "name": "stdout",
     "output_type": "stream",
     "text": [
      "(TOP (S1 (ROOT (S (CC And) (S|<NP-COMA-NP-COMA-VP-PERIOD> (NP (DT that) ) (S|<COMA-NP-COMA-VP-PERIOD> (COMA ,) (S|<NP-COMA-VP-PERIOD> (NP (PRP$ my) (NN liege)) (S|<COMA-VP-PERIOD> (COMA ,) (S|<VP-PERIOD> (VP (VBZ is) (SBAR (WHADVP (WRB how) ) (S (NP (PRP we) ) (VP (VB know) (S (NP (DT the) (NN Earth)) (VP (TO to) (VP (VB be) (ADJP (ADJP (JJ banana) ) (ADJP|<:-ADJP> (COLON -) (ADJP (JJ shaped) )))))))))) (PERIOD .))))))) ) ) )\n",
      "(TOP (S1 (ROOT (S (NP (DT This) (NP|<JJ-NN> (JJ new) (NN learning))) (S|<VP-.> (VP (VBZ amazes) (NP (NP (PRP me) ) (NP|<,-NP> (COMMA ,) (NP (NNP Sir) (NNP Bedemir))))) (PERIOD .))) ) ) )\n"
     ]
    },
    {
     "name": "stderr",
     "output_type": "stream",
     "text": [
      "#parsing: ['This', 'new', 'learning', 'amazes', 'me', ',', 'Sir', 'Bedemir', '.']\n",
      "#parsing: ['Explain', 'again', 'how', \"sheeps'\", 'bladders', 'may', 'be', 'employed', 'to', 'prevent', 'earthquakes', '.']\n"
     ]
    },
    {
     "name": "stdout",
     "output_type": "stream",
     "text": [
      "(TOP (S1 (ROOT (S (VP (RB Explain) (VP|<ADVP-SBAR> (ADVP (RB again) ) (SBAR (WHADVP (WRB how) ) (S (NP (JJ sheeps') (NNS bladders)) (VP (MD may) (VP (VB be) (VP (VBN employed) (VP (TO to) (VP (VB prevent) (NP (NNS earthquakes) )))))))))) (PERIOD .)) ) ) )\n",
      "(TOP (S1 (ROOT (FRAG (INTJ (UH Oh) ) (FRAG|<COMA-ADVP-COMA-INTJ-PERIOD> (COMA ,) (FRAG|<ADVP-COMA-INTJ-PERIOD> (ADVP (RB certainly) ) (FRAG|<COMA-INTJ-PERIOD> (COMA ,) (FRAG|<INTJ-PERIOD> (INTJ (RB sir) ) (PERIOD .)))))) ) ) )\n",
      "(TOP (S1 (ROOT (S (VP (VB Look) ) (S|<,-NP-.> (COMMA ,) (S|<NP-.> (NP (PRP$ my) (NN liege)) (PERIOD !)))) ) ) )\n",
      "(TOP (S1 (ROOT (FRAG (NP (NNP Camelot) ) (PERIOD !)) ) ) )\n",
      "(TOP (S1 (ROOT (S (NP (PRP It) ) (S|<VP-.> (VP (VBZ 's) (VP|<RB-NP> (RB only) (NP (DT a) (NN model)))) (PERIOD .))) ) ) )\n",
      "(TOP (S1 (ROOT (INTJ (NN Shhh) (PERIOD !)) ) ) )\n"
     ]
    },
    {
     "name": "stderr",
     "output_type": "stream",
     "text": [
      "#parsing: ['Oh', ',', 'certainly', ',', 'sir', '.']\n",
      "#parsing: ['Look', ',', 'my', 'liege', '!']\n",
      "#parsing: ['Camelot', '!']\n",
      "#parsing: ['It', \"'s\", 'only', 'a', 'model', '.']\n",
      "#parsing: ['Shhh', '!']\n",
      "#parsing: ['Knights', ',', 'I', 'bid', 'you', 'welcome', 'to', 'your', 'new', 'home', '.']\n"
     ]
    },
    {
     "name": "stdout",
     "output_type": "stream",
     "text": [
      "(TOP (S1 (ROOT (S (ADVP (RB Knights) ) (S|<,-NP-VP-.> (COMMA ,) (S|<NP-VP-.> (NP (PRP I) ) (S|<VP-.> (VP (VBP bid) (S (NP (PRP you) ) (VP (VB welcome) (PP (TO to) (NP (PRP$ your) (NP|<JJ-NN> (JJ new) (NN home))))))) (PERIOD .))))) ) ) )\n",
      "(TOP (S1 (ROOT (S (VP (VB Let) (S (NP (PRP us) ) (S|<VP-:> (VP (VB ride) ) (COLON ...)))) ) ) ) )\n",
      "(TOP (S1 (ROOT (FRAG (PP (TO to) (NP (NNP Camelot) )) (PERIOD .)) ) ) )\n",
      "(TOP (S1 (ROOT (NP (NP (NNP We're) (NNS knights)) (PP (IN of) (NP (DT the) (NP|<NN-NN> (NN round) (NN table))))) ) ) )\n",
      "(TOP (S1 (ROOT (S (NP (PRP We) ) (VP (VBP dance) (SBAR (WHADVP (WRB when) ) (S (NP (NN e'er) (NN we're)) (ADJP (JJ able) ))))) ) ) )\n",
      "(TOP (S1 (ROOT (S (NP (PRP We) ) (VP (VBP do) (NP (NP (NNS routines) ) (NP|<CC-NP> (CC and) (NP (NN parlour) (NNS scenes)))))) ) ) )\n",
      "(TOP (S1 (ROOT (FRAG (PP (IN With) (NP (NN footwork) (NN impecc))) (FRAG|<COLON-NP-PERIOD> (COLON -) (FRAG|<NP-PERIOD> (NP (JJ Able) ) (PERIOD .)))) ) ) )\n",
      "(TOP (S1 (ROOT (S (NP (PRP We) ) (VP (VBP dine) (VP|<ADVP-ADVP-PP> (ADVP (RB well) ) (VP|<ADVP-PP> (ADVP (RB here) ) (PP (IN in) (NP (NNP Camelot) )))))) ) ) )\n"
     ]
    },
    {
     "name": "stderr",
     "output_type": "stream",
     "text": [
      "#parsing: ['Let', 'us', 'ride', '...']\n",
      "#parsing: ['to', 'Camelot', '.']\n",
      "#parsing: [\"We're\", 'knights', 'of', 'the', 'round', 'table']\n",
      "#parsing: ['We', 'dance', 'when', \"e'er\", \"we're\", 'able']\n",
      "#parsing: ['We', 'do', 'routines', 'and', 'parlour', 'scenes']\n",
      "#parsing: ['With', 'footwork', 'impecc', '-', 'Able', '.']\n",
      "#parsing: ['We', 'dine', 'well', 'here', 'in', 'Camelot']\n",
      "#parsing: ['We', 'eat', 'ham', 'and', 'jam', 'and', 'spam', 'a', 'lot']\n"
     ]
    },
    {
     "name": "stdout",
     "output_type": "stream",
     "text": [
      "(TOP (S1 (ROOT (S (NP (PRP We) ) (VP (VP (VBP eat) (NP (NN ham) (NP|<CC-NN> (CC and) (NN jam)))) (VP|<CC-VP> (CC and) (VP (VB spam) (NP (DT a) (NN lot)))))) ) ) )\n",
      "(TOP (S1 (ROOT (NP (NP (NNP We're) (NNS knights)) (PP (IN of) (NP (DT the) (NP|<NNP-NNP> (NNP Round) (NNP Table))))) ) ) )\n",
      "(TOP (S1 (ROOT (S (NP (PRP$ Our) (NNS shows)) (VP (VBP are) (PP (IN for) (PP|<COLON-NN-COLON-JJ> (COLON -) (PP|<NN-COLON-JJ> (NN mid) (PP|<COLON-JJ> (COLON -) (JJ able))))))) ) ) )\n",
      "(TOP (S1 (ROOT (S (PP (IN Though) (NP (JJ many) (NNS times))) (S|<NP-VP> (NP (NN we're) ) (VP (VBN given) (NP (NNS rhymes) )))) ) ) )\n",
      "(TOP (S1 (ROOT (S (NP (DT That) ) (VP (VBP are) (ADJP (ADJP (RB quite) (JJ unsing)) (ADJP|<:-ADJP> (COLON -) (ADJP (JJ able) ))))) ) ) )\n",
      "(TOP (S1 (ROOT (S (NP (PRP We) ) (S|<RB-RB-JJ-PP> (RB not) (S|<RB-JJ-PP> (RB so) (S|<JJ-PP> (JJ fat) (PP (IN in) (NP (NNP Camelot) )))))) ) ) )\n"
     ]
    },
    {
     "name": "stderr",
     "output_type": "stream",
     "text": [
      "#parsing: [\"We're\", 'knights', 'of', 'the', 'Round', 'Table']\n",
      "#parsing: ['Our', 'shows', 'are', 'for', '-', 'mid', '-', 'able']\n",
      "#parsing: ['Though', 'many', 'times', \"we're\", 'given', 'rhymes']\n",
      "#parsing: ['That', 'are', 'quite', 'unsing', '-', 'able']\n",
      "#parsing: ['We', 'not', 'so', 'fat', 'in', 'Camelot']\n",
      "#parsing: ['We', 'sing', 'from', 'the', 'diaphragm', 'a', 'lot']\n"
     ]
    },
    {
     "name": "stdout",
     "output_type": "stream",
     "text": [
      "(TOP (S1 (ROOT (S (NP (PRP We) ) (VP (VBG sing) (VP|<PP-NP> (PP (IN from) (NP (DT the) (NN diaphragm))) (NP (DT a) (NN lot))))) ) ) )\n",
      "(TOP (S1 (ROOT (S (NP (CD Oh) (NN we're)) (ADJP (JJ tough) (ADJP|<CC-JJ> (CC and) (JJ able)))) ) ) )\n",
      "(TOP (S1 (ROOT (ADJP (RB Quite) (JJ indefatigable)) ) ) )\n",
      "(TOP (S1 (ROOT (S (PP (IN Between) (NP (PRP$ our) (NNS quests))) (S|<NP-VP> (NP (PRP we) ) (VP (VBP sequin) (NP (NNS vests) )))) ) ) )\n",
      "(TOP (S1 (ROOT (FRAG (CC And) (NP (NNP impersonate) (NP|<NNP-NNP> (NNP Clark) (NNP Gable)))) ) ) )\n",
      "(TOP (S1 (ROOT (S (NP (PRP It) ) (VP (VBZ 's) (VP|<ADJP-PP> (ADJP (NP (DT a) (NN bit)) (ADJP|<RB-JJ> (RB too) (JJ loud))) (PP (IN in) (NP (NNP Camelot) ))))) ) ) )\n"
     ]
    },
    {
     "name": "stderr",
     "output_type": "stream",
     "text": [
      "#parsing: ['Oh', \"we're\", 'tough', 'and', 'able']\n",
      "#parsing: ['Quite', 'indefatigable']\n",
      "#parsing: ['Between', 'our', 'quests', 'we', 'sequin', 'vests']\n",
      "#parsing: ['And', 'impersonate', 'Clark', 'Gable']\n",
      "#parsing: ['It', \"'s\", 'a', 'bit', 'too', 'loud', 'in', 'Camelot']\n",
      "#parsing: ['I', 'have', 'to', 'push', 'the', 'pram', 'a', 'lot', '.']\n"
     ]
    },
    {
     "name": "stdout",
     "output_type": "stream",
     "text": [
      "(TOP (S1 (ROOT (S (NP (PRP I) ) (S|<VP-.> (VP (VBP have) (VP (TO to) (VP (VB push) (VP|<NP-NP> (NP (DT the) (NN pram)) (NP (DT a) (NN lot)))))) (PERIOD .))) ) ) )\n"
     ]
    },
    {
     "name": "stderr",
     "output_type": "stream",
     "text": [
      "#parsing: ['Well', ',', 'on', 'second', 'thought', ',', 'let', \"'s\", 'not', 'go', 'to', 'Camelot', '--', 'it', 'is', 'a', 'silly', 'place', '.']\n"
     ]
    },
    {
     "name": "stdout",
     "output_type": "stream",
     "text": [
      "(TOP (S1 (ROOT (S (S (INTJ (UH Well) ) (S|<COMA-PP-COMA-VP> (COMA ,) (S|<PP-COMA-VP> (PP (IN on) (NP (JJ second) (NN thought))) (S|<COMA-VP> (COMA ,) (VP (MD let) (VP (VBZ 's) (VP|<RB-VP> (RB not) (VP (VB go) (PP (TO to) (NP (NNP Camelot) )))))))))) (S|<:-S-.> (COLON --) (S|<S-.> (S (NP (PRP it) ) (VP (VBZ is) (NP (DT a) (NP|<JJ-NN> (JJ silly) (NN place))))) (PERIOD .)))) ) ) )\n",
      "(TOP (S1 (ROOT (FRAG (ADVP (RB Right) ) (PERIOD .)) ) ) )\n",
      "(TOP (S1 (ROOT (FRAG (NP (NNP Arthur) ) (PERIOD !)) ) ) )\n",
      "(TOP (S1 (ROOT (NP (NP (NNP Arthur) (NP|<,-NNP> (COMMA ,) (NNP King))) (NP|<PP-.> (PP (IN of) (NP (DT the) (NNPS Britons))) (PERIOD !))) ) ) )\n",
      "(TOP (S1 (ROOT (S (INTJ (UH Oh) ) (S|<,-VP-.> (COMMA ,) (S|<VP-.> (VP (VBP do) (VP|<RB-VP> (RB n't) (VP (VB grovel) ))) (PERIOD !)))) ) ) )\n"
     ]
    },
    {
     "name": "stderr",
     "output_type": "stream",
     "text": [
      "#parsing: ['Right', '.']\n",
      "#parsing: ['Arthur', '!']\n",
      "#parsing: ['Arthur', ',', 'King', 'of', 'the', 'Britons', '!']\n",
      "#parsing: ['Oh', ',', 'do', \"n't\", 'grovel', '!']\n",
      "#parsing: ['If', 'there', \"'s\", 'one', 'thing', 'I', \"can't\", 'stand', ',', 'it', \"'s\", 'people', 'groveling', '.']\n"
     ]
    },
    {
     "name": "stdout",
     "output_type": "stream",
     "text": [
      "(TOP (S1 (ROOT (S (SBAR (IN If) (S (NP (EX there) ) (VP (VBZ 's) (NP (CD one) (NN thing))))) (S|<NP-VP-.> (NP (PRP I) ) (S|<VP-.> (VP (VBP can't) (VP|<ADVP-,-S> (ADVP (RB stand) ) (VP|<,-S> (COMMA ,) (S (NP (PRP it) ) (VP (VBZ 's) (S (NP (NNS people) ) (VP (VBG groveling) ))))))) (PERIOD .)))) ) ) )\n",
      "(TOP (S1 (ROOT (FRAG (ADVP (RB Sorry) ) (COLON --)) ) ) )\n",
      "(TOP (S1 (ROOT (FRAG (CC And) (FRAG|<VP-.> (VP (VBP do) (VP|<RB-VP> (RB n't) (VP (VB apologize) ))) (PERIOD .))) ) ) )\n"
     ]
    },
    {
     "name": "stderr",
     "output_type": "stream",
     "text": [
      "#parsing: ['Sorry', '--']\n",
      "#parsing: ['And', 'do', \"n't\", 'apologize', '.']\n",
      "#parsing: ['Every', 'time', 'I', 'try', 'to', 'talk', 'to', 'someone', 'it', \"'s\", '\"', 'sorry', 'this', '\"', 'and', '\"', 'forgive', 'me', 'that', '\"', 'and', '\"', \"I'm\", 'not', 'worthy', '\"', '.']\n"
     ]
    },
    {
     "name": "stdout",
     "output_type": "stream",
     "text": [
      "(TOP (S1 (ROOT (S (NP (DT Every) (NP|<NN-S> (NN time) (S (NP (PRP I) ) (VP (VBP try) (VP (TO to) (VP (VB talk) (VP|<PP-NP> (PP (TO to) (NP (NN someone) )) (NP (PRP it) )))))))) (S|<VP-.> (VP (VBZ 's) (NP (JJ \") (NP|<NN-NP-NN-CC-NNP-VP-NN-CC-S> (NN sorry) (NP|<NP-NN-CC-NNP-VP-NN-CC-S> (NP (DT this) ) (NP|<NN-CC-NNP-VP-NN-CC-S> (NN \") (NP|<CC-NNP-VP-NN-CC-S> (CC and) (NP|<NNP-VP-NN-CC-S> (NNP \") (NP|<VP-NN-CC-S> (VP (VB forgive) (VP|<NP-PP> (NP (PRP me) ) (PP (IN that) ))) (NP|<NN-CC-S> (NN \") (NP|<CC-S> (CC and) (S (NP (NNP \") (NNP I'm)) (ADJP (ADJP (RB not) (JJ worthy)) (NN \"))))))))))))) (PERIOD .))) ) ) )\n",
      "(TOP (S1 (ROOT (SBARQ (WHNP (WP What) ) (SBARQ|<SQ-.> (SQ (VBP are) (SQ|<NP-VP-.> (NP (PRP you) ) (SQ|<VP-.> (VP (VBG doing) (ADVP (RB now) )) (PERIOD !)))) (PERIOD ?))) ) ) )\n",
      "(TOP (S1 (ROOT (FRAG (S (NP (NNP I'm) ) (VP (VBG averting) (NP (PRP$ my) (NNS eyes)))) (FRAG|<COMA-INTJ-PERIOD> (COMA ,) (FRAG|<INTJ-PERIOD> (INTJ (JJ oh) (NNP Lord)) (PERIOD .)))) ) ) )\n",
      "(TOP (S1 (ROOT (S (INTJ (UH Well) ) (S|<,-VP-.> (COMMA ,) (S|<VP-.> (VP (VBP do) (RB n't)) (PERIOD .)))) ) ) )\n"
     ]
    },
    {
     "name": "stderr",
     "output_type": "stream",
     "text": [
      "#parsing: ['What', 'are', 'you', 'doing', 'now', '!', '?']\n",
      "#parsing: [\"I'm\", 'averting', 'my', 'eyes', ',', 'oh', 'Lord', '.']\n",
      "#parsing: ['Well', ',', 'do', \"n't\", '.']\n",
      "#parsing: ['It', \"'s\", 'like', 'those', 'miserable', 'Psalms', '--', 'they', \"'re\", 'so', 'depressing', '.']\n"
     ]
    },
    {
     "name": "stdout",
     "output_type": "stream",
     "text": [
      "(TOP (S1 (ROOT (S (S (NP (PRP It) ) (VP (VBZ 's) (PP (IN like) (NP (DT those) (NP|<NNP-NNP> (NNP miserable) (NNP Psalms)))))) (S|<:-S-.> (COLON --) (S|<S-.> (S (NP (PRP they) ) (VP (VBP 're) (ADJP (RB so) (JJ depressing)))) (PERIOD .)))) ) ) )\n",
      "(TOP (S1 (ROOT (S (RB Now) (S|<VP-PERIOD> (VP (VB knock) (VP|<NP-PRT> (NP (PRP it) ) (PRT (RP off) ))) (PERIOD !))) ) ) )\n",
      "(TOP (S1 (ROOT (FRAG (INTJ (UH Yes) ) (FRAG|<,-NP-.> (COMMA ,) (FRAG|<NP-.> (NP (NNP Lord) ) (PERIOD .)))) ) ) )\n",
      "(TOP (S1 (ROOT (FRAG (ADVP (RB Right) ) (PERIOD !)) ) ) )\n"
     ]
    },
    {
     "name": "stderr",
     "output_type": "stream",
     "text": [
      "#parsing: ['Now', 'knock', 'it', 'off', '!']\n",
      "#parsing: ['Yes', ',', 'Lord', '.']\n",
      "#parsing: ['Right', '!']\n",
      "#parsing: ['Arthur', ',', 'King', 'of', 'the', 'Britons', '--', 'your', 'Knights', 'of', 'the', 'Round', 'Table', 'shall', 'have', 'a', 'task', 'to', 'make', 'them', 'an', 'example', 'in', 'these', 'dark', 'times', '.']\n"
     ]
    },
    {
     "name": "stdout",
     "output_type": "stream",
     "text": [
      "(TOP (S1 (ROOT (S (NP (NP (NP (NP (NNP Arthur) (NP|<,-NNP> (COMMA ,) (NNP King))) (PP (IN of) (NP (DT the) (NNPS Britons)))) (NP|<:-NP> (COLON --) (NP (PRP$ your) (NNS Knights)))) (PP (IN of) (NP (DT the) (NP|<NNP-NNP> (NNP Round) (NNP Table))))) (VP (MD shall) (VP (VB have) (S (NP (DT a) (NN task)) (S|<VP-.> (VP (TO to) (VP (VB make) (VP|<NP-NP> (NP (PRP them) ) (NP (NP (DT an) (NN example)) (PP (IN in) (NP (DT these) (NP|<JJ-NNS> (JJ dark) (NNS times)))))))) (PERIOD .)))))) ) ) )\n",
      "(TOP (S1 (ROOT (FRAG (NP (JJ Good) (NN idea)) (FRAG|<COMA-INTJ-PERIOD> (COMA ,) (FRAG|<INTJ-PERIOD> (INTJ (JJ oh) (NNP Lord)) (PERIOD !)))) ) ) )\n",
      "(TOP (S1 (ROOT (FRAG (POS ') (FRAG|<NNP-NP-PERIOD> (NNP Course) (FRAG|<NP-PERIOD> (NP (NP (PRP it) ) (VP (VBZ 's) (NP (DT a) (NP|<JJ-NN> (JJ good) (NN idea))))) (PERIOD !)))) ) ) )\n",
      "(TOP (S1 (ROOT (S (VP (VBN Behold) ) (PERIOD !)) ) ) )\n"
     ]
    },
    {
     "name": "stderr",
     "output_type": "stream",
     "text": [
      "#parsing: ['Good', 'idea', ',', 'oh', 'Lord', '!']\n",
      "#parsing: [\"'\", 'Course', 'it', \"'s\", 'a', 'good', 'idea', '!']\n",
      "#parsing: ['Behold', '!']\n",
      "#parsing: ['Arthur', ',', 'this', 'is', 'the', 'Holy', 'Grail', '.']\n"
     ]
    },
    {
     "name": "stdout",
     "output_type": "stream",
     "text": [
      "(TOP (S1 (ROOT (S (INTJ (NNP Arthur) ) (S|<,-NP-VP-.> (COMMA ,) (S|<NP-VP-.> (NP (DT this) ) (S|<VP-.> (VP (VBZ is) (NP (DT the) (NP|<NNP-NNP> (NNP Holy) (NNP Grail)))) (PERIOD .))))) ) ) )\n"
     ]
    },
    {
     "name": "stderr",
     "output_type": "stream",
     "text": [
      "#parsing: ['Look', 'well', ',', 'Arthur', ',', 'for', 'it', 'is', 'your', 'sacred', 'task', 'to', 'seek', 'this', 'Grail', '.']\n"
     ]
    },
    {
     "name": "stdout",
     "output_type": "stream",
     "text": [
      "(TOP (S1 (ROOT (S (ADVP (RB Look) (RB well)) (S|<,-NP-VP-.> (COMMA ,) (S|<NP-VP-.> (NP (NP (NNP Arthur) ) (NP|<,-SBAR> (COMMA ,) (SBAR (IN for) (S (NP (PRP it) ) (VP (VBZ is) (NP (PRP$ your) (NP|<JJ-NN> (JJ sacred) (NN task)))))))) (S|<VP-.> (VP (TO to) (VP (VB seek) (NP (DT this) (NN Grail)))) (PERIOD .))))) ) ) )\n"
     ]
    },
    {
     "name": "stderr",
     "output_type": "stream",
     "text": [
      "#parsing: ['That', 'is', 'your', 'purpose', ',', 'Arthur', '--', 'the', 'Quest', 'for', 'the', 'Holy', 'Grail', '.']\n"
     ]
    },
    {
     "name": "stdout",
     "output_type": "stream",
     "text": [
      "(TOP (S1 (ROOT (S (NP (DT That) ) (S|<VP-.> (VP (VBZ is) (NP (NP (NP (NP (PRP$ your) (NN purpose)) (NP|<,-NP> (COMMA ,) (NP (NNP Arthur) ))) (NP|<:-NP> (COLON --) (NP (DT the) (NNP Quest)))) (PP (IN for) (NP (DT the) (NP|<NNP-NNP> (NNP Holy) (NNP Grail)))))) (PERIOD .))) ) ) )\n",
      "(TOP (S1 (ROOT (FRAG (NP (DT A) (NN blessing)) (PERIOD !)) ) ) )\n",
      "(TOP (S1 (ROOT (NP (NP (DT A) (NN blessing)) (NP|<PP-.> (PP (IN from) (NP (DT the) (NNP Lord))) (PERIOD !))) ) ) )\n",
      "(TOP (S1 (ROOT (S (NP (NNP God) ) (S|<VP-.> (VP (VB be) (VP (VBN praised) )) (PERIOD !))) ) ) )\n",
      "(TOP (S1 (ROOT (S (VP (VB Halt) ) (PERIOD !)) ) ) )\n",
      "(TOP (S1 (ROOT (INTJ (NN Hallo) (PERIOD !)) ) ) )\n",
      "(TOP (S1 (ROOT (NP (TWOSINGLEQUOTES ') (NP|<NN-PERIOD> (NN Allo) (PERIOD !))) ) ) )\n",
      "(TOP (S1 (ROOT (SBARQ (WHNP (WP Who) ) (SBARQ|<SQ-.> (SQ (VBZ is) (NP (VBN zis) )) (PERIOD ?))) ) ) )\n"
     ]
    },
    {
     "name": "stderr",
     "output_type": "stream",
     "text": [
      "#parsing: ['A', 'blessing', '!']\n",
      "#parsing: ['A', 'blessing', 'from', 'the', 'Lord', '!']\n",
      "#parsing: ['God', 'be', 'praised', '!']\n",
      "#parsing: ['Halt', '!']\n",
      "#parsing: ['Hallo', '!']\n",
      "#parsing: [\"'\", 'Allo', '!']\n",
      "#parsing: ['Who', 'is', 'zis', '?']\n",
      "#parsing: ['It', 'is', 'King', 'Arthur', ',', 'and', 'these', 'are', 'the', 'Knights', 'of', 'the', 'Round', 'Table', '.']\n"
     ]
    },
    {
     "name": "stdout",
     "output_type": "stream",
     "text": [
      "(TOP (S1 (ROOT (S (S (NP (PRP It) ) (VP (VBZ is) (NP (NNP King) (NNP Arthur)))) (S|<,-CC-S-.> (COMMA ,) (S|<CC-S-.> (CC and) (S|<S-.> (S (NP (DT these) ) (VP (VBP are) (VP|<NP-PP> (NP (DT the) (NNPS Knights)) (PP (IN of) (NP (DT the) (NP|<NNP-NNP> (NNP Round) (NNP Table))))))) (PERIOD .))))) ) ) )\n",
      "(TOP (S1 (ROOT (SBARQ (WHNP (WP Who) ) (SBARQ|<SQ-.> (SQ (VBZ 's) (SQ|<NP-VP> (NP (NN castle) ) (VP (VBZ is) (NP (DT this) )))) (PERIOD ?))) ) ) )\n"
     ]
    },
    {
     "name": "stderr",
     "output_type": "stream",
     "text": [
      "#parsing: ['Who', \"'s\", 'castle', 'is', 'this', '?']\n",
      "#parsing: ['This', 'is', 'the', 'castle', 'of', 'Our', 'Master', 'Ruiz', \"'\", 'de', 'lu', 'la', 'Ramper', '(', 'sp', '?', ')']\n",
      "#No parses found for: This is the castle of Our Master Ruiz ' de lu la Ramper ( sp ? )\n",
      "#parsing: ['Go', 'and', 'tell', 'your', 'master', 'that', 'we', 'have', 'been', 'charged', 'by', 'God', 'with', 'a', 'sacred', 'quest', '.']\n"
     ]
    },
    {
     "name": "stdout",
     "output_type": "stream",
     "text": [
      "(TOP (Misc This) (Misc is) (Misc the) (Misc castle) (Misc of) (Misc Our) (Misc Master) (Misc Ruiz) (Misc ') (Misc de) (Misc lu) (Misc la) (Misc Ramper) (Misc () (Misc sp) (Misc ?) (Misc )))\n",
      "(TOP (S1 (ROOT (S (VP (VB Go) (VP|<CC-VB-NP-SBAR> (CC and) (VP|<VB-NP-SBAR> (VB tell) (VP|<NP-SBAR> (NP (PRP$ your) (NN master)) (SBAR (IN that) (S (NP (PRP we) ) (VP (VBP have) (VP (VBN been) (VP|<PP-PP> (PP (VBN charged) (PP (IN by) (NP (NNP God) ))) (PP (IN with) (NP (DT a) (NP|<JJ-NN> (JJ sacred) (NN quest))))))))))))) (PERIOD .)) ) ) )\n"
     ]
    },
    {
     "name": "stderr",
     "output_type": "stream",
     "text": [
      "#parsing: ['If', 'he', 'will', 'give', 'us', 'food', 'and', 'shelter', 'for', 'the', 'night', 'he', 'can', 'join', 'us', 'in', 'our', 'quest', 'for', 'the', 'Holy', 'Grail', '.']\n"
     ]
    },
    {
     "name": "stdout",
     "output_type": "stream",
     "text": [
      "(TOP (S1 (ROOT (S (SBAR (IN If) (S (NP (PRP he) ) (VP (MD will) (VP (VB give) (VP|<NP-NP> (NP (PRP us) ) (NP (NP (NN food) (NP|<CC-NN> (CC and) (NN shelter))) (PP (IN for) (NP (DT the) (NN night))))))))) (S|<NP-VP-.> (NP (PRP he) ) (S|<VP-.> (VP (MD can) (VP (VB join) (VP|<NP-PP> (NP (NP (PRP us) ) (PP (IN in) (NP (PRP$ our) (NN quest)))) (PP (IN for) (NP (DT the) (NP|<NNP-NNP> (NNP Holy) (NNP Grail))))))) (PERIOD .)))) ) ) )\n"
     ]
    },
    {
     "name": "stderr",
     "output_type": "stream",
     "text": [
      "#parsing: ['Well', ',', 'I', \"'ll\", 'ask', 'him', ',', 'but', 'I', 'do', \"n't\", 'think', 'he', \"'ll\", 'be', 'very', 'keen', '...']\n"
     ]
    },
    {
     "name": "stdout",
     "output_type": "stream",
     "text": [
      "(TOP (S1 (ROOT (S (S (INTJ (UH Well) ) (S|<,-NP-VP> (COMMA ,) (S|<NP-VP> (NP (PRP I) ) (VP (MD 'll) (VP (VB ask) (NP (PRP him) )))))) (S|<COMA-CC-S-COLON> (COMA ,) (S|<CC-S-COLON> (CC but) (S|<S-COLON> (S (NP (PRP I) ) (VP (VBP do) (VP|<RB-VP> (RB n't) (VP (VB think) (S (NP (PRP he) ) (VP (MD 'll) (VP (VB be) (ADJP (RB very) (JJ keen))))))))) (COLON ...))))) ) ) )\n"
     ]
    },
    {
     "name": "stderr",
     "output_type": "stream",
     "text": [
      "#parsing: ['Uh', ',', 'he', \"'s\", 'already', 'got', 'one', ',', 'you', 'see', '?']\n"
     ]
    },
    {
     "name": "stdout",
     "output_type": "stream",
     "text": [
      "(TOP (S1 (ROOT (S (NNP Uh) (S|<COMA-S-COMA-NP-VP-PERIOD> (COMA ,) (S|<S-COMA-NP-VP-PERIOD> (S (NP (PRP he) ) (VP (VBZ 's) (VP|<RB-VP> (RB already) (VP (VBN got) (NP (CD one) ))))) (S|<COMA-NP-VP-PERIOD> (COMA ,) (S|<NP-VP-PERIOD> (NP (PRP you) ) (S|<VP-PERIOD> (VP (VBP see) ) (PERIOD ?))))))) ) ) )\n",
      "(TOP (S1 (ROOT (FRAG (WHNP (WP What) ) (PERIOD ?)) ) ) )\n",
      "(TOP (S1 (ROOT (S (NP (PRP He) ) (VP (VBZ says) (S (NP (PRP they) ) (S|<VP-.> (VP (VBP 've) (VP|<RB-VP> (RB already) (VP (VBN got) (NP (CD one) )))) (PERIOD !))))) ) ) )\n"
     ]
    },
    {
     "name": "stderr",
     "output_type": "stream",
     "text": [
      "#parsing: ['What', '?']\n",
      "#parsing: ['He', 'says', 'they', \"'ve\", 'already', 'got', 'one', '!']\n",
      "#parsing: ['Are', 'you', 'sure', 'he', \"'s\", 'got', 'one', '?']\n"
     ]
    },
    {
     "name": "stdout",
     "output_type": "stream",
     "text": [
      "(TOP (S1 (ROOT (SQ (VBP Are) (SQ|<NP-VP> (NP (PRP you) ) (VP (VBP sure) (S (NP (PRP he) ) (S|<VP-.> (VP (VBZ 's) (NP (VBD got) (CD one))) (PERIOD ?)))))) ) ) )\n"
     ]
    },
    {
     "name": "stderr",
     "output_type": "stream",
     "text": [
      "#parsing: ['Oh', ',', 'yes', ',', 'it', \"'s\", 'very', 'nice', '-', 'a', 'I', 'told', 'him', 'we', 'already', 'got', 'one', '.']\n"
     ]
    },
    {
     "name": "stdout",
     "output_type": "stream",
     "text": [
      "(TOP (S1 (ROOT (S (INTJ (UH Oh) (INTJ|<,-UH> (COMMA ,) (UH yes))) (S|<COMA-S-COLON-S-PERIOD> (COMA ,) (S|<S-COLON-S-PERIOD> (S (NP (PRP it) ) (VP (VBZ 's) (ADJP (RB very) (JJ nice)))) (S|<COLON-S-PERIOD> (COLON -) (S|<S-PERIOD> (S (NP (DT a) (PRP I)) (VP (VBD told) (VP|<NP-SBAR> (NP (PRP him) ) (SBAR (S (NP (PRP we) ) (S|<ADVP-VP> (ADVP (RB already) ) (VP (VBN got) (NP (CD one) )))) )))) (PERIOD .)))))) ) ) )\n"
     ]
    },
    {
     "name": "stderr",
     "output_type": "stream",
     "text": [
      "#parsing: ['Well', ',', 'um', ',', 'can', 'we', 'come', 'up', 'and', 'have', 'a', 'look', '?']\n"
     ]
    },
    {
     "name": "stdout",
     "output_type": "stream",
     "text": [
      "(TOP (S1 (ROOT (SQ (INTJ (UH Well) ) (SQ|<COMA-INTJ-COMA-MD-NP-VP-PERIOD> (COMA ,) (SQ|<INTJ-COMA-MD-NP-VP-PERIOD> (INTJ (RB um) ) (SQ|<COMA-MD-NP-VP-PERIOD> (COMA ,) (SQ|<MD-NP-VP-PERIOD> (MD can) (SQ|<NP-VP-PERIOD> (NP (PRP we) ) (SQ|<VP-PERIOD> (VP (VP (VB come) (PRT (RP up) )) (VP|<CC-VP> (CC and) (VP (VBP have) (NP (DT a) (NN look))))) (PERIOD ?)))))))) ) ) )\n",
      "(TOP (S1 (ROOT (FRAG (PP (IN Of) (NP (NN course) )) (FRAG|<RB-PERIOD> (RB not) (PERIOD !))) ) ) )\n",
      "(TOP (S1 (ROOT (S (NP (PRP You) ) (S|<VP-.> (VP (VBP are) (VP|<NP-:-NP> (NP (JJ English) (NNS types)) (VP|<:-NP> (COLON -) (NP (DT a) )))) (PERIOD !))) ) ) )\n",
      "(TOP (S1 (ROOT (SBARQ (INTJ (UH Well) ) (SBARQ|<COMA-WHNP-SQ-PERIOD> (COMA ,) (SBARQ|<WHNP-SQ-PERIOD> (WHNP (WP what) ) (SBARQ|<SQ-PERIOD> (SQ (VBP are) (SQ|<NP-ADVP> (NP (PRP you) ) (ADVP (RB then) ))) (PERIOD ?))))) ) ) )\n",
      "(TOP (S1 (ROOT (S (VP (NNP I'm) (ADJP (JJ French) )) (PERIOD !)) ) ) )\n"
     ]
    },
    {
     "name": "stderr",
     "output_type": "stream",
     "text": [
      "#parsing: ['Of', 'course', 'not', '!']\n",
      "#parsing: ['You', 'are', 'English', 'types', '-', 'a', '!']\n",
      "#parsing: ['Well', ',', 'what', 'are', 'you', 'then', '?']\n",
      "#parsing: [\"I'm\", 'French', '!']\n",
      "#parsing: ['Why', 'do', 'think', 'I', 'have', 'this', 'outrageous', 'accent', ',', 'you', 'silly', 'king', '!']\n"
     ]
    },
    {
     "name": "stdout",
     "output_type": "stream",
     "text": [
      "(TOP (S1 (ROOT (SBARQ (WHADVP (WRB Why) ) (SBARQ|<SQ-.> (SQ (VBP do) (VP (VB think) (S (NP (PRP I) ) (VP (VBP have) (NP (DT this) (NP|<JJ-NN-,-ADJP-NN> (JJ outrageous) (NP|<NN-,-ADJP-NN> (NN accent) (NP|<,-ADJP-NN> (COMMA ,) (NP|<ADJP-NN> (ADJP (NP (PRP you) ) (JJ silly)) (NN king)))))))))) (PERIOD !))) ) ) )\n",
      "(TOP (S1 (ROOT (SBARQ (WHNP (WP What) ) (SBARQ|<SQ-.> (SQ (VBP are) (SQ|<NP-VP> (NP (PRP you) ) (VP (VBG doing) (PP (IN in) (NP (NNP England) ))))) (PERIOD ?))) ) ) )\n",
      "(TOP (S1 (ROOT (S (VP (VB Mind) (NP (PRP$ your) (NP|<JJ-NN> (JJ own) (NN business)))) (PERIOD !)) ) ) )\n"
     ]
    },
    {
     "name": "stderr",
     "output_type": "stream",
     "text": [
      "#parsing: ['What', 'are', 'you', 'doing', 'in', 'England', '?']\n",
      "#parsing: ['Mind', 'your', 'own', 'business', '!']\n",
      "#parsing: ['If', 'you', 'will', 'not', 'show', 'us', 'the', 'Grail', ',', 'we', 'shall', 'take', 'your', 'castle', 'by', 'force', '!']\n"
     ]
    },
    {
     "name": "stdout",
     "output_type": "stream",
     "text": [
      "(TOP (S1 (ROOT (S (SBAR (IN If) (S (NP (PRP you) ) (VP (MD will) (VP|<RB-VP> (RB not) (VP (VB show) (VP|<NP-NP> (NP (PRP us) ) (NP (DT the) (NN Grail)))))))) (S|<,-NP-VP-.> (COMMA ,) (S|<NP-VP-.> (NP (PRP we) ) (S|<VP-.> (VP (MD shall) (VP (VB take) (VP|<NP-PP> (NP (PRP$ your) (NN castle)) (PP (IN by) (NP (NN force) ))))) (PERIOD !))))) ) ) )\n"
     ]
    },
    {
     "name": "stderr",
     "output_type": "stream",
     "text": [
      "#parsing: ['You', 'do', \"n't\", 'frighten', 'us', ',', 'English', 'pig', '-', 'dogs', '!']\n"
     ]
    },
    {
     "name": "stdout",
     "output_type": "stream",
     "text": [
      "(TOP (S1 (ROOT (S (NP (PRP You) ) (S|<VP-.> (VP (VBP do) (VP|<RB-VP> (RB n't) (VP (VB frighten) (NP (NP (NP (PRP us) ) (NP|<,-NP> (COMMA ,) (NP (JJ English) (NN pig)))) (NP|<:-NP> (COLON -) (NP (NNS dogs) )))))) (PERIOD !))) ) ) )\n",
      "(TOP (S1 (ROOT (S (VP (VB Go) (VP|<CC-VB-NP> (CC and) (VP|<VB-NP> (VB boil) (NP (PRP$ your) (NNS bottoms))))) (S|<,-NP-.> (COMMA ,) (S|<NP-.> (NP (NP (NNS sons) ) (PP (IN of) (NP (DT a) (NP|<JJ-NN> (JJ silly) (NN person))))) (PERIOD .)))) ) ) )\n"
     ]
    },
    {
     "name": "stderr",
     "output_type": "stream",
     "text": [
      "#parsing: ['Go', 'and', 'boil', 'your', 'bottoms', ',', 'sons', 'of', 'a', 'silly', 'person', '.']\n",
      "#parsing: ['I', 'blow', 'my', 'nose', 'at', 'you', ',', 'so', '-', 'called', 'Arthur', '-', 'king', ',', 'you', 'and', 'all', 'your', 'silly', 'English', 'kaniggets', '.']\n"
     ]
    },
    {
     "name": "stdout",
     "output_type": "stream",
     "text": [
      "(TOP (S1 (ROOT (S (S (NP (PRP I) ) (VP (VBP blow) (VP|<NP-PP> (NP (PRP$ my) (NN nose)) (PP (IN at) (NP (PRP you) ))))) (S|<COMA-IN-COLON-S-PERIOD> (COMA ,) (S|<IN-COLON-S-PERIOD> (IN so) (S|<COLON-S-PERIOD> (COLON -) (S|<S-PERIOD> (S (S (VP (VBN called) (NP (NP (NNP Arthur) ) (NP|<:-NP> (COLON -) (NP (NN king) )))) ) (S|<COMA-NP-CC-NP> (COMA ,) (S|<NP-CC-NP> (NP (PRP you) ) (S|<CC-NP> (CC and) (NP (DT all) (NP|<PRP$-JJ-JJ-NNS> (PRP$ your) (NP|<JJ-JJ-NNS> (JJ silly) (NP|<JJ-NNS> (JJ English) (NNS kaniggets))))))))) (PERIOD .)))))) ) ) )\n",
      "(TOP (S1 (ROOT (S (VP (VB Thppppt) ) (PERIOD !)) ) ) )\n",
      "(TOP (S1 (ROOT (FRAG (WHNP (WDT What) (NP (DT a) (NP|<JJ-NN> (JJ strange) (NN person)))) (PERIOD .)) ) ) )\n",
      "(TOP (S1 (ROOT (S (RB Now) (S|<VP-PERIOD> (VP (VBP look) (VP|<ADVP-COMA-NP> (ADVP (RB here) ) (VP|<COMA-NP> (COMA ,) (NP (PRP$ my) (NP|<JJ-NN> (JJ good) (NN man)))))) (PERIOD !))) ) ) )\n"
     ]
    },
    {
     "name": "stderr",
     "output_type": "stream",
     "text": [
      "#parsing: ['Thppppt', '!']\n",
      "#parsing: ['What', 'a', 'strange', 'person', '.']\n",
      "#parsing: ['Now', 'look', 'here', ',', 'my', 'good', 'man', '!']\n",
      "#parsing: ['I', 'do', \"n't\", 'want', 'to', 'talk', 'to', 'you', 'no', 'more', ',', 'you', 'empty', 'headed', 'animal', 'food', 'trough', 'whopper', '!']\n"
     ]
    },
    {
     "name": "stdout",
     "output_type": "stream",
     "text": [
      "(TOP (S1 (ROOT (S (S (NP (PRP I) ) (VP (VBP do) (VP|<RB-VP> (RB n't) (VP (VBP want) (VP (TO to) (VP (VB talk) (VP|<PP-ADVP> (PP (TO to) (NP (PRP you) )) (ADVP (DT no) (RBR more))))))))) (S|<,-NP-VP-.> (COMMA ,) (S|<NP-VP-.> (NP (PRP you) ) (S|<VP-.> (VP (VBP empty) (VP|<VBN-JJ-NN-IN-NN> (VBN headed) (VP|<JJ-NN-IN-NN> (JJ animal) (VP|<NN-IN-NN> (NN food) (VP|<IN-NN> (IN trough) (NN whopper)))))) (PERIOD !))))) ) ) )\n",
      "(TOP (S1 (ROOT (S (NP (PRP I) ) (S|<VP-.> (VP (VBP fart) (PP (IN in) (NP (PRP$ your) (NP|<JJ-NN> (JJ general) (NN direction))))) (PERIOD !))) ) ) )\n"
     ]
    },
    {
     "name": "stderr",
     "output_type": "stream",
     "text": [
      "#parsing: ['I', 'fart', 'in', 'your', 'general', 'direction', '!']\n",
      "#parsing: ['You', 'mother', 'was', 'a', 'hamster', 'and', 'your', 'father', 'smelt', 'of', 'eldeberries', '.']\n"
     ]
    },
    {
     "name": "stdout",
     "output_type": "stream",
     "text": [
      "(TOP (S1 (ROOT (S (NP (PRP You) ) (S|<VP-.> (VP (VBP mother) (VP (VBD was) (VP|<NP-PP> (NP (NP (DT a) (NN hamster)) (NP|<CC-NP> (CC and) (NP (PRP$ your) (NP|<NN-NN> (NN father) (NN smelt))))) (PP (IN of) (NP (NNS eldeberries) ))))) (PERIOD .))) ) ) )\n"
     ]
    },
    {
     "name": "stderr",
     "output_type": "stream",
     "text": [
      "#parsing: ['Is', 'there', 'someone', 'else', 'up', 'there', 'we', 'could', 'talk', 'to', '?']\n"
     ]
    },
    {
     "name": "stdout",
     "output_type": "stream",
     "text": [
      "(TOP (S1 (ROOT (SQ (VBZ Is) (SQ|<NP-VP> (NP (EX there) ) (VP (NN someone) (S (ADVP (RB else) (ADVP|<RP-RB> (RP up) (RB there))) (S|<NP-VP-.> (NP (PRP we) ) (S|<VP-.> (VP (MD could) (VP (VB talk) (PP (TO to) ))) (PERIOD ?))))))) ) ) )\n"
     ]
    },
    {
     "name": "stderr",
     "output_type": "stream",
     "text": [
      "#parsing: ['No', ',', 'now', 'go', 'away', 'or', 'I', 'shall', 'taunt', 'you', 'a', 'second', 'time', '-', 'a', '!']\n"
     ]
    },
    {
     "name": "stdout",
     "output_type": "stream",
     "text": [
      "(TOP (S1 (ROOT (S (INTJ (UH No) ) (S|<COMA-ADVP-VP-CC-S-PERIOD> (COMA ,) (S|<ADVP-VP-CC-S-PERIOD> (ADVP (RB now) ) (S|<VP-CC-S-PERIOD> (VP (VB go) (PRT (RP away) )) (S|<CC-S-PERIOD> (CC or) (S|<S-PERIOD> (S (NP (PRP I) ) (VP (MD shall) (VP (VB taunt) (VP|<NP-NP> (NP (PRP you) ) (NP (NP (DT a) (NP|<JJ-NN> (JJ second) (NN time))) (NP|<:-NP> (COLON -) (NP (DT a) ))))))) (PERIOD !))))))) ) ) )\n",
      "(TOP (S1 (ROOT (S (ADVP (RB Now) ) (S|<,-NP-VP-.> (COMMA ,) (S|<NP-VP-.> (NP (DT this) ) (S|<VP-.> (VP (VBZ is) (NP (PRP$ your) (NP|<JJ-NN> (JJ last) (NN chance)))) (PERIOD .))))) ) ) )\n",
      "(TOP (S1 (ROOT (S (NP (NNP I've) ) (S|<VP-.> (VP (VBN been) (ADJP (ADVP (RBR more) (IN than)) (JJ reasonable))) (PERIOD .))) ) ) )\n",
      "(TOP (S1 (ROOT (S (S (-LRB- () (S|<NP-VP-.--RRB-> (NP (NNP Fetchez) (NNP la)) (S|<VP-.--RRB-> (VP (VBP vache) ) (S|<.--RRB-> (PERIOD .) (-RRB- )))))) (S|<VP-.> (VP (NN wha) ) (PERIOD ?))) ) ) )\n",
      "(TOP (S1 (ROOT (S (-LRB- () (S|<NP-VP-.--RRB-> (NP (NNP Fetchez) (NNP la)) (S|<VP-.--RRB-> (VP (VBP vache) ) (S|<.--RRB-> (PERIOD !) (-RRB- )))))) ) ) )\n"
     ]
    },
    {
     "name": "stderr",
     "output_type": "stream",
     "text": [
      "#parsing: ['Now', ',', 'this', 'is', 'your', 'last', 'chance', '.']\n",
      "#parsing: [\"I've\", 'been', 'more', 'than', 'reasonable', '.']\n",
      "#parsing: ['(', 'Fetchez', 'la', 'vache', '.', ')', 'wha', '?']\n",
      "#parsing: ['(', 'Fetchez', 'la', 'vache', '!', ')']\n",
      "#parsing: ['If', 'you', 'do', 'not', 'agree', 'to', 'my', 'commands', ',', 'then', 'I', 'shall', '--']\n"
     ]
    },
    {
     "name": "stdout",
     "output_type": "stream",
     "text": [
      "(TOP (S1 (ROOT (S (SBAR (IN If) (S (NP (PRP you) ) (VP (VBP do) (VP|<RB-VP> (RB not) (VP (VB agree) (PP (TO to) (NP (PRP$ my) (NNS commands)))))))) (S|<COMA-ADVP-NP-VP-COLON> (COMA ,) (S|<ADVP-NP-VP-COLON> (ADVP (RB then) ) (S|<NP-VP-COLON> (NP (PRP I) ) (S|<VP-COLON> (VP (MD shall) ) (COLON --)))))) ) ) )\n",
      "(TOP (S1 (ROOT (NP (NNP Jesus) (NP|<NNP-.> (NNP Christ) (PERIOD !))) ) ) )\n",
      "(TOP (S1 (ROOT (FRAG (ADVP (RB Right) ) (PERIOD !)) ) ) )\n",
      "(TOP (S1 (ROOT (INTJ (UH Charge) (PERIOD !)) ) ) )\n",
      "(TOP (S1 (ROOT (S (INTJ (UH Ah) ) (S|<,-NP-VP-.> (COMMA ,) (S|<NP-VP-.> (NP (DT this) (NN one)) (S|<VP-.> (VP (VBZ is) (PP (IN for) (NP (PRP$ your) (NN mother)))) (PERIOD !))))) ) ) )\n",
      "(TOP (S1 (ROOT (NP (CD Run) (NP|<RB-.> (RB away) (PERIOD !))) ) ) )\n",
      "(TOP (S1 (ROOT (S (VP (VB Thpppt) ) (PERIOD !)) ) ) )\n",
      "(TOP (S1 (ROOT (NP (NNS Fiends) (PERIOD !)) ) ) )\n"
     ]
    },
    {
     "name": "stderr",
     "output_type": "stream",
     "text": [
      "#parsing: ['Jesus', 'Christ', '!']\n",
      "#parsing: ['Right', '!']\n",
      "#parsing: ['Charge', '!']\n",
      "#parsing: ['Ah', ',', 'this', 'one', 'is', 'for', 'your', 'mother', '!']\n",
      "#parsing: ['Run', 'away', '!']\n",
      "#parsing: ['Thpppt', '!']\n",
      "#parsing: ['Fiends', '!']\n",
      "#parsing: ['I', \"'ll\", 'tear', 'them', 'apart', '!']\n"
     ]
    },
    {
     "name": "stdout",
     "output_type": "stream",
     "text": [
      "(TOP (S1 (ROOT (S (NP (PRP I) ) (S|<VP-.> (VP (MD 'll) (VP (VB tear) (VP|<NP-ADVP> (NP (PRP them) ) (ADVP (RB apart) )))) (PERIOD !))) ) ) )\n",
      "(TOP (S1 (ROOT (INTJ (INTJ (UH No) (UH no)) (INTJ|<,-INTJ> (COMMA ,) (INTJ (UH no) (PERIOD .)))) ) ) )\n",
      "(TOP (S1 (ROOT (FRAG (NP (NNP Sir) ) (PERIOD !)) ) ) )\n",
      "(TOP (S1 (ROOT (S (NP (PRP I) ) (S|<VP-.> (VP (VBP have) (VP|<NP-,-ADVP> (NP (DT a) (NN plan)) (VP|<,-ADVP> (COMMA ,) (ADVP (RB sir) )))) (PERIOD .))) ) ) )\n",
      "(TOP (S1 (ROOT (SBARQ (WHADVP (NN ce) ) (SBARQ|<SQ-.> (SQ (VBZ labon) (SQ|<NP-VP> (NP (DT a) (NN bunny)) (VP (VBP do) (NP (SYM wha) )))) (PERIOD ?))) ) ) )\n",
      "(TOP (S1 (ROOT (S (VP (VB un) (ADJP (JJ cadeau) )) (PERIOD ?)) ) ) )\n",
      "(TOP (S1 (ROOT (FRAG (NP (DT a) (NN present)) (PERIOD !)) ) ) )\n",
      "(TOP (S1 (ROOT (FRAG (INTJ (UH oh) ) (FRAG|<,-NP-.> (COMMA ,) (FRAG|<NP-.> (NP (JJ un) (NN cadeau)) (PERIOD .)))) ) ) )\n",
      "(TOP (S1 (ROOT (FRAG (NP (JJ oui) (NP|<NN-NN> (NN oui) (NN hurry))) (PERIOD !)) ) ) )\n",
      "(TOP (S1 (ROOT (FRAG (SYM wha) (FRAG|<COLON-PERIOD> (COLON -) (PERIOD ?))) ) ) )\n",
      "(TOP (S1 (ROOT (S (VP (MD let) (VP (VBZ 's) (VP (VB go) ))) (PERIOD !)) ) ) )\n",
      "(TOP (S1 (ROOT (SBARQ (WHNP (WP What) ) (SBARQ|<SQ-.> (SQ (VBZ happens) (NP (RB now) )) (PERIOD ?))) ) ) )"
     ]
    },
    {
     "name": "stderr",
     "output_type": "stream",
     "text": [
      "#parsing: ['No', 'no', ',', 'no', '.']\n",
      "#parsing: ['Sir', '!']\n",
      "#parsing: ['I', 'have', 'a', 'plan', ',', 'sir', '.']\n",
      "#parsing: ['ce', 'labon', 'a', 'bunny', 'do', 'wha', '?']\n",
      "#parsing: ['un', 'cadeau', '?']\n",
      "#parsing: ['a', 'present', '!']\n",
      "#parsing: ['oh', ',', 'un', 'cadeau', '.']\n",
      "#parsing: ['oui', 'oui', 'hurry', '!']\n",
      "#parsing: ['wha', '-', '?']\n",
      "#parsing: ['let', \"'s\", 'go', '!']\n",
      "#parsing: ['What', 'happens', 'now', '?']\n"
     ]
    },
    {
     "name": "stdout",
     "output_type": "stream",
     "text": [
      "\n",
      "(TOP (S1 (ROOT (S (INTJ (UH Well) ) (S|<COMA-ADVP-COMA-INTJ-COMA-NNP-COMA-NNP-COMA-CC-PRP-VP-PERIOD> (COMA ,) (S|<ADVP-COMA-INTJ-COMA-NNP-COMA-NNP-COMA-CC-PRP-VP-PERIOD> (ADVP (RB now) ) (S|<COMA-INTJ-COMA-NNP-COMA-NNP-COMA-CC-PRP-VP-PERIOD> (COMA ,) (S|<INTJ-COMA-NNP-COMA-NNP-COMA-CC-PRP-VP-PERIOD> (INTJ (UH uh) ) (S|<COMA-NNP-COMA-NNP-COMA-CC-PRP-VP-PERIOD> (COMA ,) (S|<NNP-COMA-NNP-COMA-CC-PRP-VP-PERIOD> (NNP Launcelot) (S|<COMA-NNP-COMA-CC-PRP-VP-PERIOD> (COMA ,) (S|<NNP-COMA-CC-PRP-VP-PERIOD> (NNP Galahad) (S|<COMA-CC-PRP-VP-PERIOD> (COMA ,) (S|<CC-PRP-VP-PERIOD> (CC and) (S|<PRP-VP-PERIOD> (PRP I) (S|<VP-PERIOD> (VP (VP (VP (VB wait) (PP (IN until) (NP (NN nightfall) ))) (VP|<COMA-CC-RB-VP> (COMA ,) (VP|<CC-RB-VP> (CC and) (VP|<RB-VP> (RB then) (VP (VB leap) (VP|<PRT-PP> (PRT (RP out) ) (PP (IN of) (NP (DT the) (NN rabbit))))))))) (VP|<,-VP> (COMMA ,) (VP (VBG taking) (VP|<NP-PP-COLON-PP> (NP (DT the) (JJ French)) (VP|<PP-COLON-PP> (PP (IN by) (NP (NN surprise) )) (VP|<COLON-PP> (COLON --) (PP (CONJP (RB not) (RB only)) (PP|<PP-COMA-CC-ADJP> (PP (IN by) (NP (NN surprise) )) (PP|<COMA-CC-ADJP> (COMA ,) (PP|<CC-ADJP> (CC but) (ADJP (RB totally) (JJ unarmed)))))))))))) (PERIOD !)))))))))))))) ) ) )\n",
      "(TOP (S1 (ROOT (SBARQ (WHNP (WP Who) ) (SBARQ|<SQ-.> (SQ (VP (VBZ leaps) (PRT (RP out) )) ) (PERIOD ?))) ) ) )\n",
      "(TOP (S1 (ROOT (FRAG (INTJ (NNP Uh) ) (FRAG|<COMA-NNP-COMA-NP-COMA-CC-NP-PERIOD> (COMA ,) (FRAG|<NNP-COMA-NP-COMA-CC-NP-PERIOD> (NNP Launcelot) (FRAG|<COMA-NP-COMA-CC-NP-PERIOD> (COMA ,) (FRAG|<NP-COMA-CC-NP-PERIOD> (NP (NNP Galahad) ) (FRAG|<COMA-CC-NP-PERIOD> (COMA ,) (FRAG|<CC-NP-PERIOD> (CC and) (FRAG|<NP-PERIOD> (NP (PRP I) ) (PERIOD .))))))))) ) ) )\n"
     ]
    },
    {
     "name": "stderr",
     "output_type": "stream",
     "text": [
      "#parsing: ['Well', ',', 'now', ',', 'uh', ',', 'Launcelot', ',', 'Galahad', ',', 'and', 'I', 'wait', 'until', 'nightfall', ',', 'and', 'then', 'leap', 'out', 'of', 'the', 'rabbit', ',', 'taking', 'the', 'French', 'by', 'surprise', '--', 'not', 'only', 'by', 'surprise', ',', 'but', 'totally', 'unarmed', '!']\n",
      "#parsing: ['Who', 'leaps', 'out', '?']\n",
      "#parsing: ['Uh', ',', 'Launcelot', ',', 'Galahad', ',', 'and', 'I', '.']\n",
      "#parsing: ['Uh', ',', 'leap', 'out', 'of', 'the', 'rabbit', ',', 'uh', 'and', 'uh', '...', '.']\n"
     ]
    },
    {
     "name": "stdout",
     "output_type": "stream",
     "text": [
      "(TOP (S1 (ROOT (S (INTJ (NNP Uh) ) (S|<COMA-VP-COLON-PERIOD> (COMA ,) (S|<VP-COLON-PERIOD> (VP (VB leap) (VP|<PRT-PP> (PRT (RP out) ) (PP (IN of) (NP (NP (DT the) (NN rabbit)) (NP|<,-NP> (COMMA ,) (NP (NNP uh) (NP|<CC-NNP> (CC and) (NNP uh)))))))) (S|<COLON-PERIOD> (COLON ...) (PERIOD .))))) ) ) )\n",
      "(TOP (S1 (ROOT (INTJ (UH Oh) (INTJ|<COLON-PERIOD> (COLON ...) (PERIOD .))) ) ) )\n"
     ]
    },
    {
     "name": "stderr",
     "output_type": "stream",
     "text": [
      "#parsing: ['Oh', '...', '.']\n",
      "#parsing: ['Um', ',', 'l', '-', 'look', ',', 'if', 'we', 'built', 'this', 'large', 'wooden', 'badger', '--']\n"
     ]
    },
    {
     "name": "stdout",
     "output_type": "stream",
     "text": [
      "(TOP (S1 (ROOT (FRAG (INTJ (UH Um) ) (FRAG|<COMA-INTJ-COMA-SBAR-COLON> (COMA ,) (FRAG|<INTJ-COMA-SBAR-COLON> (INTJ (INTJ (SYM l) ) (INTJ|<COLON-INTJ> (COLON -) (INTJ (NN look) ))) (FRAG|<COMA-SBAR-COLON> (COMA ,) (FRAG|<SBAR-COLON> (SBAR (IN if) (S (NP (PRP we) ) (VP (VBD built) (NP (DT this) (NP|<JJ-JJ-NN> (JJ large) (NP|<JJ-NN> (JJ wooden) (NN badger))))))) (COLON --)))))) ) ) )\n",
      "(TOP (S1 (ROOT (NP (CD Run) (NP|<RB-.> (RB away) (PERIOD !))) ) ) )\n",
      "(TOP (S1 (ROOT (FRAG (INTJ (UH Oh) ) (FRAG|<,-NP-.> (COMMA ,) (FRAG|<NP-.> (NP (JJ haw) (NP|<NN-NN> (NN haw) (NN haw))) (PERIOD .)))) ) ) )\n",
      "(TOP (S1 (ROOT (S (NP (NP (NNS Pictures) ) (PP (IN for) (NP (NNP Schools) ))) (S|<COMA-VP-PERIOD> (COMA ,) (S|<VP-PERIOD> (VP (VB take) (NP (CD 8) )) (PERIOD .)))) ) ) )\n",
      "(TOP (S1 (ROOT (INTJ (UH Action) (PERIOD !)) ) ) )\n"
     ]
    },
    {
     "name": "stderr",
     "output_type": "stream",
     "text": [
      "#parsing: ['Run', 'away', '!']\n",
      "#parsing: ['Oh', ',', 'haw', 'haw', 'haw', '.']\n",
      "#parsing: ['Pictures', 'for', 'Schools', ',', 'take', '8', '.']\n",
      "#parsing: ['Action', '!']\n",
      "#parsing: ['Defeat', 'at', 'the', 'castle', 'seems', 'to', 'have', 'utterly', 'disheartened', 'King', 'Arthur', '.']\n"
     ]
    },
    {
     "name": "stdout",
     "output_type": "stream",
     "text": [
      "(TOP (S1 (ROOT (S (NP (NP (NNP Defeat) ) (PP (IN at) (NP (DT the) (NN castle)))) (S|<VP-.> (VP (VBZ seems) (VP (TO to) (VP (VBP have) (VP|<RB-VP> (RB utterly) (VP (VBN disheartened) (NP (NNP King) (NNP Arthur))))))) (PERIOD .))) ) ) )\n"
     ]
    },
    {
     "name": "stderr",
     "output_type": "stream",
     "text": [
      "#parsing: ['The', 'ferocity', 'of', 'the', 'French', 'taunting', 'took', 'him', 'completely', 'by', 'surprise', ',', 'and', 'Arthur', 'became', 'convinced', 'that', 'a', 'new', 'strategy', 'was', 'required', 'if', 'the', 'quest', 'for', 'the', 'Holy', 'Grail', 'were', 'to', 'be', 'brought', 'to', 'a', 'successful', 'conclusion', '.']\n"
     ]
    },
    {
     "name": "stdout",
     "output_type": "stream",
     "text": [
      "(TOP (S1 (ROOT (S (S (NP (NP (DT The) (NN ferocity)) (PP (IN of) (NP (DT the) (NP|<JJ-NN> (JJ French) (NN taunting))))) (VP (VBD took) (VP|<NP-ADVP-PP> (NP (PRP him) ) (VP|<ADVP-PP> (ADVP (RB completely) ) (PP (IN by) (NP (NN surprise) )))))) (S|<,-CC-S-.> (COMMA ,) (S|<CC-S-.> (CC and) (S|<S-.> (S (NP (NNP Arthur) ) (VP (VBD became) (VP|<ADJP-SBAR> (ADJP (JJ convinced) (SBAR (IN that) (S (NP (DT a) (NP|<JJ-NN> (JJ new) (NN strategy))) (VP (VBD was) (VP (VBN required) (PP (IN if) (NP (DT the) (NN quest)))))))) (SBAR (IN for) (S (NP (DT the) (NP|<NNP-NNP> (NNP Holy) (NNP Grail))) (VP (VBD were) (VP (TO to) (VP (VB be) (VP (VBN brought) (PP (TO to) (NP (DT a) (NP|<JJ-NN> (JJ successful) (NN conclusion))))))))))))) (PERIOD .))))) ) ) )\n"
     ]
    },
    {
     "name": "stderr",
     "output_type": "stream",
     "text": [
      "#parsing: ['Arthur', ',', 'having', 'consulted', 'his', 'closest', 'knights', ',', 'decided', 'that', 'they', 'should', 'separate', ',', 'and', 'search', 'for', 'the', 'Grail', 'individually', '.']\n"
     ]
    },
    {
     "name": "stdout",
     "output_type": "stream",
     "text": [
      "(TOP (S1 (ROOT (S (NNP Arthur) (S|<COMA-VP-PERIOD> (COMA ,) (S|<VP-PERIOD> (VP (VP (VBG having) (VP (VBN consulted) (NP (PRP$ his) (NP|<JJS-NNS> (JJS closest) (NNS knights))))) (VP|<,-VP-,-CC-VP> (COMMA ,) (VP|<VP-,-CC-VP> (VP (VBD decided) (SBAR (IN that) (S (NP (PRP they) ) (VP (MD should) (VP (VB separate) ))))) (VP|<,-CC-VP> (COMMA ,) (VP|<CC-VP> (CC and) (VP (VB search) (VP|<PP-ADVP> (PP (IN for) (NP (DT the) (NN Grail))) (ADVP (RB individually) )))))))) (PERIOD .)))) ) ) )\n",
      "(TOP (S1 (ROOT (S (ADVP (RB Now) ) (S|<,-NP-VP-:> (COMMA ,) (S|<NP-VP-:> (NP (DT this) ) (S|<VP-:> (VP (VBZ is) (SBAR (WHNP (WP what) ) (S (NP (PRP they) ) (VP (VBD did) )))) (COLON --))))) ) ) )\n",
      "(TOP (S1 (ROOT (INTJ (NN Greg) (PERIOD !)) ) ) )\n",
      "(TOP (S1 (ROOT (NP (NP (DT The) (NN Tale)) (NP|<PP-COLON-PERIOD> (PP (IN of) (NP (NNP Sir) (NNP Robin))) (NP|<COLON-PERIOD> (COLON ...) (PERIOD .)))) ) ) )\n"
     ]
    },
    {
     "name": "stderr",
     "output_type": "stream",
     "text": [
      "#parsing: ['Now', ',', 'this', 'is', 'what', 'they', 'did', '--']\n",
      "#parsing: ['Greg', '!']\n",
      "#parsing: ['The', 'Tale', 'of', 'Sir', 'Robin', '...', '.']\n",
      "#parsing: ['So', 'each', 'of', 'the', 'knights', 'went', 'their', 'separate', 'ways', '.']\n"
     ]
    },
    {
     "name": "stdout",
     "output_type": "stream",
     "text": [
      "(TOP (S1 (ROOT (S (ADVP (RB So) ) (S|<NP-VP-.> (NP (NP (DT each) ) (PP (IN of) (NP (DT the) (NNS knights)))) (S|<VP-.> (VP (VBD went) (NP (PRP$ their) (NP|<JJ-NNS> (JJ separate) (NNS ways)))) (PERIOD .)))) ) ) )\n"
     ]
    },
    {
     "name": "stderr",
     "output_type": "stream",
     "text": [
      "#parsing: ['Sir', 'Robin', 'rode', 'north', ',', 'through', 'the', 'dark', 'forest', 'of', 'Ewing', ',', 'accompanied', 'by', 'his', 'favorite', 'minstrels', '.']\n"
     ]
    },
    {
     "name": "stdout",
     "output_type": "stream",
     "text": [
      "(TOP (S1 (ROOT (S (NP (NNP Sir) (NNP Robin)) (VP (VBD rode) (VP|<ADVP-COMA-PP-COMA-S> (ADVP (RB north) ) (VP|<COMA-PP-COMA-S> (COMA ,) (VP|<PP-COMA-S> (PP (IN through) (NP (NP (DT the) (NP|<JJ-NN> (JJ dark) (NN forest))) (PP (IN of) (NP (NNP Ewing) )))) (VP|<COMA-S> (COMA ,) (S (VP (VBN accompanied) (PP (IN by) (NP (PRP$ his) (NP|<JJ-NNS> (JJ favorite) (NNS minstrels))))) (PERIOD .)))))))) ) ) )\n"
     ]
    },
    {
     "name": "stderr",
     "output_type": "stream",
     "text": [
      "#parsing: ['Bravely', 'bold', 'Sir', 'Robin', ',', 'rode', 'forth', 'from', 'Camelot', '.']\n"
     ]
    },
    {
     "name": "stdout",
     "output_type": "stream",
     "text": [
      "(TOP (S1 (ROOT (S (NP (ADJP (RB Bravely) (JJ bold)) (NP|<NNP-NNP> (NNP Sir) (NNP Robin))) (S|<COMA-VP-PERIOD> (COMA ,) (S|<VP-PERIOD> (VP (VBD rode) (VP|<ADVP-PP> (ADVP (RB forth) ) (PP (IN from) (NP (NNP Camelot) )))) (PERIOD .)))) ) ) )\n"
     ]
    },
    {
     "name": "stderr",
     "output_type": "stream",
     "text": [
      "#parsing: ['He', 'was', 'not', 'afraid', 'to', 'die', ',', 'o', 'Brave', 'Sir', 'Robin', '.']\n"
     ]
    },
    {
     "name": "stdout",
     "output_type": "stream",
     "text": [
      "(TOP (S1 (ROOT (S (NP (PRP He) ) (S|<VP-.> (VP (VBD was) (VP|<RB-ADJP-COMA-NP> (RB not) (VP|<ADJP-COMA-NP> (ADJP (JJ afraid) (S (VP (TO to) (VP (VB die) )) )) (VP|<COMA-NP> (COMA ,) (NP (FW o) (NP|<NNP-NNP-NNP> (NNP Brave) (NP|<NNP-NNP> (NNP Sir) (NNP Robin)))))))) (PERIOD .))) ) ) )\n"
     ]
    },
    {
     "name": "stderr",
     "output_type": "stream",
     "text": [
      "#parsing: ['He', 'was', 'not', 'at', 'all', 'afraid', 'to', 'be', 'killed', 'in', 'nasty', 'ways', '.']\n"
     ]
    },
    {
     "name": "stdout",
     "output_type": "stream",
     "text": [
      "(TOP (S1 (ROOT (S (NP (PRP He) ) (VP (VBD was) (VP|<RB-PP-VBD-S> (RB not) (VP|<PP-VBD-S> (PP (IN at) (NP (DT all) )) (VP|<VBD-S> (VBD afraid) (S (VP (TO to) (VP (VB be) (VP (VBN killed) (PP (IN in) (NP (JJ nasty) (NNS ways)))))) (PERIOD .))))))) ) ) )\n",
      "(TOP (S1 (ROOT (FRAG (NNP Brave) (FRAG|<COMA-NN-COMA-VBP-COMA-VBP-NNP-NNP-PERIOD> (COMA ,) (FRAG|<NN-COMA-VBP-COMA-VBP-NNP-NNP-PERIOD> (NN brave) (FRAG|<COMA-VBP-COMA-VBP-NNP-NNP-PERIOD> (COMA ,) (FRAG|<VBP-COMA-VBP-NNP-NNP-PERIOD> (VBP brave) (FRAG|<COMA-VBP-NNP-NNP-PERIOD> (COMA ,) (FRAG|<VBP-NNP-NNP-PERIOD> (VBP brave) (FRAG|<NNP-NNP-PERIOD> (NNP Sir) (FRAG|<NNP-PERIOD> (NNP Robin) (PERIOD !)))))))))) ) ) )\n"
     ]
    },
    {
     "name": "stderr",
     "output_type": "stream",
     "text": [
      "#parsing: ['Brave', ',', 'brave', ',', 'brave', ',', 'brave', 'Sir', 'Robin', '!']\n",
      "#parsing: ['He', 'was', 'not', 'in', 'the', 'least', 'bit', 'scared', 'to', 'be', 'mashed', 'into', 'a', 'pulp', ',', 'Or', 'to', 'have', 'his', 'eyes', 'gouged', 'out', ',', 'and', 'his', 'elbows', 'broken', '.']\n"
     ]
    },
    {
     "name": "stdout",
     "output_type": "stream",
     "text": [
      "(TOP (S1 (ROOT (S (S (NP (PRP He) ) (VP (VP (VBD was) (VP|<RB-PP-VBD-S> (RB not) (VP|<PP-VBD-S> (PP (IN in) (NP (DT the) (NP|<JJS-NN> (JJS least) (NN bit)))) (VP|<VBD-S> (VBD scared) (S (VP (TO to) (VP (VB be) (VP (VBN mashed) (PP (IN into) (NP (DT a) (NN pulp)))))) ))))) (VP|<,-CC-VP> (COMMA ,) (VP|<CC-VP> (CC Or) (VP (TO to) (VP (VB have) (S (NP (PRP$ his) (NNS eyes)) (VP (VBD gouged) (PRT (RP out) ))))))))) (S|<,-CC-S-.> (COMMA ,) (S|<CC-S-.> (CC and) (S|<S-.> (S (NP (PRP$ his) (NNS elbows)) (VP (VBN broken) )) (PERIOD .))))) ) ) )\n"
     ]
    },
    {
     "name": "stderr",
     "output_type": "stream",
     "text": [
      "#parsing: ['To', 'have', 'his', 'kneecaps', 'split', ',', 'and', 'his', 'body', 'burned', 'away', ',', 'And', 'his', 'limbs', 'all', 'hacked', 'and', 'mangled', ',', 'brave', 'Sir', 'Robin', '!']\n"
     ]
    },
    {
     "name": "stdout",
     "output_type": "stream",
     "text": [
      "(TOP (S1 (ROOT (S (S (VP (TO To) (VP (VBP have) (NP (PRP$ his) (NP|<NNS-NN> (NNS kneecaps) (NN split))))) ) (S|<,-CC-S-.> (COMMA ,) (S|<CC-S-.> (CC and) (S|<S-.> (S (NP (PRP$ his) (NN body)) (VP (VBD burned) (VP|<PRT-,-FRAG-,-S> (PRT (RP away) ) (VP|<,-FRAG-,-S> (COMMA ,) (VP|<FRAG-,-S> (FRAG (CC And) (NP (NP (PRP$ his) (NNS limbs)) (ADJP (DT all) (ADJP|<JJ-CC-JJ> (JJ hacked) (ADJP|<CC-JJ> (CC and) (JJ mangled)))))) (VP|<,-S> (COMMA ,) (S (VP (VB brave) (NP (NNP Sir) (NNP Robin))) ))))))) (PERIOD !))))) ) ) )\n"
     ]
    },
    {
     "name": "stderr",
     "output_type": "stream",
     "text": [
      "#parsing: ['His', 'head', 'smashed', 'in', 'and', 'his', 'heart', 'cut', 'out', ',', 'And', 'his', 'liver', 'removed', 'and', 'his', 'bowels', 'unplugged', ',', 'And', 'his', 'nostrils', 'ripped', 'and', 'his', 'bottom', 'burned', 'off', ',', 'And', 'his', 'penis', '--']\n"
     ]
    },
    {
     "name": "stdout",
     "output_type": "stream",
     "text": [
      "(TOP (S1 (ROOT (S (S (NP (PRP$ His) (NN head)) (VP (VBN smashed) (SBAR (IN in) (S (CC and) (S|<NP-VP> (NP (PRP$ his) (NN heart)) (VP (VB cut) (PRT (RP out) ))))))) (S|<COMA-CC-S-COMA-CC-S-COMA-CC-NP-COLON> (COMA ,) (S|<CC-S-COMA-CC-S-COMA-CC-NP-COLON> (CC And) (S|<S-COMA-CC-S-COMA-CC-NP-COLON> (S (S (NP (PRP$ his) (NN liver)) (VP (VBD removed) )) (S|<CC-S> (CC and) (S (NP (PRP$ his) (NNS bowels)) (VP (VBN unplugged) )))) (S|<COMA-CC-S-COMA-CC-NP-COLON> (COMA ,) (S|<CC-S-COMA-CC-NP-COLON> (CC And) (S|<S-COMA-CC-NP-COLON> (S (S (NP (PRP$ his) (NNS nostrils)) (VP (VBD ripped) )) (S|<CC-S> (CC and) (S (NP (PRP$ his) (NN bottom)) (VP (VBD burned) (PRT (RP off) ))))) (S|<COMA-CC-NP-COLON> (COMA ,) (S|<CC-NP-COLON> (CC And) (S|<NP-COLON> (NP (PRP$ his) (NN penis)) (COLON --))))))))))) ) ) )\n"
     ]
    },
    {
     "name": "stderr",
     "output_type": "stream",
     "text": [
      "#parsing: ['That', \"'s\", '--', 'that', \"'s\", ',', 'uh', ',', 'that', \"'s\", 'enough', 'music', 'for', 'now', ',', 'lads', '.']\n"
     ]
    },
    {
     "name": "stdout",
     "output_type": "stream",
     "text": [
      "(TOP (S1 (ROOT (S (S (NP (DT That) ) (VP (VBZ 's) )) (S|<:-S-.> (COLON --) (S|<S-.> (S (NP (DT that) ) (VP (VBZ 's) (VP|<PRN-NP> (PRN (COMMA ,) (PRN|<S-,> (S (INTJ (UH uh) ) (S|<,-NP-VP> (COMMA ,) (S|<NP-VP> (NP (DT that) ) (VP (VBZ 's) (NP (NP (JJ enough) (NN music)) (PP (IN for) (NP (RB now) ))))))) (COMMA ,))) (NP (NNS lads) )))) (PERIOD .)))) ) ) )\n",
      "(TOP (S1 (ROOT (S (NP (NP (NNS Looks) ) (PP (IN like) (NP (EX there) ))) (S|<VP-.> (VP (VBZ 's) (NP (JJ dirty) (NP|<NN-NN> (NN work) (NN afoot)))) (PERIOD .))) ) ) )\n"
     ]
    },
    {
     "name": "stderr",
     "output_type": "stream",
     "text": [
      "#parsing: ['Looks', 'like', 'there', \"'s\", 'dirty', 'work', 'afoot', '.']\n",
      "#parsing: ['Anarcho', '-', 'syndicalism', 'is', 'a', 'way', 'of', 'preserving', 'freedom', '.']\n"
     ]
    },
    {
     "name": "stdout",
     "output_type": "stream",
     "text": [
      "(TOP (S1 (ROOT (S (NP (NP (NNP Anarcho) ) (NP|<:-NP> (COLON -) (NP (NN syndicalism) ))) (VP (VBZ is) (NP (NP (DT a) (NN way)) (SBAR (IN of) (S (VP (VBG preserving) (NP (NN freedom) )) (PERIOD .)))))) ) ) )\n",
      "(TOP (S1 (ROOT (S (INTJ (UH Oh) ) (S|<COMA-NP-COMA-VP-PERIOD> (COMA ,) (S|<NP-COMA-VP-PERIOD> (NP (NNP Dennis) ) (S|<COMA-VP-PERIOD> (COMA ,) (S|<VP-PERIOD> (VP (VB forget) (PP (IN about) (NP (NN freedom) ))) (PERIOD .)))))) ) ) )\n",
      "(TOP (S1 (ROOT (S (ADVP (RB Now) ) (S|<NP-VP-.> (NP (NNP I've) ) (S|<VP-.> (VP (VBD dropped) (NP (PRP$ my) (NN mud))) (PERIOD .)))) ) ) )\n",
      "(TOP (S1 (ROOT (S (VP (VB Halt) ) (PERIOD !)) ) ) )\n",
      "(TOP (S1 (ROOT (SBARQ (WHNP (WP Who) ) (SBARQ|<SQ-.> (SQ (VBP art) (NP (PRP thou) )) (PERIOD ?))) ) ) )\n"
     ]
    },
    {
     "name": "stderr",
     "output_type": "stream",
     "text": [
      "#parsing: ['Oh', ',', 'Dennis', ',', 'forget', 'about', 'freedom', '.']\n",
      "#parsing: ['Now', \"I've\", 'dropped', 'my', 'mud', '.']\n",
      "#parsing: ['Halt', '!']\n",
      "#parsing: ['Who', 'art', 'thou', '?']\n",
      "#parsing: ['He', 'is', 'brave', 'Sir', 'Robin', ',', 'brave', 'Sir', 'Robin', ',', 'who', '--']\n"
     ]
    },
    {
     "name": "stdout",
     "output_type": "stream",
     "text": [
      "(TOP (S1 (ROOT (S (NP (PRP He) ) (S|<VP-:> (VP (VBZ is) (NP (NP (JJ brave) (NP|<NNP-NNP> (NNP Sir) (NNP Robin))) (NP|<COMA-NP-COMA-SBAR> (COMA ,) (NP|<NP-COMA-SBAR> (NP (JJ brave) (NP|<NNP-NNP> (NNP Sir) (NNP Robin))) (NP|<COMA-SBAR> (COMA ,) (SBAR (WHNP (WP who) ) )))))) (COLON --))) ) ) )\n",
      "(TOP (S1 (ROOT (S (VP (VB Shut) (PRT (RP up) )) (PERIOD !)) ) ) )\n"
     ]
    },
    {
     "name": "stderr",
     "output_type": "stream",
     "text": [
      "#parsing: ['Shut', 'up', '!']\n",
      "#parsing: ['Um', ',', 'n', '-', 'n', '-', 'nobody', 'really', ',', \"I'm\", 'j', '-', 'just', 'um', ',', 'just', 'passing', 'through', '.']\n"
     ]
    },
    {
     "name": "stdout",
     "output_type": "stream",
     "text": [
      "(TOP (S1 (ROOT (FRAG (INTJ (UH Um) ) (FRAG|<COMA-INTJ-COLON-NP-COLON-INTJ-COMA-VP-PERIOD> (COMA ,) (FRAG|<INTJ-COLON-NP-COLON-INTJ-COMA-VP-PERIOD> (INTJ (INTJ (SYM n) ) (INTJ|<COLON-INTJ> (COLON -) (INTJ (SYM n) ))) (FRAG|<COLON-NP-COLON-INTJ-COMA-VP-PERIOD> (COLON -) (FRAG|<NP-COLON-INTJ-COMA-VP-PERIOD> (NP (NP (NN nobody) ) (NP|<RB-COMA-NNP-SYM> (RB really) (NP|<COMA-NNP-SYM> (COMA ,) (NP|<NNP-SYM> (NNP I'm) (SYM j))))) (FRAG|<COLON-INTJ-COMA-VP-PERIOD> (COLON -) (FRAG|<INTJ-COMA-VP-PERIOD> (INTJ (RB just) (JJ um)) (FRAG|<COMA-VP-PERIOD> (COMA ,) (FRAG|<VP-PERIOD> (VP (ADVP (RB just) ) (VP|<VBG-ADVP> (VBG passing) (ADVP (RB through) ))) (PERIOD .)))))))))) ) ) )\n",
      "(TOP (S1 (ROOT (SBARQ (WHNP (WP What) ) (SBARQ|<SQ-.> (SQ (VBP do) (SQ|<NP-VP> (NP (PRP you) ) (VP (VB want) ))) (PERIOD ?))) ) ) )\n",
      "(TOP (S1 (ROOT (FRAG (S (VP (TO To) (VP (VBP fight) )) ) (FRAG|<COMA-CC-COLON> (COMA ,) (FRAG|<CC-COLON> (CC and) (COLON --)))) ) ) )\n",
      "(TOP (S1 (ROOT (S (VP (VB Shut) (PRT (RP up) )) (PERIOD !)) ) ) )\n"
     ]
    },
    {
     "name": "stderr",
     "output_type": "stream",
     "text": [
      "#parsing: ['What', 'do', 'you', 'want', '?']\n",
      "#parsing: ['To', 'fight', ',', 'and', '--']\n",
      "#parsing: ['Shut', 'up', '!']\n",
      "#parsing: ['Um', ',', 'oo', ',', 'n', '-', 'nothing', ',', 'nothing', 'really', '--', 'I', ',', 'uh', ',', 'j', '-', 'j', '-', 'ust', 'to', 'um', ',', 'just', 'to', 'p', '-', 'pass', 'through', ',', 'good', 'Sir', 'knight', '.']\n"
     ]
    },
    {
     "name": "stdout",
     "output_type": "stream",
     "text": [
      "(TOP (S1 (ROOT (S (NP (NNP Um) ) (S|<,-INTJ-,-NP-PRN-VP-.> (COMMA ,) (S|<INTJ-,-NP-PRN-VP-.> (INTJ (NN oo) ) (S|<,-NP-PRN-VP-.> (COMMA ,) (S|<NP-PRN-VP-.> (NP (SYM n) ) (S|<PRN-VP-.> (PRN (COLON -) (PRN|<S-:> (S (NP (NP (NN nothing) ) (NP|<,-NP-PRN> (COMMA ,) (NP|<NP-PRN> (NP (NP (NN nothing) (RB really)) (NP|<:-NP> (COLON --) (NP (PRP I) ))) (PRN (COMMA ,) (PRN|<INTJ-,> (INTJ (UH uh) ) (COMMA ,)))))) (VP (VBN j) (VP|<PRN-PP> (PRN (COLON -) (FRAG (X (SYM j) ) (FRAG|<:-NP> (COLON -) (NP (NN ust) )))) (PP (PP (TO to) (NP (NN um) )) (PP|<COMA-RB-PP> (COMA ,) (PP|<RB-PP> (RB just) (PP (TO to) (NP (NN p) )))))))) (COLON -))) (S|<VP-.> (VP (VB pass) (VP|<ADVP-,-NP> (ADVP (RB through) ) (VP|<,-NP> (COMMA ,) (NP (JJ good) (NP|<NNP-NN> (NNP Sir) (NN knight)))))) (PERIOD .)))))))) ) ) )\n",
      "(TOP (S1 (ROOT (S (NP (NNP I'm) ) (S|<VP-.> (VP (VBD afraid) (ADVP (RB not) )) (PERIOD !))) ) ) )\n",
      "(TOP (S1 (ROOT (INTJ (UH Ah) (PERIOD .)) ) ) )\n"
     ]
    },
    {
     "name": "stderr",
     "output_type": "stream",
     "text": [
      "#parsing: [\"I'm\", 'afraid', 'not', '!']\n",
      "#parsing: ['Ah', '.']\n",
      "#parsing: ['W', '-', 'well', ',', 'actually', 'I', 'am', 'a', 'Knight', 'of', 'the', 'Round', 'Table', '.']\n"
     ]
    },
    {
     "name": "stdout",
     "output_type": "stream",
     "text": [
      "(TOP (S1 (ROOT (S (NP (NNP W) ) (S|<COLON-INTJ-COMA-ADVP-NP-VP-PERIOD> (COLON -) (S|<INTJ-COMA-ADVP-NP-VP-PERIOD> (INTJ (UH well) ) (S|<COMA-ADVP-NP-VP-PERIOD> (COMA ,) (S|<ADVP-NP-VP-PERIOD> (ADVP (RB actually) ) (S|<NP-VP-PERIOD> (NP (PRP I) ) (S|<VP-PERIOD> (VP (VBP am) (VP|<NP-PP> (NP (DT a) (NNP Knight)) (PP (IN of) (NP (DT the) (NP|<NNP-NNP> (NNP Round) (NNP Table)))))) (PERIOD .)))))))) ) ) )\n",
      "(TOP (S1 (ROOT (S (VP (VB You're) (VP|<NP-PP> (NP (DT a) (NNP Knight)) (PP (IN of) (NP (DT the) (NP|<NNP-NNP> (NNP Round) (NNP Table)))))) (PERIOD ?)) ) ) )\n",
      "(TOP (S1 (ROOT (S (NP (PRP I) ) (S|<VP-.> (VP (VBP am) ) (PERIOD .))) ) ) )\n"
     ]
    },
    {
     "name": "stderr",
     "output_type": "stream",
     "text": [
      "#parsing: [\"You're\", 'a', 'Knight', 'of', 'the', 'Round', 'Table', '?']\n",
      "#parsing: ['I', 'am', '.']\n",
      "#parsing: ['In', 'that', 'case', 'I', 'shall', 'have', 'to', 'kill', 'you', '.']\n"
     ]
    },
    {
     "name": "stdout",
     "output_type": "stream",
     "text": [
      "(TOP (S1 (ROOT (S (PP (IN In) (NP (DT that) (NN case))) (S|<NP-VP-.> (NP (PRP I) ) (S|<VP-.> (VP (MD shall) (VP (VBP have) (VP (TO to) (VP (VB kill) (NP (PRP you) ))))) (PERIOD .)))) ) ) )\n",
      "(TOP (S1 (ROOT (S (VP (VB Shall) (NP (PRP I) )) (PERIOD ?)) ) ) )\n",
      "(TOP (S1 (ROOT (S (INTJ (UH Oh) ) (S|<,-NP-VP-.> (COMMA ,) (S|<NP-VP-.> (NP (PRP I) ) (S|<VP-.> (VP (VBP do) (VP|<RB-VP> (RB n't) (VP (VB think) (ADVP (RB so) )))) (PERIOD .))))) ) ) )\n",
      "(TOP (S1 (ROOT (SBARQ (INTJ (UH Well) ) (SBARQ|<COMA-WHNP-SQ-PERIOD> (COMA ,) (SBARQ|<WHNP-SQ-PERIOD> (WHNP (WP what) ) (SBARQ|<SQ-PERIOD> (SQ (VBP do) (SQ|<NP-VP> (NP (PRP I) ) (VP (VB think) ))) (PERIOD ?))))) ) ) )\n",
      "(TOP (S1 (ROOT (S (NP (PRP I) ) (S|<VP-.> (VP (VBP think) (VP (VB kill) (NP (PRP him) ))) (PERIOD .))) ) ) )\n"
     ]
    },
    {
     "name": "stderr",
     "output_type": "stream",
     "text": [
      "#parsing: ['Shall', 'I', '?']\n",
      "#parsing: ['Oh', ',', 'I', 'do', \"n't\", 'think', 'so', '.']\n",
      "#parsing: ['Well', ',', 'what', 'do', 'I', 'think', '?']\n",
      "#parsing: ['I', 'think', 'kill', 'him', '.']\n",
      "#parsing: ['Well', 'let', \"'s\", 'be', 'nice', 'to', 'him', '.']\n"
     ]
    },
    {
     "name": "stdout",
     "output_type": "stream",
     "text": [
      "(TOP (S1 (ROOT (S (INTJ (UH Well) ) (S|<VP-.> (VP (MD let) (VP (VBZ 's) (VP (VB be) (VP|<ADJP-PP> (ADJP (JJ nice) ) (PP (TO to) (NP (PRP him) )))))) (PERIOD .))) ) ) )\n",
      "(TOP (S1 (ROOT (S (INTJ (UH Oh) ) (S|<VP-.> (VP (VB shut) (PRT (RP up) )) (PERIOD .))) ) ) )\n",
      "(TOP (S1 (ROOT (FRAG (ADVP (RB Perhaps) ) (COLON -)) ) ) )\n",
      "(TOP (S1 (ROOT (FRAG (CC And) (FRAG|<PRP-PERIOD> (PRP you) (PERIOD .))) ) ) )\n"
     ]
    },
    {
     "name": "stderr",
     "output_type": "stream",
     "text": [
      "#parsing: ['Oh', 'shut', 'up', '.']\n",
      "#parsing: ['Perhaps', '-']\n",
      "#parsing: ['And', 'you', '.']\n",
      "#parsing: ['Oh', 'quick', 'get', 'the', 'sword', 'out', 'I', 'want', 'to', 'cut', 'his', 'head', 'off', '!']\n"
     ]
    },
    {
     "name": "stdout",
     "output_type": "stream",
     "text": [
      "(TOP (S1 (ROOT (S (UH Oh) (S|<ADVP-NP-VP-PERIOD> (ADVP (ADVP (RB quick) ) (VP (VB get) (VP|<NP-PRT> (NP (DT the) (NN sword)) (PRT (RP out) )))) (S|<NP-VP-PERIOD> (NP (PRP I) ) (S|<VP-PERIOD> (VP (VBP want) (VP (TO to) (VP (VB cut) (VP|<NP-PRT> (NP (PRP$ his) (NN head)) (PRT (RP off) ))))) (PERIOD !))))) ) ) )\n",
      "(TOP (S1 (ROOT (S (INTJ (UH Oh) ) (S|<,-VP-.> (COMMA ,) (S|<VP-.> (VP (VB cut) (VP|<NP-PRT> (NP (PRP$ your) (NP|<JJ-NN> (JJ own) (NN head))) (PRT (RP off) ))) (PERIOD !)))) ) ) )\n",
      "(TOP (S1 (ROOT (S (INTJ (UH Yes) ) (S|<,-VP-.> (COMMA ,) (S|<VP-.> (VP (VBP do) (VP|<NP-NP> (NP (PRP us) ) (NP (PDT all) (NP|<DT-NN> (DT a) (NN favor))))) (PERIOD !)))) ) ) )\n",
      "(TOP (S1 (ROOT (FRAG (WHNP (WP What) ) (PERIOD ?)) ) ) )\n"
     ]
    },
    {
     "name": "stderr",
     "output_type": "stream",
     "text": [
      "#parsing: ['Oh', ',', 'cut', 'your', 'own', 'head', 'off', '!']\n",
      "#parsing: ['Yes', ',', 'do', 'us', 'all', 'a', 'favor', '!']\n",
      "#parsing: ['What', '?']\n",
      "#parsing: ['Yapping', 'on', 'all', 'the', 'time', '.']\n"
     ]
    },
    {
     "name": "stdout",
     "output_type": "stream",
     "text": [
      "(TOP (S1 (ROOT (S (VP (VBG Yapping) (VP|<PRT-NP> (PRT (RP on) ) (NP (PDT all) (NP|<DT-NN> (DT the) (NN time))))) (PERIOD .)) ) ) )\n",
      "(TOP (S1 (ROOT (S (VP (VB You're) (ADJP (JJ lucky) )) (PERIOD .)) ) ) )\n",
      "(TOP (S1 (ROOT (S (VP (VB You're) (VP|<ADJP-PP> (ADJP (RB not) (JJ next)) (PP (TO to) (NP (PRP him) )))) (PERIOD .)) ) ) )\n",
      "(TOP (S1 (ROOT (SBARQ (WHNP (WP What) ) (SBARQ|<SQ-.> (SQ (VBP do) (SQ|<NP-VP> (NP (PRP you) ) (VP (VB mean) ))) (PERIOD ?))) ) ) )\n",
      "(TOP (S1 (ROOT (S (NP (PRP You) ) (S|<VP-.> (VP (VBP snore) ) (PERIOD .))) ) ) )\n"
     ]
    },
    {
     "name": "stderr",
     "output_type": "stream",
     "text": [
      "#parsing: [\"You're\", 'lucky', '.']\n",
      "#parsing: [\"You're\", 'not', 'next', 'to', 'him', '.']\n",
      "#parsing: ['What', 'do', 'you', 'mean', '?']\n",
      "#parsing: ['You', 'snore', '.']\n",
      "#parsing: ['Oh', 'I', 'do', \"n't\", '--', 'anyway', ',', 'you', \"'ve\", 'got', 'bad', 'breath', '.']\n"
     ]
    },
    {
     "name": "stdout",
     "output_type": "stream",
     "text": [
      "(TOP (S1 (ROOT (S (S (UH Oh) (S|<NP-VP> (NP (PRP I) ) (VP (VBP do) (RB n't)))) (S|<:-S-.> (COLON --) (S|<S-.> (S (ADVP (RB anyway) ) (S|<,-NP-VP> (COMMA ,) (S|<NP-VP> (NP (PRP you) ) (VP (VBP 've) (VP (VBN got) (NP (JJ bad) (NN breath))))))) (PERIOD .)))) ) ) )\n"
     ]
    },
    {
     "name": "stderr",
     "output_type": "stream",
     "text": [
      "#parsing: ['Well', 'its', 'only', 'because', 'you', 'do', \"n't\", 'brush', 'my', 'teeth', '.']\n"
     ]
    },
    {
     "name": "stdout",
     "output_type": "stream",
     "text": [
      "(TOP (S1 (ROOT (S (ADVP (RB Well) ) (S|<NP-VP-.> (NP (NP (PRP$ its) (JJ only)) (PP (IN because) (NP (PRP you) ))) (S|<VP-.> (VP (VBP do) (VP|<RB-VP> (RB n't) (VP (VB brush) (NP (PRP$ my) (NNS teeth))))) (PERIOD .)))) ) ) )\n"
     ]
    },
    {
     "name": "stderr",
     "output_type": "stream",
     "text": [
      "#parsing: ['Oh', 'stop', 'bitching', 'and', 'let', \"'s\", 'go', 'have', 'tea', '.']\n"
     ]
    },
    {
     "name": "stdout",
     "output_type": "stream",
     "text": [
      "(TOP (S1 (ROOT (S (INTJ (UH Oh) ) (S|<VP-.> (VP (VP (VB stop) (NP (NN bitching) )) (VP|<CC-VP> (CC and) (VP (MD let) (VP (VBZ 's) (VP (VBP go) (VP (VBP have) (NP (NN tea) ))))))) (PERIOD .))) ) ) )\n",
      "(TOP (S1 (ROOT (FRAG (ADVP (DT All) (NN right)) (FRAG|<,-ADVP-,-NP-.> (COMMA ,) (FRAG|<ADVP-,-NP-.> (ADVP (DT all) (NN right)) (FRAG|<,-NP-.> (COMMA ,) (FRAG|<NP-.> (NP (DT all) (NN right)) (PERIOD .)))))) ) ) )\n"
     ]
    },
    {
     "name": "stderr",
     "output_type": "stream",
     "text": [
      "#parsing: ['All', 'right', ',', 'all', 'right', ',', 'all', 'right', '.']\n",
      "#parsing: ['We', \"'ll\", 'kill', 'him', 'first', 'and', 'then', 'have', 'tea', 'and', 'biscuits', '.']\n"
     ]
    },
    {
     "name": "stdout",
     "output_type": "stream",
     "text": [
      "(TOP (S1 (ROOT (S (NP (PRP We) ) (S|<VP-.> (VP (VP (MD 'll) (VP (VB kill) (VP|<NP-ADVP> (NP (PRP him) ) (ADVP (RB first) )))) (VP|<CC-RB-VP> (CC and) (VP|<RB-VP> (RB then) (VP (VBP have) (NP (NN tea) (NP|<CC-NNS> (CC and) (NNS biscuits))))))) (PERIOD .))) ) ) )\n",
      "(TOP (S1 (ROOT (INTJ (UH Yes) (PERIOD .)) ) ) )\n",
      "(TOP (S1 (ROOT (FRAG (INTJ (UH Oh) ) (FRAG|<COMA-CC-RB-NP-PERIOD> (COMA ,) (FRAG|<CC-RB-NP-PERIOD> (CC but) (FRAG|<RB-NP-PERIOD> (RB not) (FRAG|<NP-PERIOD> (NP (NNS biscuits) ) (PERIOD .)))))) ) ) )\n",
      "-cross entropy: -8.164324282473457\n"
     ]
    },
    {
     "name": "stderr",
     "output_type": "stream",
     "text": [
      "#parsing: ['Yes', '.']\n",
      "#parsing: ['Oh', ',', 'but', 'not', 'biscuits', '.']\n",
      "#-cross entropy (bits/word): -8.16432\n"
     ]
    }
   ],
   "source": [
    "ce, trees = parser.parse_file('devset.txt')\n",
    "print(\"-cross entropy: {}\".format(ce))"
   ]
  },
  {
   "cell_type": "markdown",
   "metadata": {},
   "source": [
    "## Generating sentences with your grammar\n",
    "\n",
    "While you are developing your grammar you should generate sentences with your grammar\n",
    "to check what your grammar is doing. Try to write your grammars to that it will \n",
    "generate hard to parse sentences."
   ]
  },
  {
   "cell_type": "code",
   "execution_count": 153,
   "metadata": {},
   "outputs": [
    {
     "name": "stderr",
     "output_type": "stream",
     "text": [
      "#reading grammar file: all_s1.gr\n",
      "#Ignored cycle NP -> NP\n",
      "#reading grammar file: all_vocab.gr\n"
     ]
    }
   ],
   "source": [
    "gen_gram = Pcfg([\"all_s1.gr\",\"all_vocab.gr\"])"
   ]
  },
  {
   "cell_type": "code",
   "execution_count": 154,
   "metadata": {},
   "outputs": [
    {
     "name": "stdout",
     "output_type": "stream",
     "text": [
      "what -- they .\n",
      "Now , may that eccentric inferior Is .\n",
      "you knew rabbit in you 's 're naughty .\n",
      "Yes . , very !\n",
      "Please ?\n",
      "Oh , no ! , Lord Robin .\n",
      "What Have ' , and !\n",
      "him\n",
      "as a more Arthur and Arthur have at your cart\n",
      "is our arm are Who --\n",
      "will Make ?\n",
      "No ! , shall minstrels hear open .\n",
      "Pictures got the of bed cave\n",
      "Sir , I'm ' , me make spanked ? stand suggesting up and 're to turned just it ?\n",
      "imprisoned\n",
      "it have he\n",
      "Order . , Yes\n",
      "they king that she .\n",
      "What does swords !\n",
      "behind I'm Ah ha Chapter leave for We ! !\n"
     ]
    }
   ],
   "source": [
    "gen = PcfgGenerator(gen_gram)\n",
    "for _ in range(20):\n",
    "    print(\" \".join(gen.generate()))"
   ]
  },
  {
   "cell_type": "code",
   "execution_count": null,
   "metadata": {},
   "outputs": [],
   "source": []
  }
 ],
 "metadata": {
  "kernelspec": {
   "display_name": "Python 3",
   "language": "python",
   "name": "python3"
  },
  "language_info": {
   "codemirror_mode": {
    "name": "ipython",
    "version": 3
   },
   "file_extension": ".py",
   "mimetype": "text/x-python",
   "name": "python",
   "nbconvert_exporter": "python",
   "pygments_lexer": "ipython3",
   "version": "3.6.4"
  }
 },
 "nbformat": 4,
 "nbformat_minor": 2
}
