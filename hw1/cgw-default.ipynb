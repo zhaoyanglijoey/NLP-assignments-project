{
 "cells": [
  {
   "cell_type": "markdown",
   "metadata": {},
   "source": [
    "# Homework: Competitive Grammar Writing"
   ]
  },
  {
   "cell_type": "code",
   "execution_count": 140,
   "metadata": {},
   "outputs": [],
   "source": [
    "from pcfg_parse_gen import Pcfg, PcfgGenerator, CkyParse\n",
    "import nltk\n",
    "\n",
    "def print_tree(tree_string):\n",
    "    tree_string = tree_string.strip()\n",
    "    tree = nltk.Tree.fromstring(tree_string)\n",
    "    tree.pretty_print()\n",
    "\n",
    "def draw_tree(tree_string):\n",
    "    tree_string = tree_string.strip()\n",
    "    tree = nltk.Tree.fromstring(tree_string)\n",
    "    tree.draw()"
   ]
  },
  {
   "cell_type": "markdown",
   "metadata": {},
   "source": [
    "## Parsing sentences with your grammar\n",
    "\n",
    "While you are developing your grammar you should parse with your grammar both example sentences and samples from your and other grammars."
   ]
  },
  {
   "cell_type": "code",
   "execution_count": 188,
   "metadata": {},
   "outputs": [
    {
     "name": "stderr",
     "output_type": "stream",
     "text": [
      "#reading grammar file: S1.gr\n",
      "#reading grammar file: S2.gr\n",
      "#reading grammar file: Vocab.gr\n"
     ]
    }
   ],
   "source": [
    "parse_gram = Pcfg([\"S1.gr\",\"S2.gr\",\"Vocab.gr\"])\n",
    "# parse_gram = Pcfg([\"dev_s1.gr\",\"S2.gr\",\"dev_vocab.gr\"])"
   ]
  },
  {
   "cell_type": "code",
   "execution_count": 189,
   "metadata": {},
   "outputs": [
    {
     "name": "stdout",
     "output_type": "stream",
     "text": [
      "(TOP (S2 (_Det (Det a) (_Det (Det a) (_Det (Det a) ))) ) )\n",
      "-cross entropy: -9.127683627444027\n",
      "    TOP           \n",
      "     |             \n",
      "     S2           \n",
      "     |             \n",
      "    _Det          \n",
      "  ___|____         \n",
      " |       _Det     \n",
      " |    ____|____    \n",
      " |   |        _Det\n",
      " |   |         |   \n",
      "Det Det       Det \n",
      " |   |         |   \n",
      " a   a         a  \n",
      "\n"
     ]
    },
    {
     "name": "stderr",
     "output_type": "stream",
     "text": [
      "#parsing: ['a', 'a', 'a']\n",
      "#-cross entropy (bits/word): -9.12768\n"
     ]
    }
   ],
   "source": [
    "parser = CkyParse(parse_gram, beamsize=0.0001, verbose=0)\n",
    "ce, trees = parser.parse_sentences([\"a a a\"])\n",
    "print(\"-cross entropy: {}\".format(ce))\n",
    "for tree_string in trees:\n",
    "    print_tree(tree_string)"
   ]
  },
  {
   "cell_type": "code",
   "execution_count": 190,
   "metadata": {},
   "outputs": [
    {
     "name": "stdout",
     "output_type": "stream",
     "text": [
      "(TOP (S2 (_Misc (Misc suggested) (_Det (Det the) (_Noun (Noun castle) (_Misc (Misc be) (_Misc (Misc carried) (_Misc (Misc .) )))))) ) )\n",
      "-cross entropy: -11.293419465377438\n",
      "               TOP                                 \n",
      "                |                                   \n",
      "                S2                                 \n",
      "                |                                   \n",
      "              _Misc                                \n",
      "     ___________|_____                              \n",
      "    |                _Det                          \n",
      "    |       __________|_____                        \n",
      "    |      |              _Noun                    \n",
      "    |      |     ___________|______                 \n",
      "    |      |    |                _Misc             \n",
      "    |      |    |      ____________|______          \n",
      "    |      |    |     |                 _Misc      \n",
      "    |      |    |     |             ______|_____    \n",
      "    |      |    |     |            |          _Misc\n",
      "    |      |    |     |            |            |   \n",
      "   Misc   Det  Noun  Misc         Misc         Misc\n",
      "    |      |    |     |            |            |   \n",
      "suggested the castle  be        carried         .  \n",
      "\n"
     ]
    },
    {
     "name": "stderr",
     "output_type": "stream",
     "text": [
      "#parsing: ['suggested', 'the', 'castle', 'be', 'carried', '.']\n",
      "#-cross entropy (bits/word): -11.2934\n"
     ]
    }
   ],
   "source": [
    "ce, trees = parser.parse_sentences([\"suggested the castle be carried .\"])\n",
    "print(\"-cross entropy: {}\".format(ce))\n",
    "for tree_string in trees:\n",
    "    print_tree(tree_string)"
   ]
  },
  {
   "cell_type": "markdown",
   "metadata": {},
   "source": [
    "Use `parse_file` to parse a file of sentences."
   ]
  },
  {
   "cell_type": "code",
   "execution_count": 181,
   "metadata": {},
   "outputs": [
    {
     "name": "stderr",
     "output_type": "stream",
     "text": [
      "#parsing: ['Arthur', 'is', 'the', 'king', '.']\n",
      "#parsing: ['Arthur', 'rides', 'the', 'horse', 'near', 'the', 'castle', '.']\n",
      "#parsing: ['riding', 'to', 'Camelot', 'is', 'hard', '.']\n",
      "#parsing: ['do', 'coconuts', 'speak', '?']\n",
      "#parsing: ['what', 'does', 'Arthur', 'ride', '?']\n",
      "#parsing: ['who', 'does', 'Arthur', 'suggest', 'she', 'carry', '?']\n",
      "#parsing: ['why', 'does', 'England', 'have', 'a', 'king', '?']\n",
      "#parsing: ['are', 'they', 'suggesting', 'Arthur', 'ride', 'to', 'Camelot', '?']\n",
      "#parsing: ['five', 'strangers', 'are', 'at', 'the', 'Round', 'Table', '.']\n"
     ]
    },
    {
     "name": "stdout",
     "output_type": "stream",
     "text": [
      "(TOP (S1 (S (NP (NNP Arthur) ) (S|<VP-PERIOD> (VP (VBZ is) (NP (DT the) (NN king))) (PERIOD .))) ) )\n",
      "(TOP (S2 (_Proper (Proper Arthur) (_VerbT (VerbT rides) (_Det (Det the) (_Noun (Noun horse) (_Prep (Prep near) (_Det (Det the) (_Noun (Noun castle) (_Misc (Misc .) )))))))) ) )\n",
      "(TOP (S2 (_Misc (Misc riding) (_Misc (Misc to) (_Misc (Misc Camelot) (_VerbT (VerbT is) (_Misc (Misc hard) (_Misc (Misc .) )))))) ) )\n",
      "(TOP (S1 (SQ (VBP do) (SQ|<NP-ADJP-PERIOD> (NP (NNS coconuts) ) (SQ|<ADJP-PERIOD> (ADJP (VB speak) ) (PERIOD ?)))) ) )\n",
      "(TOP (S1 (SBARQ (WHNP (WP what) ) (SBARQ|<SQ-PERIOD> (SQ (VBZ does) (SQ|<NP-VP> (NP (NNP Arthur) ) (VP (VB ride) ))) (PERIOD ?))) ) )\n",
      "(TOP (S2 (_Misc (Misc who) (_Misc (Misc does) (_Proper (Proper Arthur) (_Misc (Misc suggest) (_Misc (Misc she) (_Misc (Misc carry) (_Misc (Misc ?) ))))))) ) )\n",
      "(TOP (S1 (SBARQ (WHADVP (WRB why) ) (SBARQ|<SQ-PERIOD> (SQ (VBZ does) (SQ|<NP-SQ> (NP (NNP England) ) (SQ (VBP have) (NP (DT a) (NN king))))) (PERIOD ?))) ) )\n",
      "(TOP (S1 (SQ (VBP are) (SQ|<NP-VP> (NP (PRP they) ) (VP (VBG suggesting) (S (NP (NNP Arthur) ) (S|<VP-PERIOD> (VP (VB ride) (PP (TO to) (NP (NNP Camelot) ))) (PERIOD ?)))))) ) )\n",
      "(TOP (S1 (S (NP (CD five) (NNS strangers)) (S|<VP-PERIOD> (VP (VBP are) (PP (IN at) (NP (DT the) (NP|<NNP-NNP> (NNP Round) (NNP Table))))) (PERIOD .))) ) )\n",
      "(TOP (S2 (_Proper (Proper Guinevere) (_Misc (Misc might) (_Misc (Misc have) (_Misc (Misc known) (_Misc (Misc .) ))))) ) )\n",
      "(TOP (S2 (_Proper (Proper Guinevere) (_Misc (Misc should) (_Misc (Misc be) (_Misc (Misc riding) (_Prep (Prep with) (_Proper (Proper Patsy) (_Misc (Misc .) ))))))) ) )\n",
      "(TOP (S2 (_Misc (Misc it) (_VerbT (VerbT is) (_Proper (Proper (_Sir Sir) (_Lancelot Lancelot)) (_Misc (Misc who) (_Misc (Misc knows) (_Proper (Proper Zoot) (_Misc (Misc !) ))))))) ) )\n",
      "(TOP (S2 (_Misc (Misc either) (_Proper (Proper Arthur) (_Misc (Misc knows) (_Misc (Misc or) (_Proper (Proper Patsy) (_Misc (Misc does) (_Misc (Misc .) ))))))) ) )\n",
      "(TOP (Misc neither) (Misc Sir) (Misc Lancelot) (Misc nor) (Misc Guinevere) (Misc will) (Misc speak) (Misc of) (Misc it) (Misc .))\n"
     ]
    },
    {
     "name": "stderr",
     "output_type": "stream",
     "text": [
      "#parsing: ['Guinevere', 'might', 'have', 'known', '.']\n",
      "#parsing: ['Guinevere', 'should', 'be', 'riding', 'with', 'Patsy', '.']\n",
      "#parsing: ['it', 'is', 'Sir', 'Lancelot', 'who', 'knows', 'Zoot', '!']\n",
      "#parsing: ['either', 'Arthur', 'knows', 'or', 'Patsy', 'does', '.']\n",
      "#parsing: ['neither', 'Sir', 'Lancelot', 'nor', 'Guinevere', 'will', 'speak', 'of', 'it', '.']\n",
      "#No parses found for: neither Sir Lancelot nor Guinevere will speak of it .\n",
      "#parsing: ['the', 'Holy', 'Grail', 'was', 'covered', 'by', 'a', 'yellow', 'fruit', '.']\n",
      "#parsing: ['Zoot', 'might', 'have', 'been', 'carried', 'by', 'a', 'swallow', '.']\n",
      "#No parses found for: Zoot might have been carried by a swallow .\n",
      "#parsing: ['Arthur', 'rode', 'to', 'Camelot', 'and', 'drank', 'from', 'his', 'chalice', '.']\n",
      "#parsing: ['they', 'migrate', 'precisely', 'because', 'they', 'know', 'they', 'will', 'grow', '.']\n",
      "#parsing: ['do', 'not', 'speak', '!']\n",
      "#parsing: ['Arthur', 'will', 'have', 'been', 'riding', 'for', 'eight', 'nights', '.']\n",
      "#parsing: ['Arthur', ',', 'sixty', 'inches', ',', 'is', 'a', 'tiny', 'king', '.']\n",
      "#parsing: ['Arthur', 'knows', 'Patsy', ',', 'the', 'trusty', 'servant', '.']\n"
     ]
    },
    {
     "name": "stdout",
     "output_type": "stream",
     "text": [
      "(TOP (S2 (_Det (Det the) (_Misc (Misc (_Holy Holy) (_Grail Grail)) (_Misc (Misc was) (_Misc (Misc covered) (_Prep (Prep by) (_Det (Det a) (_Misc (Misc yellow) (_Noun (Noun fruit) (_Misc (Misc .) ))))))))) ) )\n",
      "(TOP (Misc Zoot) (Misc might) (Misc have) (Misc been) (Misc carried) (Misc by) (Misc a) (Misc swallow) (Misc .))\n",
      "(TOP (S2 (_Proper (Proper Arthur) (_Misc (Misc rode) (_Misc (Misc to) (_Misc (Misc Camelot) (_Misc (Misc and) (_Misc (Misc drank) (_Prep (Prep from) (_Misc (Misc his) (_Noun (Noun chalice) (_Misc (Misc .) )))))))))) ) )\n",
      "(TOP (S2 (_Misc (Misc they) (_Misc (Misc migrate) (_Misc (Misc precisely) (_Misc (Misc because) (_Misc (Misc they) (_Misc (Misc know) (_Misc (Misc they) (_Misc (Misc will) (_Misc (Misc grow) (_Misc (Misc .) )))))))))) ) )\n",
      "(TOP (S1 (S (VP (VBP do) (VP|<RB-VP> (RB not) (VP (VB speak) ))) (PERIOD !)) ) )\n",
      "(TOP (S2 (_Proper (Proper Arthur) (_Misc (Misc will) (_Misc (Misc have) (_Misc (Misc been) (_Misc (Misc riding) (_Prep (Prep for) (_Misc (Misc eight) (_Misc (Misc nights) (_Misc (Misc .) ))))))))) ) )\n",
      "(TOP (S2 (_Proper (Proper Arthur) (_Misc (Misc ,) (_Misc (Misc sixty) (_Misc (Misc inches) (_Misc (Misc ,) (_VerbT (VerbT is) (_Det (Det a) (_Misc (Misc tiny) (_Noun (Noun king) (_Misc (Misc .) )))))))))) ) )\n",
      "(TOP (Misc Arthur) (Misc knows) (Misc Patsy) (Misc ,) (Misc the) (Misc trusty) (Misc servant) (Misc .))\n",
      "(TOP (S2 (_Proper (Proper Arthur) (_Misc (Misc and) (_Proper (Proper Guinevere) (_Misc (Misc migrate) (_Misc (Misc frequently) (_Misc (Misc .) )))))) ) )\n",
      "(TOP (S2 (_Misc (Misc he) (_Misc (Misc knows) (_Misc (Misc what) (_Misc (Misc they) (_Misc (Misc are) (_Misc (Misc covering) (_Prep (Prep with) (_Det (Det that) (_Noun (Noun story) (_Misc (Misc .) )))))))))) ) )\n",
      "(TOP (Misc Arthur) (Misc suggested) (Misc that) (Misc the) (Misc castle) (Misc be) (Misc carried) (Misc .))\n",
      "(TOP (Misc the) (Misc king) (Misc drank) (Misc to) (Misc the) (Misc castle) (Misc that) (Misc was) (Misc his) (Misc home) (Misc .))\n",
      "(TOP (S2 (_Misc (Misc when) (_Det (Det the) (_Noun (Noun king) (_VerbT (VerbT drinks) (_Misc (Misc ,) (_Proper (Proper Patsy) (_VerbT (VerbT drinks) (_Misc (Misc .) )))))))) ) )\n",
      "-cross entropy: -33.44108710715495\n"
     ]
    },
    {
     "name": "stderr",
     "output_type": "stream",
     "text": [
      "#No parses found for: Arthur knows Patsy , the trusty servant .\n",
      "#parsing: ['Arthur', 'and', 'Guinevere', 'migrate', 'frequently', '.']\n",
      "#parsing: ['he', 'knows', 'what', 'they', 'are', 'covering', 'with', 'that', 'story', '.']\n",
      "#parsing: ['Arthur', 'suggested', 'that', 'the', 'castle', 'be', 'carried', '.']\n",
      "#No parses found for: Arthur suggested that the castle be carried .\n",
      "#parsing: ['the', 'king', 'drank', 'to', 'the', 'castle', 'that', 'was', 'his', 'home', '.']\n",
      "#No parses found for: the king drank to the castle that was his home .\n",
      "#parsing: ['when', 'the', 'king', 'drinks', ',', 'Patsy', 'drinks', '.']\n",
      "#-cross entropy (bits/word): -33.4411\n"
     ]
    }
   ],
   "source": [
    "ce, trees = parser.parse_file('example_sentences.txt')\n",
    "print(\"-cross entropy: {}\".format(ce))"
   ]
  },
  {
   "cell_type": "markdown",
   "metadata": {},
   "source": [
    "## Generating sentences with your grammar\n",
    "\n",
    "While you are developing your grammar you should generate sentences with your grammar\n",
    "to check what your grammar is doing. Try to write your grammars to that it will \n",
    "generate hard to parse sentences."
   ]
  },
  {
   "cell_type": "code",
   "execution_count": 98,
   "metadata": {},
   "outputs": [
    {
     "name": "stderr",
     "output_type": "stream",
     "text": [
      "#reading grammar file: S1.gr\n",
      "#reading grammar file: Vocab.gr\n"
     ]
    }
   ],
   "source": [
    "gen_gram = Pcfg([\"S1.gr\",\"Vocab.gr\"])"
   ]
  },
  {
   "cell_type": "code",
   "execution_count": 99,
   "metadata": {},
   "outputs": [
    {
     "name": "stdout",
     "output_type": "stream",
     "text": [
      "Come\n",
      "24\n",
      "Thee effect court watch making mystic\n",
      "set\n",
      "feet\n",
      "covers\n",
      "telling\n",
      "Leaving\n",
      "feast\n",
      "Pictures\n",
      "Crepper\n",
      "stupid\n",
      "change\n",
      "push\n",
      "breadth\n",
      "your\n",
      "mercy\n",
      "Between\n",
      "assault\n",
      "continue\n"
     ]
    },
    {
     "name": "stderr",
     "output_type": "stream",
     "text": [
      "ERROR: word Misc was sampled but is not allowed\n",
      "ERROR: word Misc was sampled but is not allowed\n",
      "ERROR: word Det was sampled but is not allowed\n",
      "ERROR: word Noun was sampled but is not allowed\n",
      "ERROR: word VerbT was sampled but is not allowed\n",
      "ERROR: word Det was sampled but is not allowed\n",
      "ERROR: word Noun was sampled but is not allowed\n",
      "ERROR: word Punc was sampled but is not allowed\n",
      "ERROR: word Misc was sampled but is not allowed\n",
      "ERROR: word Misc was sampled but is not allowed\n",
      "ERROR: word Misc was sampled but is not allowed\n",
      "ERROR: word Misc was sampled but is not allowed\n",
      "ERROR: word Misc was sampled but is not allowed\n",
      "ERROR: word Misc was sampled but is not allowed\n",
      "ERROR: word Misc was sampled but is not allowed\n",
      "ERROR: word Misc was sampled but is not allowed\n",
      "ERROR: word Misc was sampled but is not allowed\n",
      "ERROR: word Misc was sampled but is not allowed\n",
      "ERROR: word Misc was sampled but is not allowed\n",
      "ERROR: word Misc was sampled but is not allowed\n",
      "ERROR: word Misc was sampled but is not allowed\n",
      "ERROR: word Misc was sampled but is not allowed\n",
      "ERROR: word Misc was sampled but is not allowed\n",
      "ERROR: word Misc was sampled but is not allowed\n",
      "ERROR: word Misc was sampled but is not allowed\n"
     ]
    }
   ],
   "source": [
    "gen = PcfgGenerator(gen_gram)\n",
    "for _ in range(20):\n",
    "    print(\" \".join(gen.generate()))"
   ]
  },
  {
   "cell_type": "code",
   "execution_count": null,
   "metadata": {},
   "outputs": [],
   "source": []
  }
 ],
 "metadata": {
  "kernelspec": {
   "display_name": "Python 3",
   "language": "python",
   "name": "python3"
  },
  "language_info": {
   "codemirror_mode": {
    "name": "ipython",
    "version": 3
   },
   "file_extension": ".py",
   "mimetype": "text/x-python",
   "name": "python",
   "nbconvert_exporter": "python",
   "pygments_lexer": "ipython3",
   "version": "3.6.6"
  }
 },
 "nbformat": 4,
 "nbformat_minor": 2
}
