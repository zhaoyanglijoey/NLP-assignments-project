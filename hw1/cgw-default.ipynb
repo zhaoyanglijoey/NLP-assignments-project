{
 "cells": [
  {
   "cell_type": "markdown",
   "metadata": {},
   "source": [
    "# Homework: Competitive Grammar Writing"
   ]
  },
  {
   "cell_type": "code",
   "execution_count": 1,
   "metadata": {},
   "outputs": [],
   "source": [
    "from pcfg_parse_gen import Pcfg, PcfgGenerator, CkyParse"
   ]
  },
  {
   "cell_type": "markdown",
   "metadata": {},
   "source": [
    "## Parsing sentences with your grammar\n",
    "\n",
    "While you are developing your grammar you should parse with your grammar both example sentences and samples from your and other grammars."
   ]
  },
  {
   "cell_type": "code",
   "execution_count": 2,
   "metadata": {},
   "outputs": [
    {
     "name": "stderr",
     "output_type": "stream",
     "text": [
      "#reading grammar file: S1.gr\n",
      "#reading grammar file: S2.gr\n",
      "#reading grammar file: Vocab.gr\n"
     ]
    }
   ],
   "source": [
    "parse_gram = Pcfg([\"S1.gr\",\"S2.gr\",\"Vocab.gr\"])"
   ]
  },
  {
   "cell_type": "code",
   "execution_count": 8,
   "metadata": {},
   "outputs": [
    {
     "name": "stdout",
     "output_type": "stream",
     "text": [
      "(TOP (S2 (Misc (Misc (Misc (Proper Arthur) (_VerbT (VerbT is) )) (_Misc (Misc (Det the) (Nbar (Noun king) )) )) (_Misc (Misc .) )) ) )\n",
      "(TOP (S2 (Misc (Misc (Misc (Proper Arthur) (_VerbT (VerbT is) )) (_Misc (Misc (Det the) (Nbar (Noun king) )) )) (_Misc (Misc .) )) ) )\n",
      "(TOP (S2 (Misc (Proper Arthur) (_Misc (Misc (Misc (Misc (VerbT is) (_Misc (Misc not) )) (_Misc (Misc (Det the) (Nbar (Noun king) )) )) (_Misc (Misc .) )) )) ) )\n"
     ]
    },
    {
     "name": "stderr",
     "output_type": "stream",
     "text": [
      "#parsing: ['Arthur', 'is', 'the', 'king', '.']\n",
      "#-cross entropy (bits/word): -9.65922\n",
      "#parsing: ['Arthur', 'is', 'the', 'king', '.']\n",
      "#parsing: ['Arthur', 'is', 'not', 'the', 'king', '.']\n",
      "#-cross entropy (bits/word): -10.0621\n"
     ]
    }
   ],
   "source": [
    "parser = CkyParse(parse_gram, beamsize=0.0001)\n",
    "parser.parse_sentences([\"Arthur is the king .\"])\n",
    "parser.parse_sentences([\"Arthur is the king .\", \"Arthur is not the king .\"])"
   ]
  },
  {
   "cell_type": "code",
   "execution_count": 9,
   "metadata": {},
   "outputs": [
    {
     "name": "stdout",
     "output_type": "stream",
     "text": [
      "(TOP (S2 (Misc (Misc (Misc (Misc (Misc five) (_Misc (Misc (Misc strangers) (_Misc (Misc (Misc are) (_Prep (Prep at) )) )) )) (_Det (Det the) )) (_Misc (Misc (_Round Round) (_Table Table)) )) (_Misc (Misc .) )) ) )\n"
     ]
    },
    {
     "name": "stderr",
     "output_type": "stream",
     "text": [
      "#parsing: ['five', 'strangers', 'are', 'at', 'the', 'Round', 'Table', '.']\n",
      "#-cross entropy (bits/word): -11.5619\n"
     ]
    }
   ],
   "source": [
    "parser.parse_sentences([\"five strangers are at the Round Table .\"])"
   ]
  },
  {
   "cell_type": "markdown",
   "metadata": {},
   "source": [
    "Use `parse_file` to parse a file of sentences."
   ]
  },
  {
   "cell_type": "code",
   "execution_count": 10,
   "metadata": {},
   "outputs": [
    {
     "name": "stdout",
     "output_type": "stream",
     "text": [
      "(TOP (S2 (Misc (Misc (Misc (Proper Arthur) (_VerbT (VerbT is) )) (_Misc (Misc (Det the) (Nbar (Noun king) )) )) (_Misc (Misc .) )) ) )\n",
      "(TOP (S2 (Misc (Misc (Misc (Misc (Proper Arthur) (_VerbT (VerbT rides) )) (_Misc (Misc (Misc (Det the) (Nbar (Noun horse) )) (_Prep (Prep near) )) )) (_Misc (Misc (Det the) (Nbar (Noun castle) )) )) (_Misc (Misc .) )) ) )\n",
      "(TOP (S2 (Misc (Misc (Misc (Misc (Misc (Misc riding) (_Misc (Misc to) )) (_Misc (Misc Camelot) )) (_VerbT (VerbT is) )) (_Misc (Misc hard) )) (_Misc (Misc .) )) ) )\n",
      "(TOP (S2 (Misc (Misc (Misc (Misc do) (_Misc (Misc coconuts) )) (_Misc (Misc speak) )) (_Misc (Misc ?) )) ) )\n",
      "(TOP (S2 (Misc (Misc (Misc (Misc (Misc what) (_Misc (Misc does) )) (_Proper (Proper Arthur) )) (_Misc (Misc ride) )) (_Misc (Misc ?) )) ) )\n",
      "(TOP (S2 (Misc (Misc (Misc (Misc (Misc (Misc (Misc who) (_Misc (Misc does) )) (_Proper (Proper Arthur) )) (_Misc (Misc suggest) )) (_Misc (Misc she) )) (_Misc (Misc carry) )) (_Misc (Misc ?) )) ) )\n",
      "(TOP (S2 (Misc (Misc (Misc (Misc (Misc (Misc why) (_Misc (Misc does) )) (_Misc (Misc England) )) (_Misc (Misc have) )) (_Misc (Misc (Det a) (Nbar (Noun king) )) )) (_Misc (Misc ?) )) ) )\n",
      "(TOP (S2 (Misc (Misc (Misc (Misc (Misc (Misc (Misc (Misc are) (_Misc (Misc they) )) (_Misc (Misc suggesting) )) (_Proper (Proper Arthur) )) (_Misc (Misc ride) )) (_Misc (Misc to) )) (_Misc (Misc Camelot) )) (_Misc (Misc ?) )) ) )\n",
      "(TOP (S2 (Misc (Misc (Misc (Misc (Misc five) (_Misc (Misc (Misc strangers) (_Misc (Misc (Misc are) (_Prep (Prep at) )) )) )) (_Det (Det the) )) (_Misc (Misc (_Round Round) (_Table Table)) )) (_Misc (Misc .) )) ) )\n",
      "(TOP (S2 (Misc (Misc (Misc (Misc (Proper Guinevere) (_Misc (Misc might) )) (_Misc (Misc have) )) (_Misc (Misc known) )) (_Misc (Misc .) )) ) )\n",
      "(TOP (S2 (Misc (Misc (Misc (Misc (Misc (Proper Guinevere) (_Misc (Misc should) )) (_Misc (Misc be) )) (_Misc (Misc riding) )) (_Misc (Misc (Prep with) (NP (Proper Patsy) )) )) (_Misc (Misc .) )) ) )\n",
      "(TOP (S2 (Misc (Misc (Misc (Misc (Misc (Misc (Misc it) (_VerbT (VerbT is) )) (_Misc (Misc (_Sir Sir) (_Lancelot Lancelot)) )) (_Misc (Misc who) )) (_Misc (Misc knows) )) (_Proper (Proper Zoot) )) (_Misc (Misc !) )) ) )\n",
      "(TOP (S2 (Misc (Misc (Misc (Misc (Misc (Misc (Misc either) (_Proper (Proper Arthur) )) (_Misc (Misc knows) )) (_Misc (Misc or) )) (_Proper (Proper Patsy) )) (_Misc (Misc does) )) (_Misc (Misc .) )) ) )\n",
      "(TOP (S2 (Misc (Misc (Misc (Misc (Misc (Misc (Misc (Misc neither) (_Misc (Misc (_Sir Sir) (_Lancelot Lancelot)) )) (_Misc (Misc nor) )) (_Misc (Misc (Proper Guinevere) (_Misc (Misc will) )) )) (_Misc (Misc speak) )) (_Prep (Prep of) )) (_Misc (Misc it) )) (_Misc (Misc .) )) ) )\n",
      "(TOP (S2 (Misc (Misc (Misc (Misc (Misc (Det the) (_Misc (Misc (Misc (_Holy Holy) (_Grail Grail)) (_Misc (Misc (Misc was) (_Misc (Misc (Misc covered) (_Prep (Prep by) )) )) )) )) (_Det (Det a) )) (_Misc (Misc yellow) )) (_Noun (Noun fruit) )) (_Misc (Misc .) )) ) )\n",
      "(TOP (S2 (Misc (Misc (Misc (Misc (Misc (Misc (Misc (Proper Zoot) (_Misc (Misc might) )) (_Misc (Misc have) )) (_Misc (Misc been) )) (_Misc (Misc carried) )) (_Prep (Prep by) )) (_Misc (Misc (Det a) (Nbar (Noun swallow) )) )) (_Misc (Misc .) )) ) )\n",
      "(TOP (S2 (Misc (Misc (Misc (Misc (Misc (Misc (Misc (Misc (Misc (Proper Arthur) (_Misc (Misc rode) )) (_Misc (Misc to) )) (_Misc (Misc Camelot) )) (_Misc (Misc and) )) (_Misc (Misc drank) )) (_Prep (Prep from) )) (_Misc (Misc his) )) (_Noun (Noun chalice) )) (_Misc (Misc .) )) ) )\n",
      "(TOP (S2 (Misc (Misc (Misc (Misc (Misc (Misc (Misc (Misc (Misc (Misc they) (_Misc (Misc migrate) )) (_Misc (Misc precisely) )) (_Misc (Misc because) )) (_Misc (Misc they) )) (_Misc (Misc know) )) (_Misc (Misc they) )) (_Misc (Misc will) )) (_Misc (Misc grow) )) (_Misc (Misc .) )) ) )\n",
      "(TOP (S2 (Misc (Misc (Misc (Misc do) (_Misc (Misc not) )) (_Misc (Misc speak) )) (_Misc (Misc !) )) ) )\n",
      "(TOP (S2 (Misc (Misc (Misc (Misc (Misc (Misc (Misc (Misc (Proper Arthur) (_Misc (Misc will) )) (_Misc (Misc have) )) (_Misc (Misc been) )) (_Misc (Misc riding) )) (_Prep (Prep for) )) (_Misc (Misc eight) )) (_Misc (Misc nights) )) (_Misc (Misc .) )) ) )\n",
      "(TOP (S2 (Misc (Misc (Misc (Misc (Misc (Misc (Misc (Misc (Proper Arthur) (_Misc (Misc ,) )) (_Misc (Misc sixty) )) (_Misc (Misc inches) )) (_Misc (Misc (Misc ,) (_VerbT (VerbT is) )) )) (_Det (Det a) )) (_Misc (Misc tiny) )) (_Noun (Noun king) )) (_Misc (Misc .) )) ) )\n",
      "(TOP (S2 (Misc (Misc (Misc (Misc (Misc (Misc (Misc (Proper Arthur) (_Misc (Misc knows) )) (_Proper (Proper Patsy) )) (_Misc (Misc ,) )) (_Det (Det the) )) (_Misc (Misc trusty) )) (_Noun (Noun servant) )) (_Misc (Misc .) )) ) )\n",
      "(TOP (S2 (Misc (Misc (Proper Arthur) (_Misc (Misc (Misc (Misc (Misc and) (_Proper (Proper Guinevere) )) (_Misc (Misc migrate) )) (_Misc (Misc frequently) )) )) (_Misc (Misc .) )) ) )\n",
      "(TOP (S2 (Misc (Misc (Misc he) (_Misc (Misc (Misc (Misc knows) (_Misc (Misc what) )) (_Misc (Misc (Misc (Misc they) (_Misc (Misc (Misc are) (_Misc (Misc (Misc covering) (_Prep (Prep with) )) )) )) (_Misc (Misc (Det that) (Nbar (Noun story) )) )) )) )) (_Misc (Misc .) )) ) )\n",
      "(TOP (S2 (Misc (Misc (Misc (Misc (Proper Arthur) (_Misc (Misc (Misc (Misc suggested) (_Det (Det that) )) (_Misc (Misc (Det the) (Nbar (Noun castle) )) )) )) (_Misc (Misc be) )) (_Misc (Misc carried) )) (_Misc (Misc .) )) ) )\n",
      "(TOP (S2 (Misc (Misc (Misc (Det the) (Nbar (Noun king) )) (_Misc (Misc (Misc (Misc (Misc (Misc drank) (_Misc (Misc to) )) (_Misc (Misc (Misc (Misc (Det the) (Nbar (Noun castle) )) (_Det (Det that) )) (_Misc (Misc was) )) )) (_Misc (Misc his) )) (_Noun (Noun home) )) )) (_Misc (Misc .) )) ) )\n",
      "(TOP (S2 (Misc (Misc (Misc (Misc (Misc (Misc (Misc when) (_Misc (Misc (Det the) (Nbar (Noun king) )) )) (_VerbT (VerbT drinks) )) (_Misc (Misc ,) )) (_Proper (Proper Patsy) )) (_VerbT (VerbT drinks) )) (_Misc (Misc .) )) ) )\n"
     ]
    },
    {
     "name": "stderr",
     "output_type": "stream",
     "text": [
      "#parsing: ['Arthur', 'is', 'the', 'king', '.']\n",
      "#parsing: ['Arthur', 'rides', 'the', 'horse', 'near', 'the', 'castle', '.']\n",
      "#parsing: ['riding', 'to', 'Camelot', 'is', 'hard', '.']\n",
      "#parsing: ['do', 'coconuts', 'speak', '?']\n",
      "#parsing: ['what', 'does', 'Arthur', 'ride', '?']\n",
      "#parsing: ['who', 'does', 'Arthur', 'suggest', 'she', 'carry', '?']\n",
      "#parsing: ['why', 'does', 'England', 'have', 'a', 'king', '?']\n",
      "#parsing: ['are', 'they', 'suggesting', 'Arthur', 'ride', 'to', 'Camelot', '?']\n",
      "#parsing: ['five', 'strangers', 'are', 'at', 'the', 'Round', 'Table', '.']\n",
      "#parsing: ['Guinevere', 'might', 'have', 'known', '.']\n",
      "#parsing: ['Guinevere', 'should', 'be', 'riding', 'with', 'Patsy', '.']\n",
      "#parsing: ['it', 'is', 'Sir', 'Lancelot', 'who', 'knows', 'Zoot', '!']\n",
      "#parsing: ['either', 'Arthur', 'knows', 'or', 'Patsy', 'does', '.']\n",
      "#parsing: ['neither', 'Sir', 'Lancelot', 'nor', 'Guinevere', 'will', 'speak', 'of', 'it', '.']\n",
      "#parsing: ['the', 'Holy', 'Grail', 'was', 'covered', 'by', 'a', 'yellow', 'fruit', '.']\n",
      "#parsing: ['Zoot', 'might', 'have', 'been', 'carried', 'by', 'a', 'swallow', '.']\n",
      "#parsing: ['Arthur', 'rode', 'to', 'Camelot', 'and', 'drank', 'from', 'his', 'chalice', '.']\n",
      "#parsing: ['they', 'migrate', 'precisely', 'because', 'they', 'know', 'they', 'will', 'grow', '.']\n",
      "#parsing: ['do', 'not', 'speak', '!']\n",
      "#parsing: ['Arthur', 'will', 'have', 'been', 'riding', 'for', 'eight', 'nights', '.']\n",
      "#parsing: ['Arthur', ',', 'sixty', 'inches', ',', 'is', 'a', 'tiny', 'king', '.']\n",
      "#parsing: ['Arthur', 'knows', 'Patsy', ',', 'the', 'trusty', 'servant', '.']\n",
      "#parsing: ['Arthur', 'and', 'Guinevere', 'migrate', 'frequently', '.']\n",
      "#parsing: ['he', 'knows', 'what', 'they', 'are', 'covering', 'with', 'that', 'story', '.']\n",
      "#parsing: ['Arthur', 'suggested', 'that', 'the', 'castle', 'be', 'carried', '.']\n",
      "#parsing: ['the', 'king', 'drank', 'to', 'the', 'castle', 'that', 'was', 'his', 'home', '.']\n",
      "#parsing: ['when', 'the', 'king', 'drinks', ',', 'Patsy', 'drinks', '.']\n",
      "#-cross entropy (bits/word): -12.3111\n"
     ]
    }
   ],
   "source": [
    "parser.parse_file('example_sentences.txt')"
   ]
  },
  {
   "cell_type": "markdown",
   "metadata": {},
   "source": [
    "## Generating sentences with your grammar\n",
    "\n",
    "While you are developing your grammar you should generate sentences with your grammar\n",
    "to check what your grammar is doing. Try to write your grammars to that it will \n",
    "generate hard to parse sentences."
   ]
  },
  {
   "cell_type": "code",
   "execution_count": 6,
   "metadata": {},
   "outputs": [
    {
     "name": "stderr",
     "output_type": "stream",
     "text": [
      "#reading grammar file: S1.gr\n",
      "#reading grammar file: Vocab.gr\n"
     ]
    }
   ],
   "source": [
    "gen_gram = Pcfg([\"S1.gr\",\"Vocab.gr\"])"
   ]
  },
  {
   "cell_type": "code",
   "execution_count": 7,
   "metadata": {},
   "outputs": [
    {
     "name": "stdout",
     "output_type": "stream",
     "text": [
      "each horse is any quest .\n",
      "any castle is no winter\n",
      "that master has each fruit .\n",
      "another story carries that corner .\n",
      "Britons\n",
      "another sovereign covers this coconut .\n",
      "every story rides a sun\n",
      "another weight carries no horse .\n",
      "every servant covers that sun\n",
      "Arthur covers every coconut .\n",
      "no chalice carries this corner\n",
      "each master is any servant across a swallow .\n",
      "every land is the coconut across every master .\n",
      "each pound has this quest on no servant across the husk\n",
      "each winter rides Uther Pendragon\n",
      "this horse drinks the story .\n",
      "this swallow covers a fruit\n",
      "this defeater carries this swallow .\n",
      "each home rides the sun .\n",
      "Sir Lancelot drinks that pound\n"
     ]
    }
   ],
   "source": [
    "gen = PcfgGenerator(gen_gram)\n",
    "for _ in range(20):\n",
    "    print(\" \".join(gen.generate()))"
   ]
  }
 ],
 "metadata": {
  "kernelspec": {
   "display_name": "Python 3",
   "language": "python",
   "name": "python3"
  },
  "language_info": {
   "codemirror_mode": {
    "name": "ipython",
    "version": 3
   },
   "file_extension": ".py",
   "mimetype": "text/x-python",
   "name": "python",
   "nbconvert_exporter": "python",
   "pygments_lexer": "ipython3",
   "version": "3.7.0"
  }
 },
 "nbformat": 4,
 "nbformat_minor": 2
}
