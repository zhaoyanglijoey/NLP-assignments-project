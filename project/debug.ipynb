{
 "cells": [
  {
   "cell_type": "code",
   "execution_count": null,
   "metadata": {},
   "outputs": [],
   "source": []
  },
  {
   "cell_type": "code",
   "execution_count": 1,
   "metadata": {
    "collapsed": true
   },
   "outputs": [],
   "source": [
    "import pandas as pd\n",
    "import os\n",
    "from sklearn.model_selection import train_test_split\n",
    "import html"
   ]
  },
  {
   "cell_type": "code",
   "execution_count": 45,
   "metadata": {},
   "outputs": [],
   "source": [
    "path = os.path.join('data', 'tweets.csv')\n",
    "df = pd.read_csv(path, encoding='latin1', usecols=[0, 5], header=None, names=['tag', 'tweet'])"
   ]
  },
  {
   "cell_type": "code",
   "execution_count": 194,
   "metadata": {},
   "outputs": [],
   "source": [
    "def valid_word(word):\n",
    "    if word.startswith('@'):\n",
    "        return False\n",
    "    try:\n",
    "        word.encode('ascii')\n",
    "    except UnicodeEncodeError:\n",
    "        return False\n",
    "    \n",
    "    return True\n",
    "\n",
    "def clean_tweet(tweet):\n",
    "    tweet = html.unescape(tweet)\n",
    "    words = tweet.split()\n",
    "    words = [word.lower() for word in words if valid_word(word)]\n",
    "    \n",
    "    return ' '.join(words)\n",
    "\n",
    "def check_invalid(tweet):\n",
    "    tweet = html.unescape(tweet)\n",
    "    words = tweet.split()\n",
    "    invalid_count = 0\n",
    "    for word in words:\n",
    "        try:\n",
    "            word.encode('ascii')\n",
    "        except UnicodeEncodeError:\n",
    "            return 1\n",
    "    return 0"
   ]
  },
  {
   "cell_type": "code",
   "execution_count": 195,
   "metadata": {},
   "outputs": [],
   "source": [
    "df['cleaned_tweet'] = df.tweet.apply(clean_tweet)"
   ]
  },
  {
   "cell_type": "code",
   "execution_count": 196,
   "metadata": {},
   "outputs": [],
   "source": [
    "df['invalid'] = df.tweet.apply(check_invalid)"
   ]
  },
  {
   "cell_type": "code",
   "execution_count": 217,
   "metadata": {},
   "outputs": [],
   "source": [
    "cleandf = df[df.invalid == 0]"
   ]
  },
  {
   "cell_type": "code",
   "execution_count": 218,
   "metadata": {},
   "outputs": [],
   "source": [
    "cleandf = cleandf.reset_index(drop=True)"
   ]
  },
  {
   "cell_type": "code",
   "execution_count": 219,
   "metadata": {},
   "outputs": [],
   "source": [
    "train, test = train_test_split(cleandf, test_size=0.1)"
   ]
  },
  {
   "cell_type": "code",
   "execution_count": 220,
   "metadata": {},
   "outputs": [],
   "source": [
    "train = train.reset_index(drop=True)"
   ]
  },
  {
   "cell_type": "code",
   "execution_count": 221,
   "metadata": {},
   "outputs": [],
   "source": [
    "test = test.reset_index(drop=True)"
   ]
  },
  {
   "cell_type": "code",
   "execution_count": 223,
   "metadata": {},
   "outputs": [],
   "source": [
    "train.to_csv('data/train.csv', index=False, columns=['tag', 'cleaned_tweet'])"
   ]
  },
  {
   "cell_type": "code",
   "execution_count": 224,
   "metadata": {},
   "outputs": [],
   "source": [
    "test.to_csv('data/test.csv', index=False, columns=['tag', 'cleaned_tweet'])"
   ]
  },
  {
   "cell_type": "code",
   "execution_count": 11,
   "metadata": {},
   "outputs": [],
   "source": [
    "train = pd.read_csv('data/train.csv', dtype={'tag':int, 'cleaned_tweet':str})"
   ]
  },
  {
   "cell_type": "code",
   "execution_count": 12,
   "metadata": {},
   "outputs": [],
   "source": [
    "def tweet_len(tweet):\n",
    "    return len(str(tweet).split())\n",
    "train['length'] = train.cleaned_tweet.apply(tweet_len)"
   ]
  },
  {
   "cell_type": "code",
   "execution_count": 16,
   "metadata": {},
   "outputs": [
    {
     "data": {
      "text/plain": [
       "34764      is the saddest zornes ever thanks to the magic...\n",
       "743928     if e x n = 12, l + x = 4 and k-t = 1. what doe...\n",
       "905395     ? ? ? ? ? ? ? ? ? ? ? ? ? ? ? ? ? ? ? ? ? ? ? ...\n",
       "946494     i'm so boreeeeed. . . . . . . . . . . . . . . ...\n",
       "1246793    ? ? ? ? ? ? ? ?? ? ? ? ? ? ? ? ? ? ? ? ? ? ? ?...\n",
       "Name: cleaned_tweet, dtype: object"
      ]
     },
     "execution_count": 16,
     "metadata": {},
     "output_type": "execute_result"
    }
   ],
   "source": [
    "train.cleaned_tweet[train.length> 40]"
   ]
  },
  {
   "cell_type": "code",
   "execution_count": 17,
   "metadata": {},
   "outputs": [
    {
     "data": {
      "text/plain": [
       "64"
      ]
     },
     "execution_count": 17,
     "metadata": {},
     "output_type": "execute_result"
    }
   ],
   "source": [
    "train.cleaned_tweet.apply(tweet_len).max()"
   ]
  },
  {
   "cell_type": "code",
   "execution_count": null,
   "metadata": {},
   "outputs": [],
   "source": []
  }
 ],
 "metadata": {
  "kernelspec": {
   "display_name": "Python 3",
   "language": "python",
   "name": "python3"
  },
  "language_info": {
   "codemirror_mode": {
    "name": "ipython",
    "version": 3
   },
   "file_extension": ".py",
   "mimetype": "text/x-python",
   "name": "python",
   "nbconvert_exporter": "python",
   "pygments_lexer": "ipython3",
   "version": "3.6.6"
  }
 },
 "nbformat": 4,
 "nbformat_minor": 2
}
