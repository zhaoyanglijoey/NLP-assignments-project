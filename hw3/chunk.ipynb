{
 "cells": [
  {
   "cell_type": "markdown",
   "metadata": {},
   "source": [
    "# Homework: Phrasal Chunking"
   ]
  },
  {
   "cell_type": "markdown",
   "metadata": {},
   "source": [
    "TODO"
   ]
  },
  {
   "cell_type": "code",
   "execution_count": 14,
   "metadata": {},
   "outputs": [
    {
     "name": "stderr",
     "output_type": "stream",
     "text": [
      "reading testing data ...\n",
      "done.\n",
      "loading model...\n",
      "done.\n",
      "preparing testing data...\n",
      "initializing ELMo embedding... \n",
      "loaded. \n",
      "100%|██████████| 500/500 [00:18<00:00, 26.47it/s]done.\n"
     ]
    }
   ],
   "source": [
    "import sys\n",
    "import os\n",
    "import perc\n",
    "from bilstmcrf.util import *\n",
    "from bilstmcrf.BiLSTM_CRF import BiLSTM_CRF, BiLSTM_Enc_Dec_CRF\n",
    "\n",
    "device = torch.device(\"cuda:0\" if torch.cuda.is_available() else \"cpu\")\n",
    "tagset = perc.read_tagset(\"data/tagset.txt\")\n",
    "\n",
    "print(\"reading testing data ...\", file=sys.stderr)\n",
    "test_data = perc.read_labeled_data(\"data/dev.txt\", \"data/dev.feats\", verbose=False)\n",
    "print(\"done.\", file=sys.stderr)\n",
    "\n",
    "print('loading model...', file=sys.stderr)\n",
    "model_data = load_model(\"h600layer2lr0.01enc.model\")\n",
    "word_idx = model_data['word_index']\n",
    "speech_tag_idx = model_data['speech_tag_index']\n",
    "tag2idx = model_data['tag_index']\n",
    "idx2tag = model_data['reverse_tag_index']\n",
    "layer = 2\n",
    "hidden = 600\n",
    "pos_dim = 64\n",
    "model = BiLSTM_Enc_Dec_CRF(len(speech_tag_idx), len(tag2idx), device, layer, hidden, pos_dim)\n",
    "model.load_state_dict(model_data['model'])\n",
    "model.to(device)\n",
    "print('done.', file=sys.stderr)\n",
    "\n",
    "print('preparing testing data...', file=sys.stderr)\n",
    "test_tuples = prepare_test_data(test_data, speech_tag_idx)\n",
    "print('done.', file=sys.stderr)\n",
    "\n",
    "predicted_tags = test_model(model, test_tuples, idx2tag, device)\n",
    "\n",
    "output = format_prediction(predicted_tags, test_data)"
   ]
  },
  {
   "cell_type": "code",
   "execution_count": 15,
   "metadata": {},
   "outputs": [
    {
     "name": "stdout",
     "output_type": "stream",
     "text": [
      "processed 500 sentences with 10375 tokens and 5783 phrases; found phrases: 5809; correct phrases: 5564\n",
      "             ADJP: precision:  78.00%; recall:  78.79%; F1:  78.39; found:    100; correct:     99\n",
      "             ADVP: precision:  76.71%; recall:  83.17%; F1:  79.81; found:    219; correct:    202\n",
      "            CONJP: precision: 100.00%; recall:  40.00%; F1:  57.14; found:      2; correct:      5\n",
      "             INTJ: precision: 100.00%; recall: 100.00%; F1: 100.00; found:      1; correct:      1\n",
      "               NP: precision:  97.12%; recall:  97.12%; F1:  97.12; found:   3026; correct:   3026\n",
      "               PP: precision:  97.66%; recall:  98.94%; F1:  98.29; found:   1237; correct:   1221\n",
      "              PRT: precision:  83.33%; recall:  68.18%; F1:  75.00; found:     18; correct:     22\n",
      "             SBAR: precision:  89.81%; recall:  90.65%; F1:  90.23; found:    108; correct:    107\n",
      "               VP: precision:  96.17%; recall:  96.00%; F1:  96.09; found:   1098; correct:   1100\n",
      "accuracy:  97.20%; precision:  95.78%; recall:  96.21%; F1:  96.00\n",
      "Score: 96.00\n"
     ]
    }
   ],
   "source": [
    "import score_chunks\n",
    "boundary = \"-X-\" # something to use as boundary between sentences\n",
    "outside = \"O\" # tag used to mark the outside of any chunk\n",
    "conlleval = False # use conlleval (should be False for most use cases)\n",
    "numfeats = 2 # number of columns to consider as features, typically \"word POStag\"\n",
    "(test, _) = score_chunks.readTestFile(output, boundary, outside, conlleval, numfeats)\n",
    "with open(\"data/reference500.txt\") as f:\n",
    "    (reference, _) = score_chunks.readTestFile(f.read(), boundary, outside, conlleval, numfeats)\n",
    "print(\"Score: %.2f\" % score_chunks.corpus_fmeasure(reference, test, False))"
   ]
  }
 ],
 "metadata": {
  "kernelspec": {
   "display_name": "Python 3",
   "language": "python",
   "name": "python3"
  },
  "language_info": {
   "codemirror_mode": {
    "name": "ipython",
    "version": 3
   },
   "file_extension": ".py",
   "mimetype": "text/x-python",
   "name": "python",
   "nbconvert_exporter": "python",
   "pygments_lexer": "ipython3",
   "version": "3.7.0"
  }
 },
 "nbformat": 4,
 "nbformat_minor": 2
}
