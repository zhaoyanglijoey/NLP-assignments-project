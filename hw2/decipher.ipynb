{
 "cells": [
  {
   "cell_type": "code",
   "execution_count": 1,
   "metadata": {},
   "outputs": [
    {
     "name": "stderr",
     "output_type": "stream",
     "text": [
      "Reading language model from data/6-gram-wiki-char.lm.bz2...\n",
      "Done.\n"
     ]
    }
   ],
   "source": [
    "from ngram import LM\n",
    "lm = LM(\"data/6-gram-wiki-char.lm.bz2\", n=6, verbose=False)"
   ]
  },
  {
   "cell_type": "code",
   "execution_count": 2,
   "metadata": {},
   "outputs": [
    {
     "name": "stdout",
     "output_type": "stream",
     "text": [
      "TOTAL LM LOGPROB for \"tastyorganburgers\": -21.270342479999996\n"
     ]
    }
   ],
   "source": [
    "sequence = 'tastyorganburgers'\n",
    "lm_logprob = lm.score_seq(sequence)\n",
    "print(\"TOTAL LM LOGPROB for \\\"{}\\\": {}\".format(sequence, lm_logprob))"
   ]
  },
  {
   "cell_type": "code",
   "execution_count": 3,
   "metadata": {},
   "outputs": [
    {
     "name": "stdout",
     "output_type": "stream",
     "text": [
      "TOTAL LM LOGPROB for \"concessionwestern\": -13.259844132599998\n"
     ]
    }
   ],
   "source": [
    "sequence = 'concessionwestern'\n",
    "lm_logprob = lm.score_seq(sequence)\n",
    "print(\"TOTAL LM LOGPROB for \\\"{}\\\": {}\".format(sequence, lm_logprob))"
   ]
  },
  {
   "cell_type": "code",
   "execution_count": 4,
   "metadata": {},
   "outputs": [
    {
     "name": "stderr",
     "output_type": "stream",
     "text": [
      "/anaconda3/lib/python3.6/site-packages/tqdm/autonotebook/__init__.py:14: TqdmExperimentalWarning: Using `tqdm.autonotebook.tqdm` in notebook mode. Use `tqdm.tqdm` instead to force console mode (e.g. in jupyter console)\n",
      "  \" (e.g. in jupyter console)\", TqdmExperimentalWarning)\n",
      "Loading model data/mlstm_ns.pt..\n",
      "Model on board!\n"
     ]
    }
   ],
   "source": [
    "from nlm_scorer import NlmScorer\n",
    "import nlm\n",
    "model = nlm.load_model(\"data/mlstm_ns.pt\", cuda=False)\n",
    "nlm = NlmScorer(model, cuda=False)"
   ]
  },
  {
   "cell_type": "code",
   "execution_count": 5,
   "metadata": {},
   "outputs": [
    {
     "name": "stdout",
     "output_type": "stream",
     "text": [
      "-267.53837525844574\n"
     ]
    }
   ],
   "source": [
    "sequence = 'tastyorganburgers'\n",
    "print(nlm.score_seq(sequence))"
   ]
  },
  {
   "cell_type": "code",
   "execution_count": 6,
   "metadata": {},
   "outputs": [
    {
     "name": "stdout",
     "output_type": "stream",
     "text": [
      "-223.70173101127148\n"
     ]
    }
   ],
   "source": [
    "sequence = 'concessionwestern'\n",
    "print(nlm.score_seq(sequence))"
   ]
  },
  {
   "cell_type": "code",
   "execution_count": 8,
   "metadata": {},
   "outputs": [
    {
     "name": "stdout",
     "output_type": "stream",
     "text": [
      "ilikekillingpeopl\n",
      "ebecauseitissomuc\n",
      "cfunitismorefunth\n",
      "ankillingwildgame\n",
      "intheforrestbecau\n",
      "semanisthemostdan\n",
      "gerousanimalofall\n",
      "tokillsomethinggi\n",
      "vesmethemostthril\n",
      "lingexperenceitis\n",
      "evenbetterthanget\n",
      "tingyourrocksoffw\n",
      "ithagirlthebestpa\n",
      "rtofitisthatwheni\n",
      "dieiwillbereborni\n",
      "nparadiceandallth\n",
      "eihavekilledwillb\n",
      "ecjmemyslavesiwil\n",
      "lnotgiveyoumyname\n",
      "becauseyouwilltry\n",
      "toslowdownorstopm\n",
      "ycollectingofslav\n",
      "esformyafterlifee\n",
      "beorietemethhpiti\n",
      "\n"
     ]
    }
   ],
   "source": [
    "with open('data/test_cipher.txt') as f:\n",
    "    text = f.read()\n",
    "    text = ''.join([x for x in text if not text.isspace()]).lower()\n",
    "    print(text)"
   ]
  },
  {
   "cell_type": "code",
   "execution_count": null,
   "metadata": {},
   "outputs": [],
   "source": []
  }
 ],
 "metadata": {
  "kernelspec": {
   "display_name": "Python 3",
   "language": "python",
   "name": "python3"
  },
  "language_info": {
   "codemirror_mode": {
    "name": "ipython",
    "version": 3
   },
   "file_extension": ".py",
   "mimetype": "text/x-python",
   "name": "python",
   "nbconvert_exporter": "python",
   "pygments_lexer": "ipython3",
   "version": "3.6.6"
  }
 },
 "nbformat": 4,
 "nbformat_minor": 2
}
